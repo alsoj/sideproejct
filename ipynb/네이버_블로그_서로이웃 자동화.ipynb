{
 "cells": [
  {
   "cell_type": "code",
   "execution_count": null,
   "id": "600e3205",
   "metadata": {},
   "outputs": [],
   "source": [
    "from selenium import webdriver\n",
    "from selenium.webdriver.chrome.service import Service\n",
    "from webdriver_manager.chrome import ChromeDriverManager\n",
    "from selenium.webdriver.common.by import By"
   ]
  },
  {
   "cell_type": "code",
   "execution_count": 21,
   "id": "89879934",
   "metadata": {},
   "outputs": [],
   "source": [
    "NAVER_ID = 'lazybrothers'\n",
    "NAVER_PW = 'smc311125!'\n",
    "\n",
    "QUERY_TEXT = '홍보 마케팅'"
   ]
  },
  {
   "cell_type": "code",
   "execution_count": 2,
   "id": "e5ae6992",
   "metadata": {
    "scrolled": false
   },
   "outputs": [
    {
     "name": "stdout",
     "output_type": "stream",
     "text": [
      "\n"
     ]
    },
    {
     "name": "stderr",
     "output_type": "stream",
     "text": [
      "[WDM] - ====== WebDriver manager ======\n",
      "[WDM] - Current google-chrome version is 103.0.5060\n",
      "[WDM] - Get LATEST chromedriver version for 103.0.5060 google-chrome\n",
      "[WDM] - Driver [C:\\Users\\alsoj\\.wdm\\drivers\\chromedriver\\win32\\103.0.5060.53\\chromedriver.exe] found in cache\n"
     ]
    }
   ],
   "source": [
    "browser = webdriver.Chrome(service=Service(ChromeDriverManager().install()))"
   ]
  },
  {
   "cell_type": "code",
   "execution_count": 16,
   "id": "8ba21f32",
   "metadata": {},
   "outputs": [],
   "source": [
    "# 로그인\n",
    "browser.get('https://nid.naver.com/nidlogin.login?url=https%3A%2F%2Fsection.blog.naver.com%2FBlogHome.naver')\n",
    "\n",
    "input_id = browser.find_element(by=By.ID, value='id')\n",
    "input_id.send_keys(NAVER_ID)\n",
    "input_pw = browser.find_element(by=By.ID, value='pw')\n",
    "input_pw.send_keys(NAVER_PW)\n",
    "\n",
    "btn_login = browser.find_element(by=By.ID, value='log.login')\n",
    "btn_login.click()"
   ]
  },
  {
   "cell_type": "code",
   "execution_count": 42,
   "id": "ce809923",
   "metadata": {},
   "outputs": [],
   "source": [
    "target_blog = []"
   ]
  },
  {
   "cell_type": "code",
   "execution_count": 36,
   "id": "387f5cd4",
   "metadata": {},
   "outputs": [],
   "source": [
    "# 블로그 검색\n",
    "browser.get(f'https://section.blog.naver.com/Search/Post.naver?pageNo={page_no}&rangeType=ALL&orderBy=recentdate&keyword={QUERY_TEXT}')"
   ]
  },
  {
   "cell_type": "code",
   "execution_count": 37,
   "id": "d3bb64c8",
   "metadata": {},
   "outputs": [],
   "source": [
    "content_area = browser.find_element(by=By.ID, value='content')"
   ]
  },
  {
   "cell_type": "code",
   "execution_count": 38,
   "id": "9856cbb4",
   "metadata": {},
   "outputs": [],
   "source": [
    "blog_list = content_area.find_elements(by=By.TAG_NAME, value='a')"
   ]
  },
  {
   "cell_type": "code",
   "execution_count": 43,
   "id": "f14b8df2",
   "metadata": {},
   "outputs": [
    {
     "name": "stdout",
     "output_type": "stream",
     "text": [
      "https://blog.naver.com/redleopard525\n",
      "https://blog.naver.com/beautifuldog613\n",
      "https://blog.naver.com/avendutch\n",
      "https://blog.naver.com/p7vzyz-htis1za\n",
      "https://blog.naver.com/adjet\n",
      "https://blog.naver.com/rmstjr9952\n",
      "https://blog.naver.com/eombbabba\n"
     ]
    }
   ],
   "source": [
    "for blog in blog_list:\n",
    "    blog_url = blog.get_attribute('href')\n",
    "    if 'https://blog.naver.com/' in blog_url and blog_url.count('/') == 3 :\n",
    "        print(blog_url)\n",
    "        target_blog.append(blog_url)"
   ]
  },
  {
   "cell_type": "code",
   "execution_count": 44,
   "id": "25129fd5",
   "metadata": {},
   "outputs": [],
   "source": [
    "target_blog = list(set(target_blog))"
   ]
  },
  {
   "cell_type": "code",
   "execution_count": 48,
   "id": "d14fb8ad",
   "metadata": {},
   "outputs": [],
   "source": [
    "browser.get(target_blog[0])\n",
    "browser.switch_to.frame('mainFrame')"
   ]
  },
  {
   "cell_type": "code",
   "execution_count": 49,
   "id": "49635346",
   "metadata": {},
   "outputs": [],
   "source": [
    "btn_add_nb = browser.find_element(by=By.CLASS_NAME, value='btn_add_nb') "
   ]
  },
  {
   "cell_type": "code",
   "execution_count": 50,
   "id": "8d6f2d0b",
   "metadata": {},
   "outputs": [],
   "source": [
    "btn_add_nb.click()"
   ]
  },
  {
   "cell_type": "code",
   "execution_count": 54,
   "id": "2b7b8c7e",
   "metadata": {},
   "outputs": [],
   "source": [
    "# 이웃추가 팝업 창으로 전환\n",
    "browser.switch_to.window(browser.window_handles[1])"
   ]
  },
  {
   "cell_type": "code",
   "execution_count": 55,
   "id": "5f8550ea",
   "metadata": {},
   "outputs": [],
   "source": [
    "radio_add_each = browser.find_element(by=By.ID, value='each_buddy_add') "
   ]
  },
  {
   "cell_type": "code",
   "execution_count": 60,
   "id": "bb6a608d",
   "metadata": {},
   "outputs": [
    {
     "ename": "ElementClickInterceptedException",
     "evalue": "Message: element click intercepted: Element <input type=\"radio\" class=\"radio_button_buddy\" id=\"each_buddy_add\" name=\"relation\" value=\"1\"> is not clickable at point (253, 92). Other element would receive the click: <div class=\"buddy_state\">...</div>\n  (Session info: chrome=103.0.5060.66)\nStacktrace:\nBacktrace:\n\tOrdinal0 [0x00426463+2188387]\n\tOrdinal0 [0x003BE461+1762401]\n\tOrdinal0 [0x002D3D78+802168]\n\tOrdinal0 [0x00307F9B+1015707]\n\tOrdinal0 [0x00305F68+1007464]\n\tOrdinal0 [0x00303C6B+998507]\n\tOrdinal0 [0x003029D9+993753]\n\tOrdinal0 [0x002F8613+951827]\n\tOrdinal0 [0x0031C7DC+1099740]\n\tOrdinal0 [0x002F7FF4+950260]\n\tOrdinal0 [0x0031C9F4+1100276]\n\tOrdinal0 [0x0032CC22+1166370]\n\tOrdinal0 [0x0031C5F6+1099254]\n\tOrdinal0 [0x002F6BE0+945120]\n\tOrdinal0 [0x002F7AD6+948950]\n\tGetHandleVerifier [0x006C71F2+2712546]\n\tGetHandleVerifier [0x006B886D+2652765]\n\tGetHandleVerifier [0x004B002A+520730]\n\tGetHandleVerifier [0x004AEE06+516086]\n\tOrdinal0 [0x003C468B+1787531]\n\tOrdinal0 [0x003C8E88+1805960]\n\tOrdinal0 [0x003C8F75+1806197]\n\tOrdinal0 [0x003D1DF1+1842673]\n\tBaseThreadInitThunk [0x77B5FA29+25]\n\tRtlGetAppContainerNamedObjectPath [0x77EB7A9E+286]\n\tRtlGetAppContainerNamedObjectPath [0x77EB7A6E+238]\n",
     "output_type": "error",
     "traceback": [
      "\u001b[1;31m---------------------------------------------------------------------------\u001b[0m",
      "\u001b[1;31mElementClickInterceptedException\u001b[0m          Traceback (most recent call last)",
      "\u001b[1;32m<ipython-input-60-66cc033e6671>\u001b[0m in \u001b[0;36m<module>\u001b[1;34m\u001b[0m\n\u001b[1;32m----> 1\u001b[1;33m \u001b[0mradio_add_each\u001b[0m\u001b[1;33m.\u001b[0m\u001b[0mclick\u001b[0m\u001b[1;33m(\u001b[0m\u001b[1;33m)\u001b[0m\u001b[1;33m\u001b[0m\u001b[1;33m\u001b[0m\u001b[0m\n\u001b[0m",
      "\u001b[1;32m~\\Anaconda3\\envs\\backtest\\lib\\site-packages\\selenium\\webdriver\\remote\\webelement.py\u001b[0m in \u001b[0;36mclick\u001b[1;34m(self)\u001b[0m\n\u001b[0;32m     79\u001b[0m     \u001b[1;32mdef\u001b[0m \u001b[0mclick\u001b[0m\u001b[1;33m(\u001b[0m\u001b[0mself\u001b[0m\u001b[1;33m)\u001b[0m \u001b[1;33m->\u001b[0m \u001b[1;32mNone\u001b[0m\u001b[1;33m:\u001b[0m\u001b[1;33m\u001b[0m\u001b[1;33m\u001b[0m\u001b[0m\n\u001b[0;32m     80\u001b[0m         \u001b[1;34m\"\"\"Clicks the element.\"\"\"\u001b[0m\u001b[1;33m\u001b[0m\u001b[1;33m\u001b[0m\u001b[0m\n\u001b[1;32m---> 81\u001b[1;33m         \u001b[0mself\u001b[0m\u001b[1;33m.\u001b[0m\u001b[0m_execute\u001b[0m\u001b[1;33m(\u001b[0m\u001b[0mCommand\u001b[0m\u001b[1;33m.\u001b[0m\u001b[0mCLICK_ELEMENT\u001b[0m\u001b[1;33m)\u001b[0m\u001b[1;33m\u001b[0m\u001b[1;33m\u001b[0m\u001b[0m\n\u001b[0m\u001b[0;32m     82\u001b[0m \u001b[1;33m\u001b[0m\u001b[0m\n\u001b[0;32m     83\u001b[0m     \u001b[1;32mdef\u001b[0m \u001b[0msubmit\u001b[0m\u001b[1;33m(\u001b[0m\u001b[0mself\u001b[0m\u001b[1;33m)\u001b[0m\u001b[1;33m:\u001b[0m\u001b[1;33m\u001b[0m\u001b[1;33m\u001b[0m\u001b[0m\n",
      "\u001b[1;32m~\\Anaconda3\\envs\\backtest\\lib\\site-packages\\selenium\\webdriver\\remote\\webelement.py\u001b[0m in \u001b[0;36m_execute\u001b[1;34m(self, command, params)\u001b[0m\n\u001b[0;32m    738\u001b[0m             \u001b[0mparams\u001b[0m \u001b[1;33m=\u001b[0m \u001b[1;33m{\u001b[0m\u001b[1;33m}\u001b[0m\u001b[1;33m\u001b[0m\u001b[1;33m\u001b[0m\u001b[0m\n\u001b[0;32m    739\u001b[0m         \u001b[0mparams\u001b[0m\u001b[1;33m[\u001b[0m\u001b[1;34m'id'\u001b[0m\u001b[1;33m]\u001b[0m \u001b[1;33m=\u001b[0m \u001b[0mself\u001b[0m\u001b[1;33m.\u001b[0m\u001b[0m_id\u001b[0m\u001b[1;33m\u001b[0m\u001b[1;33m\u001b[0m\u001b[0m\n\u001b[1;32m--> 740\u001b[1;33m         \u001b[1;32mreturn\u001b[0m \u001b[0mself\u001b[0m\u001b[1;33m.\u001b[0m\u001b[0m_parent\u001b[0m\u001b[1;33m.\u001b[0m\u001b[0mexecute\u001b[0m\u001b[1;33m(\u001b[0m\u001b[0mcommand\u001b[0m\u001b[1;33m,\u001b[0m \u001b[0mparams\u001b[0m\u001b[1;33m)\u001b[0m\u001b[1;33m\u001b[0m\u001b[1;33m\u001b[0m\u001b[0m\n\u001b[0m\u001b[0;32m    741\u001b[0m \u001b[1;33m\u001b[0m\u001b[0m\n\u001b[0;32m    742\u001b[0m     \u001b[1;32mdef\u001b[0m \u001b[0mfind_element\u001b[0m\u001b[1;33m(\u001b[0m\u001b[0mself\u001b[0m\u001b[1;33m,\u001b[0m \u001b[0mby\u001b[0m\u001b[1;33m=\u001b[0m\u001b[0mBy\u001b[0m\u001b[1;33m.\u001b[0m\u001b[0mID\u001b[0m\u001b[1;33m,\u001b[0m \u001b[0mvalue\u001b[0m\u001b[1;33m=\u001b[0m\u001b[1;32mNone\u001b[0m\u001b[1;33m)\u001b[0m\u001b[1;33m:\u001b[0m\u001b[1;33m\u001b[0m\u001b[1;33m\u001b[0m\u001b[0m\n",
      "\u001b[1;32m~\\Anaconda3\\envs\\backtest\\lib\\site-packages\\selenium\\webdriver\\remote\\webdriver.py\u001b[0m in \u001b[0;36mexecute\u001b[1;34m(self, driver_command, params)\u001b[0m\n\u001b[0;32m    428\u001b[0m         \u001b[0mresponse\u001b[0m \u001b[1;33m=\u001b[0m \u001b[0mself\u001b[0m\u001b[1;33m.\u001b[0m\u001b[0mcommand_executor\u001b[0m\u001b[1;33m.\u001b[0m\u001b[0mexecute\u001b[0m\u001b[1;33m(\u001b[0m\u001b[0mdriver_command\u001b[0m\u001b[1;33m,\u001b[0m \u001b[0mparams\u001b[0m\u001b[1;33m)\u001b[0m\u001b[1;33m\u001b[0m\u001b[1;33m\u001b[0m\u001b[0m\n\u001b[0;32m    429\u001b[0m         \u001b[1;32mif\u001b[0m \u001b[0mresponse\u001b[0m\u001b[1;33m:\u001b[0m\u001b[1;33m\u001b[0m\u001b[1;33m\u001b[0m\u001b[0m\n\u001b[1;32m--> 430\u001b[1;33m             \u001b[0mself\u001b[0m\u001b[1;33m.\u001b[0m\u001b[0merror_handler\u001b[0m\u001b[1;33m.\u001b[0m\u001b[0mcheck_response\u001b[0m\u001b[1;33m(\u001b[0m\u001b[0mresponse\u001b[0m\u001b[1;33m)\u001b[0m\u001b[1;33m\u001b[0m\u001b[1;33m\u001b[0m\u001b[0m\n\u001b[0m\u001b[0;32m    431\u001b[0m             response['value'] = self._unwrap_value(\n\u001b[0;32m    432\u001b[0m                 response.get('value', None))\n",
      "\u001b[1;32m~\\Anaconda3\\envs\\backtest\\lib\\site-packages\\selenium\\webdriver\\remote\\errorhandler.py\u001b[0m in \u001b[0;36mcheck_response\u001b[1;34m(self, response)\u001b[0m\n\u001b[0;32m    245\u001b[0m                 \u001b[0malert_text\u001b[0m \u001b[1;33m=\u001b[0m \u001b[0mvalue\u001b[0m\u001b[1;33m[\u001b[0m\u001b[1;34m'alert'\u001b[0m\u001b[1;33m]\u001b[0m\u001b[1;33m.\u001b[0m\u001b[0mget\u001b[0m\u001b[1;33m(\u001b[0m\u001b[1;34m'text'\u001b[0m\u001b[1;33m)\u001b[0m\u001b[1;33m\u001b[0m\u001b[1;33m\u001b[0m\u001b[0m\n\u001b[0;32m    246\u001b[0m             \u001b[1;32mraise\u001b[0m \u001b[0mexception_class\u001b[0m\u001b[1;33m(\u001b[0m\u001b[0mmessage\u001b[0m\u001b[1;33m,\u001b[0m \u001b[0mscreen\u001b[0m\u001b[1;33m,\u001b[0m \u001b[0mstacktrace\u001b[0m\u001b[1;33m,\u001b[0m \u001b[0malert_text\u001b[0m\u001b[1;33m)\u001b[0m  \u001b[1;31m# type: ignore[call-arg]  # mypy is not smart enough here\u001b[0m\u001b[1;33m\u001b[0m\u001b[1;33m\u001b[0m\u001b[0m\n\u001b[1;32m--> 247\u001b[1;33m         \u001b[1;32mraise\u001b[0m \u001b[0mexception_class\u001b[0m\u001b[1;33m(\u001b[0m\u001b[0mmessage\u001b[0m\u001b[1;33m,\u001b[0m \u001b[0mscreen\u001b[0m\u001b[1;33m,\u001b[0m \u001b[0mstacktrace\u001b[0m\u001b[1;33m)\u001b[0m\u001b[1;33m\u001b[0m\u001b[1;33m\u001b[0m\u001b[0m\n\u001b[0m\u001b[0;32m    248\u001b[0m \u001b[1;33m\u001b[0m\u001b[0m\n\u001b[0;32m    249\u001b[0m     \u001b[1;32mdef\u001b[0m \u001b[0m_value_or_default\u001b[0m\u001b[1;33m(\u001b[0m\u001b[0mself\u001b[0m\u001b[1;33m,\u001b[0m \u001b[0mobj\u001b[0m\u001b[1;33m:\u001b[0m \u001b[0mMapping\u001b[0m\u001b[1;33m[\u001b[0m\u001b[0m_KT\u001b[0m\u001b[1;33m,\u001b[0m \u001b[0m_VT\u001b[0m\u001b[1;33m]\u001b[0m\u001b[1;33m,\u001b[0m \u001b[0mkey\u001b[0m\u001b[1;33m:\u001b[0m \u001b[0m_KT\u001b[0m\u001b[1;33m,\u001b[0m \u001b[0mdefault\u001b[0m\u001b[1;33m:\u001b[0m \u001b[0m_VT\u001b[0m\u001b[1;33m)\u001b[0m \u001b[1;33m->\u001b[0m \u001b[0m_VT\u001b[0m\u001b[1;33m:\u001b[0m\u001b[1;33m\u001b[0m\u001b[1;33m\u001b[0m\u001b[0m\n",
      "\u001b[1;31mElementClickInterceptedException\u001b[0m: Message: element click intercepted: Element <input type=\"radio\" class=\"radio_button_buddy\" id=\"each_buddy_add\" name=\"relation\" value=\"1\"> is not clickable at point (253, 92). Other element would receive the click: <div class=\"buddy_state\">...</div>\n  (Session info: chrome=103.0.5060.66)\nStacktrace:\nBacktrace:\n\tOrdinal0 [0x00426463+2188387]\n\tOrdinal0 [0x003BE461+1762401]\n\tOrdinal0 [0x002D3D78+802168]\n\tOrdinal0 [0x00307F9B+1015707]\n\tOrdinal0 [0x00305F68+1007464]\n\tOrdinal0 [0x00303C6B+998507]\n\tOrdinal0 [0x003029D9+993753]\n\tOrdinal0 [0x002F8613+951827]\n\tOrdinal0 [0x0031C7DC+1099740]\n\tOrdinal0 [0x002F7FF4+950260]\n\tOrdinal0 [0x0031C9F4+1100276]\n\tOrdinal0 [0x0032CC22+1166370]\n\tOrdinal0 [0x0031C5F6+1099254]\n\tOrdinal0 [0x002F6BE0+945120]\n\tOrdinal0 [0x002F7AD6+948950]\n\tGetHandleVerifier [0x006C71F2+2712546]\n\tGetHandleVerifier [0x006B886D+2652765]\n\tGetHandleVerifier [0x004B002A+520730]\n\tGetHandleVerifier [0x004AEE06+516086]\n\tOrdinal0 [0x003C468B+1787531]\n\tOrdinal0 [0x003C8E88+1805960]\n\tOrdinal0 [0x003C8F75+1806197]\n\tOrdinal0 [0x003D1DF1+1842673]\n\tBaseThreadInitThunk [0x77B5FA29+25]\n\tRtlGetAppContainerNamedObjectPath [0x77EB7A9E+286]\n\tRtlGetAppContainerNamedObjectPath [0x77EB7A6E+238]\n"
     ]
    }
   ],
   "source": [
    "radio_add_each.click()"
   ]
  },
  {
   "cell_type": "code",
   "execution_count": null,
   "id": "607e023e",
   "metadata": {},
   "outputs": [],
   "source": [
    "for blog in target_blog:\n",
    "    browser.get(blog)"
   ]
  }
 ],
 "metadata": {
  "kernelspec": {
   "display_name": "Python 3",
   "language": "python",
   "name": "python3"
  },
  "language_info": {
   "codemirror_mode": {
    "name": "ipython",
    "version": 3
   },
   "file_extension": ".py",
   "mimetype": "text/x-python",
   "name": "python",
   "nbconvert_exporter": "python",
   "pygments_lexer": "ipython3",
   "version": "3.7.9"
  }
 },
 "nbformat": 4,
 "nbformat_minor": 5
}
