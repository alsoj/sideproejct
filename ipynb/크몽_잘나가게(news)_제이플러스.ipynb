{
 "cells": [
  {
   "cell_type": "markdown",
   "id": "9a629652",
   "metadata": {},
   "source": [
    "# selenium으로 진행"
   ]
  },
  {
   "cell_type": "code",
   "execution_count": 46,
   "id": "e656efcc",
   "metadata": {},
   "outputs": [],
   "source": [
    "from selenium import webdriver\n",
    "from selenium.webdriver.chrome.service import Service\n",
    "from webdriver_manager.chrome import ChromeDriverManager\n",
    "from selenium.webdriver.common.by import By\n",
    "from selenium.webdriver.common.action_chains import ActionChains\n",
    "from selenium.webdriver.common.keys import Keys\n",
    "\n",
    "import psycopg2\n",
    "from itertools import product\n",
    "from time import sleep\n",
    "import datetime"
   ]
  },
  {
   "cell_type": "code",
   "execution_count": 2,
   "id": "7dae2713",
   "metadata": {
    "scrolled": true
   },
   "outputs": [
    {
     "name": "stdout",
     "output_type": "stream",
     "text": [
      "\n"
     ]
    }
   ],
   "source": [
    "browser = webdriver.Chrome(service=Service(ChromeDriverManager().install()))"
   ]
  },
  {
   "cell_type": "code",
   "execution_count": 3,
   "id": "c82009d4",
   "metadata": {},
   "outputs": [],
   "source": [
    "BASE_URL = 'http://sbiznews.com/news/?menu=1&menuid=44&action=index'\n",
    "# DETAIL_URL = 'https://ols.sbiz.or.kr/ols/man/SMAN052M/page.do?bltwtrSeq='\n",
    "# https://ols.sbiz.or.kr/ols/man/SMAN052M/page.do?bltwtrSeq=4"
   ]
  },
  {
   "cell_type": "code",
   "execution_count": 4,
   "id": "816c03b4",
   "metadata": {},
   "outputs": [],
   "source": [
    "browser.get(BASE_URL)"
   ]
  },
  {
   "cell_type": "code",
   "execution_count": 39,
   "id": "9f060d34",
   "metadata": {},
   "outputs": [],
   "source": [
    "browser.switch_to.window(window_name=browser.window_handles[0])"
   ]
  },
  {
   "cell_type": "code",
   "execution_count": 40,
   "id": "679b15a8",
   "metadata": {},
   "outputs": [],
   "source": [
    "table = browser.find_element(by=By.XPATH, value='/html/body/table/tbody/tr[1]/td[2]/table/tbody/tr[2]/td/table/tbody/tr/td[2]/table/tbody/tr[2]/td[1]/table[2]/tbody/tr[2]/td/table/tbody')"
   ]
  },
  {
   "cell_type": "code",
   "execution_count": 41,
   "id": "9a06ea6b",
   "metadata": {},
   "outputs": [],
   "source": [
    "rows = table.find_elements(by=By.TAG_NAME, value='tr')"
   ]
  },
  {
   "cell_type": "code",
   "execution_count": 44,
   "id": "013f59a6",
   "metadata": {},
   "outputs": [],
   "source": [
    "today = datetime.datetime.now().strftime('%Y%m%d')\n",
    "# today = '20220725'"
   ]
  },
  {
   "cell_type": "code",
   "execution_count": 52,
   "id": "5ee2b1c5",
   "metadata": {
    "scrolled": true
   },
   "outputs": [],
   "source": [
    "crawl_list = []\n",
    "\n",
    "for row in rows:\n",
    "    tds = row.find_elements(by=By.TAG_NAME, value='td')\n",
    "    tds.reverse() # 날짜부터 확인 가능하도록\n",
    "    \n",
    "    isToday = False\n",
    "    for td in tds:\n",
    "        if today == td.text.replace(\"[\",\"\").replace(\"]\",\"\").replace(\"/\",\"\").strip():\n",
    "            isToday = True\n",
    "        \n",
    "        a_tag = td.find_elements(by=By.TAG_NAME, value='a')\n",
    "        if isToday and len(a_tag) > 0:\n",
    "            crawl_list.append(a_tag[0].get_attribute('href'))"
   ]
  },
  {
   "cell_type": "code",
   "execution_count": 54,
   "id": "bb56cbfb",
   "metadata": {},
   "outputs": [],
   "source": [
    "for crawl_target in crawl_list:\n",
    "    browser.get(crawl_target)"
   ]
  },
  {
   "cell_type": "code",
   "execution_count": 9,
   "id": "077c0de3",
   "metadata": {},
   "outputs": [
    {
     "data": {
      "text/plain": [
       "'국세청, 중소기업 4만여곳 대상 법인세 공제·감면 컨설팅'"
      ]
     },
     "execution_count": 9,
     "metadata": {},
     "output_type": "execute_result"
    }
   ],
   "source": [
    "title = browser.find_element(by=By.CLASS_NAME, value='view_ltit').text\n",
    "title"
   ]
  },
  {
   "cell_type": "code",
   "execution_count": 10,
   "id": "656d4186",
   "metadata": {
    "scrolled": true
   },
   "outputs": [
    {
     "data": {
      "text/plain": [
       "\"[연합뉴스 제공] 국세청이 다음 달부터 중소기업 4만여곳 중 신청하는 기업에 대해 법인세 공제ㆍ감면 컨설팅을 진행한다고 26일 밝혔다.\\n< 중소기업 법인세 공제·감면 컨설팅 >\\n직전 사업연도 수입금액이 100억원 이상, 1천억원 미만인 중소기업이면 컨설팅을 신청할 수 있다.\\n컨설팅은 기업이 고용ㆍ설비투자 등을 한 뒤 공제ㆍ감면 적용 여부와 금액 등을 홈택스나 관할 지방국세청을 통해 문의하면 국세청이 신청한 날의 다음 달 말일까지 서면으로 답변해주는 방식으로 진행된다.\\n과거 사업연도에 공제ㆍ감면을 적용받지 못해 경정청구를 할 때는 청구 전 컨설팅 신청이 가능하다.\\n중소기업이 컨설팅 내용에 따라 법인세를 신고하면 신고내용 확인과 감면사후관리 대상에서 제외되고 나중에 세무조사를 받아 컨설팅 내용과 다르게 과세처분 되더라도 과소신고 가산세를 면제받는다.\\n국세청은 2020년 7월부터 일부 중소기업에 대해 세무컨설팅을 진행해왔으나, 기업이 컨설팅을 '세무간섭'으로 인식해 제도 활용이 적다는 지적이 있었다.\\n국세청이 지난달 532개 중소기업을 대상으로 한 설문조사 결과에 따르면 62%의 기업은 세액공제ㆍ감면 적용에 가장 큰 어려움을 겪고 있다고 응답하기도 했다.\\n이에 국세청은 전체 세목에 대해 진행하던 컨설팅을 세액공제ㆍ감면 위주로 개편하고 대상 중소기업도 협약을 맺은 일부 기업에서 신청하는 모든 중소기업으로 확대하기로 했다.\""
      ]
     },
     "execution_count": 10,
     "metadata": {},
     "output_type": "execute_result"
    }
   ],
   "source": [
    "contents = browser.find_element(by=By.ID, value='ContentsLayertext').text\n",
    "contents"
   ]
  },
  {
   "cell_type": "code",
   "execution_count": 11,
   "id": "d435382c",
   "metadata": {},
   "outputs": [
    {
     "data": {
      "text/plain": [
       "'http://sbiznews.com/news/?action=view&menuid=44&no=52940&page=&skey=&sword='"
      ]
     },
     "execution_count": 11,
     "metadata": {},
     "output_type": "execute_result"
    }
   ],
   "source": [
    "url = browser.current_url\n",
    "url"
   ]
  },
  {
   "cell_type": "code",
   "execution_count": 12,
   "id": "03b99529",
   "metadata": {},
   "outputs": [],
   "source": [
    "def insert_news(params):\n",
    "    \n",
    "    sql = \"\"\"INSERT INTO tb_crawling_news_intrf(id, title, contents, gb, reg_dt, url, interface_dt)\n",
    "             VALUES((select coalesce(max(id),0)+1 from tb_crawling_news_intrf), %s, %s, %s, %s, %s, now());\"\"\"\n",
    "    conn = None\n",
    "\n",
    "    try:\n",
    "        conn = psycopg2.connect(host='58.120.227.138', dbname='kt_jalnagage',user='postgres',password='Wjdrlwjd1!',port=5432)\n",
    "        cur = conn.cursor()\n",
    "        \n",
    "        cur.execute(sql, params)\n",
    "        conn.commit()\n",
    "        cur.close()\n",
    "        \n",
    "    except (Exception, psycopg2.DatabaseError) as error:\n",
    "        print(error)\n",
    "    finally:\n",
    "        if conn is not None:\n",
    "            conn.close()"
   ]
  },
  {
   "cell_type": "code",
   "execution_count": 13,
   "id": "eb10b64c",
   "metadata": {},
   "outputs": [],
   "source": [
    "insert_news([title, contents, 'news', today, url])"
   ]
  },
  {
   "cell_type": "code",
   "execution_count": null,
   "id": "f84ced24",
   "metadata": {},
   "outputs": [],
   "source": []
  }
 ],
 "metadata": {
  "kernelspec": {
   "display_name": "Python 3 (ipykernel)",
   "language": "python",
   "name": "python3"
  },
  "language_info": {
   "codemirror_mode": {
    "name": "ipython",
    "version": 3
   },
   "file_extension": ".py",
   "mimetype": "text/x-python",
   "name": "python",
   "nbconvert_exporter": "python",
   "pygments_lexer": "ipython3",
   "version": "3.8.9"
  }
 },
 "nbformat": 4,
 "nbformat_minor": 5
}
