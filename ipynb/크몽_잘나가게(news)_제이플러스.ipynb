{
 "cells": [
  {
   "cell_type": "markdown",
   "id": "9a629652",
   "metadata": {},
   "source": [
    "# selenium으로 진행"
   ]
  },
  {
   "cell_type": "code",
   "execution_count": 2,
   "id": "e656efcc",
   "metadata": {},
   "outputs": [],
   "source": [
    "from selenium import webdriver\n",
    "from selenium.webdriver.chrome.service import Service\n",
    "from webdriver_manager.chrome import ChromeDriverManager\n",
    "from selenium.webdriver.common.by import By\n",
    "from selenium.webdriver.common.action_chains import ActionChains\n",
    "from selenium.webdriver.common.keys import Keys\n",
    "\n",
    "import psycopg2\n",
    "from itertools import product\n",
    "from time import sleep\n",
    "import datetime"
   ]
  },
  {
   "cell_type": "code",
   "execution_count": 3,
   "id": "7dae2713",
   "metadata": {
    "scrolled": true
   },
   "outputs": [
    {
     "name": "stderr",
     "output_type": "stream",
     "text": [
      "[WDM] - Downloading: 100%|████████████████████████████████████████████████████████████████████████████████████████████████████████████████████████████████████████████████████████████████████████████████| 7.46M/7.46M [00:28<00:00, 275kB/s]\n"
     ]
    }
   ],
   "source": [
    "browser = webdriver.Chrome(service=Service(ChromeDriverManager().install()))"
   ]
  },
  {
   "cell_type": "code",
   "execution_count": 4,
   "id": "c82009d4",
   "metadata": {},
   "outputs": [],
   "source": [
    "BASE_URL = 'http://sbiznews.com/news/?menu=1&menuid=44&action=index'\n",
    "# DETAIL_URL = 'https://ols.sbiz.or.kr/ols/man/SMAN052M/page.do?bltwtrSeq='\n",
    "# https://ols.sbiz.or.kr/ols/man/SMAN052M/page.do?bltwtrSeq=4"
   ]
  },
  {
   "cell_type": "code",
   "execution_count": 5,
   "id": "816c03b4",
   "metadata": {},
   "outputs": [],
   "source": [
    "browser.get(BASE_URL)"
   ]
  },
  {
   "cell_type": "code",
   "execution_count": 39,
   "id": "62a64d8f",
   "metadata": {},
   "outputs": [],
   "source": [
    "browser.switch_to.window(window_name=browser.window_handles[0])"
   ]
  },
  {
   "cell_type": "code",
   "execution_count": 6,
   "id": "679b15a8",
   "metadata": {},
   "outputs": [],
   "source": [
    "table = browser.find_element(by=By.XPATH, value='/html/body/table/tbody/tr[1]/td[2]/table/tbody/tr[2]/td/table/tbody/tr/td[2]/table/tbody/tr[2]/td[1]/table[2]/tbody/tr[2]/td/table/tbody')"
   ]
  },
  {
   "cell_type": "code",
   "execution_count": 7,
   "id": "9a06ea6b",
   "metadata": {},
   "outputs": [],
   "source": [
    "rows = table.find_elements(by=By.TAG_NAME, value='tr')"
   ]
  },
  {
   "cell_type": "code",
   "execution_count": 8,
   "id": "013f59a6",
   "metadata": {},
   "outputs": [],
   "source": [
    "today = datetime.datetime.now().strftime('%Y%m%d')\n",
    "# today = '20220725'"
   ]
  },
  {
   "cell_type": "code",
   "execution_count": 9,
   "id": "5ee2b1c5",
   "metadata": {
    "scrolled": true
   },
   "outputs": [],
   "source": [
    "crawl_list = []\n",
    "\n",
    "for row in rows:\n",
    "    tds = row.find_elements(by=By.TAG_NAME, value='td')\n",
    "    tds.reverse() # 날짜부터 확인 가능하도록\n",
    "    \n",
    "    isToday = False\n",
    "    for td in tds:\n",
    "        if today == td.text.replace(\"[\",\"\").replace(\"]\",\"\").replace(\"/\",\"\").strip():\n",
    "            isToday = True\n",
    "        \n",
    "        a_tag = td.find_elements(by=By.TAG_NAME, value='a')\n",
    "        if isToday and len(a_tag) > 0:\n",
    "            crawl_list.append(a_tag[0].get_attribute('href'))"
   ]
  },
  {
   "cell_type": "code",
   "execution_count": 10,
   "id": "e8b28927",
   "metadata": {},
   "outputs": [
    {
     "data": {
      "text/plain": [
       "[]"
      ]
     },
     "execution_count": 10,
     "metadata": {},
     "output_type": "execute_result"
    }
   ],
   "source": [
    "crawl_list"
   ]
  },
  {
   "cell_type": "code",
   "execution_count": 11,
   "id": "4012d1fd",
   "metadata": {},
   "outputs": [],
   "source": [
    "for crawl_target in crawl_list:\n",
    "    browser.get(crawl_target)"
   ]
  },
  {
   "cell_type": "code",
   "execution_count": 12,
   "id": "077c0de3",
   "metadata": {},
   "outputs": [
    {
     "ename": "NoSuchElementException",
     "evalue": "Message: no such element: Unable to locate element: {\"method\":\"css selector\",\"selector\":\".view_ltit\"}\n  (Session info: chrome=105.0.5195.125)\nStacktrace:\n0   chromedriver                        0x000000010049da90 chromedriver + 3889808\n1   chromedriver                        0x000000010042cb54 chromedriver + 3427156\n2   chromedriver                        0x000000010011e238 chromedriver + 221752\n3   chromedriver                        0x000000010014f4c8 chromedriver + 423112\n4   chromedriver                        0x0000000100178944 chromedriver + 592196\n5   chromedriver                        0x000000010014454c chromedriver + 378188\n6   chromedriver                        0x00000001004712f8 chromedriver + 3707640\n7   chromedriver                        0x0000000100474ea8 chromedriver + 3722920\n8   chromedriver                        0x000000010047b3d8 chromedriver + 3748824\n9   chromedriver                        0x00000001004759a8 chromedriver + 3725736\n10  chromedriver                        0x0000000100450de8 chromedriver + 3575272\n11  chromedriver                        0x000000010048fd1c chromedriver + 3833116\n12  chromedriver                        0x000000010048fe84 chromedriver + 3833476\n13  chromedriver                        0x00000001004a4210 chromedriver + 3916304\n14  libsystem_pthread.dylib             0x00000001b7a0c26c _pthread_start + 148\n15  libsystem_pthread.dylib             0x00000001b7a0708c thread_start + 8\n",
     "output_type": "error",
     "traceback": [
      "\u001b[0;31m---------------------------------------------------------------------------\u001b[0m",
      "\u001b[0;31mNoSuchElementException\u001b[0m                    Traceback (most recent call last)",
      "Cell \u001b[0;32mIn [12], line 1\u001b[0m\n\u001b[0;32m----> 1\u001b[0m title \u001b[38;5;241m=\u001b[39m \u001b[43mbrowser\u001b[49m\u001b[38;5;241;43m.\u001b[39;49m\u001b[43mfind_element\u001b[49m\u001b[43m(\u001b[49m\u001b[43mby\u001b[49m\u001b[38;5;241;43m=\u001b[39;49m\u001b[43mBy\u001b[49m\u001b[38;5;241;43m.\u001b[39;49m\u001b[43mCLASS_NAME\u001b[49m\u001b[43m,\u001b[49m\u001b[43m \u001b[49m\u001b[43mvalue\u001b[49m\u001b[38;5;241;43m=\u001b[39;49m\u001b[38;5;124;43m'\u001b[39;49m\u001b[38;5;124;43mview_ltit\u001b[39;49m\u001b[38;5;124;43m'\u001b[39;49m\u001b[43m)\u001b[49m\u001b[38;5;241m.\u001b[39mtext\n\u001b[1;32m      2\u001b[0m title\n",
      "File \u001b[0;32m~/Workspace/kmong/kmong/lib/python3.9/site-packages/selenium/webdriver/remote/webdriver.py:855\u001b[0m, in \u001b[0;36mWebDriver.find_element\u001b[0;34m(self, by, value)\u001b[0m\n\u001b[1;32m    852\u001b[0m     by \u001b[38;5;241m=\u001b[39m By\u001b[38;5;241m.\u001b[39mCSS_SELECTOR\n\u001b[1;32m    853\u001b[0m     value \u001b[38;5;241m=\u001b[39m \u001b[38;5;124m'\u001b[39m\u001b[38;5;124m[name=\u001b[39m\u001b[38;5;124m\"\u001b[39m\u001b[38;5;132;01m%s\u001b[39;00m\u001b[38;5;124m\"\u001b[39m\u001b[38;5;124m]\u001b[39m\u001b[38;5;124m'\u001b[39m \u001b[38;5;241m%\u001b[39m value\n\u001b[0;32m--> 855\u001b[0m \u001b[38;5;28;01mreturn\u001b[39;00m \u001b[38;5;28;43mself\u001b[39;49m\u001b[38;5;241;43m.\u001b[39;49m\u001b[43mexecute\u001b[49m\u001b[43m(\u001b[49m\u001b[43mCommand\u001b[49m\u001b[38;5;241;43m.\u001b[39;49m\u001b[43mFIND_ELEMENT\u001b[49m\u001b[43m,\u001b[49m\u001b[43m \u001b[49m\u001b[43m{\u001b[49m\n\u001b[1;32m    856\u001b[0m \u001b[43m    \u001b[49m\u001b[38;5;124;43m'\u001b[39;49m\u001b[38;5;124;43musing\u001b[39;49m\u001b[38;5;124;43m'\u001b[39;49m\u001b[43m:\u001b[49m\u001b[43m \u001b[49m\u001b[43mby\u001b[49m\u001b[43m,\u001b[49m\n\u001b[1;32m    857\u001b[0m \u001b[43m    \u001b[49m\u001b[38;5;124;43m'\u001b[39;49m\u001b[38;5;124;43mvalue\u001b[39;49m\u001b[38;5;124;43m'\u001b[39;49m\u001b[43m:\u001b[49m\u001b[43m \u001b[49m\u001b[43mvalue\u001b[49m\u001b[43m}\u001b[49m\u001b[43m)\u001b[49m[\u001b[38;5;124m'\u001b[39m\u001b[38;5;124mvalue\u001b[39m\u001b[38;5;124m'\u001b[39m]\n",
      "File \u001b[0;32m~/Workspace/kmong/kmong/lib/python3.9/site-packages/selenium/webdriver/remote/webdriver.py:428\u001b[0m, in \u001b[0;36mWebDriver.execute\u001b[0;34m(self, driver_command, params)\u001b[0m\n\u001b[1;32m    426\u001b[0m response \u001b[38;5;241m=\u001b[39m \u001b[38;5;28mself\u001b[39m\u001b[38;5;241m.\u001b[39mcommand_executor\u001b[38;5;241m.\u001b[39mexecute(driver_command, params)\n\u001b[1;32m    427\u001b[0m \u001b[38;5;28;01mif\u001b[39;00m response:\n\u001b[0;32m--> 428\u001b[0m     \u001b[38;5;28;43mself\u001b[39;49m\u001b[38;5;241;43m.\u001b[39;49m\u001b[43merror_handler\u001b[49m\u001b[38;5;241;43m.\u001b[39;49m\u001b[43mcheck_response\u001b[49m\u001b[43m(\u001b[49m\u001b[43mresponse\u001b[49m\u001b[43m)\u001b[49m\n\u001b[1;32m    429\u001b[0m     response[\u001b[38;5;124m'\u001b[39m\u001b[38;5;124mvalue\u001b[39m\u001b[38;5;124m'\u001b[39m] \u001b[38;5;241m=\u001b[39m \u001b[38;5;28mself\u001b[39m\u001b[38;5;241m.\u001b[39m_unwrap_value(\n\u001b[1;32m    430\u001b[0m         response\u001b[38;5;241m.\u001b[39mget(\u001b[38;5;124m'\u001b[39m\u001b[38;5;124mvalue\u001b[39m\u001b[38;5;124m'\u001b[39m, \u001b[38;5;28;01mNone\u001b[39;00m))\n\u001b[1;32m    431\u001b[0m     \u001b[38;5;28;01mreturn\u001b[39;00m response\n",
      "File \u001b[0;32m~/Workspace/kmong/kmong/lib/python3.9/site-packages/selenium/webdriver/remote/errorhandler.py:243\u001b[0m, in \u001b[0;36mErrorHandler.check_response\u001b[0;34m(self, response)\u001b[0m\n\u001b[1;32m    241\u001b[0m         alert_text \u001b[38;5;241m=\u001b[39m value[\u001b[38;5;124m'\u001b[39m\u001b[38;5;124malert\u001b[39m\u001b[38;5;124m'\u001b[39m]\u001b[38;5;241m.\u001b[39mget(\u001b[38;5;124m'\u001b[39m\u001b[38;5;124mtext\u001b[39m\u001b[38;5;124m'\u001b[39m)\n\u001b[1;32m    242\u001b[0m     \u001b[38;5;28;01mraise\u001b[39;00m exception_class(message, screen, stacktrace, alert_text)  \u001b[38;5;66;03m# type: ignore[call-arg]  # mypy is not smart enough here\u001b[39;00m\n\u001b[0;32m--> 243\u001b[0m \u001b[38;5;28;01mraise\u001b[39;00m exception_class(message, screen, stacktrace)\n",
      "\u001b[0;31mNoSuchElementException\u001b[0m: Message: no such element: Unable to locate element: {\"method\":\"css selector\",\"selector\":\".view_ltit\"}\n  (Session info: chrome=105.0.5195.125)\nStacktrace:\n0   chromedriver                        0x000000010049da90 chromedriver + 3889808\n1   chromedriver                        0x000000010042cb54 chromedriver + 3427156\n2   chromedriver                        0x000000010011e238 chromedriver + 221752\n3   chromedriver                        0x000000010014f4c8 chromedriver + 423112\n4   chromedriver                        0x0000000100178944 chromedriver + 592196\n5   chromedriver                        0x000000010014454c chromedriver + 378188\n6   chromedriver                        0x00000001004712f8 chromedriver + 3707640\n7   chromedriver                        0x0000000100474ea8 chromedriver + 3722920\n8   chromedriver                        0x000000010047b3d8 chromedriver + 3748824\n9   chromedriver                        0x00000001004759a8 chromedriver + 3725736\n10  chromedriver                        0x0000000100450de8 chromedriver + 3575272\n11  chromedriver                        0x000000010048fd1c chromedriver + 3833116\n12  chromedriver                        0x000000010048fe84 chromedriver + 3833476\n13  chromedriver                        0x00000001004a4210 chromedriver + 3916304\n14  libsystem_pthread.dylib             0x00000001b7a0c26c _pthread_start + 148\n15  libsystem_pthread.dylib             0x00000001b7a0708c thread_start + 8\n"
     ]
    }
   ],
   "source": [
    "title = browser.find_element(by=By.CLASS_NAME, value='view_ltit').text\n",
    "title"
   ]
  },
  {
   "cell_type": "code",
   "execution_count": 10,
   "id": "656d4186",
   "metadata": {
    "scrolled": true
   },
   "outputs": [
    {
     "data": {
      "text/plain": [
       "\"[연합뉴스 제공] 국세청이 다음 달부터 중소기업 4만여곳 중 신청하는 기업에 대해 법인세 공제ㆍ감면 컨설팅을 진행한다고 26일 밝혔다.\\n< 중소기업 법인세 공제·감면 컨설팅 >\\n직전 사업연도 수입금액이 100억원 이상, 1천억원 미만인 중소기업이면 컨설팅을 신청할 수 있다.\\n컨설팅은 기업이 고용ㆍ설비투자 등을 한 뒤 공제ㆍ감면 적용 여부와 금액 등을 홈택스나 관할 지방국세청을 통해 문의하면 국세청이 신청한 날의 다음 달 말일까지 서면으로 답변해주는 방식으로 진행된다.\\n과거 사업연도에 공제ㆍ감면을 적용받지 못해 경정청구를 할 때는 청구 전 컨설팅 신청이 가능하다.\\n중소기업이 컨설팅 내용에 따라 법인세를 신고하면 신고내용 확인과 감면사후관리 대상에서 제외되고 나중에 세무조사를 받아 컨설팅 내용과 다르게 과세처분 되더라도 과소신고 가산세를 면제받는다.\\n국세청은 2020년 7월부터 일부 중소기업에 대해 세무컨설팅을 진행해왔으나, 기업이 컨설팅을 '세무간섭'으로 인식해 제도 활용이 적다는 지적이 있었다.\\n국세청이 지난달 532개 중소기업을 대상으로 한 설문조사 결과에 따르면 62%의 기업은 세액공제ㆍ감면 적용에 가장 큰 어려움을 겪고 있다고 응답하기도 했다.\\n이에 국세청은 전체 세목에 대해 진행하던 컨설팅을 세액공제ㆍ감면 위주로 개편하고 대상 중소기업도 협약을 맺은 일부 기업에서 신청하는 모든 중소기업으로 확대하기로 했다.\""
      ]
     },
     "execution_count": 10,
     "metadata": {},
     "output_type": "execute_result"
    }
   ],
   "source": [
    "contents = browser.find_element(by=By.ID, value='ContentsLayertext').text\n",
    "contents"
   ]
  },
  {
   "cell_type": "code",
   "execution_count": 11,
   "id": "d435382c",
   "metadata": {},
   "outputs": [
    {
     "data": {
      "text/plain": [
       "'http://sbiznews.com/news/?action=view&menuid=44&no=52940&page=&skey=&sword='"
      ]
     },
     "execution_count": 11,
     "metadata": {},
     "output_type": "execute_result"
    }
   ],
   "source": [
    "url = browser.current_url\n",
    "url"
   ]
  },
  {
   "cell_type": "code",
   "execution_count": 12,
   "id": "03b99529",
   "metadata": {},
   "outputs": [],
   "source": [
    "def insert_news(params):\n",
    "    \n",
    "    sql = \"\"\"INSERT INTO tb_crawling_news_intrf(id, title, contents, gb, reg_dt, url, interface_dt)\n",
    "             VALUES((select coalesce(max(id),0)+1 from tb_crawling_news_intrf), %s, %s, %s, %s, %s, now());\"\"\"\n",
    "    conn = None\n",
    "\n",
    "    try:\n",
    "        conn = psycopg2.connect(host='58.120.227.138', dbname='kt_jalnagage',user='postgres',password='Wjdrlwjd1!',port=5432)\n",
    "        cur = conn.cursor()\n",
    "        \n",
    "        cur.execute(sql, params)\n",
    "        conn.commit()\n",
    "        cur.close()\n",
    "        \n",
    "    except (Exception, psycopg2.DatabaseError) as error:\n",
    "        print(error)\n",
    "    finally:\n",
    "        if conn is not None:\n",
    "            conn.close()"
   ]
  },
  {
   "cell_type": "code",
   "execution_count": 13,
   "id": "eb10b64c",
   "metadata": {},
   "outputs": [],
   "source": [
    "insert_news([title, contents, 'news', today, url])"
   ]
  },
  {
   "cell_type": "code",
   "execution_count": 55,
   "id": "f84ced24",
   "metadata": {},
   "outputs": [],
   "source": [
    "browser.quit()"
   ]
  },
  {
   "cell_type": "code",
   "execution_count": null,
   "id": "494faea0",
   "metadata": {},
   "outputs": [],
   "source": []
  }
 ],
 "metadata": {
  "kernelspec": {
   "display_name": "Python 3 (ipykernel)",
   "language": "python",
   "name": "python3"
  },
  "language_info": {
   "codemirror_mode": {
    "name": "ipython",
    "version": 3
   },
   "file_extension": ".py",
   "mimetype": "text/x-python",
   "name": "python",
   "nbconvert_exporter": "python",
   "pygments_lexer": "ipython3",
   "version": "3.9.6"
  }
 },
 "nbformat": 4,
 "nbformat_minor": 5
}
