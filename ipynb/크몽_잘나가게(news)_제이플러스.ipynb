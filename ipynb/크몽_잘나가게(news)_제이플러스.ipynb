{
 "cells": [
  {
   "cell_type": "markdown",
   "id": "9a629652",
   "metadata": {},
   "source": [
    "# selenium으로 진행"
   ]
  },
  {
   "cell_type": "code",
   "execution_count": 1,
   "id": "e656efcc",
   "metadata": {},
   "outputs": [],
   "source": [
    "from selenium import webdriver\n",
    "from selenium.webdriver.chrome.service import Service\n",
    "from webdriver_manager.chrome import ChromeDriverManager\n",
    "from selenium.webdriver.common.by import By\n",
    "\n",
    "from selenium.webdriver.support.ui import WebDriverWait\n",
    "from selenium.webdriver.support import expected_conditions as EC\n",
    "\n",
    "import psycopg2\n",
    "from itertools import product\n",
    "from time import sleep\n",
    "import datetime"
   ]
  },
  {
   "cell_type": "code",
   "execution_count": 2,
   "id": "7dae2713",
   "metadata": {
    "scrolled": true
   },
   "outputs": [
    {
     "name": "stdout",
     "output_type": "stream",
     "text": [
      "\n"
     ]
    },
    {
     "name": "stderr",
     "output_type": "stream",
     "text": [
      "[WDM] - ====== WebDriver manager ======\n",
      "[WDM] - Current google-chrome version is 103.0.5060\n",
      "[WDM] - Get LATEST chromedriver version for 103.0.5060 google-chrome\n",
      "[WDM] - About to download new driver from https://chromedriver.storage.googleapis.com/103.0.5060.134/chromedriver_win32.zip\n",
      "[WDM] - Driver has been saved in cache [C:\\Users\\alsoj\\.wdm\\drivers\\chromedriver\\win32\\103.0.5060.134]\n"
     ]
    }
   ],
   "source": [
    "browser = webdriver.Chrome(service=Service(ChromeDriverManager().install()))"
   ]
  },
  {
   "cell_type": "code",
   "execution_count": 3,
   "id": "c82009d4",
   "metadata": {},
   "outputs": [],
   "source": [
    "BASE_URL = 'http://sbiznews.com/news/?menu=1&menuid=44&action=index'\n",
    "# DETAIL_URL = 'https://ols.sbiz.or.kr/ols/man/SMAN052M/page.do?bltwtrSeq='\n",
    "# https://ols.sbiz.or.kr/ols/man/SMAN052M/page.do?bltwtrSeq=4"
   ]
  },
  {
   "cell_type": "code",
   "execution_count": 4,
   "id": "816c03b4",
   "metadata": {},
   "outputs": [],
   "source": [
    "browser.get(BASE_URL)"
   ]
  },
  {
   "cell_type": "code",
   "execution_count": 5,
   "id": "679b15a8",
   "metadata": {},
   "outputs": [],
   "source": [
    "table = browser.find_element(by=By.XPATH, value='/html/body/table/tbody/tr[1]/td[2]/table/tbody/tr[2]/td/table/tbody/tr/td[2]/table/tbody/tr[2]/td[1]/table[2]/tbody/tr[2]/td/table/tbody')"
   ]
  },
  {
   "cell_type": "code",
   "execution_count": 6,
   "id": "9a06ea6b",
   "metadata": {},
   "outputs": [],
   "source": [
    "rows = table.find_elements(by=By.TAG_NAME, value='tr')"
   ]
  },
  {
   "cell_type": "code",
   "execution_count": 12,
   "id": "013f59a6",
   "metadata": {},
   "outputs": [],
   "source": [
    "today = datetime.datetime.now().strftime('%Y%m%d')\n",
    "today = '20220725'"
   ]
  },
  {
   "cell_type": "code",
   "execution_count": 14,
   "id": "5ee2b1c5",
   "metadata": {
    "scrolled": true
   },
   "outputs": [
    {
     "name": "stdout",
     "output_type": "stream",
     "text": [
      "http://sbiznews.com/news/process.php?action=view&menuid=44&no=52916 금융위, 소상공인에 2년간 41.2조원 투입\n"
     ]
    },
    {
     "ename": "IndexError",
     "evalue": "list index out of range",
     "output_type": "error",
     "traceback": [
      "\u001b[1;31m---------------------------------------------------------------------------\u001b[0m",
      "\u001b[1;31mIndexError\u001b[0m                                Traceback (most recent call last)",
      "\u001b[1;32m<ipython-input-14-7350ed335a0c>\u001b[0m in \u001b[0;36m<module>\u001b[1;34m\u001b[0m\n\u001b[0;32m      7\u001b[0m         \u001b[1;32melse\u001b[0m \u001b[1;33m:\u001b[0m\u001b[1;33m\u001b[0m\u001b[1;33m\u001b[0m\u001b[0m\n\u001b[0;32m      8\u001b[0m             \u001b[1;32mif\u001b[0m \u001b[0mtoday\u001b[0m \u001b[1;33m==\u001b[0m \u001b[0mtd\u001b[0m\u001b[1;33m.\u001b[0m\u001b[0mtext\u001b[0m\u001b[1;33m.\u001b[0m\u001b[0mreplace\u001b[0m\u001b[1;33m(\u001b[0m\u001b[1;34m\"[\"\u001b[0m\u001b[1;33m,\u001b[0m\u001b[1;34m\"\"\u001b[0m\u001b[1;33m)\u001b[0m\u001b[1;33m.\u001b[0m\u001b[0mreplace\u001b[0m\u001b[1;33m(\u001b[0m\u001b[1;34m\"]\"\u001b[0m\u001b[1;33m,\u001b[0m\u001b[1;34m\"\"\u001b[0m\u001b[1;33m)\u001b[0m\u001b[1;33m.\u001b[0m\u001b[0mreplace\u001b[0m\u001b[1;33m(\u001b[0m\u001b[1;34m\"/\"\u001b[0m\u001b[1;33m,\u001b[0m\u001b[1;34m\"\"\u001b[0m\u001b[1;33m)\u001b[0m\u001b[1;33m.\u001b[0m\u001b[0mstrip\u001b[0m\u001b[1;33m(\u001b[0m\u001b[1;33m)\u001b[0m\u001b[1;33m:\u001b[0m\u001b[1;33m\u001b[0m\u001b[1;33m\u001b[0m\u001b[0m\n\u001b[1;32m----> 9\u001b[1;33m                 \u001b[0ma_tag\u001b[0m\u001b[1;33m[\u001b[0m\u001b[1;36m0\u001b[0m\u001b[1;33m]\u001b[0m\u001b[1;33m.\u001b[0m\u001b[0mclick\u001b[0m\u001b[1;33m(\u001b[0m\u001b[1;33m)\u001b[0m\u001b[1;33m\u001b[0m\u001b[1;33m\u001b[0m\u001b[0m\n\u001b[0m\u001b[0;32m     10\u001b[0m                 \u001b[0mbrowser\u001b[0m\u001b[1;33m.\u001b[0m\u001b[0mswitch_to\u001b[0m\u001b[1;33m.\u001b[0m\u001b[0mwindow\u001b[0m\u001b[1;33m(\u001b[0m\u001b[0mwindow_name\u001b[0m\u001b[1;33m=\u001b[0m\u001b[0mbrowser\u001b[0m\u001b[1;33m.\u001b[0m\u001b[0mwindow_handles\u001b[0m\u001b[1;33m[\u001b[0m\u001b[1;33m-\u001b[0m\u001b[1;36m1\u001b[0m\u001b[1;33m]\u001b[0m\u001b[1;33m)\u001b[0m\u001b[1;33m\u001b[0m\u001b[1;33m\u001b[0m\u001b[0m\n\u001b[0;32m     11\u001b[0m                 \u001b[0mprint\u001b[0m\u001b[1;33m(\u001b[0m\u001b[0mtd\u001b[0m\u001b[1;33m.\u001b[0m\u001b[0mtext\u001b[0m\u001b[1;33m.\u001b[0m\u001b[0mreplace\u001b[0m\u001b[1;33m(\u001b[0m\u001b[1;34m\"[\"\u001b[0m\u001b[1;33m,\u001b[0m\u001b[1;34m\"\"\u001b[0m\u001b[1;33m)\u001b[0m\u001b[1;33m.\u001b[0m\u001b[0mreplace\u001b[0m\u001b[1;33m(\u001b[0m\u001b[1;34m\"]\"\u001b[0m\u001b[1;33m,\u001b[0m\u001b[1;34m\"\"\u001b[0m\u001b[1;33m)\u001b[0m\u001b[1;33m.\u001b[0m\u001b[0mreplace\u001b[0m\u001b[1;33m(\u001b[0m\u001b[1;34m\"/\"\u001b[0m\u001b[1;33m,\u001b[0m\u001b[1;34m\"\"\u001b[0m\u001b[1;33m)\u001b[0m\u001b[1;33m.\u001b[0m\u001b[0mstrip\u001b[0m\u001b[1;33m(\u001b[0m\u001b[1;33m)\u001b[0m\u001b[1;33m)\u001b[0m\u001b[1;33m\u001b[0m\u001b[1;33m\u001b[0m\u001b[0m\n",
      "\u001b[1;31mIndexError\u001b[0m: list index out of range"
     ]
    }
   ],
   "source": [
    "for row in rows:\n",
    "    tds = row.find_elements(by=By.TAG_NAME, value='td')\n",
    "    for td in tds:\n",
    "        a_tag = td.find_elements(by=By.TAG_NAME, value='a')\n",
    "        if len(a_tag) > 0:\n",
    "            print(a_tag[0].get_attribute('href'), td.text)\n",
    "        else :\n",
    "            if today == td.text.replace(\"[\",\"\").replace(\"]\",\"\").replace(\"/\",\"\").strip():\n",
    "                print(td.text.replace(\"[\",\"\").replace(\"]\",\"\").replace(\"/\",\"\").strip())\n",
    "\n",
    "# a_tag[0].click()\n",
    "# browser.switch_to.window(window_name=browser.window_handles[-1])"
   ]
  },
  {
   "cell_type": "code",
   "execution_count": 17,
   "id": "077c0de3",
   "metadata": {},
   "outputs": [
    {
     "data": {
      "text/plain": [
       "'금융위, 소상공인에 2년간 41.2조원 투입'"
      ]
     },
     "execution_count": 17,
     "metadata": {},
     "output_type": "execute_result"
    }
   ],
   "source": [
    "title = browser.find_element(by=By.CLASS_NAME, value='view_ltit').text\n",
    "title"
   ]
  },
  {
   "cell_type": "code",
   "execution_count": 18,
   "id": "656d4186",
   "metadata": {
    "scrolled": true
   },
   "outputs": [
    {
     "data": {
      "text/plain": [
       "'[창업경영신문 최환기자] 정부가 자영업자ㆍ소상공인의 유동성 공급, 경쟁력 강화, 재기지원을 위해 2년간 41.2조원 규모의 맞춤형 정책자금을 공급한다.\\n금융위원회는 코로나19 대응 긴급ㆍ일시적 지원 조치가 종료되더라도 자영업자 등이 어려움을 겪지 않도록 선제적ㆍ종합적으로 대웅하기 위해 ‘맞춤형 종합지원 방안’을 마련했다고 24일 밝혔다.\\n복합위기에 따른 유동성 공급, 거리두기 완화 이후 경쟁력 강화, 사업재기 등을 위해 맞춤형 자금을 공급할 필요가 있다는 것이 정부의 설명이다.\\n이번 종합 지원방안 중 상환능력이 있는 차주에 대해 유동성 및 경쟁력제고 지원자금을 2년간 41조2000억 원 규모로 공급한다는 내용이 먼저 공개됐다. 이 정책자금은 ▲유동성 공급 10조5000억 원 ▲경쟁력 강화 29조7000억 원 ▲재기지원 1조 원으로 구성됐다.\\n먼저, 유동성 공급 10조5000억 원은 특례보증, 금리부담 경감 등의 형식으로 지원된다. 신용보증기금과 기업은행이 코로나19 피해 등을 입은 자영업자ㆍ소상공인에 약 5조4000억 원 규모의 유동성을 지원하는데, 이중 신보가 25일부터 코로나로 직접적 피해를 입은 업체에 3조2500억 원 규모의 특례보증을 지원한다.\\n지원대상은 소기업ㆍ소상공인과 매출액 50억 원 이하 중기업이다. 기업 당 운전자금 3억 원, 시설자금은 소요범위 내에서 지원한다. 보증료 0.5%포인트 감면, 보증비율 90%를 적용하며, 소진공ㆍ신보 컨설팅을 받은 업체는 보증료 0.1%포인트를 추가 우대한다.\\n나머지 2조1000억 원은 기은과 신보가 매출감소ㆍ재무상황 악화 등으로 자금이 필요한 업체에 공급한다.\\n금융위는 또 자영업자ㆍ소상공인의 경쟁력 강화를 위해 창업ㆍ사업 확장 및 설비투자 등을 위한 29조7000억 원 규모의 신규자금이 투입된다.\\n기업은행에서는 신용도가 낮은 영세 소상공인 등을 위한 창업자금, 사업 내실화를 통한 설비투자 자금 등 18조 원을 공급한다. 신용보증기금은 창업ㆍ사업 확장, 서비스업 영위 등 자영업자ㆍ소상공인 특성에 맞춰 11조3000억 원 규모의 운전ㆍ시설자금 등에 대한 보증을 지원한다.\\n또 최근 인플레이션으로 원자재 확보에 어려움을 겪는 기업 지원을 위해 우선 3000억 원 규모의 기은, 신ㆍ기보 원자재 구매자금을 지원한다.\\n금융이력이 부족한 플랫폼 입점 사업자를 위해서는 플랫폼 내 데이터를 활용해 1000억 원 규모의 기은ㆍ신보보증 공급을 추진한다.\\n마지막으로 자영업자ㆍ소상공인의 재창업, 업종전환 등을 지원하기 위해 1조원 규모의 신규자금 공급도 추진한다.\\n경영상 어려움으로 폐업 후 재창업하거나 현재 업종ㆍ사업전환을 준비 중인 업체에 2200억 원 규모의 신보특례보증을 지원한다. 한도는 1억 원이며, 보증비율 95%, 보증료 0.2%포인트 감면, 기존 보증 만기연장 등을 승계한다.\\n폐업경험이 있는 재창업자(재창업 후 5년 내)의 조기 정착을 위해 최대 1.2%포인트 금리부담을 경감하는 기은 재창업 우대 프로그램을 도입한다.\\n장기간 매출ㆍ재무상황이 악화되거나, 채무조정을 받은 기업 등에 대해서는 상환능력 심사를 거쳐 재도약을 위한 자금 등을 지원한다. 신보 자체ㆍ신용회복위원회ㆍ새출발기금 등 채무조정 후 성실상환차주 중 상환능력이 인정되는 경우 지원이 가능하다.\\n코로나19 특례보증(3조25000억 원)은 7월 25일부터 시행되며, 추경예산(2200억 원)을 통해 조달하고, 나머지 38조원은 신보ㆍ기은 자체재원으로 공급한다.'"
      ]
     },
     "execution_count": 18,
     "metadata": {},
     "output_type": "execute_result"
    }
   ],
   "source": [
    "contents = browser.find_element(by=By.ID, value='ContentsLayertext').text\n",
    "contents"
   ]
  },
  {
   "cell_type": "code",
   "execution_count": 21,
   "id": "d435382c",
   "metadata": {},
   "outputs": [
    {
     "data": {
      "text/plain": [
       "'http://sbiznews.com/news/?action=view&menuid=44&no=52916&page=&skey=&sword='"
      ]
     },
     "execution_count": 21,
     "metadata": {},
     "output_type": "execute_result"
    }
   ],
   "source": [
    "url = browser.current_url\n",
    "url"
   ]
  },
  {
   "cell_type": "code",
   "execution_count": 24,
   "id": "03b99529",
   "metadata": {},
   "outputs": [],
   "source": [
    "def insert_news(params):\n",
    "    \n",
    "    sql = \"\"\"INSERT INTO tb_crawling_news_intrf(id, title, contents, gb, reg_dt, url, interface_dt)\n",
    "             VALUES((select coalesce(max(id),0)+1 from tb_crawling_news_intrf), %s, %s, %s, %s, %s, now());\"\"\"\n",
    "    conn = None\n",
    "\n",
    "    try:\n",
    "        conn = psycopg2.connect(host='58.120.227.138', dbname='kt_jalnagage',user='postgres',password='Wjdrlwjd1!',port=5432)\n",
    "        cur = conn.cursor()\n",
    "        \n",
    "        cur.execute(sql, params)\n",
    "        conn.commit()\n",
    "        cur.close()\n",
    "        \n",
    "    except (Exception, psycopg2.DatabaseError) as error:\n",
    "        print(error)\n",
    "    finally:\n",
    "        if conn is not None:\n",
    "            conn.close()"
   ]
  },
  {
   "cell_type": "code",
   "execution_count": 25,
   "id": "eb10b64c",
   "metadata": {},
   "outputs": [],
   "source": [
    "insert_news([title, contents, 'news', today, url])"
   ]
  },
  {
   "cell_type": "code",
   "execution_count": null,
   "id": "f84ced24",
   "metadata": {},
   "outputs": [],
   "source": []
  }
 ],
 "metadata": {
  "kernelspec": {
   "display_name": "Python 3",
   "language": "python",
   "name": "python3"
  },
  "language_info": {
   "codemirror_mode": {
    "name": "ipython",
    "version": 3
   },
   "file_extension": ".py",
   "mimetype": "text/x-python",
   "name": "python",
   "nbconvert_exporter": "python",
   "pygments_lexer": "ipython3",
   "version": "3.7.9"
  }
 },
 "nbformat": 4,
 "nbformat_minor": 5
}
