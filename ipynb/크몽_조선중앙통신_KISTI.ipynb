{
 "cells": [
  {
   "cell_type": "code",
   "execution_count": 18,
   "id": "7ee2c7b7",
   "metadata": {},
   "outputs": [],
   "source": [
    "from selenium import webdriver\n",
    "from selenium.webdriver.chrome.service import Service\n",
    "from webdriver_manager.chrome import ChromeDriverManager\n",
    "from selenium.webdriver.common.by import By\n",
    "from selenium.webdriver.common.keys import Keys\n",
    "\n",
    "\n",
    "import datetime\n",
    "\n",
    "import re\n",
    "from openpyxl import Workbook, load_workbook"
   ]
  },
  {
   "cell_type": "code",
   "execution_count": 8,
   "id": "8ae4311d",
   "metadata": {
    "scrolled": false
   },
   "outputs": [
    {
     "name": "stdout",
     "output_type": "stream",
     "text": [
      "\n"
     ]
    }
   ],
   "source": [
    "browser = webdriver.Chrome(service=Service(ChromeDriverManager().install()))"
   ]
  },
  {
   "cell_type": "code",
   "execution_count": 13,
   "id": "85b10977",
   "metadata": {},
   "outputs": [],
   "source": [
    "HOME_URL = 'http://kcna.kp/kp'\n",
    "RECENT_URL = 'http://kcna.kp/kp/category/articles/q/1ee9bdb7186944f765208f34ecfb5407.kcmsf'\n",
    "browser.get(HOME_URL)\n",
    "browser.get(RECENT_URL)"
   ]
  },
  {
   "cell_type": "code",
   "execution_count": 15,
   "id": "1c3401c3",
   "metadata": {},
   "outputs": [],
   "source": [
    "article_wrapper = browser.find_element(by=By.CLASS_NAME, value='article-link')"
   ]
  },
  {
   "cell_type": "code",
   "execution_count": 16,
   "id": "c8a63670",
   "metadata": {},
   "outputs": [],
   "source": [
    "a_tag = article_wrapper.find_element(by=By.TAG_NAME, value='a')"
   ]
  },
  {
   "cell_type": "code",
   "execution_count": 17,
   "id": "49972fa9",
   "metadata": {},
   "outputs": [],
   "source": [
    "a_tag.click()"
   ]
  },
  {
   "cell_type": "code",
   "execution_count": 72,
   "id": "7221ecb6",
   "metadata": {},
   "outputs": [],
   "source": [
    "def get_detail_info(browser):\n",
    "    title = browser.find_element(by=By.CLASS_NAME, value='article-main-title').text\n",
    "    content_wrapper = browser.find_element(by=By.CLASS_NAME, value='content-wrapper')\n",
    "    p_tags = content_wrapper.find_elements(by=By.TAG_NAME, value='p')\n",
    "    \n",
    "    pre_content1 = ''\n",
    "    pre_content2 = ''\n",
    "    pre_content3 = ''\n",
    "    content = ''\n",
    "    for p_tag in p_tags:\n",
    "        text = p_tag.text\n",
    "        if text.startswith('(') and text.endswith(')'):\n",
    "            text = text.replace(\"(\",\"\").replace(\")\",\"\")\n",
    "            split_text = text.split(' ')\n",
    "            pre_content1 = split_text[0]\n",
    "            pre_content2 = split_text[1] + ' ' + split_text[2]\n",
    "            pre_content3 = split_text[3]\n",
    "        else :\n",
    "            content += text + '\\r\\n'\n",
    "    \n",
    "    if len(content) >= 32000:\n",
    "        content = content[0:31980] + '\\r\\n (이하 절단)'\n",
    "    \n",
    "    return title, pre_content1, pre_content2, pre_content3, content"
   ]
  },
  {
   "cell_type": "code",
   "execution_count": 81,
   "id": "4033b4c2",
   "metadata": {
    "scrolled": true
   },
   "outputs": [
    {
     "data": {
      "text/plain": [
       "('주체111(2022)년 7월 28일 신문개관',\n",
       " '평양',\n",
       " '7월 28일발',\n",
       " '조선중앙통신',\n",
       " '28일 중앙신문들에 실린 주요소식과 글들\\r\\n-위대한 전승 69돐 기념행사가 성대히 진행된 소식과 사진문헌들\\r\\n-경애하는 김정은동지께서 위대한 전승 69돐 기념행사에서 하신 연설(사진문헌들을 함께 편집)\\r\\n-경애하는 김정은동지께서 전승절에 즈음하여 조국해방전쟁참전렬사묘를 찾으신 소식과 사진문헌들\\r\\n-위대한 수령 김일성동지와 위대한 령도자 김정일동지의 동상에 일군들과 근로자들,인민군장병들,청소년학생들 꽃바구니 진정\\r\\n-만수대언덕에 높이 모신 위대한 수령 김일성동지와 위대한 령도자 김정일동지의 동상에 김일성김정일기금리사회 명예부리사장이 꽃바구니를 보내여왔다.\\r\\n-전승절에 즈음하여 조선인민군 장병들 금수산태양궁전을 찾아 숭고한 경의 표시\\r\\n-제8차 전국로병대회 참가자들이 당의 품속에서 영생하는 옛 지휘관들과 전우들을 찾아 경의를 표시하였다.\\r\\n-각지 일군들과 근로자들,청년학생들 전승절을 뜻깊게 맞이\\r\\n-청년학생들의 야회 진행\\r\\n-전승컵체육경기대회,전승컵 전국태권도강자경기대회,전승컵보링경기대회 진행\\r\\n-제8차 전국로병대회에 참가한 로병들의 군공을 소개\\r\\n-전국적인 전염병전파 및 치료상황 통보\\r\\n-전망적인 전염병위협을 예견한 물리적,기술적대책 실행\\r\\n-6.25-7.27반미공동투쟁월간에 즈음하여 여러 나라에서 행사 진행\\r\\n-세계적인 대류행전염병전파실태(끝)\\r\\n')"
      ]
     },
     "execution_count": 81,
     "metadata": {},
     "output_type": "execute_result"
    }
   ],
   "source": [
    "get_detail_info(browser)"
   ]
  },
  {
   "cell_type": "code",
   "execution_count": 48,
   "id": "6c2e04f5",
   "metadata": {},
   "outputs": [],
   "source": [
    "def trans_year(north_year):\n",
    "    return 1911 + int(north_year)"
   ]
  },
  {
   "cell_type": "code",
   "execution_count": 64,
   "id": "9a762f79",
   "metadata": {},
   "outputs": [],
   "source": [
    "start_date = datetime.date(2022, 7, 27)\n",
    "end_date = datetime.date(2022, 7, 27)"
   ]
  },
  {
   "cell_type": "code",
   "execution_count": 92,
   "id": "42db4651",
   "metadata": {},
   "outputs": [],
   "source": [
    "global rownum\n",
    "rownum = 0"
   ]
  },
  {
   "cell_type": "code",
   "execution_count": 88,
   "id": "7eb80806",
   "metadata": {},
   "outputs": [],
   "source": [
    "def write_excel(append_row):\n",
    "    wb = load_workbook('./output/조선중앙통신.xlsx', data_only=True)\n",
    "    ws = wb.active\n",
    "    ws.append(append_row)\n",
    "    wb.save('./output/조선중앙통신.xlsx')"
   ]
  },
  {
   "cell_type": "code",
   "execution_count": 95,
   "id": "479408b2",
   "metadata": {},
   "outputs": [],
   "source": [
    "def crawl_list_page(browser):\n",
    "    article_link = browser.find_element(by=By.CLASS_NAME, value='article-link')\n",
    "    li_tags = article_link.find_elements(by=By.TAG_NAME, value='li')\n",
    "    for li_tag in li_tags:\n",
    "        isTarget, isGo, targetUrl, pub_date = check_target(li_tag, start_date, end_date)\n",
    "        if isTarget :\n",
    "            browser.switch_to.new_window('tab')\n",
    "            browser.get(targetUrl)\n",
    "            title, pre_content1, pre_content2, pre_content3, content = get_detail_info(browser)\n",
    "            global rownum\n",
    "            rownum += 1\n",
    "            write_excel([rownum, pub_date, title, pre_content1, pre_content2, pre_content3, content])\n",
    "            browser.close() \n",
    "            browser.switch_to.window(browser.window_handles[0])\n",
    "    \n",
    "    return isGo"
   ]
  },
  {
   "cell_type": "code",
   "execution_count": 97,
   "id": "aa32d0a4",
   "metadata": {},
   "outputs": [],
   "source": [
    "isGo = True\n",
    "while(isGo):\n",
    "    isGo = crawl_list_page(browser)    \n",
    "    go_next_page(browser)"
   ]
  },
  {
   "cell_type": "code",
   "execution_count": 76,
   "id": "3ac9b574",
   "metadata": {},
   "outputs": [
    {
     "data": {
      "text/plain": [
       "('조국해방전쟁을 승리에로 이끄신 위대한 수령 김일성동지',\n",
       " '평양',\n",
       " '7월 27일발',\n",
       " '조선중앙통신',\n",
       " '위대한 수령 김일성동지께서는 조국해방전쟁의 모든 중하를 한몸에 지니시고 주체적인 군사사상과 전법,탁월한 령도로 영웅조선의 백승의 력사와 전통을 창조하시였으며 조국과 민족의 존엄과 영예를 온 세상에 높이 떨쳐주시였다.(끝)\\r\\n')"
      ]
     },
     "execution_count": 76,
     "metadata": {},
     "output_type": "execute_result"
    }
   ],
   "source": [
    "title, pre_content1, pre_content2, pre_content3, content"
   ]
  },
  {
   "cell_type": "code",
   "execution_count": 82,
   "id": "a0eaf26d",
   "metadata": {},
   "outputs": [],
   "source": [
    "def check_target(li_tag, start_date, end_date):\n",
    "    detail_url = li_tag.find_element(by=By.TAG_NAME, value='a').get_attribute('href')\n",
    "    publish_date = li_tag.find_element(by=By.CLASS_NAME, value='publish-time')\n",
    "   \n",
    "    date = publish_date.text.replace(\"[\",\"\").replace(\"]\",\"\").replace(\"주체\",\"\").split(\".\")\n",
    "    year = int(trans_year(date[0]))\n",
    "    month = int(date[1])\n",
    "    day = int(date[2])\n",
    "\n",
    "    pub_date = datetime.date(year, month, day)\n",
    "    if start_date <= pub_date and pub_date <= end_date :\n",
    "        isTarget = True\n",
    "        isGo = True\n",
    "    elif pub_date < start_date :\n",
    "        isTarget = False\n",
    "        isGo = False\n",
    "    elif pub_date > end_date :\n",
    "        isTarget = False\n",
    "        isGo = True\n",
    "    return isTarget, isGo, detail_url, pub_date"
   ]
  },
  {
   "cell_type": "code",
   "execution_count": 52,
   "id": "7adee9b6",
   "metadata": {},
   "outputs": [
    {
     "name": "stdout",
     "output_type": "stream",
     "text": [
      "no target - 종료 2022-07-23\n",
      "False False\n"
     ]
    }
   ],
   "source": [
    "article_links = browser.find_elements(by=By.CLASS_NAME, value='article-link')\n",
    "for article_link in article_links:\n",
    "    isTarget, isGo = check_target(article_link, start_date, end_date)\n",
    "    print(isTarget, isGo)"
   ]
  },
  {
   "cell_type": "code",
   "execution_count": 39,
   "id": "2c7a2c2e",
   "metadata": {},
   "outputs": [],
   "source": [
    "def go_next_page(browser):\n",
    "    next_btn = browser.find_element(by=By.CLASS_NAME, value='next-ctrl').find_element(by=By.TAG_NAME, value='a')\n",
    "    next_btn.click()"
   ]
  },
  {
   "cell_type": "code",
   "execution_count": 45,
   "id": "b468a058",
   "metadata": {
    "scrolled": true
   },
   "outputs": [],
   "source": [
    "go_next_page(browser)"
   ]
  },
  {
   "cell_type": "code",
   "execution_count": null,
   "id": "4e55d543",
   "metadata": {},
   "outputs": [],
   "source": [
    "browser.switch_to.new_window('tab')\n",
    "browser.close()"
   ]
  },
  {
   "cell_type": "code",
   "execution_count": 79,
   "id": "d75d9cc0",
   "metadata": {},
   "outputs": [],
   "source": [
    "# 엑셀 생성\n",
    "wb = Workbook()\n",
    "ws = wb.active\n",
    "\n",
    "# 제목 적기\n",
    "sub = ['번호','게재일자','기사 제목','(내용1)','내용2','내용3','기사 내용']\n",
    "for kwd, j in zip(sub, list(range(1, len(sub)+1))):\n",
    "    ws.cell(row=1, column=j).value = kwd\n",
    "\n",
    "wb.save('./output/조선중앙통신.xlsx')"
   ]
  },
  {
   "cell_type": "code",
   "execution_count": 96,
   "id": "d263f966",
   "metadata": {},
   "outputs": [],
   "source": [
    "# 팝업창 종료 후 close\n",
    "browser.close() \n",
    "browser.switch_to.window(browser.window_handles[0])"
   ]
  },
  {
   "cell_type": "code",
   "execution_count": null,
   "id": "c72e8632",
   "metadata": {},
   "outputs": [],
   "source": []
  }
 ],
 "metadata": {
  "kernelspec": {
   "display_name": "Python 3 (ipykernel)",
   "language": "python",
   "name": "python3"
  },
  "language_info": {
   "codemirror_mode": {
    "name": "ipython",
    "version": 3
   },
   "file_extension": ".py",
   "mimetype": "text/x-python",
   "name": "python",
   "nbconvert_exporter": "python",
   "pygments_lexer": "ipython3",
   "version": "3.8.9"
  }
 },
 "nbformat": 4,
 "nbformat_minor": 5
}
