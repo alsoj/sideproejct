{
 "cells": [
  {
   "cell_type": "code",
   "execution_count": 1,
   "id": "7ee2c7b7",
   "metadata": {},
   "outputs": [],
   "source": [
    "from selenium import webdriver\n",
    "from selenium.webdriver.chrome.service import Service\n",
    "from webdriver_manager.chrome import ChromeDriverManager\n",
    "from selenium.webdriver.common.by import By\n",
    "\n",
    "import re\n",
    "from openpyxl import Workbook, load_workbook"
   ]
  },
  {
   "cell_type": "code",
   "execution_count": 2,
   "id": "8ae4311d",
   "metadata": {
    "scrolled": true
   },
   "outputs": [
    {
     "name": "stdout",
     "output_type": "stream",
     "text": [
      "\n"
     ]
    },
    {
     "name": "stderr",
     "output_type": "stream",
     "text": [
      "[WDM] - ====== WebDriver manager ======\n",
      "[WDM] - Current google-chrome version is 103.0.5060\n",
      "[WDM] - Get LATEST chromedriver version for 103.0.5060 google-chrome\n",
      "[WDM] - Driver [C:\\Users\\alsoj\\.wdm\\drivers\\chromedriver\\win32\\103.0.5060.134\\chromedriver.exe] found in cache\n"
     ]
    }
   ],
   "source": [
    "browser = webdriver.Chrome(service=Service(ChromeDriverManager().install()))"
   ]
  },
  {
   "cell_type": "code",
   "execution_count": 9,
   "id": "1825da1c",
   "metadata": {},
   "outputs": [],
   "source": [
    "URL = 'http://kcna.kp/kp/category/articles/q/1ee9bdb7186944f765208f34ecfb5407.kcmsf'"
   ]
  },
  {
   "cell_type": "code",
   "execution_count": 10,
   "id": "20a7cf68",
   "metadata": {},
   "outputs": [],
   "source": [
    "browser.get(URL)"
   ]
  },
  {
   "cell_type": "code",
   "execution_count": 15,
   "id": "1c3401c3",
   "metadata": {},
   "outputs": [],
   "source": [
    "article_wrapper = browser.find_element(by=By.CLASS_NAME, value='article-link')"
   ]
  },
  {
   "cell_type": "code",
   "execution_count": 16,
   "id": "c8a63670",
   "metadata": {},
   "outputs": [],
   "source": [
    "a_tag = article_wrapper.find_element(by=By.TAG_NAME, value='a')"
   ]
  },
  {
   "cell_type": "code",
   "execution_count": 17,
   "id": "49972fa9",
   "metadata": {},
   "outputs": [],
   "source": [
    "a_tag.click()"
   ]
  },
  {
   "cell_type": "code",
   "execution_count": null,
   "id": "7221ecb6",
   "metadata": {},
   "outputs": [],
   "source": []
  },
  {
   "cell_type": "code",
   "execution_count": 3,
   "id": "d75d9cc0",
   "metadata": {},
   "outputs": [],
   "source": [
    "# 엑셀 생성\n",
    "wb = Workbook()\n",
    "ws = wb.active\n",
    "\n",
    "# 제목 적기\n",
    "sub = ['식별키','목록-번호','목록-구분','목록-제목','목록-면수','목록-작성자','목록-일자','본문-일자(원본)','본문-일자','본문-내용','본문-제목','본문-부제(제목앞)','본문-부제(제목뒤)']\n",
    "for kwd, j in zip(sub, list(range(1, len(sub)+1))):\n",
    "    ws.cell(row=1, column=j).value = kwd\n",
    "\n",
    "wb.save('./output/노동신문.xlsx')"
   ]
  },
  {
   "cell_type": "code",
   "execution_count": 4,
   "id": "c4a0aa8c",
   "metadata": {},
   "outputs": [],
   "source": [
    "list_base_url = 'http://www.rodong.rep.kp/ko/index.php?strPageID=SF01_01_03&strDate='\n",
    "date = '2022-06-01'"
   ]
  },
  {
   "cell_type": "code",
   "execution_count": 5,
   "id": "89739e02",
   "metadata": {},
   "outputs": [],
   "source": [
    "browser.get(list_base_url+date)"
   ]
  },
  {
   "cell_type": "markdown",
   "id": "c41a570c",
   "metadata": {},
   "source": [
    "### 크롤링 범위\n",
    "- 목록-번호 / 목록-구분 / 목록-제목 / 목록-면 / 목록-작성자 / 목록-일자\n",
    "- 본문-일자(원본) / 본문-일자 / 본문-내용 / 본문-제목 / 본문-부제(제목앞) / 본문-부제(제목뒤)\n",
    "\n",
    "- '식별키','목록-번호','목록-구분','목록-제목','목록-면수','목록-작성자','목록-일자','본문-일자(원본)','본문-일자','본문-내용','본문-제목','본문-부제(제목앞)','본문-부제(제목뒤)'"
   ]
  },
  {
   "cell_type": "markdown",
   "id": "0e60302f",
   "metadata": {},
   "source": [
    "## 뉴스 목록 크롤링"
   ]
  },
  {
   "cell_type": "code",
   "execution_count": 6,
   "id": "0c599fc1",
   "metadata": {},
   "outputs": [],
   "source": [
    "news_line_list = browser.find_elements(by=By.CLASS_NAME, value='ListNewsLineContainer')"
   ]
  },
  {
   "cell_type": "code",
   "execution_count": 7,
   "id": "87999cbf",
   "metadata": {},
   "outputs": [],
   "source": [
    "def get_article_info(title_full) :\n",
    "    if title_full.startswith('[') :\n",
    "        article_title = title_full[title_full.find(']')+1 : title_full.rfind('[')].strip()\n",
    "        article_type = title_full[title_full.find('[')+1 : title_full.find(']')].strip()\n",
    "        article_page = title_full[title_full.rfind('[')+1 : title_full.rfind(']')].strip()\n",
    "    else :\n",
    "        article_title = title_full[ : title_full.rfind('[')].strip()\n",
    "        article_type = ''\n",
    "        article_page = title_full[title_full.rfind('[')+1 : title_full.rfind(']')].strip() \n",
    "    \n",
    "    return article_title, article_type, article_page"
   ]
  },
  {
   "cell_type": "code",
   "execution_count": 67,
   "id": "633ca936",
   "metadata": {
    "scrolled": true
   },
   "outputs": [],
   "source": [
    "for news_line in news_line_list:\n",
    "    temp_row = []\n",
    "    \n",
    "    line_no = news_line.find_element(by=By.CLASS_NAME, value='ListNewsLineNo').text.strip()\n",
    "    line_title = news_line.find_element(by=By.CLASS_NAME, value='ListNewsLineTitleW').text.strip()\n",
    "    line_writer = news_line.find_element(by=By.CLASS_NAME, value='ListNewsLineWriter').text.strip()\n",
    "    line_date = news_line.find_element(by=By.CLASS_NAME, value='ListNewsLineDate').text.strip()\n",
    "    \n",
    "    article_title, article_type, article_page = get_article_info(line_title)\n",
    "\n",
    "    temp_row.append(line_no)\n",
    "    temp_row.append(article_type)\n",
    "    temp_row.append(article_title)\n",
    "    temp_row.append(article_page)\n",
    "    temp_row.append(line_writer)\n",
    "    temp_row.append(line_date)\n",
    "    \n",
    "    # 상세창 팝업\n",
    "    title_popup = news_line.find_element(by=By.CLASS_NAME, value='ListNewsLineTitleW')\n",
    "    title_popup_a = title_popup.find_element(by=By.TAG_NAME, value='a')\n",
    "    title_popup_a.click()    \n",
    "    browser.switch_to.window(browser.window_handles[1])\n",
    "    \n",
    "    key = browser.current_url[-15:]\n",
    "    temp_row.insert(0, key)\n",
    "    \n",
    "    detail_date_origin = browser.find_element(by=By.CLASS_NAME, value='ArticleMenuDate').text\n",
    "    temp_row.append(detail_date_origin)\n",
    "    \n",
    "    detail_date = key[:10]\n",
    "    temp_row.append(detail_date)\n",
    "    \n",
    "    detail_title = ''\n",
    "    detail_sub_title = ''\n",
    "    detail_content = ''\n",
    "    \n",
    "    detail_content_list = browser.find_elements(by=By.CLASS_NAME, value='ArticleContent')\n",
    "\n",
    "    for detail_line in detail_content_list:\n",
    "        title = detail_line.find_elements(by=By.TAG_NAME, value='font')\n",
    "\n",
    "        if title and title[0].text.strip() != '' :\n",
    "            if 'bold' in title[0].get_attribute('style') :\n",
    "                detail_title += title[0].text + ' '\n",
    "            else :\n",
    "                detail_sub_title += title[0].text + ' '\n",
    "        elif detail_line.text.strip() != '' :\n",
    "            detail_content += ' ' + detail_line.text\n",
    "    \n",
    "    temp_row.append(detail_content)\n",
    "    temp_row.append(detail_title.strip())\n",
    "    temp_row.append(detail_sub_title.strip())\n",
    "    temp_row.append(detail_sub_title.strip())\n",
    "    ws.append(temp_row)\n",
    "    wb.save('./output/노동신문.xlsx')\n",
    "    \n",
    "    # 팝업창 close 후 객체 전환\n",
    "    browser.close() \n",
    "    browser.switch_to.window(browser.window_handles[0])"
   ]
  },
  {
   "cell_type": "code",
   "execution_count": 16,
   "id": "77f74495",
   "metadata": {},
   "outputs": [],
   "source": [
    "title_popup = news_line.find_element(by=By.CLASS_NAME, value='ListNewsLineTitleW')\n",
    "title_popup_a = title_popup.find_element(by=By.TAG_NAME, value='a')\n",
    "title_popup_a.click()"
   ]
  },
  {
   "cell_type": "code",
   "execution_count": 51,
   "id": "d76f4ea2",
   "metadata": {},
   "outputs": [
    {
     "data": {
      "text/plain": [
       "['CDwindow-2FACECDB0A3970DC7739F128E93F439C',\n",
       " 'CDwindow-6148C768679F565202DC9F8ABABF7B45',\n",
       " 'CDwindow-13C5389092528A7700BC5A53049A293B']"
      ]
     },
     "execution_count": 51,
     "metadata": {},
     "output_type": "execute_result"
    }
   ],
   "source": [
    "browser.window_handles"
   ]
  },
  {
   "cell_type": "code",
   "execution_count": 8,
   "id": "175b7957",
   "metadata": {},
   "outputs": [],
   "source": [
    "browser.switch_to.window(browser.window_handles[-1])"
   ]
  },
  {
   "cell_type": "code",
   "execution_count": 9,
   "id": "10e29ffc",
   "metadata": {},
   "outputs": [
    {
     "data": {
      "text/plain": [
       "'2022-06-01-0008'"
      ]
     },
     "execution_count": 9,
     "metadata": {},
     "output_type": "execute_result"
    }
   ],
   "source": [
    "key = browser.current_url[-15:]\n",
    "key"
   ]
  },
  {
   "cell_type": "markdown",
   "id": "fcef8b22",
   "metadata": {},
   "source": [
    "## 뉴스 상세 크롤링"
   ]
  },
  {
   "cell_type": "code",
   "execution_count": 10,
   "id": "508a07fa",
   "metadata": {},
   "outputs": [
    {
     "data": {
      "text/plain": [
       "'주체111(2022)년 6월 1일 수요일'"
      ]
     },
     "execution_count": 10,
     "metadata": {},
     "output_type": "execute_result"
    }
   ],
   "source": [
    "detail_date_origin = browser.find_element(by=By.CLASS_NAME, value='ArticleMenuDate').text\n",
    "detail_date_origin"
   ]
  },
  {
   "cell_type": "code",
   "execution_count": 11,
   "id": "40ca4e4f",
   "metadata": {
    "scrolled": true
   },
   "outputs": [
    {
     "data": {
      "text/plain": [
       "'2022-06-01'"
      ]
     },
     "execution_count": 11,
     "metadata": {},
     "output_type": "execute_result"
    }
   ],
   "source": [
    "detail_date = key[:10]\n",
    "detail_date"
   ]
  },
  {
   "cell_type": "code",
   "execution_count": 18,
   "id": "6bd33723",
   "metadata": {},
   "outputs": [],
   "source": [
    "detail_title = ''\n",
    "detail_sub_title = ''\n",
    "detail_content = ''"
   ]
  },
  {
   "cell_type": "code",
   "execution_count": 19,
   "id": "94b79335",
   "metadata": {},
   "outputs": [],
   "source": [
    "detail_content_list = browser.find_elements(by=By.CLASS_NAME, value='ArticleContent')\n",
    "\n",
    "for detail_line in detail_content_list:\n",
    "    title = detail_line.find_elements(by=By.TAG_NAME, value='font')\n",
    "    \n",
    "    if title and title[0].text.strip() != '' :\n",
    "        if 'bold' in title[0].get_attribute('style') :\n",
    "            detail_title += title[0].text    \n",
    "        else :\n",
    "            detail_sub_title += title[0].text    \n",
    "    elif detail_line.text.strip() != '' and 'right' not in detail_line.get_attribute('style') :        \n",
    "        detail_content += detail_line.text + '\\r\\n'"
   ]
  },
  {
   "cell_type": "code",
   "execution_count": 20,
   "id": "45bdd286",
   "metadata": {},
   "outputs": [
    {
     "data": {
      "text/plain": [
       "'경애하는 김정은동지께서는 다음과 같이 말씀하시였다.\\r\\n《전군의 모든 지휘관, 병사들은 인민군대가 인민을 떠나서는 한시도 존재할수 없음을 항상 명심하고 인민을 무한히 존중하고 사랑하며 인민을 위함이라면 사선도 헤치는 혁명군대의 훌륭한 풍모를 계속 견지해나가야 하겠습니다.》\\r\\n수도의 평범한 약국들이 조선인민군 군의부문 전투원들이 지켜선 인민사수전의 전호로 된 그때로부터 어느덧 보름 남짓이 흘렀다.\\r\\n성스러운 우리 당마크가 새겨진 붉은 파견장을 전선파견장, 특별신임장으로 간직한 인민군대의 군의부문 전투원들은 평양시안의 수백개의 약국들에 긴급전개한 그 순간부터 지금까지 방역전장마다에서 인민사랑의 서사시를 끊임없이 수놓아가고있다.\\r\\n얼마전 평천구역 새마을２동 ２７인민반의 한 살림집에서는 눈물없이는 볼수 없는 감동깊은 화폭이 펼쳐졌다.\\r\\n《군관동지, 우리 인민반주민을 위해 꼬박 밤을 밝히며 치료를 해주어 정말 고맙습니다.》\\r\\n홀로 사는 늙은이여서 이웃들도 관심을 많이 돌려왔지만 갑자기 그가 앓아누웠을 때 기울이는 인민군대의 정성은 그보다 더 뜨거웠다.\\r\\n인민반장이 허리굽혀 인사하려 하자 남송상점 평천분점 의약품매대에서 온 군관은 황황히 그를 만류하며 우리 군대는 다 인민의 아들딸이라고, 자식이 부모가 앓을 때 효도를 하는것이야 너무도 응당한 일이 아닌가고 하면서 이제부터는 홀로 사는 로인을 친어머니로 모시겠다고 하는것이였다.\\r\\n혈연의 정이 마디마디 넘쳐흐르는 군관의 말에 인민반장과 집주인도 울고 이웃들도 울었다.\\r\\n강동군 태잠리약국의 판매원과 리진료소의 의료일군들이 그곳에 파견된 화선용사들에 대하여 지금도 계속 외우는 말이 있다.\\r\\n《며칠전 우리 약국에 파견된 군의동지들중 두명이 갑자기 앓아눕게 되였습니다.그래서 약을 가져다주니 인민들에게 공급되는 약은 한알도 다치면 안된다고 하면서 자체로 고려치료를 하는것이였습니다.》\\r\\n인민을 위해서는 수십리 먼곳에까지 이동봉사를 나가 사랑의 불사약을 안겨주면서도 자기들이 앓을 때에는 단 한알의 약도 다치지 않는 군인들에 대한 이야기를 듣고 한 주민이 자기가 공급받은 약을 주려 하였으나 그들은 그것마저도 거절하였다고 한다.\\r\\n《우린 인민들에게 약을 신속정확히 공급할데 대한 명령만 받았지 인민이 쓸 약을 마음대로 처분하라는 지시는 받지 못했습니다.우리 부모, 우리 형제들이 병을 털고일어나면 그것만큼 우리에게 더 좋은 약은 없습니다.》\\r\\n그 뜨거운 진정에 인민들 누구나 흐르는 눈물을 억제하지 못했다.\\r\\n만경대구역 갈림길２동 ３９인민반에 사는 로인내외의 이야기는 또 얼마나 만사람의 심금을 울리는것인가.앓고난 뒤 갑자기 합병증이 와서 신고하는 남편때문에 ２３시경 금흥약국 갈림길분약국에 찾아간 녀인은 무작정 군인들에게 부탁했다.\\r\\n《우리 령감을 좀 살려주게.증상을 봐서는 잘 알수 없는데 무슨 수가 없겠나.》\\r\\n군인들은 지체없이 집에 찾아가 로인을 진찰해보고 치료전투에 진입하였다.밤새 여러 약국을 찾아다니며 필요한 약들을 구해온 그들은 땀을 훔칠 사이도 없이 긴장한 치료전투를 벌려나갔다.그들의 지성어린 노력에 의해 환자의 혈관으로 귀중한 주사약이 흘러들고 병세가 호전되기 시작하자 할머니는 눈굽을 훔치며 이렇게 말했다.\\r\\n《여보 령감, 령감의 피줄로 우리 원수님의 사랑이 흘러들고있수다.우리 군대의 정이 스며들고있수다.》\\r\\n얼마전 중구역 서창동 ８인민반의 한 집으로는 동의 어느한 상점의 의약품매대에 파견된 군인들이 큼직한 간식꾸레미를 들고 찾아왔다.\\r\\n《할머니, 어서 이걸 손자에게 주십시오.》\\r\\n하루 ２４시간 밤낮없이 수고하는 군인들의 건강이 걱정되여 동주민들이 마련해준 간식임을 할머니가 어찌 몰라볼수 있으랴.\\r\\n《이것만은 안되네.이건 꼭 임자네들이 들어야 사무장이랑 인민반사람들도 좋아해.》\\r\\n《할머니, 우리야 한집안식구가 아닙니까.나의 부모, 나의 형제, 나의 조카들이 무탈하다면 우린 더 바랄것이 없습니다.》\\r\\n하루에도 수많은 인민들에게 의약품을 공급하느라 운반식사로 가져온 군용밥통에도 곁눈 한번 팔 겨를이 없다는 군인들이 인민을 위한 일에서만은 생활의 구석구석에 이르기까지 사려깊은 눈빛으로 지켜보고 보살피고있다는 생각에 목이 꽉 메여올랐다고 격정을 터치는 사람들중에는 삼석구역 원흥리의 주민들도 있다.\\r\\n얼마전 리주민들은 약국에 갔다가 군인들사이에 오가는 이런 말을 듣게 되였다.\\r\\n《우리 식사량이 지내 많은것같지 않소？ 요새 난 소화가 잘 안되는데 내 몫은 줄이자구.》\\r\\n《저도 같습니다.》\\r\\n자기들에게 차례진 식량마저 절약하여 인민들에게 보내주려고 그런다는것을 주민들이 왜 모르랴.\\r\\n인민들의 육체적아픔만이 아니라 생활의 자그마한 그늘까지도 말끔히 가셔주어야 마음을 놓는 이런 참된 군인들의 모습을 보며 사람들 누구나 한목소리로 말하고있다.\\r\\n《당의 군대, 인민의 군대라는 말의 참뜻을 이번에 똑똑히 알게 되였습니다.》\\r\\n《이젠 온 마을사람들이 열이 내려 특별히 약을 찾는 사람들도 얼마 없습니다.그렇지만 약국에 계속 찾아가군 합니다.그저 잠시도 헤여져서는 못살 군인동지들이 보고싶어서 그럽니다.군대없이야 어떻게 우리가 순간인들 살수 있겠나요.》\\r\\n그렇다.병사가 인민을 얼마나 사랑하고있는가를 우리 인민은 노래의 구절에서가 아니라 시련의 시기에 자기의 실체험으로 시시각각 절감하고있다.\\r\\n하기에 인민의 안녕을 지켜 수도의 방역전장에서 불사신처럼 헌신분투하는 당중앙의 별동대원들을 격찬하는 인민들의 목소리는 지금 이 시각에도 끊임없이 울려퍼지고있다.\\r\\n《우리 원수님께서 보내주신 인민군대가 세상에서 제일입니다.이런 끌끌한 아들딸들이 있기에 방역대승의 그날은 멀지 않습니다.》\\r\\n'"
      ]
     },
     "execution_count": 20,
     "metadata": {},
     "output_type": "execute_result"
    }
   ],
   "source": [
    "detail_content"
   ]
  },
  {
   "cell_type": "code",
   "execution_count": 64,
   "id": "d263f966",
   "metadata": {},
   "outputs": [],
   "source": [
    "# 팝업창 종료 후 close\n",
    "browser.close() \n",
    "browser.switch_to.window(browser.window_handles[0])"
   ]
  },
  {
   "cell_type": "code",
   "execution_count": null,
   "id": "c72e8632",
   "metadata": {},
   "outputs": [],
   "source": []
  }
 ],
 "metadata": {
  "kernelspec": {
   "display_name": "Python 3",
   "language": "python",
   "name": "python3"
  },
  "language_info": {
   "codemirror_mode": {
    "name": "ipython",
    "version": 3
   },
   "file_extension": ".py",
   "mimetype": "text/x-python",
   "name": "python",
   "nbconvert_exporter": "python",
   "pygments_lexer": "ipython3",
   "version": "3.7.9"
  }
 },
 "nbformat": 4,
 "nbformat_minor": 5
}
