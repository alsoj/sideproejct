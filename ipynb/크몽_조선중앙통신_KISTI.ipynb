{
 "cells": [
  {
   "cell_type": "code",
   "execution_count": 84,
   "id": "7ee2c7b7",
   "metadata": {},
   "outputs": [],
   "source": [
    "from selenium import webdriver\n",
    "from selenium.webdriver.chrome.service import Service\n",
    "from webdriver_manager.chrome import ChromeDriverManager\n",
    "from selenium.webdriver.common.by import By\n",
    "\n",
    "import datetime\n",
    "\n",
    "import re\n",
    "from openpyxl import Workbook, load_workbook"
   ]
  },
  {
   "cell_type": "code",
   "execution_count": 2,
   "id": "8ae4311d",
   "metadata": {
    "scrolled": true
   },
   "outputs": [
    {
     "name": "stdout",
     "output_type": "stream",
     "text": [
      "\n"
     ]
    }
   ],
   "source": [
    "browser = webdriver.Chrome(service=Service(ChromeDriverManager().install()))"
   ]
  },
  {
   "cell_type": "code",
   "execution_count": 3,
   "id": "1825da1c",
   "metadata": {},
   "outputs": [],
   "source": [
    "URL = 'http://kcna.kp/kp/category/articles/q/1ee9bdb7186944f765208f34ecfb5407.kcmsf'"
   ]
  },
  {
   "cell_type": "code",
   "execution_count": 4,
   "id": "20a7cf68",
   "metadata": {},
   "outputs": [],
   "source": [
    "browser.get(URL)"
   ]
  },
  {
   "cell_type": "code",
   "execution_count": 15,
   "id": "1c3401c3",
   "metadata": {},
   "outputs": [],
   "source": [
    "article_wrapper = browser.find_element(by=By.CLASS_NAME, value='article-link')"
   ]
  },
  {
   "cell_type": "code",
   "execution_count": 16,
   "id": "c8a63670",
   "metadata": {},
   "outputs": [],
   "source": [
    "a_tag = article_wrapper.find_element(by=By.TAG_NAME, value='a')"
   ]
  },
  {
   "cell_type": "code",
   "execution_count": 17,
   "id": "49972fa9",
   "metadata": {},
   "outputs": [],
   "source": [
    "a_tag.click()"
   ]
  },
  {
   "cell_type": "code",
   "execution_count": 80,
   "id": "7221ecb6",
   "metadata": {},
   "outputs": [],
   "source": [
    "def get_detail_info(browser):\n",
    "    title = browser.find_element(by=By.CLASS_NAME, value='article-main-title').text\n",
    "    content_wrapper = browser.find_element(by=By.CLASS_NAME, value='content-wrapper')\n",
    "    p_tags = content_wrapper.find_elements(by=By.TAG_NAME, value='p')\n",
    "    \n",
    "    pre_content1 = ''\n",
    "    pre_content2 = ''\n",
    "    pre_content3 = ''\n",
    "    content = ''\n",
    "    for p_tag in p_tags:\n",
    "        text = p_tag.text\n",
    "        if text.startswith('(') and text.endswith(')'):\n",
    "            text = text.replace(\"(\",\"\").replace(\")\",\"\")\n",
    "            split_text = text.split(' ')\n",
    "            pre_content1 = split_text[0]\n",
    "            pre_content2 = split_text[1] + ' ' + split_text[2]\n",
    "            pre_content3 = split_text[3]\n",
    "        else :\n",
    "            content += text + '\\r\\n'\n",
    "    \n",
    "    if len(content) >= 32000:\n",
    "        content = content[0:31980] + '\\r\\n (이하 절단)'\n",
    "    \n",
    "    return title, pre_content1, pre_content2, pre_content3, content"
   ]
  },
  {
   "cell_type": "code",
   "execution_count": 81,
   "id": "4033b4c2",
   "metadata": {
    "scrolled": true
   },
   "outputs": [
    {
     "data": {
      "text/plain": [
       "('주체111(2022)년 7월 28일 신문개관',\n",
       " '평양',\n",
       " '7월 28일발',\n",
       " '조선중앙통신',\n",
       " '28일 중앙신문들에 실린 주요소식과 글들\\r\\n-위대한 전승 69돐 기념행사가 성대히 진행된 소식과 사진문헌들\\r\\n-경애하는 김정은동지께서 위대한 전승 69돐 기념행사에서 하신 연설(사진문헌들을 함께 편집)\\r\\n-경애하는 김정은동지께서 전승절에 즈음하여 조국해방전쟁참전렬사묘를 찾으신 소식과 사진문헌들\\r\\n-위대한 수령 김일성동지와 위대한 령도자 김정일동지의 동상에 일군들과 근로자들,인민군장병들,청소년학생들 꽃바구니 진정\\r\\n-만수대언덕에 높이 모신 위대한 수령 김일성동지와 위대한 령도자 김정일동지의 동상에 김일성김정일기금리사회 명예부리사장이 꽃바구니를 보내여왔다.\\r\\n-전승절에 즈음하여 조선인민군 장병들 금수산태양궁전을 찾아 숭고한 경의 표시\\r\\n-제8차 전국로병대회 참가자들이 당의 품속에서 영생하는 옛 지휘관들과 전우들을 찾아 경의를 표시하였다.\\r\\n-각지 일군들과 근로자들,청년학생들 전승절을 뜻깊게 맞이\\r\\n-청년학생들의 야회 진행\\r\\n-전승컵체육경기대회,전승컵 전국태권도강자경기대회,전승컵보링경기대회 진행\\r\\n-제8차 전국로병대회에 참가한 로병들의 군공을 소개\\r\\n-전국적인 전염병전파 및 치료상황 통보\\r\\n-전망적인 전염병위협을 예견한 물리적,기술적대책 실행\\r\\n-6.25-7.27반미공동투쟁월간에 즈음하여 여러 나라에서 행사 진행\\r\\n-세계적인 대류행전염병전파실태(끝)\\r\\n')"
      ]
     },
     "execution_count": 81,
     "metadata": {},
     "output_type": "execute_result"
    }
   ],
   "source": [
    "get_detail_info(browser)"
   ]
  },
  {
   "cell_type": "code",
   "execution_count": 61,
   "id": "6c2e04f5",
   "metadata": {},
   "outputs": [],
   "source": [
    "def trans_year(north_year):\n",
    "    return 1911 + int(north_year)"
   ]
  },
  {
   "cell_type": "code",
   "execution_count": 98,
   "id": "9a762f79",
   "metadata": {},
   "outputs": [],
   "source": [
    "start_date = datetime.date(2022, 7, 27)\n",
    "end_date = datetime.date(2022, 7, 27)"
   ]
  },
  {
   "cell_type": "code",
   "execution_count": 99,
   "id": "a0eaf26d",
   "metadata": {},
   "outputs": [],
   "source": [
    "def check_target(article_link, start_date, end_date):\n",
    "    publish_dates = browser.find_elements(by=By.CLASS_NAME, value='publish-time')\n",
    "    for publish_date in publish_dates:\n",
    "        date = publish_date.text.replace(\"[\",\"\").replace(\"]\",\"\").replace(\"주체\",\"\").split(\".\")\n",
    "        year = int(trans_year(date[0]))\n",
    "        month = int(date[1])\n",
    "        day = int(date[2])\n",
    "        \n",
    "        pub_date = datetime.date(year, month, day)\n",
    "        if start_date <= pub_date and pub_date <= end_date :\n",
    "            print(\"target\" , pub_date)\n",
    "        elif pub_date < start_date  :\n",
    "            print(\"no target - 종료\", pub_date)\n",
    "        elif pub_date > end_date :\n",
    "            print(\"no target - 계속\", pub_date)"
   ]
  },
  {
   "cell_type": "code",
   "execution_count": 100,
   "id": "7adee9b6",
   "metadata": {},
   "outputs": [
    {
     "name": "stdout",
     "output_type": "stream",
     "text": [
      "no target - 계속 2022-07-28\n",
      "no target - 계속 2022-07-28\n",
      "no target - 계속 2022-07-28\n",
      "no target - 계속 2022-07-28\n",
      "no target - 계속 2022-07-28\n",
      "no target - 계속 2022-07-28\n",
      "no target - 계속 2022-07-28\n",
      "no target - 계속 2022-07-28\n",
      "no target - 계속 2022-07-28\n",
      "no target - 계속 2022-07-28\n",
      "no target - 계속 2022-07-28\n",
      "no target - 계속 2022-07-28\n",
      "no target - 계속 2022-07-28\n",
      "no target - 계속 2022-07-28\n",
      "target 2022-07-27\n"
     ]
    }
   ],
   "source": [
    "article_links = browser.find_elements(by=By.CLASS_NAME, value='article-link')\n",
    "for article_link in article_links:\n",
    "    check_target(article_link, start_date, end_date)"
   ]
  },
  {
   "cell_type": "code",
   "execution_count": 102,
   "id": "2c7a2c2e",
   "metadata": {},
   "outputs": [],
   "source": [
    "def go_next_page(browser):\n",
    "    next_btn = browser.find_element(by=By.CLASS_NAME, value='next-ctrl')\n",
    "    print(next_btn.text)"
   ]
  },
  {
   "cell_type": "code",
   "execution_count": 103,
   "id": "b468a058",
   "metadata": {},
   "outputs": [
    {
     "ename": "TimeoutException",
     "evalue": "Message: timeout: Timed out receiving message from renderer: 300.000\n  (Session info: chrome=103.0.5060.134)\nStacktrace:\n0   chromedriver                        0x0000000102e41d60 chromedriver + 3792224\n1   chromedriver                        0x0000000102dd8874 chromedriver + 3360884\n2   chromedriver                        0x0000000102ad9184 chromedriver + 217476\n3   chromedriver                        0x0000000102ac701c chromedriver + 143388\n4   chromedriver                        0x0000000102ac6058 chromedriver + 139352\n5   chromedriver                        0x0000000102ac64f8 chromedriver + 140536\n6   chromedriver                        0x0000000102ad2460 chromedriver + 189536\n7   chromedriver                        0x0000000102adfaec chromedriver + 244460\n8   chromedriver                        0x0000000102ac679c chromedriver + 141212\n9   chromedriver                        0x0000000102adf884 chromedriver + 243844\n10  chromedriver                        0x0000000102b31a7c chromedriver + 580220\n11  chromedriver                        0x0000000102afe3e4 chromedriver + 369636\n12  chromedriver                        0x0000000102e17234 chromedriver + 3617332\n13  chromedriver                        0x0000000102e1b6c4 chromedriver + 3634884\n14  chromedriver                        0x0000000102e1fcb8 chromedriver + 3652792\n15  chromedriver                        0x0000000102e1c15c chromedriver + 3637596\n16  chromedriver                        0x0000000102dfa7f8 chromedriver + 3500024\n17  chromedriver                        0x0000000102e33c3c chromedriver + 3734588\n18  chromedriver                        0x0000000102e33da0 chromedriver + 3734944\n19  chromedriver                        0x0000000102e485a4 chromedriver + 3818916\n20  libsystem_pthread.dylib             0x0000000180a4826c _pthread_start + 148\n21  libsystem_pthread.dylib             0x0000000180a4308c thread_start + 8\n",
     "output_type": "error",
     "traceback": [
      "\u001b[0;31m---------------------------------------------------------------------------\u001b[0m",
      "\u001b[0;31mTimeoutException\u001b[0m                          Traceback (most recent call last)",
      "Input \u001b[0;32mIn [103]\u001b[0m, in \u001b[0;36m<cell line: 1>\u001b[0;34m()\u001b[0m\n\u001b[0;32m----> 1\u001b[0m \u001b[43mgo_next_page\u001b[49m\u001b[43m(\u001b[49m\u001b[43mbrowser\u001b[49m\u001b[43m)\u001b[49m\n",
      "Input \u001b[0;32mIn [102]\u001b[0m, in \u001b[0;36mgo_next_page\u001b[0;34m(browser)\u001b[0m\n\u001b[1;32m      1\u001b[0m \u001b[38;5;28;01mdef\u001b[39;00m \u001b[38;5;21mgo_next_page\u001b[39m(browser):\n\u001b[0;32m----> 2\u001b[0m     next_btn \u001b[38;5;241m=\u001b[39m \u001b[43mbrowser\u001b[49m\u001b[38;5;241;43m.\u001b[39;49m\u001b[43mfind_element\u001b[49m\u001b[43m(\u001b[49m\u001b[43mby\u001b[49m\u001b[38;5;241;43m=\u001b[39;49m\u001b[43mBy\u001b[49m\u001b[38;5;241;43m.\u001b[39;49m\u001b[43mCLASS_NAME\u001b[49m\u001b[43m,\u001b[49m\u001b[43m \u001b[49m\u001b[43mvalue\u001b[49m\u001b[38;5;241;43m=\u001b[39;49m\u001b[38;5;124;43m'\u001b[39;49m\u001b[38;5;124;43mnext-ctrl\u001b[39;49m\u001b[38;5;124;43m'\u001b[39;49m\u001b[43m)\u001b[49m\n\u001b[1;32m      3\u001b[0m     \u001b[38;5;28mprint\u001b[39m(next_btn\u001b[38;5;241m.\u001b[39mtext)\n",
      "File \u001b[0;32m~/Workspace/kmong/venv/lib/python3.8/site-packages/selenium/webdriver/remote/webdriver.py:857\u001b[0m, in \u001b[0;36mWebDriver.find_element\u001b[0;34m(self, by, value)\u001b[0m\n\u001b[1;32m    854\u001b[0m     by \u001b[38;5;241m=\u001b[39m By\u001b[38;5;241m.\u001b[39mCSS_SELECTOR\n\u001b[1;32m    855\u001b[0m     value \u001b[38;5;241m=\u001b[39m \u001b[38;5;124m'\u001b[39m\u001b[38;5;124m[name=\u001b[39m\u001b[38;5;124m\"\u001b[39m\u001b[38;5;132;01m%s\u001b[39;00m\u001b[38;5;124m\"\u001b[39m\u001b[38;5;124m]\u001b[39m\u001b[38;5;124m'\u001b[39m \u001b[38;5;241m%\u001b[39m value\n\u001b[0;32m--> 857\u001b[0m \u001b[38;5;28;01mreturn\u001b[39;00m \u001b[38;5;28;43mself\u001b[39;49m\u001b[38;5;241;43m.\u001b[39;49m\u001b[43mexecute\u001b[49m\u001b[43m(\u001b[49m\u001b[43mCommand\u001b[49m\u001b[38;5;241;43m.\u001b[39;49m\u001b[43mFIND_ELEMENT\u001b[49m\u001b[43m,\u001b[49m\u001b[43m \u001b[49m\u001b[43m{\u001b[49m\n\u001b[1;32m    858\u001b[0m \u001b[43m    \u001b[49m\u001b[38;5;124;43m'\u001b[39;49m\u001b[38;5;124;43musing\u001b[39;49m\u001b[38;5;124;43m'\u001b[39;49m\u001b[43m:\u001b[49m\u001b[43m \u001b[49m\u001b[43mby\u001b[49m\u001b[43m,\u001b[49m\n\u001b[1;32m    859\u001b[0m \u001b[43m    \u001b[49m\u001b[38;5;124;43m'\u001b[39;49m\u001b[38;5;124;43mvalue\u001b[39;49m\u001b[38;5;124;43m'\u001b[39;49m\u001b[43m:\u001b[49m\u001b[43m \u001b[49m\u001b[43mvalue\u001b[49m\u001b[43m}\u001b[49m\u001b[43m)\u001b[49m[\u001b[38;5;124m'\u001b[39m\u001b[38;5;124mvalue\u001b[39m\u001b[38;5;124m'\u001b[39m]\n",
      "File \u001b[0;32m~/Workspace/kmong/venv/lib/python3.8/site-packages/selenium/webdriver/remote/webdriver.py:435\u001b[0m, in \u001b[0;36mWebDriver.execute\u001b[0;34m(self, driver_command, params)\u001b[0m\n\u001b[1;32m    433\u001b[0m response \u001b[38;5;241m=\u001b[39m \u001b[38;5;28mself\u001b[39m\u001b[38;5;241m.\u001b[39mcommand_executor\u001b[38;5;241m.\u001b[39mexecute(driver_command, params)\n\u001b[1;32m    434\u001b[0m \u001b[38;5;28;01mif\u001b[39;00m response:\n\u001b[0;32m--> 435\u001b[0m     \u001b[38;5;28;43mself\u001b[39;49m\u001b[38;5;241;43m.\u001b[39;49m\u001b[43merror_handler\u001b[49m\u001b[38;5;241;43m.\u001b[39;49m\u001b[43mcheck_response\u001b[49m\u001b[43m(\u001b[49m\u001b[43mresponse\u001b[49m\u001b[43m)\u001b[49m\n\u001b[1;32m    436\u001b[0m     response[\u001b[38;5;124m'\u001b[39m\u001b[38;5;124mvalue\u001b[39m\u001b[38;5;124m'\u001b[39m] \u001b[38;5;241m=\u001b[39m \u001b[38;5;28mself\u001b[39m\u001b[38;5;241m.\u001b[39m_unwrap_value(\n\u001b[1;32m    437\u001b[0m         response\u001b[38;5;241m.\u001b[39mget(\u001b[38;5;124m'\u001b[39m\u001b[38;5;124mvalue\u001b[39m\u001b[38;5;124m'\u001b[39m, \u001b[38;5;28;01mNone\u001b[39;00m))\n\u001b[1;32m    438\u001b[0m     \u001b[38;5;28;01mreturn\u001b[39;00m response\n",
      "File \u001b[0;32m~/Workspace/kmong/venv/lib/python3.8/site-packages/selenium/webdriver/remote/errorhandler.py:247\u001b[0m, in \u001b[0;36mErrorHandler.check_response\u001b[0;34m(self, response)\u001b[0m\n\u001b[1;32m    245\u001b[0m         alert_text \u001b[38;5;241m=\u001b[39m value[\u001b[38;5;124m'\u001b[39m\u001b[38;5;124malert\u001b[39m\u001b[38;5;124m'\u001b[39m]\u001b[38;5;241m.\u001b[39mget(\u001b[38;5;124m'\u001b[39m\u001b[38;5;124mtext\u001b[39m\u001b[38;5;124m'\u001b[39m)\n\u001b[1;32m    246\u001b[0m     \u001b[38;5;28;01mraise\u001b[39;00m exception_class(message, screen, stacktrace, alert_text)  \u001b[38;5;66;03m# type: ignore[call-arg]  # mypy is not smart enough here\u001b[39;00m\n\u001b[0;32m--> 247\u001b[0m \u001b[38;5;28;01mraise\u001b[39;00m exception_class(message, screen, stacktrace)\n",
      "\u001b[0;31mTimeoutException\u001b[0m: Message: timeout: Timed out receiving message from renderer: 300.000\n  (Session info: chrome=103.0.5060.134)\nStacktrace:\n0   chromedriver                        0x0000000102e41d60 chromedriver + 3792224\n1   chromedriver                        0x0000000102dd8874 chromedriver + 3360884\n2   chromedriver                        0x0000000102ad9184 chromedriver + 217476\n3   chromedriver                        0x0000000102ac701c chromedriver + 143388\n4   chromedriver                        0x0000000102ac6058 chromedriver + 139352\n5   chromedriver                        0x0000000102ac64f8 chromedriver + 140536\n6   chromedriver                        0x0000000102ad2460 chromedriver + 189536\n7   chromedriver                        0x0000000102adfaec chromedriver + 244460\n8   chromedriver                        0x0000000102ac679c chromedriver + 141212\n9   chromedriver                        0x0000000102adf884 chromedriver + 243844\n10  chromedriver                        0x0000000102b31a7c chromedriver + 580220\n11  chromedriver                        0x0000000102afe3e4 chromedriver + 369636\n12  chromedriver                        0x0000000102e17234 chromedriver + 3617332\n13  chromedriver                        0x0000000102e1b6c4 chromedriver + 3634884\n14  chromedriver                        0x0000000102e1fcb8 chromedriver + 3652792\n15  chromedriver                        0x0000000102e1c15c chromedriver + 3637596\n16  chromedriver                        0x0000000102dfa7f8 chromedriver + 3500024\n17  chromedriver                        0x0000000102e33c3c chromedriver + 3734588\n18  chromedriver                        0x0000000102e33da0 chromedriver + 3734944\n19  chromedriver                        0x0000000102e485a4 chromedriver + 3818916\n20  libsystem_pthread.dylib             0x0000000180a4826c _pthread_start + 148\n21  libsystem_pthread.dylib             0x0000000180a4308c thread_start + 8\n"
     ]
    }
   ],
   "source": [
    "go_next_page(browser)"
   ]
  },
  {
   "cell_type": "code",
   "execution_count": 67,
   "id": "d75d9cc0",
   "metadata": {},
   "outputs": [],
   "source": [
    "# 엑셀 생성\n",
    "wb = Workbook()\n",
    "ws = wb.active\n",
    "\n",
    "# 제목 적기\n",
    "sub = ['번호','게재일자','기사 제목','(내용1)','내용2','내용3','기사 내용']\n",
    "for kwd, j in zip(sub, list(range(1, len(sub)+1))):\n",
    "    ws.cell(row=1, column=j).value = kwd\n",
    "\n",
    "wb.save('./output/조선중앙통신.xlsx')"
   ]
  },
  {
   "cell_type": "code",
   "execution_count": 4,
   "id": "c4a0aa8c",
   "metadata": {},
   "outputs": [],
   "source": [
    "list_base_url = 'http://www.rodong.rep.kp/ko/index.php?strPageID=SF01_01_03&strDate='\n",
    "date = '2022-06-01'"
   ]
  },
  {
   "cell_type": "code",
   "execution_count": 5,
   "id": "89739e02",
   "metadata": {},
   "outputs": [],
   "source": [
    "browser.get(list_base_url+date)"
   ]
  },
  {
   "cell_type": "markdown",
   "id": "c41a570c",
   "metadata": {},
   "source": [
    "### 크롤링 범위\n",
    "- 목록-번호 / 목록-구분 / 목록-제목 / 목록-면 / 목록-작성자 / 목록-일자\n",
    "- 본문-일자(원본) / 본문-일자 / 본문-내용 / 본문-제목 / 본문-부제(제목앞) / 본문-부제(제목뒤)\n",
    "\n",
    "- '식별키','목록-번호','목록-구분','목록-제목','목록-면수','목록-작성자','목록-일자','본문-일자(원본)','본문-일자','본문-내용','본문-제목','본문-부제(제목앞)','본문-부제(제목뒤)'"
   ]
  },
  {
   "cell_type": "markdown",
   "id": "0e60302f",
   "metadata": {},
   "source": [
    "## 뉴스 목록 크롤링"
   ]
  },
  {
   "cell_type": "code",
   "execution_count": 6,
   "id": "0c599fc1",
   "metadata": {},
   "outputs": [],
   "source": [
    "news_line_list = browser.find_elements(by=By.CLASS_NAME, value='ListNewsLineContainer')"
   ]
  },
  {
   "cell_type": "code",
   "execution_count": 7,
   "id": "87999cbf",
   "metadata": {},
   "outputs": [],
   "source": [
    "def get_article_info(title_full) :\n",
    "    if title_full.startswith('[') :\n",
    "        article_title = title_full[title_full.find(']')+1 : title_full.rfind('[')].strip()\n",
    "        article_type = title_full[title_full.find('[')+1 : title_full.find(']')].strip()\n",
    "        article_page = title_full[title_full.rfind('[')+1 : title_full.rfind(']')].strip()\n",
    "    else :\n",
    "        article_title = title_full[ : title_full.rfind('[')].strip()\n",
    "        article_type = ''\n",
    "        article_page = title_full[title_full.rfind('[')+1 : title_full.rfind(']')].strip() \n",
    "    \n",
    "    return article_title, article_type, article_page"
   ]
  },
  {
   "cell_type": "code",
   "execution_count": 67,
   "id": "633ca936",
   "metadata": {
    "scrolled": true
   },
   "outputs": [],
   "source": [
    "for news_line in news_line_list:\n",
    "    temp_row = []\n",
    "    \n",
    "    line_no = news_line.find_element(by=By.CLASS_NAME, value='ListNewsLineNo').text.strip()\n",
    "    line_title = news_line.find_element(by=By.CLASS_NAME, value='ListNewsLineTitleW').text.strip()\n",
    "    line_writer = news_line.find_element(by=By.CLASS_NAME, value='ListNewsLineWriter').text.strip()\n",
    "    line_date = news_line.find_element(by=By.CLASS_NAME, value='ListNewsLineDate').text.strip()\n",
    "    \n",
    "    article_title, article_type, article_page = get_article_info(line_title)\n",
    "\n",
    "    temp_row.append(line_no)\n",
    "    temp_row.append(article_type)\n",
    "    temp_row.append(article_title)\n",
    "    temp_row.append(article_page)\n",
    "    temp_row.append(line_writer)\n",
    "    temp_row.append(line_date)\n",
    "    \n",
    "    # 상세창 팝업\n",
    "    title_popup = news_line.find_element(by=By.CLASS_NAME, value='ListNewsLineTitleW')\n",
    "    title_popup_a = title_popup.find_element(by=By.TAG_NAME, value='a')\n",
    "    title_popup_a.click()    \n",
    "    browser.switch_to.window(browser.window_handles[1])\n",
    "    \n",
    "    key = browser.current_url[-15:]\n",
    "    temp_row.insert(0, key)\n",
    "    \n",
    "    detail_date_origin = browser.find_element(by=By.CLASS_NAME, value='ArticleMenuDate').text\n",
    "    temp_row.append(detail_date_origin)\n",
    "    \n",
    "    detail_date = key[:10]\n",
    "    temp_row.append(detail_date)\n",
    "    \n",
    "    detail_title = ''\n",
    "    detail_sub_title = ''\n",
    "    detail_content = ''\n",
    "    \n",
    "    detail_content_list = browser.find_elements(by=By.CLASS_NAME, value='ArticleContent')\n",
    "\n",
    "    for detail_line in detail_content_list:\n",
    "        title = detail_line.find_elements(by=By.TAG_NAME, value='font')\n",
    "\n",
    "        if title and title[0].text.strip() != '' :\n",
    "            if 'bold' in title[0].get_attribute('style') :\n",
    "                detail_title += title[0].text + ' '\n",
    "            else :\n",
    "                detail_sub_title += title[0].text + ' '\n",
    "        elif detail_line.text.strip() != '' :\n",
    "            detail_content += ' ' + detail_line.text\n",
    "    \n",
    "    temp_row.append(detail_content)\n",
    "    temp_row.append(detail_title.strip())\n",
    "    temp_row.append(detail_sub_title.strip())\n",
    "    temp_row.append(detail_sub_title.strip())\n",
    "    ws.append(temp_row)\n",
    "    wb.save('./output/노동신문.xlsx')\n",
    "    \n",
    "    # 팝업창 close 후 객체 전환\n",
    "    browser.close() \n",
    "    browser.switch_to.window(browser.window_handles[0])"
   ]
  },
  {
   "cell_type": "code",
   "execution_count": 16,
   "id": "77f74495",
   "metadata": {},
   "outputs": [],
   "source": [
    "title_popup = news_line.find_element(by=By.CLASS_NAME, value='ListNewsLineTitleW')\n",
    "title_popup_a = title_popup.find_element(by=By.TAG_NAME, value='a')\n",
    "title_popup_a.click()"
   ]
  },
  {
   "cell_type": "code",
   "execution_count": 51,
   "id": "d76f4ea2",
   "metadata": {},
   "outputs": [
    {
     "data": {
      "text/plain": [
       "['CDwindow-2FACECDB0A3970DC7739F128E93F439C',\n",
       " 'CDwindow-6148C768679F565202DC9F8ABABF7B45',\n",
       " 'CDwindow-13C5389092528A7700BC5A53049A293B']"
      ]
     },
     "execution_count": 51,
     "metadata": {},
     "output_type": "execute_result"
    }
   ],
   "source": [
    "browser.window_handles"
   ]
  },
  {
   "cell_type": "code",
   "execution_count": 8,
   "id": "175b7957",
   "metadata": {},
   "outputs": [],
   "source": [
    "browser.switch_to.window(browser.window_handles[-1])"
   ]
  },
  {
   "cell_type": "code",
   "execution_count": 9,
   "id": "10e29ffc",
   "metadata": {},
   "outputs": [
    {
     "data": {
      "text/plain": [
       "'2022-06-01-0008'"
      ]
     },
     "execution_count": 9,
     "metadata": {},
     "output_type": "execute_result"
    }
   ],
   "source": [
    "key = browser.current_url[-15:]\n",
    "key"
   ]
  },
  {
   "cell_type": "markdown",
   "id": "fcef8b22",
   "metadata": {},
   "source": [
    "## 뉴스 상세 크롤링"
   ]
  },
  {
   "cell_type": "code",
   "execution_count": 10,
   "id": "508a07fa",
   "metadata": {},
   "outputs": [
    {
     "data": {
      "text/plain": [
       "'주체111(2022)년 6월 1일 수요일'"
      ]
     },
     "execution_count": 10,
     "metadata": {},
     "output_type": "execute_result"
    }
   ],
   "source": [
    "detail_date_origin = browser.find_element(by=By.CLASS_NAME, value='ArticleMenuDate').text\n",
    "detail_date_origin"
   ]
  },
  {
   "cell_type": "code",
   "execution_count": 11,
   "id": "40ca4e4f",
   "metadata": {
    "scrolled": true
   },
   "outputs": [
    {
     "data": {
      "text/plain": [
       "'2022-06-01'"
      ]
     },
     "execution_count": 11,
     "metadata": {},
     "output_type": "execute_result"
    }
   ],
   "source": [
    "detail_date = key[:10]\n",
    "detail_date"
   ]
  },
  {
   "cell_type": "code",
   "execution_count": 18,
   "id": "6bd33723",
   "metadata": {},
   "outputs": [],
   "source": [
    "detail_title = ''\n",
    "detail_sub_title = ''\n",
    "detail_content = ''"
   ]
  },
  {
   "cell_type": "code",
   "execution_count": 19,
   "id": "94b79335",
   "metadata": {},
   "outputs": [],
   "source": [
    "detail_content_list = browser.find_elements(by=By.CLASS_NAME, value='ArticleContent')\n",
    "\n",
    "for detail_line in detail_content_list:\n",
    "    title = detail_line.find_elements(by=By.TAG_NAME, value='font')\n",
    "    \n",
    "    if title and title[0].text.strip() != '' :\n",
    "        if 'bold' in title[0].get_attribute('style') :\n",
    "            detail_title += title[0].text    \n",
    "        else :\n",
    "            detail_sub_title += title[0].text    \n",
    "    elif detail_line.text.strip() != '' and 'right' not in detail_line.get_attribute('style') :        \n",
    "        detail_content += detail_line.text + '\\r\\n'"
   ]
  },
  {
   "cell_type": "code",
   "execution_count": 20,
   "id": "45bdd286",
   "metadata": {},
   "outputs": [
    {
     "data": {
      "text/plain": [
       "'경애하는 김정은동지께서는 다음과 같이 말씀하시였다.\\r\\n《전군의 모든 지휘관, 병사들은 인민군대가 인민을 떠나서는 한시도 존재할수 없음을 항상 명심하고 인민을 무한히 존중하고 사랑하며 인민을 위함이라면 사선도 헤치는 혁명군대의 훌륭한 풍모를 계속 견지해나가야 하겠습니다.》\\r\\n수도의 평범한 약국들이 조선인민군 군의부문 전투원들이 지켜선 인민사수전의 전호로 된 그때로부터 어느덧 보름 남짓이 흘렀다.\\r\\n성스러운 우리 당마크가 새겨진 붉은 파견장을 전선파견장, 특별신임장으로 간직한 인민군대의 군의부문 전투원들은 평양시안의 수백개의 약국들에 긴급전개한 그 순간부터 지금까지 방역전장마다에서 인민사랑의 서사시를 끊임없이 수놓아가고있다.\\r\\n얼마전 평천구역 새마을２동 ２７인민반의 한 살림집에서는 눈물없이는 볼수 없는 감동깊은 화폭이 펼쳐졌다.\\r\\n《군관동지, 우리 인민반주민을 위해 꼬박 밤을 밝히며 치료를 해주어 정말 고맙습니다.》\\r\\n홀로 사는 늙은이여서 이웃들도 관심을 많이 돌려왔지만 갑자기 그가 앓아누웠을 때 기울이는 인민군대의 정성은 그보다 더 뜨거웠다.\\r\\n인민반장이 허리굽혀 인사하려 하자 남송상점 평천분점 의약품매대에서 온 군관은 황황히 그를 만류하며 우리 군대는 다 인민의 아들딸이라고, 자식이 부모가 앓을 때 효도를 하는것이야 너무도 응당한 일이 아닌가고 하면서 이제부터는 홀로 사는 로인을 친어머니로 모시겠다고 하는것이였다.\\r\\n혈연의 정이 마디마디 넘쳐흐르는 군관의 말에 인민반장과 집주인도 울고 이웃들도 울었다.\\r\\n강동군 태잠리약국의 판매원과 리진료소의 의료일군들이 그곳에 파견된 화선용사들에 대하여 지금도 계속 외우는 말이 있다.\\r\\n《며칠전 우리 약국에 파견된 군의동지들중 두명이 갑자기 앓아눕게 되였습니다.그래서 약을 가져다주니 인민들에게 공급되는 약은 한알도 다치면 안된다고 하면서 자체로 고려치료를 하는것이였습니다.》\\r\\n인민을 위해서는 수십리 먼곳에까지 이동봉사를 나가 사랑의 불사약을 안겨주면서도 자기들이 앓을 때에는 단 한알의 약도 다치지 않는 군인들에 대한 이야기를 듣고 한 주민이 자기가 공급받은 약을 주려 하였으나 그들은 그것마저도 거절하였다고 한다.\\r\\n《우린 인민들에게 약을 신속정확히 공급할데 대한 명령만 받았지 인민이 쓸 약을 마음대로 처분하라는 지시는 받지 못했습니다.우리 부모, 우리 형제들이 병을 털고일어나면 그것만큼 우리에게 더 좋은 약은 없습니다.》\\r\\n그 뜨거운 진정에 인민들 누구나 흐르는 눈물을 억제하지 못했다.\\r\\n만경대구역 갈림길２동 ３９인민반에 사는 로인내외의 이야기는 또 얼마나 만사람의 심금을 울리는것인가.앓고난 뒤 갑자기 합병증이 와서 신고하는 남편때문에 ２３시경 금흥약국 갈림길분약국에 찾아간 녀인은 무작정 군인들에게 부탁했다.\\r\\n《우리 령감을 좀 살려주게.증상을 봐서는 잘 알수 없는데 무슨 수가 없겠나.》\\r\\n군인들은 지체없이 집에 찾아가 로인을 진찰해보고 치료전투에 진입하였다.밤새 여러 약국을 찾아다니며 필요한 약들을 구해온 그들은 땀을 훔칠 사이도 없이 긴장한 치료전투를 벌려나갔다.그들의 지성어린 노력에 의해 환자의 혈관으로 귀중한 주사약이 흘러들고 병세가 호전되기 시작하자 할머니는 눈굽을 훔치며 이렇게 말했다.\\r\\n《여보 령감, 령감의 피줄로 우리 원수님의 사랑이 흘러들고있수다.우리 군대의 정이 스며들고있수다.》\\r\\n얼마전 중구역 서창동 ８인민반의 한 집으로는 동의 어느한 상점의 의약품매대에 파견된 군인들이 큼직한 간식꾸레미를 들고 찾아왔다.\\r\\n《할머니, 어서 이걸 손자에게 주십시오.》\\r\\n하루 ２４시간 밤낮없이 수고하는 군인들의 건강이 걱정되여 동주민들이 마련해준 간식임을 할머니가 어찌 몰라볼수 있으랴.\\r\\n《이것만은 안되네.이건 꼭 임자네들이 들어야 사무장이랑 인민반사람들도 좋아해.》\\r\\n《할머니, 우리야 한집안식구가 아닙니까.나의 부모, 나의 형제, 나의 조카들이 무탈하다면 우린 더 바랄것이 없습니다.》\\r\\n하루에도 수많은 인민들에게 의약품을 공급하느라 운반식사로 가져온 군용밥통에도 곁눈 한번 팔 겨를이 없다는 군인들이 인민을 위한 일에서만은 생활의 구석구석에 이르기까지 사려깊은 눈빛으로 지켜보고 보살피고있다는 생각에 목이 꽉 메여올랐다고 격정을 터치는 사람들중에는 삼석구역 원흥리의 주민들도 있다.\\r\\n얼마전 리주민들은 약국에 갔다가 군인들사이에 오가는 이런 말을 듣게 되였다.\\r\\n《우리 식사량이 지내 많은것같지 않소？ 요새 난 소화가 잘 안되는데 내 몫은 줄이자구.》\\r\\n《저도 같습니다.》\\r\\n자기들에게 차례진 식량마저 절약하여 인민들에게 보내주려고 그런다는것을 주민들이 왜 모르랴.\\r\\n인민들의 육체적아픔만이 아니라 생활의 자그마한 그늘까지도 말끔히 가셔주어야 마음을 놓는 이런 참된 군인들의 모습을 보며 사람들 누구나 한목소리로 말하고있다.\\r\\n《당의 군대, 인민의 군대라는 말의 참뜻을 이번에 똑똑히 알게 되였습니다.》\\r\\n《이젠 온 마을사람들이 열이 내려 특별히 약을 찾는 사람들도 얼마 없습니다.그렇지만 약국에 계속 찾아가군 합니다.그저 잠시도 헤여져서는 못살 군인동지들이 보고싶어서 그럽니다.군대없이야 어떻게 우리가 순간인들 살수 있겠나요.》\\r\\n그렇다.병사가 인민을 얼마나 사랑하고있는가를 우리 인민은 노래의 구절에서가 아니라 시련의 시기에 자기의 실체험으로 시시각각 절감하고있다.\\r\\n하기에 인민의 안녕을 지켜 수도의 방역전장에서 불사신처럼 헌신분투하는 당중앙의 별동대원들을 격찬하는 인민들의 목소리는 지금 이 시각에도 끊임없이 울려퍼지고있다.\\r\\n《우리 원수님께서 보내주신 인민군대가 세상에서 제일입니다.이런 끌끌한 아들딸들이 있기에 방역대승의 그날은 멀지 않습니다.》\\r\\n'"
      ]
     },
     "execution_count": 20,
     "metadata": {},
     "output_type": "execute_result"
    }
   ],
   "source": [
    "detail_content"
   ]
  },
  {
   "cell_type": "code",
   "execution_count": 64,
   "id": "d263f966",
   "metadata": {},
   "outputs": [],
   "source": [
    "# 팝업창 종료 후 close\n",
    "browser.close() \n",
    "browser.switch_to.window(browser.window_handles[0])"
   ]
  },
  {
   "cell_type": "code",
   "execution_count": null,
   "id": "c72e8632",
   "metadata": {},
   "outputs": [],
   "source": []
  }
 ],
 "metadata": {
  "kernelspec": {
   "display_name": "Python 3 (ipykernel)",
   "language": "python",
   "name": "python3"
  },
  "language_info": {
   "codemirror_mode": {
    "name": "ipython",
    "version": 3
   },
   "file_extension": ".py",
   "mimetype": "text/x-python",
   "name": "python",
   "nbconvert_exporter": "python",
   "pygments_lexer": "ipython3",
   "version": "3.8.9"
  }
 },
 "nbformat": 4,
 "nbformat_minor": 5
}
