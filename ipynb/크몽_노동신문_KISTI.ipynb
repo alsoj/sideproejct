{
 "cells": [
  {
   "cell_type": "code",
   "execution_count": 18,
   "id": "7ee2c7b7",
   "metadata": {},
   "outputs": [],
   "source": [
    "from selenium import webdriver\n",
    "from selenium.webdriver.chrome.service import Service\n",
    "from webdriver_manager.chrome import ChromeDriverManager\n",
    "from selenium.webdriver.common.by import By\n",
    "import unicodedata\n",
    "\n",
    "import re\n",
    "from openpyxl import Workbook, load_workbook"
   ]
  },
  {
   "cell_type": "code",
   "execution_count": 19,
   "id": "8ae4311d",
   "metadata": {
    "scrolled": true
   },
   "outputs": [
    {
     "name": "stdout",
     "output_type": "stream",
     "text": [
      "\n"
     ]
    }
   ],
   "source": [
    "browser = webdriver.Chrome(service=Service(ChromeDriverManager().install()))"
   ]
  },
  {
   "cell_type": "code",
   "execution_count": 3,
   "id": "d75d9cc0",
   "metadata": {},
   "outputs": [],
   "source": [
    "# 엑셀 생성\n",
    "wb = Workbook()\n",
    "ws = wb.active\n",
    "\n",
    "# 제목 적기\n",
    "sub = ['식별키','목록-번호','목록-구분','목록-제목','목록-면수','목록-작성자','목록-일자','본문-일자(원본)','본문-일자','본문-내용','본문-제목','본문-부제(제목앞)','본문-부제(제목뒤)']\n",
    "for kwd, j in zip(sub, list(range(1, len(sub)+1))):\n",
    "    ws.cell(row=1, column=j).value = kwd\n",
    "\n",
    "wb.save('./output/노동신문.xlsx')"
   ]
  },
  {
   "cell_type": "code",
   "execution_count": 20,
   "id": "c4a0aa8c",
   "metadata": {},
   "outputs": [],
   "source": [
    "list_base_url = 'http://www.rodong.rep.kp/ko/index.php?strPageID=SF01_01_03&strDate='\n",
    "date = '2022-06-10'"
   ]
  },
  {
   "cell_type": "code",
   "execution_count": 21,
   "id": "89739e02",
   "metadata": {},
   "outputs": [],
   "source": [
    "browser.get(list_base_url+date)"
   ]
  },
  {
   "cell_type": "markdown",
   "id": "c41a570c",
   "metadata": {},
   "source": [
    "### 크롤링 범위\n",
    "- 목록-번호 / 목록-구분 / 목록-제목 / 목록-면 / 목록-작성자 / 목록-일자\n",
    "- 본문-일자(원본) / 본문-일자 / 본문-내용 / 본문-제목 / 본문-부제(제목앞) / 본문-부제(제목뒤)\n",
    "\n",
    "- '식별키','목록-번호','목록-구분','목록-제목','목록-면수','목록-작성자','목록-일자','본문-일자(원본)','본문-일자','본문-내용','본문-제목','본문-부제(제목앞)','본문-부제(제목뒤)'"
   ]
  },
  {
   "cell_type": "markdown",
   "id": "0e60302f",
   "metadata": {},
   "source": [
    "## 뉴스 목록 크롤링"
   ]
  },
  {
   "cell_type": "code",
   "execution_count": 22,
   "id": "0c599fc1",
   "metadata": {},
   "outputs": [],
   "source": [
    "news_line_list = browser.find_elements(by=By.CLASS_NAME, value='ListNewsLineContainer')\n"
   ]
  },
  {
   "cell_type": "code",
   "execution_count": 23,
   "id": "a206a230",
   "metadata": {},
   "outputs": [
    {
     "data": {
      "text/plain": [
       "'인민사랑의 력사를 길이 전하며 흐르는 락원의 강, 보통강'"
      ]
     },
     "execution_count": 23,
     "metadata": {},
     "output_type": "execute_result"
    }
   ],
   "source": [
    "news_line_list[34].find_element(by=By.CLASS_NAME, value='ListNewsLineTitleW').text.strip()"
   ]
  },
  {
   "cell_type": "code",
   "execution_count": 24,
   "id": "87999cbf",
   "metadata": {},
   "outputs": [],
   "source": [
    "def get_article_info(title_full) :\n",
    "    try:\n",
    "        if title_full.startswith('[') :\n",
    "            article_type = title_full[title_full.find('[')+1 : title_full.find(']')].strip()\n",
    "            article_page = re.findall('\\d면', title_full)[0]\n",
    "        else :\n",
    "            article_type = ''\n",
    "            article_page = re.findall('\\d면', title_full)[0]\n",
    "\n",
    "        article_title = title_full\n",
    "        article_title = article_title.replace(article_type, \"\")\n",
    "        article_title = article_title.replace(article_page, \"\")\n",
    "        article_title = article_title.replace(\"[\", \"\")\n",
    "        article_title = article_title.replace(\"]\", \"\")    \n",
    "    except Exception as e:\n",
    "        article_title = title_full\n",
    "        article_type = ''\n",
    "        article_page = ''\n",
    "    \n",
    "    return article_title.strip(), article_type.strip(), article_page.strip()"
   ]
  },
  {
   "cell_type": "code",
   "execution_count": 26,
   "id": "588373ae",
   "metadata": {
    "scrolled": true
   },
   "outputs": [
    {
     "data": {
      "text/plain": [
       "('인민사랑의 력사를 길이 전하며 흐르는 락원의 강, 보통강', '', '')"
      ]
     },
     "execution_count": 26,
     "metadata": {},
     "output_type": "execute_result"
    }
   ],
   "source": [
    "title_full = news_line_list[34].find_element(by=By.CLASS_NAME, value='ListNewsLineTitleW').text.strip()\n",
    "get_article_info(title_full)"
   ]
  },
  {
   "cell_type": "code",
   "execution_count": 27,
   "id": "f63152d4",
   "metadata": {},
   "outputs": [
    {
     "data": {
      "text/plain": [
       "('인민사랑의 력사를 길이 전하며 흐르는 락원의 강, 보통강', '', '')"
      ]
     },
     "execution_count": 27,
     "metadata": {},
     "output_type": "execute_result"
    }
   ],
   "source": [
    "get_article_info(title_full)"
   ]
  },
  {
   "cell_type": "code",
   "execution_count": 67,
   "id": "633ca936",
   "metadata": {
    "scrolled": true
   },
   "outputs": [],
   "source": [
    "for news_line in news_line_list:\n",
    "    temp_row = []\n",
    "    \n",
    "    line_no = news_line.find_element(by=By.CLASS_NAME, value='ListNewsLineNo').text.strip()\n",
    "    line_title = news_line.find_element(by=By.CLASS_NAME, value='ListNewsLineTitleW').text.strip()\n",
    "    line_writer = news_line.find_element(by=By.CLASS_NAME, value='ListNewsLineWriter').text.strip()\n",
    "    line_date = news_line.find_element(by=By.CLASS_NAME, value='ListNewsLineDate').text.strip()\n",
    "    \n",
    "    article_title, article_type, article_page = get_article_info(line_title)\n",
    "\n",
    "    temp_row.append(line_no)\n",
    "    temp_row.append(article_type)\n",
    "    temp_row.append(article_title)\n",
    "    temp_row.append(article_page)\n",
    "    temp_row.append(line_writer)\n",
    "    temp_row.append(line_date)\n",
    "    \n",
    "    # 상세창 팝업\n",
    "    title_popup = news_line.find_element(by=By.CLASS_NAME, value='ListNewsLineTitleW')\n",
    "    title_popup_a = title_popup.find_element(by=By.TAG_NAME, value='a')\n",
    "    title_popup_a.click()    \n",
    "    browser.switch_to.window(browser.window_handles[1])\n",
    "    \n",
    "    key = browser.current_url[-15:]\n",
    "    temp_row.insert(0, key)\n",
    "    \n",
    "    detail_date_origin = browser.find_element(by=By.CLASS_NAME, value='ArticleMenuDate').text\n",
    "    temp_row.append(detail_date_origin)\n",
    "    \n",
    "    detail_date = key[:10]\n",
    "    temp_row.append(detail_date)\n",
    "    \n",
    "    detail_title = ''\n",
    "    detail_sub_title = ''\n",
    "    detail_content = ''\n",
    "    \n",
    "    detail_content_list = browser.find_elements(by=By.CLASS_NAME, value='ArticleContent')\n",
    "\n",
    "    for detail_line in detail_content_list:\n",
    "        title = detail_line.find_elements(by=By.TAG_NAME, value='font')\n",
    "\n",
    "        if title and title[0].text.strip() != '' :\n",
    "            if 'bold' in title[0].get_attribute('style') :\n",
    "                detail_title += title[0].text + ' '\n",
    "            else :\n",
    "                detail_sub_title += title[0].text + ' '\n",
    "        elif detail_line.text.strip() != '' :\n",
    "            detail_content += ' ' + detail_line.text\n",
    "    \n",
    "    temp_row.append(detail_content)\n",
    "    temp_row.append(detail_title.strip())\n",
    "    temp_row.append(detail_sub_title.strip())\n",
    "    temp_row.append(detail_sub_title.strip())\n",
    "    ws.append(temp_row)\n",
    "    wb.save('./output/노동신문.xlsx')\n",
    "    \n",
    "    # 팝업창 close 후 객체 전환\n",
    "    browser.close() \n",
    "    browser.switch_to.window(browser.window_handles[0])"
   ]
  },
  {
   "cell_type": "code",
   "execution_count": 16,
   "id": "77f74495",
   "metadata": {},
   "outputs": [],
   "source": [
    "title_popup = news_line.find_element(by=By.CLASS_NAME, value='ListNewsLineTitleW')\n",
    "title_popup_a = title_popup.find_element(by=By.TAG_NAME, value='a')\n",
    "title_popup_a.click()"
   ]
  },
  {
   "cell_type": "code",
   "execution_count": 51,
   "id": "d76f4ea2",
   "metadata": {},
   "outputs": [
    {
     "data": {
      "text/plain": [
       "['CDwindow-2FACECDB0A3970DC7739F128E93F439C',\n",
       " 'CDwindow-6148C768679F565202DC9F8ABABF7B45',\n",
       " 'CDwindow-13C5389092528A7700BC5A53049A293B']"
      ]
     },
     "execution_count": 51,
     "metadata": {},
     "output_type": "execute_result"
    }
   ],
   "source": [
    "browser.window_handles"
   ]
  },
  {
   "cell_type": "code",
   "execution_count": 8,
   "id": "175b7957",
   "metadata": {},
   "outputs": [],
   "source": [
    "browser.switch_to.window(browser.window_handles[-1])"
   ]
  },
  {
   "cell_type": "code",
   "execution_count": 9,
   "id": "10e29ffc",
   "metadata": {},
   "outputs": [
    {
     "data": {
      "text/plain": [
       "'2022-06-01-0008'"
      ]
     },
     "execution_count": 9,
     "metadata": {},
     "output_type": "execute_result"
    }
   ],
   "source": [
    "key = browser.current_url[-15:]\n",
    "key"
   ]
  },
  {
   "cell_type": "markdown",
   "id": "fcef8b22",
   "metadata": {},
   "source": [
    "## 뉴스 상세 크롤링"
   ]
  },
  {
   "cell_type": "code",
   "execution_count": 34,
   "id": "508a07fa",
   "metadata": {},
   "outputs": [
    {
     "ename": "NoSuchElementException",
     "evalue": "Message: no such element: Unable to locate element: {\"method\":\"css selector\",\"selector\":\".ArticleMenuDate\"}\n  (Session info: chrome=103.0.5060.134)\nStacktrace:\n0   chromedriver                        0x0000000100805d60 chromedriver + 3792224\n1   chromedriver                        0x000000010079c874 chromedriver + 3360884\n2   chromedriver                        0x000000010049d184 chromedriver + 217476\n3   chromedriver                        0x00000001004ccf5c chromedriver + 413532\n4   chromedriver                        0x00000001004f5b2c chromedriver + 580396\n5   chromedriver                        0x00000001004c23e4 chromedriver + 369636\n6   chromedriver                        0x00000001007db234 chromedriver + 3617332\n7   chromedriver                        0x00000001007df6c4 chromedriver + 3634884\n8   chromedriver                        0x00000001007e3cb8 chromedriver + 3652792\n9   chromedriver                        0x00000001007e015c chromedriver + 3637596\n10  chromedriver                        0x00000001007be7f8 chromedriver + 3500024\n11  chromedriver                        0x00000001007f7c3c chromedriver + 3734588\n12  chromedriver                        0x00000001007f7da0 chromedriver + 3734944\n13  chromedriver                        0x000000010080c5a4 chromedriver + 3818916\n14  libsystem_pthread.dylib             0x00000001abd9826c _pthread_start + 148\n15  libsystem_pthread.dylib             0x00000001abd9308c thread_start + 8\n",
     "output_type": "error",
     "traceback": [
      "\u001b[0;31m---------------------------------------------------------------------------\u001b[0m",
      "\u001b[0;31mNoSuchElementException\u001b[0m                    Traceback (most recent call last)",
      "Input \u001b[0;32mIn [34]\u001b[0m, in \u001b[0;36m<cell line: 1>\u001b[0;34m()\u001b[0m\n\u001b[0;32m----> 1\u001b[0m detail_date_origin \u001b[38;5;241m=\u001b[39m \u001b[43mbrowser\u001b[49m\u001b[38;5;241;43m.\u001b[39;49m\u001b[43mfind_element\u001b[49m\u001b[43m(\u001b[49m\u001b[43mby\u001b[49m\u001b[38;5;241;43m=\u001b[39;49m\u001b[43mBy\u001b[49m\u001b[38;5;241;43m.\u001b[39;49m\u001b[43mCLASS_NAME\u001b[49m\u001b[43m,\u001b[49m\u001b[43m \u001b[49m\u001b[43mvalue\u001b[49m\u001b[38;5;241;43m=\u001b[39;49m\u001b[38;5;124;43m'\u001b[39;49m\u001b[38;5;124;43mArticleMenuDate\u001b[39;49m\u001b[38;5;124;43m'\u001b[39;49m\u001b[43m)\u001b[49m\u001b[38;5;241m.\u001b[39mtext\n\u001b[1;32m      2\u001b[0m detail_date_origin\n",
      "File \u001b[0;32m~/Workspace/kmong/venv/lib/python3.8/site-packages/selenium/webdriver/remote/webdriver.py:857\u001b[0m, in \u001b[0;36mWebDriver.find_element\u001b[0;34m(self, by, value)\u001b[0m\n\u001b[1;32m    854\u001b[0m     by \u001b[38;5;241m=\u001b[39m By\u001b[38;5;241m.\u001b[39mCSS_SELECTOR\n\u001b[1;32m    855\u001b[0m     value \u001b[38;5;241m=\u001b[39m \u001b[38;5;124m'\u001b[39m\u001b[38;5;124m[name=\u001b[39m\u001b[38;5;124m\"\u001b[39m\u001b[38;5;132;01m%s\u001b[39;00m\u001b[38;5;124m\"\u001b[39m\u001b[38;5;124m]\u001b[39m\u001b[38;5;124m'\u001b[39m \u001b[38;5;241m%\u001b[39m value\n\u001b[0;32m--> 857\u001b[0m \u001b[38;5;28;01mreturn\u001b[39;00m \u001b[38;5;28;43mself\u001b[39;49m\u001b[38;5;241;43m.\u001b[39;49m\u001b[43mexecute\u001b[49m\u001b[43m(\u001b[49m\u001b[43mCommand\u001b[49m\u001b[38;5;241;43m.\u001b[39;49m\u001b[43mFIND_ELEMENT\u001b[49m\u001b[43m,\u001b[49m\u001b[43m \u001b[49m\u001b[43m{\u001b[49m\n\u001b[1;32m    858\u001b[0m \u001b[43m    \u001b[49m\u001b[38;5;124;43m'\u001b[39;49m\u001b[38;5;124;43musing\u001b[39;49m\u001b[38;5;124;43m'\u001b[39;49m\u001b[43m:\u001b[49m\u001b[43m \u001b[49m\u001b[43mby\u001b[49m\u001b[43m,\u001b[49m\n\u001b[1;32m    859\u001b[0m \u001b[43m    \u001b[49m\u001b[38;5;124;43m'\u001b[39;49m\u001b[38;5;124;43mvalue\u001b[39;49m\u001b[38;5;124;43m'\u001b[39;49m\u001b[43m:\u001b[49m\u001b[43m \u001b[49m\u001b[43mvalue\u001b[49m\u001b[43m}\u001b[49m\u001b[43m)\u001b[49m[\u001b[38;5;124m'\u001b[39m\u001b[38;5;124mvalue\u001b[39m\u001b[38;5;124m'\u001b[39m]\n",
      "File \u001b[0;32m~/Workspace/kmong/venv/lib/python3.8/site-packages/selenium/webdriver/remote/webdriver.py:435\u001b[0m, in \u001b[0;36mWebDriver.execute\u001b[0;34m(self, driver_command, params)\u001b[0m\n\u001b[1;32m    433\u001b[0m response \u001b[38;5;241m=\u001b[39m \u001b[38;5;28mself\u001b[39m\u001b[38;5;241m.\u001b[39mcommand_executor\u001b[38;5;241m.\u001b[39mexecute(driver_command, params)\n\u001b[1;32m    434\u001b[0m \u001b[38;5;28;01mif\u001b[39;00m response:\n\u001b[0;32m--> 435\u001b[0m     \u001b[38;5;28;43mself\u001b[39;49m\u001b[38;5;241;43m.\u001b[39;49m\u001b[43merror_handler\u001b[49m\u001b[38;5;241;43m.\u001b[39;49m\u001b[43mcheck_response\u001b[49m\u001b[43m(\u001b[49m\u001b[43mresponse\u001b[49m\u001b[43m)\u001b[49m\n\u001b[1;32m    436\u001b[0m     response[\u001b[38;5;124m'\u001b[39m\u001b[38;5;124mvalue\u001b[39m\u001b[38;5;124m'\u001b[39m] \u001b[38;5;241m=\u001b[39m \u001b[38;5;28mself\u001b[39m\u001b[38;5;241m.\u001b[39m_unwrap_value(\n\u001b[1;32m    437\u001b[0m         response\u001b[38;5;241m.\u001b[39mget(\u001b[38;5;124m'\u001b[39m\u001b[38;5;124mvalue\u001b[39m\u001b[38;5;124m'\u001b[39m, \u001b[38;5;28;01mNone\u001b[39;00m))\n\u001b[1;32m    438\u001b[0m     \u001b[38;5;28;01mreturn\u001b[39;00m response\n",
      "File \u001b[0;32m~/Workspace/kmong/venv/lib/python3.8/site-packages/selenium/webdriver/remote/errorhandler.py:247\u001b[0m, in \u001b[0;36mErrorHandler.check_response\u001b[0;34m(self, response)\u001b[0m\n\u001b[1;32m    245\u001b[0m         alert_text \u001b[38;5;241m=\u001b[39m value[\u001b[38;5;124m'\u001b[39m\u001b[38;5;124malert\u001b[39m\u001b[38;5;124m'\u001b[39m]\u001b[38;5;241m.\u001b[39mget(\u001b[38;5;124m'\u001b[39m\u001b[38;5;124mtext\u001b[39m\u001b[38;5;124m'\u001b[39m)\n\u001b[1;32m    246\u001b[0m     \u001b[38;5;28;01mraise\u001b[39;00m exception_class(message, screen, stacktrace, alert_text)  \u001b[38;5;66;03m# type: ignore[call-arg]  # mypy is not smart enough here\u001b[39;00m\n\u001b[0;32m--> 247\u001b[0m \u001b[38;5;28;01mraise\u001b[39;00m exception_class(message, screen, stacktrace)\n",
      "\u001b[0;31mNoSuchElementException\u001b[0m: Message: no such element: Unable to locate element: {\"method\":\"css selector\",\"selector\":\".ArticleMenuDate\"}\n  (Session info: chrome=103.0.5060.134)\nStacktrace:\n0   chromedriver                        0x0000000100805d60 chromedriver + 3792224\n1   chromedriver                        0x000000010079c874 chromedriver + 3360884\n2   chromedriver                        0x000000010049d184 chromedriver + 217476\n3   chromedriver                        0x00000001004ccf5c chromedriver + 413532\n4   chromedriver                        0x00000001004f5b2c chromedriver + 580396\n5   chromedriver                        0x00000001004c23e4 chromedriver + 369636\n6   chromedriver                        0x00000001007db234 chromedriver + 3617332\n7   chromedriver                        0x00000001007df6c4 chromedriver + 3634884\n8   chromedriver                        0x00000001007e3cb8 chromedriver + 3652792\n9   chromedriver                        0x00000001007e015c chromedriver + 3637596\n10  chromedriver                        0x00000001007be7f8 chromedriver + 3500024\n11  chromedriver                        0x00000001007f7c3c chromedriver + 3734588\n12  chromedriver                        0x00000001007f7da0 chromedriver + 3734944\n13  chromedriver                        0x000000010080c5a4 chromedriver + 3818916\n14  libsystem_pthread.dylib             0x00000001abd9826c _pthread_start + 148\n15  libsystem_pthread.dylib             0x00000001abd9308c thread_start + 8\n"
     ]
    }
   ],
   "source": [
    "detail_date_origin = browser.find_element(by=By.CLASS_NAME, value='ArticleMenuDate').text\n",
    "detail_date_origin"
   ]
  },
  {
   "cell_type": "code",
   "execution_count": 11,
   "id": "40ca4e4f",
   "metadata": {
    "scrolled": true
   },
   "outputs": [
    {
     "data": {
      "text/plain": [
       "'2022-06-01'"
      ]
     },
     "execution_count": 11,
     "metadata": {},
     "output_type": "execute_result"
    }
   ],
   "source": [
    "detail_date = key[:10]\n",
    "detail_date"
   ]
  },
  {
   "cell_type": "code",
   "execution_count": 28,
   "id": "6bd33723",
   "metadata": {},
   "outputs": [],
   "source": [
    "detail_title = ''\n",
    "detail_sub_title_pre = ''\n",
    "detail_sub_title_next = ''\n",
    "detail_content = ''"
   ]
  },
  {
   "cell_type": "code",
   "execution_count": 31,
   "id": "ba9a05ab",
   "metadata": {},
   "outputs": [],
   "source": [
    "def get_text_type(line, detail_title, detail_content):\n",
    "    font_tag = line.find_elements(by=By.TAG_NAME, value='font')\n",
    "    if len(font_tag) > 0 and 'font-size' in font_tag[0].get_attribute('style'):\n",
    "        if 'bold' in font_tag[0].get_attribute('style') : # bold인 것들 주제목\n",
    "            return \"TITLE\"\n",
    "        elif len(detail_title) > 0 and len(detail_content) == 0: # 제목은 나오고, 내용은 나오지 않은 경우\n",
    "            return \"POST_TITLE\"\n",
    "        elif len(detail_title) == 0 and len(detail_content) == 0: # 제목과 내용이 아직 나오지 않은 경우\n",
    "            return \"PRE_TITLE\"\n",
    "        else:\n",
    "            return \"CONTENT\"\n",
    "    else:\n",
    "        return \"CONTENT\""
   ]
  },
  {
   "cell_type": "code",
   "execution_count": 32,
   "id": "94b79335",
   "metadata": {},
   "outputs": [
    {
     "name": "stdout",
     "output_type": "stream",
     "text": [
      "PRE_TITLE 인민사랑의 력사를 길이 전하며 흐르는 락원의 강, 보통강\n",
      "CONTENT \n",
      "CONTENT \n",
      "CONTENT \n",
      "CONTENT \n",
      "CONTENT \n",
      "CONTENT \n",
      "CONTENT \n",
      "CONTENT \n",
      "CONTENT \n",
      "CONTENT \n",
      "CONTENT \n",
      "CONTENT \n",
      "CONTENT \n",
      "CONTENT \n",
      "CONTENT \n",
      "CONTENT \n",
      "CONTENT \n",
      "CONTENT \n",
      "CONTENT \n",
      "CONTENT \n",
      "CONTENT \n",
      "CONTENT \n",
      "CONTENT \n",
      "CONTENT \n",
      "CONTENT \n",
      "CONTENT \n"
     ]
    }
   ],
   "source": [
    "detail_content_list = browser.find_elements(by=By.CLASS_NAME, value='ArticleContent')\n",
    "\n",
    "for detail_line in detail_content_list:\n",
    "    line_type = get_text_type(detail_line, detail_title, detail_content)\n",
    "    print(line_type, detail_line.text)\n",
    "    if line_type == \"TITLE\":\n",
    "        detail_title += detail_line.text + '\\r\\n'\n",
    "    elif line_type == \"PRE_TITLE\":\n",
    "        detail_sub_title_pre += detail_line.text + '\\r\\n' # 부제목(앞)\n",
    "    elif line_type == \"POST_TITLE\":\n",
    "        detail_sub_title_next += detail_line.text + '\\r\\n' # 부제목(뒤)\n",
    "    elif line_type == \"CONTENT\":\n",
    "        detail_content += detail_line.text + '\\r\\n' # 본문 내용\n",
    "#     title = detail_line.find_elements(by=By.TAG_NAME, value='font')\n",
    "    \n",
    "#     if title and title[0].text.strip() != '' :\n",
    "# #         print(title[0].text)\n",
    "#         if 'bold' in title[0].get_attribute('style') : # bold인 것들 주제목\n",
    "#             detail_title += title[0].text + '\\r\\n'\n",
    "#         elif len(detail_title) > 0 and len(detail_content) == 0: # 제목이 이미 들어가고, 내용은 나오지 않은 경우\n",
    "#             detail_sub_title_next += title[0].text + '\\r\\n' # 부제목(뒤)\n",
    "#         elif len(detail_content) == 0:\n",
    "#             detail_sub_title_pre += title[0].text + '\\r\\n' # 부제목(앞)\n",
    "#     elif detail_line.text.strip() != '' and 'right' not in detail_line.get_attribute('style') : # 우측정렬은 글, 사진 작성자\n",
    "#         detail_content += detail_line.text + '\\r\\n'"
   ]
  },
  {
   "cell_type": "code",
   "execution_count": 33,
   "id": "45bdd286",
   "metadata": {},
   "outputs": [
    {
     "name": "stdout",
     "output_type": "stream",
     "text": [
      "인민사랑의 력사를 길이 전하며 흐르는 락원의 강, 보통강\r\n",
      "\n",
      "\n",
      "\n",
      "\r\n",
      "\r\n",
      "\r\n",
      "\r\n",
      "\r\n",
      "\r\n",
      "\r\n",
      "\r\n",
      "\r\n",
      "\r\n",
      "\r\n",
      "\r\n",
      "\r\n",
      "\r\n",
      "\r\n",
      "\r\n",
      "\r\n",
      "\r\n",
      "\r\n",
      "\r\n",
      "\r\n",
      "\r\n",
      "\r\n",
      "\r\n",
      "\r\n",
      "\r\n",
      "\n"
     ]
    }
   ],
   "source": [
    "print(detail_sub_title_pre)\n",
    "print(unicodedata.normalize('NFKC', detail_title))\n",
    "print(unicodedata.normalize('NFKC', detail_sub_title_next))\n",
    "print(unicodedata.normalize('NFKC', detail_content))"
   ]
  },
  {
   "cell_type": "code",
   "execution_count": 30,
   "id": "d263f966",
   "metadata": {},
   "outputs": [],
   "source": [
    "# 팝업창 종료 후 close\n",
    "# browser.close() \n",
    "browser.switch_to.window(browser.window_handles[-1])"
   ]
  },
  {
   "cell_type": "code",
   "execution_count": null,
   "id": "c72e8632",
   "metadata": {},
   "outputs": [],
   "source": []
  }
 ],
 "metadata": {
  "kernelspec": {
   "display_name": "Python 3 (ipykernel)",
   "language": "python",
   "name": "python3"
  },
  "language_info": {
   "codemirror_mode": {
    "name": "ipython",
    "version": 3
   },
   "file_extension": ".py",
   "mimetype": "text/x-python",
   "name": "python",
   "nbconvert_exporter": "python",
   "pygments_lexer": "ipython3",
   "version": "3.8.9"
  }
 },
 "nbformat": 4,
 "nbformat_minor": 5
}
