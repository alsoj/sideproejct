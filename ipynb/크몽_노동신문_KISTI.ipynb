{
 "cells": [
  {
   "cell_type": "code",
   "execution_count": 105,
   "id": "7ee2c7b7",
   "metadata": {},
   "outputs": [],
   "source": [
    "from selenium import webdriver\n",
    "from selenium.webdriver.chrome.service import Service\n",
    "from webdriver_manager.chrome import ChromeDriverManager\n",
    "from selenium.webdriver.common.by import By\n",
    "import unicodedata\n",
    "\n",
    "import re\n",
    "from openpyxl import Workbook, load_workbook"
   ]
  },
  {
   "cell_type": "code",
   "execution_count": 98,
   "id": "8ae4311d",
   "metadata": {
    "scrolled": true
   },
   "outputs": [
    {
     "name": "stdout",
     "output_type": "stream",
     "text": [
      "\n"
     ]
    }
   ],
   "source": [
    "browser = webdriver.Chrome(service=Service(ChromeDriverManager().install()))"
   ]
  },
  {
   "cell_type": "code",
   "execution_count": 3,
   "id": "d75d9cc0",
   "metadata": {},
   "outputs": [],
   "source": [
    "# 엑셀 생성\n",
    "wb = Workbook()\n",
    "ws = wb.active\n",
    "\n",
    "# 제목 적기\n",
    "sub = ['식별키','목록-번호','목록-구분','목록-제목','목록-면수','목록-작성자','목록-일자','본문-일자(원본)','본문-일자','본문-내용','본문-제목','본문-부제(제목앞)','본문-부제(제목뒤)']\n",
    "for kwd, j in zip(sub, list(range(1, len(sub)+1))):\n",
    "    ws.cell(row=1, column=j).value = kwd\n",
    "\n",
    "wb.save('./output/노동신문.xlsx')"
   ]
  },
  {
   "cell_type": "code",
   "execution_count": 99,
   "id": "c4a0aa8c",
   "metadata": {},
   "outputs": [],
   "source": [
    "list_base_url = 'http://www.rodong.rep.kp/ko/index.php?strPageID=SF01_01_03&strDate='\n",
    "date = '2022-07-01'"
   ]
  },
  {
   "cell_type": "code",
   "execution_count": 100,
   "id": "89739e02",
   "metadata": {},
   "outputs": [],
   "source": [
    "browser.get(list_base_url+date)"
   ]
  },
  {
   "cell_type": "markdown",
   "id": "c41a570c",
   "metadata": {},
   "source": [
    "### 크롤링 범위\n",
    "- 목록-번호 / 목록-구분 / 목록-제목 / 목록-면 / 목록-작성자 / 목록-일자\n",
    "- 본문-일자(원본) / 본문-일자 / 본문-내용 / 본문-제목 / 본문-부제(제목앞) / 본문-부제(제목뒤)\n",
    "\n",
    "- '식별키','목록-번호','목록-구분','목록-제목','목록-면수','목록-작성자','목록-일자','본문-일자(원본)','본문-일자','본문-내용','본문-제목','본문-부제(제목앞)','본문-부제(제목뒤)'"
   ]
  },
  {
   "cell_type": "markdown",
   "id": "0e60302f",
   "metadata": {},
   "source": [
    "## 뉴스 목록 크롤링"
   ]
  },
  {
   "cell_type": "code",
   "execution_count": 6,
   "id": "0c599fc1",
   "metadata": {},
   "outputs": [],
   "source": [
    "news_line_list = browser.find_elements(by=By.CLASS_NAME, value='ListNewsLineContainer')"
   ]
  },
  {
   "cell_type": "code",
   "execution_count": 7,
   "id": "87999cbf",
   "metadata": {},
   "outputs": [],
   "source": [
    "def get_article_info(title_full) :\n",
    "    if title_full.startswith('[') :\n",
    "        article_title = title_full[title_full.find(']')+1 : title_full.rfind('[')].strip()\n",
    "        article_type = title_full[title_full.find('[')+1 : title_full.find(']')].strip()\n",
    "        article_page = title_full[title_full.rfind('[')+1 : title_full.rfind(']')].strip()\n",
    "    else :\n",
    "        article_title = title_full[ : title_full.rfind('[')].strip()\n",
    "        article_type = ''\n",
    "        article_page = title_full[title_full.rfind('[')+1 : title_full.rfind(']')].strip() \n",
    "    \n",
    "    return article_title, article_type, article_page"
   ]
  },
  {
   "cell_type": "code",
   "execution_count": 67,
   "id": "633ca936",
   "metadata": {
    "scrolled": true
   },
   "outputs": [],
   "source": [
    "for news_line in news_line_list:\n",
    "    temp_row = []\n",
    "    \n",
    "    line_no = news_line.find_element(by=By.CLASS_NAME, value='ListNewsLineNo').text.strip()\n",
    "    line_title = news_line.find_element(by=By.CLASS_NAME, value='ListNewsLineTitleW').text.strip()\n",
    "    line_writer = news_line.find_element(by=By.CLASS_NAME, value='ListNewsLineWriter').text.strip()\n",
    "    line_date = news_line.find_element(by=By.CLASS_NAME, value='ListNewsLineDate').text.strip()\n",
    "    \n",
    "    article_title, article_type, article_page = get_article_info(line_title)\n",
    "\n",
    "    temp_row.append(line_no)\n",
    "    temp_row.append(article_type)\n",
    "    temp_row.append(article_title)\n",
    "    temp_row.append(article_page)\n",
    "    temp_row.append(line_writer)\n",
    "    temp_row.append(line_date)\n",
    "    \n",
    "    # 상세창 팝업\n",
    "    title_popup = news_line.find_element(by=By.CLASS_NAME, value='ListNewsLineTitleW')\n",
    "    title_popup_a = title_popup.find_element(by=By.TAG_NAME, value='a')\n",
    "    title_popup_a.click()    \n",
    "    browser.switch_to.window(browser.window_handles[1])\n",
    "    \n",
    "    key = browser.current_url[-15:]\n",
    "    temp_row.insert(0, key)\n",
    "    \n",
    "    detail_date_origin = browser.find_element(by=By.CLASS_NAME, value='ArticleMenuDate').text\n",
    "    temp_row.append(detail_date_origin)\n",
    "    \n",
    "    detail_date = key[:10]\n",
    "    temp_row.append(detail_date)\n",
    "    \n",
    "    detail_title = ''\n",
    "    detail_sub_title = ''\n",
    "    detail_content = ''\n",
    "    \n",
    "    detail_content_list = browser.find_elements(by=By.CLASS_NAME, value='ArticleContent')\n",
    "\n",
    "    for detail_line in detail_content_list:\n",
    "        title = detail_line.find_elements(by=By.TAG_NAME, value='font')\n",
    "\n",
    "        if title and title[0].text.strip() != '' :\n",
    "            if 'bold' in title[0].get_attribute('style') :\n",
    "                detail_title += title[0].text + ' '\n",
    "            else :\n",
    "                detail_sub_title += title[0].text + ' '\n",
    "        elif detail_line.text.strip() != '' :\n",
    "            detail_content += ' ' + detail_line.text\n",
    "    \n",
    "    temp_row.append(detail_content)\n",
    "    temp_row.append(detail_title.strip())\n",
    "    temp_row.append(detail_sub_title.strip())\n",
    "    temp_row.append(detail_sub_title.strip())\n",
    "    ws.append(temp_row)\n",
    "    wb.save('./output/노동신문.xlsx')\n",
    "    \n",
    "    # 팝업창 close 후 객체 전환\n",
    "    browser.close() \n",
    "    browser.switch_to.window(browser.window_handles[0])"
   ]
  },
  {
   "cell_type": "code",
   "execution_count": 16,
   "id": "77f74495",
   "metadata": {},
   "outputs": [],
   "source": [
    "title_popup = news_line.find_element(by=By.CLASS_NAME, value='ListNewsLineTitleW')\n",
    "title_popup_a = title_popup.find_element(by=By.TAG_NAME, value='a')\n",
    "title_popup_a.click()"
   ]
  },
  {
   "cell_type": "code",
   "execution_count": 51,
   "id": "d76f4ea2",
   "metadata": {},
   "outputs": [
    {
     "data": {
      "text/plain": [
       "['CDwindow-2FACECDB0A3970DC7739F128E93F439C',\n",
       " 'CDwindow-6148C768679F565202DC9F8ABABF7B45',\n",
       " 'CDwindow-13C5389092528A7700BC5A53049A293B']"
      ]
     },
     "execution_count": 51,
     "metadata": {},
     "output_type": "execute_result"
    }
   ],
   "source": [
    "browser.window_handles"
   ]
  },
  {
   "cell_type": "code",
   "execution_count": 8,
   "id": "175b7957",
   "metadata": {},
   "outputs": [],
   "source": [
    "browser.switch_to.window(browser.window_handles[-1])"
   ]
  },
  {
   "cell_type": "code",
   "execution_count": 9,
   "id": "10e29ffc",
   "metadata": {},
   "outputs": [
    {
     "data": {
      "text/plain": [
       "'2022-06-01-0008'"
      ]
     },
     "execution_count": 9,
     "metadata": {},
     "output_type": "execute_result"
    }
   ],
   "source": [
    "key = browser.current_url[-15:]\n",
    "key"
   ]
  },
  {
   "cell_type": "markdown",
   "id": "fcef8b22",
   "metadata": {},
   "source": [
    "## 뉴스 상세 크롤링"
   ]
  },
  {
   "cell_type": "code",
   "execution_count": 5,
   "id": "508a07fa",
   "metadata": {},
   "outputs": [
    {
     "ename": "NoSuchElementException",
     "evalue": "Message: no such element: Unable to locate element: {\"method\":\"css selector\",\"selector\":\".ArticleMenuDate\"}\n  (Session info: chrome=103.0.5060.134)\nStacktrace:\n0   chromedriver                        0x00000001045f9d60 chromedriver + 3792224\n1   chromedriver                        0x0000000104590874 chromedriver + 3360884\n2   chromedriver                        0x0000000104291184 chromedriver + 217476\n3   chromedriver                        0x00000001042c0f5c chromedriver + 413532\n4   chromedriver                        0x00000001042e9b2c chromedriver + 580396\n5   chromedriver                        0x00000001042b63e4 chromedriver + 369636\n6   chromedriver                        0x00000001045cf234 chromedriver + 3617332\n7   chromedriver                        0x00000001045d36c4 chromedriver + 3634884\n8   chromedriver                        0x00000001045d7cb8 chromedriver + 3652792\n9   chromedriver                        0x00000001045d415c chromedriver + 3637596\n10  chromedriver                        0x00000001045b27f8 chromedriver + 3500024\n11  chromedriver                        0x00000001045ebc3c chromedriver + 3734588\n12  chromedriver                        0x00000001045ebda0 chromedriver + 3734944\n13  chromedriver                        0x00000001046005a4 chromedriver + 3818916\n14  libsystem_pthread.dylib             0x0000000195e0426c _pthread_start + 148\n15  libsystem_pthread.dylib             0x0000000195dff08c thread_start + 8\n",
     "output_type": "error",
     "traceback": [
      "\u001b[0;31m---------------------------------------------------------------------------\u001b[0m",
      "\u001b[0;31mNoSuchElementException\u001b[0m                    Traceback (most recent call last)",
      "Input \u001b[0;32mIn [5]\u001b[0m, in \u001b[0;36m<cell line: 1>\u001b[0;34m()\u001b[0m\n\u001b[0;32m----> 1\u001b[0m detail_date_origin \u001b[38;5;241m=\u001b[39m \u001b[43mbrowser\u001b[49m\u001b[38;5;241;43m.\u001b[39;49m\u001b[43mfind_element\u001b[49m\u001b[43m(\u001b[49m\u001b[43mby\u001b[49m\u001b[38;5;241;43m=\u001b[39;49m\u001b[43mBy\u001b[49m\u001b[38;5;241;43m.\u001b[39;49m\u001b[43mCLASS_NAME\u001b[49m\u001b[43m,\u001b[49m\u001b[43m \u001b[49m\u001b[43mvalue\u001b[49m\u001b[38;5;241;43m=\u001b[39;49m\u001b[38;5;124;43m'\u001b[39;49m\u001b[38;5;124;43mArticleMenuDate\u001b[39;49m\u001b[38;5;124;43m'\u001b[39;49m\u001b[43m)\u001b[49m\u001b[38;5;241m.\u001b[39mtext\n\u001b[1;32m      2\u001b[0m detail_date_origin\n",
      "File \u001b[0;32m~/Workspace/kmong/venv/lib/python3.8/site-packages/selenium/webdriver/remote/webdriver.py:857\u001b[0m, in \u001b[0;36mWebDriver.find_element\u001b[0;34m(self, by, value)\u001b[0m\n\u001b[1;32m    854\u001b[0m     by \u001b[38;5;241m=\u001b[39m By\u001b[38;5;241m.\u001b[39mCSS_SELECTOR\n\u001b[1;32m    855\u001b[0m     value \u001b[38;5;241m=\u001b[39m \u001b[38;5;124m'\u001b[39m\u001b[38;5;124m[name=\u001b[39m\u001b[38;5;124m\"\u001b[39m\u001b[38;5;132;01m%s\u001b[39;00m\u001b[38;5;124m\"\u001b[39m\u001b[38;5;124m]\u001b[39m\u001b[38;5;124m'\u001b[39m \u001b[38;5;241m%\u001b[39m value\n\u001b[0;32m--> 857\u001b[0m \u001b[38;5;28;01mreturn\u001b[39;00m \u001b[38;5;28;43mself\u001b[39;49m\u001b[38;5;241;43m.\u001b[39;49m\u001b[43mexecute\u001b[49m\u001b[43m(\u001b[49m\u001b[43mCommand\u001b[49m\u001b[38;5;241;43m.\u001b[39;49m\u001b[43mFIND_ELEMENT\u001b[49m\u001b[43m,\u001b[49m\u001b[43m \u001b[49m\u001b[43m{\u001b[49m\n\u001b[1;32m    858\u001b[0m \u001b[43m    \u001b[49m\u001b[38;5;124;43m'\u001b[39;49m\u001b[38;5;124;43musing\u001b[39;49m\u001b[38;5;124;43m'\u001b[39;49m\u001b[43m:\u001b[49m\u001b[43m \u001b[49m\u001b[43mby\u001b[49m\u001b[43m,\u001b[49m\n\u001b[1;32m    859\u001b[0m \u001b[43m    \u001b[49m\u001b[38;5;124;43m'\u001b[39;49m\u001b[38;5;124;43mvalue\u001b[39;49m\u001b[38;5;124;43m'\u001b[39;49m\u001b[43m:\u001b[49m\u001b[43m \u001b[49m\u001b[43mvalue\u001b[49m\u001b[43m}\u001b[49m\u001b[43m)\u001b[49m[\u001b[38;5;124m'\u001b[39m\u001b[38;5;124mvalue\u001b[39m\u001b[38;5;124m'\u001b[39m]\n",
      "File \u001b[0;32m~/Workspace/kmong/venv/lib/python3.8/site-packages/selenium/webdriver/remote/webdriver.py:435\u001b[0m, in \u001b[0;36mWebDriver.execute\u001b[0;34m(self, driver_command, params)\u001b[0m\n\u001b[1;32m    433\u001b[0m response \u001b[38;5;241m=\u001b[39m \u001b[38;5;28mself\u001b[39m\u001b[38;5;241m.\u001b[39mcommand_executor\u001b[38;5;241m.\u001b[39mexecute(driver_command, params)\n\u001b[1;32m    434\u001b[0m \u001b[38;5;28;01mif\u001b[39;00m response:\n\u001b[0;32m--> 435\u001b[0m     \u001b[38;5;28;43mself\u001b[39;49m\u001b[38;5;241;43m.\u001b[39;49m\u001b[43merror_handler\u001b[49m\u001b[38;5;241;43m.\u001b[39;49m\u001b[43mcheck_response\u001b[49m\u001b[43m(\u001b[49m\u001b[43mresponse\u001b[49m\u001b[43m)\u001b[49m\n\u001b[1;32m    436\u001b[0m     response[\u001b[38;5;124m'\u001b[39m\u001b[38;5;124mvalue\u001b[39m\u001b[38;5;124m'\u001b[39m] \u001b[38;5;241m=\u001b[39m \u001b[38;5;28mself\u001b[39m\u001b[38;5;241m.\u001b[39m_unwrap_value(\n\u001b[1;32m    437\u001b[0m         response\u001b[38;5;241m.\u001b[39mget(\u001b[38;5;124m'\u001b[39m\u001b[38;5;124mvalue\u001b[39m\u001b[38;5;124m'\u001b[39m, \u001b[38;5;28;01mNone\u001b[39;00m))\n\u001b[1;32m    438\u001b[0m     \u001b[38;5;28;01mreturn\u001b[39;00m response\n",
      "File \u001b[0;32m~/Workspace/kmong/venv/lib/python3.8/site-packages/selenium/webdriver/remote/errorhandler.py:247\u001b[0m, in \u001b[0;36mErrorHandler.check_response\u001b[0;34m(self, response)\u001b[0m\n\u001b[1;32m    245\u001b[0m         alert_text \u001b[38;5;241m=\u001b[39m value[\u001b[38;5;124m'\u001b[39m\u001b[38;5;124malert\u001b[39m\u001b[38;5;124m'\u001b[39m]\u001b[38;5;241m.\u001b[39mget(\u001b[38;5;124m'\u001b[39m\u001b[38;5;124mtext\u001b[39m\u001b[38;5;124m'\u001b[39m)\n\u001b[1;32m    246\u001b[0m     \u001b[38;5;28;01mraise\u001b[39;00m exception_class(message, screen, stacktrace, alert_text)  \u001b[38;5;66;03m# type: ignore[call-arg]  # mypy is not smart enough here\u001b[39;00m\n\u001b[0;32m--> 247\u001b[0m \u001b[38;5;28;01mraise\u001b[39;00m exception_class(message, screen, stacktrace)\n",
      "\u001b[0;31mNoSuchElementException\u001b[0m: Message: no such element: Unable to locate element: {\"method\":\"css selector\",\"selector\":\".ArticleMenuDate\"}\n  (Session info: chrome=103.0.5060.134)\nStacktrace:\n0   chromedriver                        0x00000001045f9d60 chromedriver + 3792224\n1   chromedriver                        0x0000000104590874 chromedriver + 3360884\n2   chromedriver                        0x0000000104291184 chromedriver + 217476\n3   chromedriver                        0x00000001042c0f5c chromedriver + 413532\n4   chromedriver                        0x00000001042e9b2c chromedriver + 580396\n5   chromedriver                        0x00000001042b63e4 chromedriver + 369636\n6   chromedriver                        0x00000001045cf234 chromedriver + 3617332\n7   chromedriver                        0x00000001045d36c4 chromedriver + 3634884\n8   chromedriver                        0x00000001045d7cb8 chromedriver + 3652792\n9   chromedriver                        0x00000001045d415c chromedriver + 3637596\n10  chromedriver                        0x00000001045b27f8 chromedriver + 3500024\n11  chromedriver                        0x00000001045ebc3c chromedriver + 3734588\n12  chromedriver                        0x00000001045ebda0 chromedriver + 3734944\n13  chromedriver                        0x00000001046005a4 chromedriver + 3818916\n14  libsystem_pthread.dylib             0x0000000195e0426c _pthread_start + 148\n15  libsystem_pthread.dylib             0x0000000195dff08c thread_start + 8\n"
     ]
    }
   ],
   "source": [
    "detail_date_origin = browser.find_element(by=By.CLASS_NAME, value='ArticleMenuDate').text\n",
    "detail_date_origin"
   ]
  },
  {
   "cell_type": "code",
   "execution_count": 11,
   "id": "40ca4e4f",
   "metadata": {
    "scrolled": true
   },
   "outputs": [
    {
     "data": {
      "text/plain": [
       "'2022-06-01'"
      ]
     },
     "execution_count": 11,
     "metadata": {},
     "output_type": "execute_result"
    }
   ],
   "source": [
    "detail_date = key[:10]\n",
    "detail_date"
   ]
  },
  {
   "cell_type": "code",
   "execution_count": 102,
   "id": "6bd33723",
   "metadata": {},
   "outputs": [],
   "source": [
    "detail_title = ''\n",
    "detail_sub_title_pre = ''\n",
    "detail_sub_title_next = ''\n",
    "detail_content = ''"
   ]
  },
  {
   "cell_type": "code",
   "execution_count": 103,
   "id": "ba9a05ab",
   "metadata": {},
   "outputs": [],
   "source": [
    "def get_text_type(line, detail_title, detail_content):\n",
    "    font_tag = line.find_elements(by=By.TAG_NAME, value='font')\n",
    "    if len(font_tag) > 0 and 'font-size' in font_tag[0].get_attribute('style'):\n",
    "        if 'bold' in font_tag[0].get_attribute('style') : # bold인 것들 주제목\n",
    "            return \"TITLE\"\n",
    "        elif len(detail_title) > 0 and len(detail_content) == 0: # 제목은 나오고, 내용은 나오지 않은 경우\n",
    "            return \"POST_TITLE\"\n",
    "        elif len(detail_title) == 0 and len(detail_content) == 0: # 제목과 내용이 아직 나오지 않은 경우\n",
    "            return \"PRE_TITLE\"\n",
    "        else:\n",
    "            return \"CONTENT\"\n",
    "    else:\n",
    "        return \"CONTENT\""
   ]
  },
  {
   "cell_type": "code",
   "execution_count": 104,
   "id": "94b79335",
   "metadata": {},
   "outputs": [
    {
     "name": "stdout",
     "output_type": "stream",
     "text": [
      "TITLE 위대한 년대의 불멸할 자욱을 길이 전하는 고귀한 재보\n",
      "POST_TITLE 지난 １０년간 조국해방전쟁승리기념관에 많은 자료와 유물, 사진들이 보충전시되였다\n",
      "CONTENT  \n",
      "CONTENT 조국해방전쟁승리기념관은 위대한 수령 김일성동지의 불멸의 전승업적을 만대에 길이 전하는 승리전통교양의 중심지, 민족의 대국보이다.\n",
      "CONTENT 조국해방전쟁승리기념관을 세계적인 기념관으로 훌륭히 꾸리려는 우리 당의 웅대한 구상과 정력적인 령도에 의해 주체１０１(２０１２)년 ９월 건설이 시작된 때로부터 지난 １０년간 기념관에는 많은 사적자료와 전시유물, 사진들이 새로 발굴전시되였다.\n",
      "CONTENT 경애하는 김정은동지께서는 다음과 같이 말씀하시였다.\n",
      "CONTENT 《조국해방전쟁에서의 승리는 수령님의 탁월한 군사사상과 주체전법, 령활한 전략전술의 승리이며 수령님의 부르심을 받들고 조국을 지키기 위하여 목숨도 서슴없이 바쳐싸운 우리 군대와 인민의 불타는 애국심과 백절불굴의 투쟁정신의 승리입니다.》\n",
      "CONTENT 지금으로부터 １０년전 이곳을 찾으신 경애하는 총비서동지께서는 조국해방전쟁승리기념관은 인민군군인들과 근로자들, 청년학생들을 위대한 수령님의 주체사상과 반제혁명사상, 탁월한 령군술과 군사전략전술 및 전법으로 무장시키는 훌륭한 교양거점이라고 하시면서 조국해방전쟁과 관련한 사적물들과 전시물들을 더 발굴하기 위한 사업을 심도있게 벌릴데 대하여 가르치시였다.\n",
      "CONTENT 경애하는 총비서동지의 숭고한 뜻을 높이 받들고 조국해방전쟁승리기념관 일군들과 학술연구원, 전쟁로병들과 그 유가족들, 각지 당원들과 근로자들은 전시유물, 유품발굴사업에 적극 참가하였다.\n",
      "CONTENT 조국해방전쟁승리기념관건설이 시작된 때로부터 개관할 때까지 근 １년간에만도 ９０여종에 １ ２００여점의 전시유물, 유품들이 기증되였다.\n",
      "CONTENT 그중에는 항일혁명투사 최현동지가 전쟁시기 용감하게 싸운 한 군인에게 그 무엇에도 비길수 없는 귀중한 재보라고 하면서 안겨준 위대한 수령님의 사진문헌과 우리 수령님의 친필존함이 모셔진 군공메달증서, 수령님께서 한 전사에게 주신 라지오와 사진확대기도 있다.어버이수령님의 존귀하신 영상이 모셔진 상장과 싸우는 고지의 병사들과 후방의 인민들을 위한 우편통신보장을 잘할데 대한 명령을 주신 수령님의 다심한 사랑을 전하는 유물들도 있다.\n",
      "CONTENT 또한 조선인민군 근위 서울류경수제１０５땅크사단에서 날린 공화국기발과 １２１１고지와 ３５１고지에서 원쑤들을 전률케 한 피에 젖은 기폭들, 전화의 불구름을 헤쳐온 용사들의 군복과 훈장들, 입당청원서와 일기장, 편지, 신문, 문예작품들과 악기, 전투승리에 기여한 쌍안경과 지도, 라침판을 비롯한 유물들도 기증되였다.\n",
      "CONTENT 당시에 기증된 자료와 유물들은 개관된 조국해방전쟁승리기념관에 전시되였으며 새세대들을 １９５０년대 조국수호정신으로 무장시키는데 적극 이바지되였다.\n",
      "CONTENT 그후에도 조국해방전쟁승리기념관 일군들과 학술연구원, 전쟁로병들과 그 유가족들은 근 １０년간 전시유물발굴사업을 꾸준히 벌려 많은 사적자료와 전시유물, 사진들을 새롭게 보충전시하였다.\n",
      "CONTENT 위대한 수령님께서 주체３９(１９５０)년 ８월 광주에까지 나가시여 서남해안방어를 강화하고 해방된 공화국남반부지역에서 당, 정권기관들을 시급히 복구정비하며 토지개혁을 비롯한 민주개혁을 빨리 실현할데 대한 가르치심을 주신 사적자료를 발굴하였고 현지지도로정사판에 보충하였다.\n",
      "CONTENT 위대한 수령님께서 주체３８(１９４９)년 １２월 １８일 제１１비행사단 ２５비행교도련대 비행사 제１회, 기술근무원 제２회 졸업생들과 함께 찍으신 기념사진을 비롯한 ３상의 사진문헌과 위대한 수령님으로부터 권총을 받으시는 위대한 령도자 김정일동지의 영상을 정중히 모신 미술작품도 전시되였다.\n",
      "CONTENT 조국해방전쟁승리기념관에는 지난 １０년간 １０여건의 위대한 수령님의 친필명령서들과 위대한 수령님께서 주체４０(１９５１)년 ３월 ２６일 친히 제정하여주신 철도표식, 위대한 장군님께서 몸소 다루어보신 고사기관총, 운전법을 배우시던 승용차 등을 보여주는 사진들도 새로 전시되였다.이 사적자료들과 사진들은 백전백승의 강철의 령장이신 위대한 수령님의 불멸의 전승업적과 위대한 장군님의 위인상을 가슴깊이 새겨주는 더없이 귀중한 재보로 된다.\n",
      "CONTENT 지난 조국해방전쟁시기 인민군장병들이 가슴속에 간직하고 싸웠고 그 후손들이 수십년세월 가보처럼 보관하고있던 유물들도 새로 전시되였다.\n",
      "CONTENT 조선인민군 근위 서울류경수제１０５땅크사단 문화부사단장이였던 안동수동지의 유가족이 그가 받은 공화국영웅메달과 영웅증서를 보내왔다.\n",
      "CONTENT 주체４０(１９５１)년 ５월 １５일 강건군관학교를 최우등으로 졸업한 리몽주동지가 받은 위대한 수령님의 영상을 모신 표창장과 졸업증, 정규무력건설시기의 조선인민군 군인선서들과 각급 군사교육기관들에서 수여한 졸업증, 조선인민군 제３군단신문 《강철부대》의 주필 리계심동지가 수여받은 군공메달증과 그의 창작수첩, 공화국영웅 로태진동지가 １２１１고지전투를 앞두고 다진 맹세문 등 수백점의 유물이 새로 전시되였다.\n",
      "CONTENT 후방인민투쟁관에는 위대한 수령님께 김락희다수확농민이 올린 편지와 수령님께서 그에게 보내주신 회답서한에 대하여 실은 주체４１(１９５２)년 １２월 １３일부 《로동신문》이, 포병관에는 전호속에서 정치상학을 진행하고있는 박격포병구분대 군인들의 모습을 담은 사진이 전시되였으며 《적기 ３２대를 격추(민청지도기관 결산선거를 앞둔 조민호비행기사냥군조원들)》이라는 제목으로 주체４２(１９５３)년 １월에 발행된 신문 《조선인민군》을 비롯한 자료들이 전시되였다.\n",
      "CONTENT 이밖에도 인민군전사들이 가렬한 전쟁의 포화속에서 진행된 조선인민군 제６차 군무자종합예술경연대회에 참가하여 찍은 사진 등 전화의 나날을 감회깊이 회고하게 하는 사진들이 전시되였다.\n",
      "CONTENT 전국각지의 전쟁로병들은 지난 조국해방전쟁시기 적들에게서 로획한 보병삽, 군용물통과 전투때 머리를 스치고 지나간 적기총탄이며 전사통지서, 적탄에 구멍이 뚫린 지도와 종군기자로 활동하면서 리용한 사진기 등 수많은 전시유물, 유품들을 기증하였다.\n",
      "CONTENT 조국해방전쟁승리기념관에 기증된 전시유물, 유품들은 전화의 나날 위대한 수령님께서 계시여 우리는 반드시 승리한다는 확고한 신심에 넘쳐 원쑤를 무찌르는 성전에 용약 떨쳐나섰던 용감한 인민군군인들의 투쟁모습을 생동하게 보여주는 산 증거물들이다.\n",
      "CONTENT 조국해방전쟁승리기념관 공화국영웅홀에 정규무력건설시기와 전쟁시기 세운 위훈으로 하여 공화국영웅칭호를 수여받은 １６명의 사진과 위훈자료가 새로 전시되였다.그속에는 한장의 사진도 남기지 못하였을뿐 아니라 함께 싸운 전우들도 모두 희생된것으로 하여 위훈내용만 수록한 공화국영웅 최정웅동지의 자료도 있다.\n",
      "CONTENT 지난 １０년간 위대한 조국해방전쟁과 관련된 의의있고 가치있는 사적자료, 유물, 유품들과 사진들이 많이 보충전시됨으로써 기념관의 전시내용이 더욱 풍부해지게 되였으며 조국해방전쟁사를 더 깊이있게, 과학적으로 론증할수 있는 자료들이 갖추어지게 되였다.\n",
      "CONTENT 우리 인민은 조국해방전쟁승리기념관참관을 통하여 위대한 수령님의 영원불멸할 전승업적과 １９５０년대 조국방위자들이 발휘한 투철한 수령결사옹위정신, 결사의 조국수호정신을 깊이 체득하게 될것이다.\n",
      "CONTENT 글 및 사진 본사기자 오은별\n",
      "CONTENT  \n",
      "CONTENT \n"
     ]
    }
   ],
   "source": [
    "detail_content_list = browser.find_elements(by=By.CLASS_NAME, value='ArticleContent')\n",
    "\n",
    "for detail_line in detail_content_list:\n",
    "    line_type = get_text_type(detail_line, detail_title, detail_content)\n",
    "    print(line_type, detail_line.text)\n",
    "    if line_type == \"TITLE\":\n",
    "        detail_title += detail_line.text + '\\r\\n'\n",
    "    elif line_type == \"PRE_TITLE\":\n",
    "        detail_sub_title_pre += detail_line.text + '\\r\\n' # 부제목(앞)\n",
    "    elif line_type == \"POST_TITLE\":\n",
    "        detail_sub_title_next += detail_line.text + '\\r\\n' # 부제목(뒤)\n",
    "    elif line_type == \"CONTENT\":\n",
    "        detail_content += detail_line.text + '\\r\\n' # 본문 내용\n",
    "#     title = detail_line.find_elements(by=By.TAG_NAME, value='font')\n",
    "    \n",
    "#     if title and title[0].text.strip() != '' :\n",
    "# #         print(title[0].text)\n",
    "#         if 'bold' in title[0].get_attribute('style') : # bold인 것들 주제목\n",
    "#             detail_title += title[0].text + '\\r\\n'\n",
    "#         elif len(detail_title) > 0 and len(detail_content) == 0: # 제목이 이미 들어가고, 내용은 나오지 않은 경우\n",
    "#             detail_sub_title_next += title[0].text + '\\r\\n' # 부제목(뒤)\n",
    "#         elif len(detail_content) == 0:\n",
    "#             detail_sub_title_pre += title[0].text + '\\r\\n' # 부제목(앞)\n",
    "#     elif detail_line.text.strip() != '' and 'right' not in detail_line.get_attribute('style') : # 우측정렬은 글, 사진 작성자\n",
    "#         detail_content += detail_line.text + '\\r\\n'"
   ]
  },
  {
   "cell_type": "code",
   "execution_count": 109,
   "id": "45bdd286",
   "metadata": {},
   "outputs": [
    {
     "name": "stdout",
     "output_type": "stream",
     "text": [
      "\n",
      "위대한 년대의 불멸할 자욱을 길이 전하는 고귀한 재보\r\n",
      "\n",
      "지난 10년간 조국해방전쟁승리기념관에 많은 자료와 유물, 사진들이 보충전시되였다\r\n",
      "\n",
      " \r\n",
      "조국해방전쟁승리기념관은 위대한 수령 김일성동지의 불멸의 전승업적을 만대에 길이 전하는 승리전통교양의 중심지, 민족의 대국보이다.\r\n",
      "조국해방전쟁승리기념관을 세계적인 기념관으로 훌륭히 꾸리려는 우리 당의 웅대한 구상과 정력적인 령도에 의해 주체101(2012)년 9월 건설이 시작된 때로부터 지난 10년간 기념관에는 많은 사적자료와 전시유물, 사진들이 새로 발굴전시되였다.\r\n",
      "경애하는 김정은동지께서는 다음과 같이 말씀하시였다.\r\n",
      "《조국해방전쟁에서의 승리는 수령님의 탁월한 군사사상과 주체전법, 령활한 전략전술의 승리이며 수령님의 부르심을 받들고 조국을 지키기 위하여 목숨도 서슴없이 바쳐싸운 우리 군대와 인민의 불타는 애국심과 백절불굴의 투쟁정신의 승리입니다.》\r\n",
      "지금으로부터 10년전 이곳을 찾으신 경애하는 총비서동지께서는 조국해방전쟁승리기념관은 인민군군인들과 근로자들, 청년학생들을 위대한 수령님의 주체사상과 반제혁명사상, 탁월한 령군술과 군사전략전술 및 전법으로 무장시키는 훌륭한 교양거점이라고 하시면서 조국해방전쟁과 관련한 사적물들과 전시물들을 더 발굴하기 위한 사업을 심도있게 벌릴데 대하여 가르치시였다.\r\n",
      "경애하는 총비서동지의 숭고한 뜻을 높이 받들고 조국해방전쟁승리기념관 일군들과 학술연구원, 전쟁로병들과 그 유가족들, 각지 당원들과 근로자들은 전시유물, 유품발굴사업에 적극 참가하였다.\r\n",
      "조국해방전쟁승리기념관건설이 시작된 때로부터 개관할 때까지 근 1년간에만도 90여종에 1 200여점의 전시유물, 유품들이 기증되였다.\r\n",
      "그중에는 항일혁명투사 최현동지가 전쟁시기 용감하게 싸운 한 군인에게 그 무엇에도 비길수 없는 귀중한 재보라고 하면서 안겨준 위대한 수령님의 사진문헌과 우리 수령님의 친필존함이 모셔진 군공메달증서, 수령님께서 한 전사에게 주신 라지오와 사진확대기도 있다.어버이수령님의 존귀하신 영상이 모셔진 상장과 싸우는 고지의 병사들과 후방의 인민들을 위한 우편통신보장을 잘할데 대한 명령을 주신 수령님의 다심한 사랑을 전하는 유물들도 있다.\r\n",
      "또한 조선인민군 근위 서울류경수제105땅크사단에서 날린 공화국기발과 1211고지와 351고지에서 원쑤들을 전률케 한 피에 젖은 기폭들, 전화의 불구름을 헤쳐온 용사들의 군복과 훈장들, 입당청원서와 일기장, 편지, 신문, 문예작품들과 악기, 전투승리에 기여한 쌍안경과 지도, 라침판을 비롯한 유물들도 기증되였다.\r\n",
      "당시에 기증된 자료와 유물들은 개관된 조국해방전쟁승리기념관에 전시되였으며 새세대들을 1950년대 조국수호정신으로 무장시키는데 적극 이바지되였다.\r\n",
      "그후에도 조국해방전쟁승리기념관 일군들과 학술연구원, 전쟁로병들과 그 유가족들은 근 10년간 전시유물발굴사업을 꾸준히 벌려 많은 사적자료와 전시유물, 사진들을 새롭게 보충전시하였다.\r\n",
      "위대한 수령님께서 주체39(1950)년 8월 광주에까지 나가시여 서남해안방어를 강화하고 해방된 공화국남반부지역에서 당, 정권기관들을 시급히 복구정비하며 토지개혁을 비롯한 민주개혁을 빨리 실현할데 대한 가르치심을 주신 사적자료를 발굴하였고 현지지도로정사판에 보충하였다.\r\n",
      "위대한 수령님께서 주체38(1949)년 12월 18일 제11비행사단 25비행교도련대 비행사 제1회, 기술근무원 제2회 졸업생들과 함께 찍으신 기념사진을 비롯한 3상의 사진문헌과 위대한 수령님으로부터 권총을 받으시는 위대한 령도자 김정일동지의 영상을 정중히 모신 미술작품도 전시되였다.\r\n",
      "조국해방전쟁승리기념관에는 지난 10년간 10여건의 위대한 수령님의 친필명령서들과 위대한 수령님께서 주체40(1951)년 3월 26일 친히 제정하여주신 철도표식, 위대한 장군님께서 몸소 다루어보신 고사기관총, 운전법을 배우시던 승용차 등을 보여주는 사진들도 새로 전시되였다.이 사적자료들과 사진들은 백전백승의 강철의 령장이신 위대한 수령님의 불멸의 전승업적과 위대한 장군님의 위인상을 가슴깊이 새겨주는 더없이 귀중한 재보로 된다.\r\n",
      "지난 조국해방전쟁시기 인민군장병들이 가슴속에 간직하고 싸웠고 그 후손들이 수십년세월 가보처럼 보관하고있던 유물들도 새로 전시되였다.\r\n",
      "조선인민군 근위 서울류경수제105땅크사단 문화부사단장이였던 안동수동지의 유가족이 그가 받은 공화국영웅메달과 영웅증서를 보내왔다.\r\n",
      "주체40(1951)년 5월 15일 강건군관학교를 최우등으로 졸업한 리몽주동지가 받은 위대한 수령님의 영상을 모신 표창장과 졸업증, 정규무력건설시기의 조선인민군 군인선서들과 각급 군사교육기관들에서 수여한 졸업증, 조선인민군 제3군단신문 《강철부대》의 주필 리계심동지가 수여받은 군공메달증과 그의 창작수첩, 공화국영웅 로태진동지가 1211고지전투를 앞두고 다진 맹세문 등 수백점의 유물이 새로 전시되였다.\r\n",
      "후방인민투쟁관에는 위대한 수령님께 김락희다수확농민이 올린 편지와 수령님께서 그에게 보내주신 회답서한에 대하여 실은 주체41(1952)년 12월 13일부 《로동신문》이, 포병관에는 전호속에서 정치상학을 진행하고있는 박격포병구분대 군인들의 모습을 담은 사진이 전시되였으며 《적기 32대를 격추(민청지도기관 결산선거를 앞둔 조민호비행기사냥군조원들)》이라는 제목으로 주체42(1953)년 1월에 발행된 신문 《조선인민군》을 비롯한 자료들이 전시되였다.\r\n",
      "이밖에도 인민군전사들이 가렬한 전쟁의 포화속에서 진행된 조선인민군 제6차 군무자종합예술경연대회에 참가하여 찍은 사진 등 전화의 나날을 감회깊이 회고하게 하는 사진들이 전시되였다.\r\n",
      "전국각지의 전쟁로병들은 지난 조국해방전쟁시기 적들에게서 로획한 보병삽, 군용물통과 전투때 머리를 스치고 지나간 적기총탄이며 전사통지서, 적탄에 구멍이 뚫린 지도와 종군기자로 활동하면서 리용한 사진기 등 수많은 전시유물, 유품들을 기증하였다.\r\n",
      "조국해방전쟁승리기념관에 기증된 전시유물, 유품들은 전화의 나날 위대한 수령님께서 계시여 우리는 반드시 승리한다는 확고한 신심에 넘쳐 원쑤를 무찌르는 성전에 용약 떨쳐나섰던 용감한 인민군군인들의 투쟁모습을 생동하게 보여주는 산 증거물들이다.\r\n",
      "조국해방전쟁승리기념관 공화국영웅홀에 정규무력건설시기와 전쟁시기 세운 위훈으로 하여 공화국영웅칭호를 수여받은 16명의 사진과 위훈자료가 새로 전시되였다.그속에는 한장의 사진도 남기지 못하였을뿐 아니라 함께 싸운 전우들도 모두 희생된것으로 하여 위훈내용만 수록한 공화국영웅 최정웅동지의 자료도 있다.\r\n",
      "지난 10년간 위대한 조국해방전쟁과 관련된 의의있고 가치있는 사적자료, 유물, 유품들과 사진들이 많이 보충전시됨으로써 기념관의 전시내용이 더욱 풍부해지게 되였으며 조국해방전쟁사를 더 깊이있게, 과학적으로 론증할수 있는 자료들이 갖추어지게 되였다.\r\n",
      "우리 인민은 조국해방전쟁승리기념관참관을 통하여 위대한 수령님의 영원불멸할 전승업적과 1950년대 조국방위자들이 발휘한 투철한 수령결사옹위정신, 결사의 조국수호정신을 깊이 체득하게 될것이다.\r\n",
      "글 및 사진 본사기자 오은별\r\n",
      " \r\n",
      "\r\n",
      "\n"
     ]
    }
   ],
   "source": [
    "print(detail_sub_title_pre)\n",
    "print(unicodedata.normalize('NFKC', detail_title))\n",
    "print(unicodedata.normalize('NFKC', detail_sub_title_next))\n",
    "print(unicodedata.normalize('NFKC', detail_content))"
   ]
  },
  {
   "cell_type": "code",
   "execution_count": 101,
   "id": "d263f966",
   "metadata": {},
   "outputs": [],
   "source": [
    "# 팝업창 종료 후 close\n",
    "# browser.close() \n",
    "browser.switch_to.window(browser.window_handles[-1])"
   ]
  },
  {
   "cell_type": "code",
   "execution_count": null,
   "id": "c72e8632",
   "metadata": {},
   "outputs": [],
   "source": []
  }
 ],
 "metadata": {
  "kernelspec": {
   "display_name": "Python 3 (ipykernel)",
   "language": "python",
   "name": "python3"
  },
  "language_info": {
   "codemirror_mode": {
    "name": "ipython",
    "version": 3
   },
   "file_extension": ".py",
   "mimetype": "text/x-python",
   "name": "python",
   "nbconvert_exporter": "python",
   "pygments_lexer": "ipython3",
   "version": "3.8.9"
  }
 },
 "nbformat": 4,
 "nbformat_minor": 5
}
