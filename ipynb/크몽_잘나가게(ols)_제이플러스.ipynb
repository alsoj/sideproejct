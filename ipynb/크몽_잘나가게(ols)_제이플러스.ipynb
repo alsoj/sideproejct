{
 "cells": [
  {
   "cell_type": "markdown",
   "id": "9a629652",
   "metadata": {},
   "source": [
    "# selenium으로 진행"
   ]
  },
  {
   "cell_type": "code",
   "execution_count": 29,
   "id": "e656efcc",
   "metadata": {},
   "outputs": [],
   "source": [
    "from selenium import webdriver\n",
    "from selenium.webdriver.chrome.service import Service\n",
    "from webdriver_manager.chrome import ChromeDriverManager\n",
    "from selenium.webdriver.common.by import By\n",
    "\n",
    "from selenium.webdriver.support.ui import WebDriverWait\n",
    "from selenium.webdriver.support import expected_conditions as EC\n",
    "\n",
    "import psycopg2\n",
    "from itertools import product\n",
    "from time import sleep"
   ]
  },
  {
   "cell_type": "code",
   "execution_count": 78,
   "id": "3a7b55eb",
   "metadata": {},
   "outputs": [],
   "source": [
    "category = {\n",
    "    '서비스안내' : 'service'\n",
    "   ,'대출정보' : 'loans'\n",
    "   ,'기타' : 'etc'\n",
    "}"
   ]
  },
  {
   "cell_type": "code",
   "execution_count": 3,
   "id": "7dae2713",
   "metadata": {
    "scrolled": true
   },
   "outputs": [
    {
     "name": "stdout",
     "output_type": "stream",
     "text": [
      "\n"
     ]
    },
    {
     "name": "stderr",
     "output_type": "stream",
     "text": [
      "[WDM] - ====== WebDriver manager ======\n",
      "[WDM] - Current google-chrome version is 103.0.5060\n",
      "[WDM] - Get LATEST chromedriver version for 103.0.5060 google-chrome\n",
      "[WDM] - Driver [C:\\Users\\alsoj\\.wdm\\drivers\\chromedriver\\win32\\103.0.5060.134\\chromedriver.exe] found in cache\n"
     ]
    }
   ],
   "source": [
    "browser = webdriver.Chrome(service=Service(ChromeDriverManager().install()))"
   ]
  },
  {
   "cell_type": "code",
   "execution_count": 69,
   "id": "c82009d4",
   "metadata": {},
   "outputs": [],
   "source": [
    "BASE_URL = 'https://ols.sbiz.or.kr/ols/man/SMAN051M/page.do'\n",
    "DETAIL_URL = 'https://ols.sbiz.or.kr/ols/man/SMAN052M/page.do?bltwtrSeq='\n",
    "# https://ols.sbiz.or.kr/ols/man/SMAN052M/page.do?bltwtrSeq=4"
   ]
  },
  {
   "cell_type": "code",
   "execution_count": 46,
   "id": "816c03b4",
   "metadata": {},
   "outputs": [],
   "source": [
    "browser.get(BASE_URL)"
   ]
  },
  {
   "cell_type": "code",
   "execution_count": 8,
   "id": "42fd871f",
   "metadata": {},
   "outputs": [],
   "source": [
    "result_table = browser.find_element(by=By.ID, value='resultList')"
   ]
  },
  {
   "cell_type": "code",
   "execution_count": 10,
   "id": "f0338767",
   "metadata": {},
   "outputs": [],
   "source": [
    "rows = result_table.find_elements(by=By.TAG_NAME, value='tr')"
   ]
  },
  {
   "cell_type": "code",
   "execution_count": 13,
   "id": "cd595c82",
   "metadata": {},
   "outputs": [],
   "source": [
    "detail = browser.find_element(by=By.CLASS_NAME, value='board_view')"
   ]
  },
  {
   "cell_type": "code",
   "execution_count": 18,
   "id": "04494c22",
   "metadata": {},
   "outputs": [],
   "source": [
    "detail_title = detail.find_element(by=By.CLASS_NAME, value='fl_l').text"
   ]
  },
  {
   "cell_type": "code",
   "execution_count": 20,
   "id": "2bf4de45",
   "metadata": {},
   "outputs": [],
   "source": [
    "detail_infos = detail.find_element(by=By.CLASS_NAME, value='bvt_class').find_elements(by=By.TAG_NAME, value='li')"
   ]
  },
  {
   "cell_type": "code",
   "execution_count": 79,
   "id": "0bf67bfe",
   "metadata": {},
   "outputs": [
    {
     "ename": "StaleElementReferenceException",
     "evalue": "Message: stale element reference: element is not attached to the page document\n  (Session info: chrome=103.0.5060.134)\nStacktrace:\nBacktrace:\n\tOrdinal0 [0x00415FD3+2187219]\n\tOrdinal0 [0x003AE6D1+1763025]\n\tOrdinal0 [0x002C3E78+802424]\n\tOrdinal0 [0x002C6854+813140]\n\tOrdinal0 [0x002C6712+812818]\n\tOrdinal0 [0x002C69A0+813472]\n\tOrdinal0 [0x002ED6EF+972527]\n\tOrdinal0 [0x0030CB8C+1100684]\n\tOrdinal0 [0x002E8394+951188]\n\tOrdinal0 [0x0030CDA4+1101220]\n\tOrdinal0 [0x0031CFC2+1167298]\n\tOrdinal0 [0x0030C9A6+1100198]\n\tOrdinal0 [0x002E6F80+946048]\n\tOrdinal0 [0x002E7E76+949878]\n\tGetHandleVerifier [0x006B90C2+2721218]\n\tGetHandleVerifier [0x006AAAF0+2662384]\n\tGetHandleVerifier [0x004A137A+526458]\n\tGetHandleVerifier [0x004A0416+522518]\n\tOrdinal0 [0x003B4EAB+1789611]\n\tOrdinal0 [0x003B97A8+1808296]\n\tOrdinal0 [0x003B9895+1808533]\n\tOrdinal0 [0x003C26C1+1844929]\n\tBaseThreadInitThunk [0x7570FA29+25]\n\tRtlGetAppContainerNamedObjectPath [0x77807A9E+286]\n\tRtlGetAppContainerNamedObjectPath [0x77807A6E+238]\n",
     "output_type": "error",
     "traceback": [
      "\u001b[1;31m---------------------------------------------------------------------------\u001b[0m",
      "\u001b[1;31mStaleElementReferenceException\u001b[0m            Traceback (most recent call last)",
      "\u001b[1;32m<ipython-input-79-8ef5b553a523>\u001b[0m in \u001b[0;36m<module>\u001b[1;34m\u001b[0m\n\u001b[0;32m      4\u001b[0m \u001b[1;33m\u001b[0m\u001b[0m\n\u001b[0;32m      5\u001b[0m \u001b[1;32mfor\u001b[0m \u001b[0mdetail_info\u001b[0m \u001b[1;32min\u001b[0m \u001b[0mdetail_infos\u001b[0m\u001b[1;33m:\u001b[0m\u001b[1;33m\u001b[0m\u001b[1;33m\u001b[0m\u001b[0m\n\u001b[1;32m----> 6\u001b[1;33m     \u001b[0mkey\u001b[0m \u001b[1;33m=\u001b[0m \u001b[0mdetail_info\u001b[0m\u001b[1;33m.\u001b[0m\u001b[0mtext\u001b[0m\u001b[1;33m\u001b[0m\u001b[1;33m\u001b[0m\u001b[0m\n\u001b[0m\u001b[0;32m      7\u001b[0m     \u001b[0mvalue\u001b[0m \u001b[1;33m=\u001b[0m \u001b[0mdetail_info\u001b[0m\u001b[1;33m.\u001b[0m\u001b[0mtext\u001b[0m\u001b[1;33m.\u001b[0m\u001b[0msplit\u001b[0m\u001b[1;33m(\u001b[0m\u001b[1;34m':'\u001b[0m\u001b[1;33m)\u001b[0m\u001b[1;33m[\u001b[0m\u001b[1;33m-\u001b[0m\u001b[1;36m1\u001b[0m\u001b[1;33m]\u001b[0m\u001b[1;33m\u001b[0m\u001b[1;33m\u001b[0m\u001b[0m\n\u001b[0;32m      8\u001b[0m     \u001b[1;32mif\u001b[0m \u001b[1;34m'구분'\u001b[0m \u001b[1;32min\u001b[0m \u001b[0mkey\u001b[0m\u001b[1;33m:\u001b[0m\u001b[1;33m\u001b[0m\u001b[1;33m\u001b[0m\u001b[0m\n",
      "\u001b[1;32m~\\Anaconda3\\envs\\backtest\\lib\\site-packages\\selenium\\webdriver\\remote\\webelement.py\u001b[0m in \u001b[0;36mtext\u001b[1;34m(self)\u001b[0m\n\u001b[0;32m     75\u001b[0m     \u001b[1;32mdef\u001b[0m \u001b[0mtext\u001b[0m\u001b[1;33m(\u001b[0m\u001b[0mself\u001b[0m\u001b[1;33m)\u001b[0m \u001b[1;33m->\u001b[0m \u001b[0mstr\u001b[0m\u001b[1;33m:\u001b[0m\u001b[1;33m\u001b[0m\u001b[1;33m\u001b[0m\u001b[0m\n\u001b[0;32m     76\u001b[0m         \u001b[1;34m\"\"\"The text of the element.\"\"\"\u001b[0m\u001b[1;33m\u001b[0m\u001b[1;33m\u001b[0m\u001b[0m\n\u001b[1;32m---> 77\u001b[1;33m         \u001b[1;32mreturn\u001b[0m \u001b[0mself\u001b[0m\u001b[1;33m.\u001b[0m\u001b[0m_execute\u001b[0m\u001b[1;33m(\u001b[0m\u001b[0mCommand\u001b[0m\u001b[1;33m.\u001b[0m\u001b[0mGET_ELEMENT_TEXT\u001b[0m\u001b[1;33m)\u001b[0m\u001b[1;33m[\u001b[0m\u001b[1;34m'value'\u001b[0m\u001b[1;33m]\u001b[0m\u001b[1;33m\u001b[0m\u001b[1;33m\u001b[0m\u001b[0m\n\u001b[0m\u001b[0;32m     78\u001b[0m \u001b[1;33m\u001b[0m\u001b[0m\n\u001b[0;32m     79\u001b[0m     \u001b[1;32mdef\u001b[0m \u001b[0mclick\u001b[0m\u001b[1;33m(\u001b[0m\u001b[0mself\u001b[0m\u001b[1;33m)\u001b[0m \u001b[1;33m->\u001b[0m \u001b[1;32mNone\u001b[0m\u001b[1;33m:\u001b[0m\u001b[1;33m\u001b[0m\u001b[1;33m\u001b[0m\u001b[0m\n",
      "\u001b[1;32m~\\Anaconda3\\envs\\backtest\\lib\\site-packages\\selenium\\webdriver\\remote\\webelement.py\u001b[0m in \u001b[0;36m_execute\u001b[1;34m(self, command, params)\u001b[0m\n\u001b[0;32m    738\u001b[0m             \u001b[0mparams\u001b[0m \u001b[1;33m=\u001b[0m \u001b[1;33m{\u001b[0m\u001b[1;33m}\u001b[0m\u001b[1;33m\u001b[0m\u001b[1;33m\u001b[0m\u001b[0m\n\u001b[0;32m    739\u001b[0m         \u001b[0mparams\u001b[0m\u001b[1;33m[\u001b[0m\u001b[1;34m'id'\u001b[0m\u001b[1;33m]\u001b[0m \u001b[1;33m=\u001b[0m \u001b[0mself\u001b[0m\u001b[1;33m.\u001b[0m\u001b[0m_id\u001b[0m\u001b[1;33m\u001b[0m\u001b[1;33m\u001b[0m\u001b[0m\n\u001b[1;32m--> 740\u001b[1;33m         \u001b[1;32mreturn\u001b[0m \u001b[0mself\u001b[0m\u001b[1;33m.\u001b[0m\u001b[0m_parent\u001b[0m\u001b[1;33m.\u001b[0m\u001b[0mexecute\u001b[0m\u001b[1;33m(\u001b[0m\u001b[0mcommand\u001b[0m\u001b[1;33m,\u001b[0m \u001b[0mparams\u001b[0m\u001b[1;33m)\u001b[0m\u001b[1;33m\u001b[0m\u001b[1;33m\u001b[0m\u001b[0m\n\u001b[0m\u001b[0;32m    741\u001b[0m \u001b[1;33m\u001b[0m\u001b[0m\n\u001b[0;32m    742\u001b[0m     \u001b[1;32mdef\u001b[0m \u001b[0mfind_element\u001b[0m\u001b[1;33m(\u001b[0m\u001b[0mself\u001b[0m\u001b[1;33m,\u001b[0m \u001b[0mby\u001b[0m\u001b[1;33m=\u001b[0m\u001b[0mBy\u001b[0m\u001b[1;33m.\u001b[0m\u001b[0mID\u001b[0m\u001b[1;33m,\u001b[0m \u001b[0mvalue\u001b[0m\u001b[1;33m=\u001b[0m\u001b[1;32mNone\u001b[0m\u001b[1;33m)\u001b[0m\u001b[1;33m:\u001b[0m\u001b[1;33m\u001b[0m\u001b[1;33m\u001b[0m\u001b[0m\n",
      "\u001b[1;32m~\\Anaconda3\\envs\\backtest\\lib\\site-packages\\selenium\\webdriver\\remote\\webdriver.py\u001b[0m in \u001b[0;36mexecute\u001b[1;34m(self, driver_command, params)\u001b[0m\n\u001b[0;32m    428\u001b[0m         \u001b[0mresponse\u001b[0m \u001b[1;33m=\u001b[0m \u001b[0mself\u001b[0m\u001b[1;33m.\u001b[0m\u001b[0mcommand_executor\u001b[0m\u001b[1;33m.\u001b[0m\u001b[0mexecute\u001b[0m\u001b[1;33m(\u001b[0m\u001b[0mdriver_command\u001b[0m\u001b[1;33m,\u001b[0m \u001b[0mparams\u001b[0m\u001b[1;33m)\u001b[0m\u001b[1;33m\u001b[0m\u001b[1;33m\u001b[0m\u001b[0m\n\u001b[0;32m    429\u001b[0m         \u001b[1;32mif\u001b[0m \u001b[0mresponse\u001b[0m\u001b[1;33m:\u001b[0m\u001b[1;33m\u001b[0m\u001b[1;33m\u001b[0m\u001b[0m\n\u001b[1;32m--> 430\u001b[1;33m             \u001b[0mself\u001b[0m\u001b[1;33m.\u001b[0m\u001b[0merror_handler\u001b[0m\u001b[1;33m.\u001b[0m\u001b[0mcheck_response\u001b[0m\u001b[1;33m(\u001b[0m\u001b[0mresponse\u001b[0m\u001b[1;33m)\u001b[0m\u001b[1;33m\u001b[0m\u001b[1;33m\u001b[0m\u001b[0m\n\u001b[0m\u001b[0;32m    431\u001b[0m             response['value'] = self._unwrap_value(\n\u001b[0;32m    432\u001b[0m                 response.get('value', None))\n",
      "\u001b[1;32m~\\Anaconda3\\envs\\backtest\\lib\\site-packages\\selenium\\webdriver\\remote\\errorhandler.py\u001b[0m in \u001b[0;36mcheck_response\u001b[1;34m(self, response)\u001b[0m\n\u001b[0;32m    245\u001b[0m                 \u001b[0malert_text\u001b[0m \u001b[1;33m=\u001b[0m \u001b[0mvalue\u001b[0m\u001b[1;33m[\u001b[0m\u001b[1;34m'alert'\u001b[0m\u001b[1;33m]\u001b[0m\u001b[1;33m.\u001b[0m\u001b[0mget\u001b[0m\u001b[1;33m(\u001b[0m\u001b[1;34m'text'\u001b[0m\u001b[1;33m)\u001b[0m\u001b[1;33m\u001b[0m\u001b[1;33m\u001b[0m\u001b[0m\n\u001b[0;32m    246\u001b[0m             \u001b[1;32mraise\u001b[0m \u001b[0mexception_class\u001b[0m\u001b[1;33m(\u001b[0m\u001b[0mmessage\u001b[0m\u001b[1;33m,\u001b[0m \u001b[0mscreen\u001b[0m\u001b[1;33m,\u001b[0m \u001b[0mstacktrace\u001b[0m\u001b[1;33m,\u001b[0m \u001b[0malert_text\u001b[0m\u001b[1;33m)\u001b[0m  \u001b[1;31m# type: ignore[call-arg]  # mypy is not smart enough here\u001b[0m\u001b[1;33m\u001b[0m\u001b[1;33m\u001b[0m\u001b[0m\n\u001b[1;32m--> 247\u001b[1;33m         \u001b[1;32mraise\u001b[0m \u001b[0mexception_class\u001b[0m\u001b[1;33m(\u001b[0m\u001b[0mmessage\u001b[0m\u001b[1;33m,\u001b[0m \u001b[0mscreen\u001b[0m\u001b[1;33m,\u001b[0m \u001b[0mstacktrace\u001b[0m\u001b[1;33m)\u001b[0m\u001b[1;33m\u001b[0m\u001b[1;33m\u001b[0m\u001b[0m\n\u001b[0m\u001b[0;32m    248\u001b[0m \u001b[1;33m\u001b[0m\u001b[0m\n\u001b[0;32m    249\u001b[0m     \u001b[1;32mdef\u001b[0m \u001b[0m_value_or_default\u001b[0m\u001b[1;33m(\u001b[0m\u001b[0mself\u001b[0m\u001b[1;33m,\u001b[0m \u001b[0mobj\u001b[0m\u001b[1;33m:\u001b[0m \u001b[0mMapping\u001b[0m\u001b[1;33m[\u001b[0m\u001b[0m_KT\u001b[0m\u001b[1;33m,\u001b[0m \u001b[0m_VT\u001b[0m\u001b[1;33m]\u001b[0m\u001b[1;33m,\u001b[0m \u001b[0mkey\u001b[0m\u001b[1;33m:\u001b[0m \u001b[0m_KT\u001b[0m\u001b[1;33m,\u001b[0m \u001b[0mdefault\u001b[0m\u001b[1;33m:\u001b[0m \u001b[0m_VT\u001b[0m\u001b[1;33m)\u001b[0m \u001b[1;33m->\u001b[0m \u001b[0m_VT\u001b[0m\u001b[1;33m:\u001b[0m\u001b[1;33m\u001b[0m\u001b[1;33m\u001b[0m\u001b[0m\n",
      "\u001b[1;31mStaleElementReferenceException\u001b[0m: Message: stale element reference: element is not attached to the page document\n  (Session info: chrome=103.0.5060.134)\nStacktrace:\nBacktrace:\n\tOrdinal0 [0x00415FD3+2187219]\n\tOrdinal0 [0x003AE6D1+1763025]\n\tOrdinal0 [0x002C3E78+802424]\n\tOrdinal0 [0x002C6854+813140]\n\tOrdinal0 [0x002C6712+812818]\n\tOrdinal0 [0x002C69A0+813472]\n\tOrdinal0 [0x002ED6EF+972527]\n\tOrdinal0 [0x0030CB8C+1100684]\n\tOrdinal0 [0x002E8394+951188]\n\tOrdinal0 [0x0030CDA4+1101220]\n\tOrdinal0 [0x0031CFC2+1167298]\n\tOrdinal0 [0x0030C9A6+1100198]\n\tOrdinal0 [0x002E6F80+946048]\n\tOrdinal0 [0x002E7E76+949878]\n\tGetHandleVerifier [0x006B90C2+2721218]\n\tGetHandleVerifier [0x006AAAF0+2662384]\n\tGetHandleVerifier [0x004A137A+526458]\n\tGetHandleVerifier [0x004A0416+522518]\n\tOrdinal0 [0x003B4EAB+1789611]\n\tOrdinal0 [0x003B97A8+1808296]\n\tOrdinal0 [0x003B9895+1808533]\n\tOrdinal0 [0x003C26C1+1844929]\n\tBaseThreadInitThunk [0x7570FA29+25]\n\tRtlGetAppContainerNamedObjectPath [0x77807A9E+286]\n\tRtlGetAppContainerNamedObjectPath [0x77807A6E+238]\n"
     ]
    }
   ],
   "source": [
    "gb = ''\n",
    "reg_dt = ''\n",
    "view_cnt = ''\n",
    "\n",
    "for detail_info in detail_infos:\n",
    "    key = detail_info.text\n",
    "    value = detail_info.text.split(':')[-1]\n",
    "    if '구분' in key:\n",
    "        gb = category[value]\n",
    "    elif '등록일' in key:\n",
    "        reg_dt = value\n",
    "    elif '조회수' in key:\n",
    "        view_cnt= value"
   ]
  },
  {
   "cell_type": "code",
   "execution_count": 28,
   "id": "392442b0",
   "metadata": {
    "scrolled": false
   },
   "outputs": [
    {
     "data": {
      "text/plain": [
       "'온라인으로 대리대출 확인서발급 신청 완료 후,\\n자금명, 사업자번호, 대표자 변경 등의 사유로 센터 현장접수로 진행해야 할 경우\\n붙임 파일을 작성하시어 해당 지역센터로 제출해주시기 바랍니다.'"
      ]
     },
     "execution_count": 28,
     "metadata": {},
     "output_type": "execute_result"
    }
   ],
   "source": [
    "content = detail.find_element(by=By.ID, value='cntnDiv').text\n",
    "content"
   ]
  },
  {
   "cell_type": "code",
   "execution_count": 65,
   "id": "a9088f63",
   "metadata": {},
   "outputs": [],
   "source": [
    "def get_recent_id(browser):\n",
    "    browser.get(BASE_URL)\n",
    "    return int(browser.find_element(by=By.CLASS_NAME, value='nt_01').text)"
   ]
  },
  {
   "cell_type": "code",
   "execution_count": 66,
   "id": "1f4d29a4",
   "metadata": {
    "scrolled": true
   },
   "outputs": [],
   "source": [
    "recent_id = get_recent_id(browser)\n",
    "max_id = get_max_id()"
   ]
  },
  {
   "cell_type": "code",
   "execution_count": 81,
   "id": "1b5c6da3",
   "metadata": {},
   "outputs": [
    {
     "name": "stdout",
     "output_type": "stream",
     "text": [
      "없는 페이지 pass1\n",
      "없는 페이지 pass2\n",
      "없는 페이지 pass3\n",
      "없는 페이지 pass5\n",
      "없는 페이지 pass6\n",
      "없는 페이지 pass7\n",
      "없는 페이지 pass11\n",
      "없는 페이지 pass12\n",
      "없는 페이지 pass13\n",
      "없는 페이지 pass14\n",
      "없는 페이지 pass15\n",
      "없는 페이지 pass16\n",
      "없는 페이지 pass17\n",
      "없는 페이지 pass24\n",
      "없는 페이지 pass26\n",
      "없는 페이지 pass27\n",
      "없는 페이지 pass28\n",
      "없는 페이지 pass29\n",
      "없는 페이지 pass30\n",
      "없는 페이지 pass37\n",
      "없는 페이지 pass48\n",
      "없는 페이지 pass51\n",
      "없는 페이지 pass56\n"
     ]
    }
   ],
   "source": [
    "for i in range(max_id+1, recent_id+1):\n",
    "    try:\n",
    "        title = ''\n",
    "        gb = ''\n",
    "        reg_dt = ''\n",
    "        view_cnt = ''    \n",
    "        content = ''\n",
    "        url = DETAIL_URL + str(i)\n",
    "        browser.get(url)\n",
    "\n",
    "        detail = WebDriverWait(browser, 3).until(EC.presence_of_element_located((By.CLASS_NAME, \"board_view\")))\n",
    "#         detail = browser.find_element(by=By.CLASS_NAME, value='board_view')\n",
    "        title = detail.find_element(by=By.CLASS_NAME, value='fl_l').text\n",
    "\n",
    "        detail_infos = detail.find_element(by=By.CLASS_NAME, value='bvt_class').find_elements(by=By.TAG_NAME, value='li')\n",
    "        for detail_info in detail_infos:\n",
    "            key = detail_info.text\n",
    "            value = detail_info.text.split(':')[-1]\n",
    "            if '구분' in key:\n",
    "                gb = category[value]\n",
    "            elif '등록일' in key:\n",
    "                reg_dt = value\n",
    "            elif '조회수' in key:\n",
    "                view_cnt= value\n",
    "\n",
    "        content = detail.find_element(by=By.ID, value='cntnDiv').text\n",
    "        insert_ols([str(i), title, gb, reg_dt, content, view_cnt, url])\n",
    "        \n",
    "    except Exception as e:\n",
    "        print('없는 페이지 pass' + str(i))\n",
    "        continue"
   ]
  },
  {
   "cell_type": "code",
   "execution_count": 62,
   "id": "9bf08dce",
   "metadata": {},
   "outputs": [],
   "source": [
    "def get_max_id():\n",
    "    \n",
    "    sql = \"\"\"\n",
    "            select COALESCE(MAX(ID),0) \n",
    "            from tb_crawling_ols_intrf\n",
    "            ;\n",
    "         \"\"\"\n",
    "    conn = None\n",
    "    max_id = 0\n",
    "    \n",
    "    try:\n",
    "        conn = psycopg2.connect(host='58.120.227.138', dbname='kt_jalnagage',user='postgres',password='Wjdrlwjd1!',port=5432)\n",
    "        cur = conn.cursor()\n",
    "        \n",
    "        cur.execute(sql)\n",
    "        max_id = cur.fetchone()[0]\n",
    "        \n",
    "        \n",
    "    except (Exception, psycopg2.DatabaseError) as error:\n",
    "        print(error)\n",
    "    finally:\n",
    "        if conn is not None:\n",
    "            conn.close()\n",
    "    \n",
    "    return max_id"
   ]
  },
  {
   "cell_type": "code",
   "execution_count": 80,
   "id": "b048a2fc",
   "metadata": {},
   "outputs": [],
   "source": [
    "def insert_ols(params):\n",
    "    \n",
    "    sql = \"\"\"INSERT INTO tb_crawling_ols_intrf(id, title, gb, reg_dt, contents, view_cnt, url, interface_dt)\n",
    "             VALUES(%s, %s, %s, %s, %s, %s, %s, now());\"\"\"\n",
    "    conn = None\n",
    "\n",
    "    try:\n",
    "        conn = psycopg2.connect(host='58.120.227.138', dbname='kt_jalnagage',user='postgres',password='Wjdrlwjd1!',port=5432)\n",
    "        cur = conn.cursor()\n",
    "        \n",
    "        cur.execute(sql, params)\n",
    "        conn.commit()\n",
    "        cur.close()\n",
    "        \n",
    "    except (Exception, psycopg2.DatabaseError) as error:\n",
    "        print(error)\n",
    "    finally:\n",
    "        if conn is not None:\n",
    "            conn.close()"
   ]
  },
  {
   "cell_type": "code",
   "execution_count": null,
   "id": "679b15a8",
   "metadata": {},
   "outputs": [],
   "source": []
  }
 ],
 "metadata": {
  "kernelspec": {
   "display_name": "Python 3",
   "language": "python",
   "name": "python3"
  },
  "language_info": {
   "codemirror_mode": {
    "name": "ipython",
    "version": 3
   },
   "file_extension": ".py",
   "mimetype": "text/x-python",
   "name": "python",
   "nbconvert_exporter": "python",
   "pygments_lexer": "ipython3",
   "version": "3.7.9"
  }
 },
 "nbformat": 4,
 "nbformat_minor": 5
}
