{
 "cells": [
  {
   "cell_type": "code",
   "execution_count": 3,
   "id": "3cca0247",
   "metadata": {},
   "outputs": [],
   "source": [
    "from selenium import webdriver\n",
    "from selenium.webdriver.chrome.service import Service\n",
    "from webdriver_manager.chrome import ChromeDriverManager\n",
    "from selenium.webdriver.common.by import By\n",
    "\n",
    "from time import sleep\n",
    "import os\n",
    "import pandas as pd\n",
    "import json\n",
    "from openpyxl import Workbook, load_workbook"
   ]
  },
  {
   "cell_type": "code",
   "execution_count": 4,
   "id": "fee5e3c1",
   "metadata": {
    "scrolled": true
   },
   "outputs": [
    {
     "name": "stdout",
     "output_type": "stream",
     "text": [
      "\n"
     ]
    },
    {
     "name": "stderr",
     "output_type": "stream",
     "text": [
      "[WDM] - ====== WebDriver manager ======\n",
      "[WDM] - Current google-chrome version is 103.0.5060\n",
      "[WDM] - Get LATEST chromedriver version for 103.0.5060 google-chrome\n",
      "[WDM] - About to download new driver from https://chromedriver.storage.googleapis.com/103.0.5060.53/chromedriver_win32.zip\n",
      "[WDM] - Driver has been saved in cache [C:\\Users\\alsoj\\.wdm\\drivers\\chromedriver\\win32\\103.0.5060.53]\n"
     ]
    }
   ],
   "source": [
    "browser = webdriver.Chrome(service=Service(ChromeDriverManager().install()))"
   ]
  },
  {
   "cell_type": "code",
   "execution_count": 5,
   "id": "6ca60b78",
   "metadata": {},
   "outputs": [],
   "source": [
    "INIT_URL = 'https://www.sociolla.com/139-makeup?sort=-review_stats.total_reviews'"
   ]
  },
  {
   "cell_type": "markdown",
   "id": "c52ef6cf",
   "metadata": {},
   "source": [
    "## 제품 리스트 크롤링"
   ]
  },
  {
   "cell_type": "code",
   "execution_count": 6,
   "id": "695cc5a1",
   "metadata": {},
   "outputs": [],
   "source": [
    "browser.get(INIT_URL)"
   ]
  },
  {
   "cell_type": "code",
   "execution_count": 7,
   "id": "3345b612",
   "metadata": {},
   "outputs": [],
   "source": [
    "product_list = browser.find_elements(by=By.CLASS_NAME, value='product__thumb')"
   ]
  },
  {
   "cell_type": "code",
   "execution_count": 10,
   "id": "bd93ce2e",
   "metadata": {},
   "outputs": [
    {
     "name": "stdout",
     "output_type": "stream",
     "text": [
      "https://www.sociolla.com/lip-cream/4046-exclusive-matte-lip-cream\n",
      "https://www.sociolla.com/blush/2225-cheeklit-cream-blush\n",
      "https://www.sociolla.com/lip-cream/4726-creamatte-lipstick\n",
      "https://www.sociolla.com/blush/3949-cheeklit-pressed-blush\n",
      "https://www.sociolla.com/lip-cream/4738-intense-matte-lip-cream\n",
      "https://www.sociolla.com/mascara/7865-volum-express-hyper-curl-mascara\n",
      "https://www.sociolla.com/lip-tint/9647-magic-potion\n",
      "https://www.sociolla.com/lip-cream/9696-perfect-matte-lip-coat\n",
      "https://www.sociolla.com/bb-cc-cream/2224-beauty-bliss-bb-cream\n",
      "https://www.sociolla.com/face-primer/7719-baby-skin-pore-smoother-foundation\n",
      "https://www.sociolla.com/lip-tint/9573-everyday-cheek-and-lip-tint\n",
      "https://www.sociolla.com/makeup/4378-intense-matte-lipstick\n",
      "https://www.sociolla.com/concealer/4655-fitme-concealer\n",
      "https://www.sociolla.com/lip-cream/7247-lip-coat\n",
      "https://www.sociolla.com/lip-cream/9555-superstay-matte-ink\n",
      "https://www.sociolla.com/setting-spray/14403-aqua-beauty-protecting-mist\n"
     ]
    }
   ],
   "source": [
    "for product in product_list:\n",
    "    print(product.find_element(by=By.TAG_NAME, value='a').get_attribute('href'))"
   ]
  },
  {
   "cell_type": "markdown",
   "id": "3651960a",
   "metadata": {},
   "source": [
    "## 제품 상세 크롤링"
   ]
  },
  {
   "cell_type": "code",
   "execution_count": null,
   "id": "2f936582",
   "metadata": {},
   "outputs": [],
   "source": []
  }
 ],
 "metadata": {
  "kernelspec": {
   "display_name": "Python 3",
   "language": "python",
   "name": "python3"
  },
  "language_info": {
   "codemirror_mode": {
    "name": "ipython",
    "version": 3
   },
   "file_extension": ".py",
   "mimetype": "text/x-python",
   "name": "python",
   "nbconvert_exporter": "python",
   "pygments_lexer": "ipython3",
   "version": "3.7.9"
  }
 },
 "nbformat": 4,
 "nbformat_minor": 5
}
