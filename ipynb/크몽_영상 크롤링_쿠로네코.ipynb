{
 "cells": [
  {
   "cell_type": "code",
   "execution_count": 1,
   "metadata": {},
   "outputs": [],
   "source": [
    "import requests\n",
    "from bs4 import BeautifulSoup\n",
    "\n",
    "from selenium import webdriver\n",
    "from selenium.webdriver.chrome.service import Service\n",
    "from webdriver_manager.chrome import ChromeDriverManager\n",
    "from selenium.webdriver.common.by import By\n",
    "# import selenium_func\n",
    "from selenium.webdriver.common.desired_capabilities import DesiredCapabilities\n",
    "\n",
    "import json\n",
    "import urllib"
   ]
  },
  {
   "cell_type": "code",
   "execution_count": 83,
   "metadata": {
    "scrolled": true
   },
   "outputs": [
    {
     "name": "stdout",
     "output_type": "stream",
     "text": [
      "\n"
     ]
    }
   ],
   "source": [
    "browser = webdriver.Chrome(service=Service(ChromeDriverManager().install()))"
   ]
  },
  {
   "cell_type": "code",
   "execution_count": 84,
   "metadata": {},
   "outputs": [],
   "source": [
    "MOVIE_URL = 'https://mobikf.ncctvgroup.com/player/v366478-sub-1/'\n",
    "MOVIE_SAVE_PATH = './output/'"
   ]
  },
  {
   "cell_type": "code",
   "execution_count": 85,
   "metadata": {},
   "outputs": [],
   "source": [
    "browser.get(MOVIE_URL)"
   ]
  },
  {
   "cell_type": "code",
   "execution_count": 35,
   "metadata": {},
   "outputs": [],
   "source": [
    "iframes = browser.find_elements(by=By.TAG_NAME, value='iframe')"
   ]
  },
  {
   "cell_type": "code",
   "execution_count": 36,
   "metadata": {},
   "outputs": [],
   "source": [
    "player_idx = 0\n",
    "for idx, iframe in enumerate(iframes):\n",
    "    if 'google' not in iframe.get_attribute('src'):\n",
    "        player_idx = idx"
   ]
  },
  {
   "cell_type": "code",
   "execution_count": 37,
   "metadata": {},
   "outputs": [],
   "source": [
    "browser.switch_to.frame(player_idx)"
   ]
  },
  {
   "cell_type": "code",
   "execution_count": 38,
   "metadata": {},
   "outputs": [],
   "source": [
    "iframes = browser.find_elements(by=By.TAG_NAME, value='iframe')\n",
    "if len(iframes) > 0:\n",
    "    browser.switch_to.frame(0)\n",
    "video = browser.find_element(by=By.TAG_NAME, value='video')\n",
    "video_url = video.get_attribute(\"src\")"
   ]
  },
  {
   "cell_type": "code",
   "execution_count": 39,
   "metadata": {
    "scrolled": true
   },
   "outputs": [
    {
     "data": {
      "text/plain": [
       "'blob:https://kfani.me/3844d4bc-c686-46c2-ae07-b04acfe58260'"
      ]
     },
     "execution_count": 39,
     "metadata": {},
     "output_type": "execute_result"
    }
   ],
   "source": [
    "video_url"
   ]
  },
  {
   "cell_type": "code",
   "execution_count": 10,
   "metadata": {},
   "outputs": [],
   "source": [
    "caption_url = 'https://kfani.me/s/358928m.vtt'"
   ]
  },
  {
   "cell_type": "code",
   "execution_count": 61,
   "metadata": {},
   "outputs": [],
   "source": [
    "m3u8_url = 'https://ani1.app/player/index.php?data=366478m1'"
   ]
  },
  {
   "cell_type": "code",
   "execution_count": 64,
   "metadata": {},
   "outputs": [],
   "source": [
    "request_headers = {\n",
    "  \"user-agent\": \"Mozilla/5.0 (Windows NT 10.0; Win64; x64) AppleWebKit/537.36 (KHTML, like Gecko) Chrome/102.0.0.0 Safari/537.36\",\n",
    "  \"content-type\": \"application/json\",\n",
    "  \"referer\": \"https://kfani.me/\",\n",
    "}\n",
    "\n",
    "res = requests.get(m3u8_url, headers=request_headers)"
   ]
  },
  {
   "cell_type": "code",
   "execution_count": 68,
   "metadata": {},
   "outputs": [
    {
     "data": {
      "text/plain": [
       "'    <html>\\r\\n    <head>\\r\\n        <meta charset=\"utf-8\">\\r\\n        <meta http-equiv=\"x-ua-compatible\" content=\"ie=edge\">\\r\\n        <title>Embed Stream</title>\\r\\n        <meta name=\"viewport\" content=\"width=device-width, initial-scale=1\">\\r\\n        <link rel=\"stylesheet\" href=\"https://cdn.jsdelivr.net/npm/bootstrap@3.3.7/dist/css/bootstrap.min.css\">\\r\\n        <script src=\"/player/assets/js/jquery.min.js?v=1\"></script>\\r\\n\\r\\n        <link rel=\"stylesheet\" href=\"/player/assets/css/style.css\">\\r\\n                            <script type=\"text/javascript\">\\r\\n                document.addEventListener(\\'contextmenu\\', event => event.preventDefault());\\r\\n                document.addEventListener(\"keydown\", function (event) {\\r\\n                    if (event.keyCode === 123) {\\r\\n                        window.location.replace(\"https://ani1.app/player/no_video.html\");\\r\\n                    }\\r\\n                })\\r\\n                !function () {\\r\\n                    !function e() {\\r\\n                        try {\\r\\n                            !function t(e) {\\r\\n                                (1 !== (\"\" + e / e).length || e % 20 === 0) && function () {\\r\\n                                }.constructor(\"debugger\")(), t(++e)\\r\\n                            }(0)\\r\\n                        } catch (n) {\\r\\n                            setTimeout(e, 1e3)\\r\\n                        }\\r\\n                    }()\\r\\n                }();\\r\\n            </script>\\r\\n\\r\\n            <script type=\"text/javascript\">\\r\\n                !function () {\\r\\n                    /*referans:box*/\\r\\n                    navigator.userAgent.match(/Android/i) || navigator.userAgent.match(/webOS/i) || navigator.userAgent.match(/iPhone/i) || navigator.userAgent.match(/iPad/i) || navigator.userAgent.match(/iPod/i) || navigator.userAgent.match(/BlackBerry/i) || navigator.userAgent.match(/Windows Phone/i) || (devtoolsDetector.addListener(function (t, e) {\\r\\n                        t && (document.location.href = \"https://ani1.app/player/no_video.html\")\\r\\n                    }), devtoolsDetector.lanuch())\\r\\n                }();\\r\\n            </script>\\r\\n            <body>\\r\\n    <div class=\"wrapper\">\\r\\n        <div class=\"control-wrapper\">\\r\\n            <label for=\"server-list\">Server::</label>\\r\\n            <select id=\"server-list\">\\r\\n                                                                                <option class=\"active\" value=\"https://kfani.me/k/k/ds/27.php?url=366478m1&id=366478m1\">\\r\\n                            D27                        </option>\\r\\n                                                                    <option class=\"\" value=\"https://kfani.me/k/k/27.php?url=366478m1&id=366478m1\">\\r\\n                            K27                        </option>\\r\\n                                                            \\r\\n            </select>\\r\\n        </div>\\r\\n        <div id=\"player\">\\r\\n            <iframe src=\"https://kfani.me/k/k/ds/27.php?url=366478m1&id=366478m1\" width=\"100%\" height=\"100%\" frameborder=\"0\"\\r\\n                    allowfullscreen=\"allowfullscreen\"></iframe>\\r\\n        </div>\\r\\n    </div>\\r\\n    <script type=\"text/javascript\">\\r\\n        $(document).ready(function () {\\r\\n            $(\".wrapper\").mouseover(function () {\\r\\n                $(\\'.control-wrapper\\').addClass(\\'active\\');\\r\\n            });\\r\\n            $(\".wrapper\").mouseout(function () {\\r\\n                $(\\'.control-wrapper\\').removeClass(\\'active\\');\\r\\n            });\\r\\n\\r\\n            function loadMovieServer(link) {\\r\\n                // $(\"#player\").html(\"<div class=\\\\\"alert-center alert-loading\\\\\" id=\\\\\"content-loading\\\\\" style=\\\\\"display: block;\\\\\">\\\\n\" +\\r\\n                //     \"            \\\\n\" +\\r\\n                //     \"            <div class=\\\\\"alert\\\\\">\\\\n\" +\\r\\n                //     \"                <div class=\\\\\"alert-content\\\\\">\\\\n\" +\\r\\n                //     \"                    <div class=\\\\\"loading-icon\\\\\">\\\\n\" +\\r\\n                //     \"                        <div class=\\\\\"loader\\\\\"></div>\\\\n\" +\\r\\n                //     \"                    </div>\\\\n\" +\\r\\n                //     \"                    <div class=\\\\\"d-block\\\\\">Loading...</div>\\\\n\" +\\r\\n                //     \"                </div>\\\\n\" +\\r\\n                //     \"            </div>\\\\n\" +\\r\\n                //     \"        </div>\");\\r\\n                $(\"#player\").html(\\'<iframe src=\"\\' + link + \\'\" width=\"100%\" height=\"100%\" \" frameborder=\"0\" border=\"0\" marginwidth=\"0\" marginheight=\"0\" scrolling=\"no\" allowfullscreen=\"allowfullscreen\" mozallowfullscreen=\"mozallowfullscreen\" msallowfullscreen=\"msallowfullscreen\" oallowfullscreen=\"oallowfullscreen\" webkitallowfullscreen=\"webkitallowfullscreen\"></iframe>\\');\\r\\n            };\\r\\n\\r\\n            $(\\'#server-list\\').on(\\'change\\', function () {\\r\\n                loadMovieServer(this.value);\\r\\n            });\\r\\n\\r\\n\\r\\n        });\\r\\n    </script>\\r\\n    </body>\\r\\n    </html>\\r\\n    '"
      ]
     },
     "execution_count": 68,
     "metadata": {},
     "output_type": "execute_result"
    }
   ],
   "source": [
    "res.text"
   ]
  },
  {
   "cell_type": "code",
   "execution_count": 80,
   "metadata": {},
   "outputs": [
    {
     "data": {
      "text/plain": [
       "[]"
      ]
     },
     "execution_count": 80,
     "metadata": {},
     "output_type": "execute_result"
    }
   ],
   "source": [
    "import re\n",
    "p = re.compile('https://[a-zA-Z0-9_./?=]*id=\\d\\d\\d\\d\\d\\dm\\d')\n",
    "result = p.findall(res.text)\n",
    "result"
   ]
  },
  {
   "cell_type": "code",
   "execution_count": 43,
   "metadata": {},
   "outputs": [
    {
     "data": {
      "text/plain": [
       "'<html lang=\"en\"><head><style class=\"vjs-styles-defaults\">\\n      .video-js {\\n        width: 300px;\\n        height: 150px;\\n      }\\n\\n      .vjs-fluid {\\n        padding-top: 56.25%\\n      }\\n    </style><style class=\"vjs-styles-dimensions\">\\n      .my-video-dimensions {\\n        width: 640px;\\n        height: 264px;\\n      }\\n\\n      .my-video-dimensions.vjs-fluid {\\n        padding-top: 56.25%;\\n      }\\n    </style>\\n<meta charset=\"UTF-8\">\\n<meta http-equiv=\"Cache-Control\" content=\"no-cache, no-store, must-revalidate\">\\n<meta http-equiv=\"Pragma\" content=\"no-cache\">\\n<meta http-equiv=\"Expires\" content=\"0\">\\n<link rel=\"stylesheet\" href=\"/buttons.css\">\\n</head>\\n<body>\\n    \\n<link href=\"/k/2.css\" rel=\"stylesheet\">\\n<script src=\"https://cdnjs.cloudflare.com/ajax/libs/video.js/7.9.6/video.min.js\"></script>\\n<script src=\"https://cdn.jsdelivr.net/npm/videojs-ie8@1.1.2/dist/videojs-ie8.min.js\"></script>\\n<link href=\"/k/ratio.css\" rel=\"stylesheet\">\\n<link href=\"/k/mobile.css\" rel=\"stylesheet\">\\n<script src=\"/k/ratio.js\"></script>\\n<script src=\"/k/mobile.js\"></script>\\n<script src=\"/k/hls.js\"></script>\\n<script src=\"https://cdn.jsdelivr.net/npm/videojs-seek-buttons/dist/videojs-seek-buttons.min.js\"></script>\\n\\n <style>\\n\\nvideo::-webkit-media-text-track-display-backdrop {\\nbackground-color: rgba(0,0,0,0) !important;\\n  transform: translateY(20%) !important;\\n   font-size: 110%;\\n   font-weight: bolder;\\n    -webkit-text-stroke: 1px #000;\\n text-shadow: 1px 2px 3px #000!important;\\n}  \\n\\n\\n        /*.vjs-texttrack-settings {\\n            display: none;\\n        }*/\\n        #my-video::cue {\\n            background-color: #D3FFC0;\\n            color: #FFC0CB;\\n            outline-style: solid;\\n            outline-color: #FF5D7A;\\n        }\\n\\n        @font-face {\\n            font-family: ComicSansMS;\\n            /*src: url(*//*assets/font-icons/BlackHanSans-Regular.ttf);*/\\n            src: url(/k/design.graffiti.comicsansmsgras.ttf);\\n        }\\n\\n        .vjs-text-track-display > div > div > div {\\n            background: transparent !important;\\n            -webkit-text-stroke: 1px #000;\\n            font-family: Arial, sans-serif;\\n            font-weight: bold;\\n            font-size: 1.4em;\\n            text-shadow: rgb(0, 0, 0) -2px 0px 1px, rgb(0, 0, 0) 2px 0px 1px, rgb(0, 0, 0) 0px -2px 1px, rgb(0, 0, 0) 0px 2px 1px, rgb(0, 0, 0) -1px 1px 1px, rgb(0, 0, 0) 1px 1px 1px, rgb(0, 0, 0) 1px -1px 1px, rgb(0, 0, 0) 1px 1px 1px;\\n        }\\n\\n        /*.vjs-text-track-display > div > div > div > b {\\n            font-family: ComicSansMS;\\n            color: rgb(255, 255, 255) !important;\\n            fill: rgb(255, 255, 255) !important;\\n        }*/\\n        @media only screen and (max-width: 924px) {\\n            .setpadd{\\n                padding-right: .5rem;\\n                padding-left: .5rem;\\n            }\\n        }\\n        @media only screen and (max-width: 400px) {\\n            .video-js .vjs-seek-button{\\n                display: none;\\n            }\\n            .vjs-menu-button {\\n                display: none;\\n            }\\n\\n        }\\nbody{\\noverflow: hidden;\\nmargin: 0px;\\n}\\n\\n\\n    </style>\\n\\n<div data-setup=\"{}\" preload=\"none\" controlslist=\"nodownload\" class=\"video-js vjs-default-skin vjs-16-9 vjs-paused my-video-dimensions vjs-controls-enabled vjs-workinghover vjs-v7 vjs-user-active vjs-seek-buttons vjs-aspect-ratio-panel\" id=\"my-video\" tabindex=\"-1\" lang=\"en\" role=\"region\" aria-label=\"Video Player\"><video id=\"my-video_html5_api\" class=\"vjs-tech\" controlslist=\"nodownload\" preload=\"none\" data-setup=\"{}\" tabindex=\"-1\" src=\"blob:https://kfani.me/3844d4bc-c686-46c2-ae07-b04acfe58260\">\\n\\t\\n\\n\\n<source src=\"https://nianv3c2.xyz/hlsv2/IMP35IaT3zlmyArUj35dudSGd9AzHgdRW.m3u8\" type=\"application/x-mpegURL\">\\n\\t\\n<script language=\"JavaScript\">\\nvideojs(\\'my-video\\', {\\n  playbackRates: [0.5, 1, 1.5, 2]\\n});\\n var player = videojs(\\'my-video\\');\\n\\nplayer.seekButtons({\\n    forward: 10,\\n    back: 10\\n  });\\nplayer.aspectRatioPanel();  \\nplayer.mobileUi();\\n</script>\\n\\n\\n\\n</video><div class=\"vjs-poster vjs-hidden\" aria-disabled=\"false\"></div><div class=\"vjs-text-track-display\" aria-live=\"off\" aria-atomic=\"true\"><div style=\"position: absolute; inset: 0px; margin: 1.5%;\"></div></div><div class=\"vjs-loading-spinner\" dir=\"ltr\"><span class=\"vjs-control-text\">Video Player is loading.</span></div><button class=\"vjs-big-play-button\" type=\"button\" title=\"Play Video\" aria-disabled=\"false\"><span aria-hidden=\"true\" class=\"vjs-icon-placeholder\"></span><span class=\"vjs-control-text\" aria-live=\"polite\">Play Video</span></button><div class=\"vjs-control-bar\" dir=\"ltr\"><button class=\"vjs-play-control vjs-control vjs-button\" type=\"button\" title=\"Play\" aria-disabled=\"false\"><span aria-hidden=\"true\" class=\"vjs-icon-placeholder\"></span><span class=\"vjs-control-text\" aria-live=\"polite\">Play</span></button><button class=\"vjs-seek-button skip-back skip-10 vjs-control vjs-button\" type=\"button\" aria-disabled=\"false\" title=\"Seek back 10 seconds\"><span aria-hidden=\"true\" class=\"vjs-icon-placeholder\"></span><span class=\"vjs-control-text\" aria-live=\"polite\">Seek back 10 seconds</span></button><button class=\"vjs-seek-button skip-forward skip-10 vjs-control vjs-button\" type=\"button\" aria-disabled=\"false\" title=\"Seek forward 10 seconds\"><span aria-hidden=\"true\" class=\"vjs-icon-placeholder\"></span><span class=\"vjs-control-text\" aria-live=\"polite\">Seek forward 10 seconds</span></button><div class=\"vjs-volume-panel vjs-control vjs-volume-panel-horizontal\"><button class=\"vjs-mute-control vjs-control vjs-button vjs-vol-3\" type=\"button\" title=\"Mute\" aria-disabled=\"false\"><span aria-hidden=\"true\" class=\"vjs-icon-placeholder\"></span><span class=\"vjs-control-text\" aria-live=\"polite\">Mute</span></button><div class=\"vjs-volume-control vjs-control vjs-volume-horizontal\"><div tabindex=\"0\" class=\"vjs-volume-bar vjs-slider-bar vjs-slider vjs-slider-horizontal\" role=\"slider\" aria-valuenow=\"100\" aria-valuemin=\"0\" aria-valuemax=\"100\" aria-label=\"Volume Level\" aria-live=\"polite\" aria-valuetext=\"100%\"><div class=\"vjs-volume-level\"><span class=\"vjs-control-text\"></span></div></div></div></div><div class=\"vjs-current-time vjs-time-control vjs-control\"><span class=\"vjs-control-text\" role=\"presentation\">Current Time&nbsp;</span><span class=\"vjs-current-time-display\" aria-live=\"off\" role=\"presentation\">0:00</span></div><div class=\"vjs-time-control vjs-time-divider\" aria-hidden=\"true\"><div><span>/</span></div></div><div class=\"vjs-duration vjs-time-control vjs-control\"><span class=\"vjs-control-text\" role=\"presentation\">Duration&nbsp;</span><span class=\"vjs-duration-display\" aria-live=\"off\" role=\"presentation\">26:17</span></div><div class=\"vjs-progress-control vjs-control\"><div tabindex=\"0\" class=\"vjs-progress-holder vjs-slider vjs-slider-horizontal\" role=\"slider\" aria-valuenow=\"0\" aria-valuemin=\"0\" aria-valuemax=\"100\" aria-label=\"Progress Bar\"><div class=\"vjs-load-progress\"><span class=\"vjs-control-text\"><span>Loaded</span>: <span class=\"vjs-control-text-loaded-percentage\">0%</span></span></div><div class=\"vjs-mouse-display\"><div class=\"vjs-time-tooltip\" aria-hidden=\"true\"></div></div><div class=\"vjs-play-progress vjs-slider-bar\" aria-hidden=\"true\"><div class=\"vjs-time-tooltip\" aria-hidden=\"true\"></div></div></div></div><div class=\"vjs-live-control vjs-control vjs-hidden\"><div class=\"vjs-live-display\" aria-live=\"off\"><span class=\"vjs-control-text\">Stream Type&nbsp;</span>LIVE</div></div><button class=\"vjs-seek-to-live-control vjs-control\" type=\"button\" title=\"Seek to live, currently behind live\" aria-disabled=\"false\"><span aria-hidden=\"true\" class=\"vjs-icon-placeholder\"></span><span class=\"vjs-control-text\" aria-live=\"polite\">Seek to live, currently behind live</span><span class=\"vjs-seek-to-live-text\" aria-hidden=\"true\">LIVE</span></button><div class=\"vjs-remaining-time vjs-time-control vjs-control\"><span class=\"vjs-control-text\" role=\"presentation\">Remaining Time&nbsp;</span><span aria-hidden=\"true\">-</span><span class=\"vjs-remaining-time-display\" aria-live=\"off\" role=\"presentation\">26:17</span></div><div class=\"vjs-custom-control-spacer vjs-spacer \">&nbsp;</div><div class=\"vjs-playback-rate vjs-menu-button vjs-menu-button-popup vjs-control vjs-button\"><div class=\"vjs-playback-rate-value\">1x</div><button class=\"vjs-playback-rate vjs-menu-button vjs-menu-button-popup vjs-button\" type=\"button\" aria-disabled=\"false\" title=\"Playback Rate\" aria-haspopup=\"true\" aria-expanded=\"false\"><span aria-hidden=\"true\" class=\"vjs-icon-placeholder\"></span><span class=\"vjs-control-text\" aria-live=\"polite\">Playback Rate</span></button><div class=\"vjs-menu\"><ul class=\"vjs-menu-content\" role=\"menu\"><li class=\"vjs-menu-item\" role=\"menuitemradio\" aria-disabled=\"false\" tabindex=\"-1\" aria-checked=\"false\"><span class=\"vjs-menu-item-text\">2x</span><span class=\"vjs-control-text\" aria-live=\"polite\"></span></li><li class=\"vjs-menu-item\" role=\"menuitemradio\" aria-disabled=\"false\" tabindex=\"-1\" aria-checked=\"false\"><span class=\"vjs-menu-item-text\">1.5x</span><span class=\"vjs-control-text\" aria-live=\"polite\"></span></li><li class=\"vjs-menu-item vjs-selected\" role=\"menuitemradio\" aria-disabled=\"false\" tabindex=\"-1\" aria-checked=\"true\"><span class=\"vjs-menu-item-text\">1x</span><span class=\"vjs-control-text\" aria-live=\"polite\">, selected</span></li><li class=\"vjs-menu-item\" role=\"menuitemradio\" aria-disabled=\"false\" tabindex=\"-1\" aria-checked=\"false\"><span class=\"vjs-menu-item-text\">0.5x</span><span class=\"vjs-control-text\" aria-live=\"polite\"></span></li></ul></div></div><div class=\"vjs-chapters-button vjs-menu-button vjs-menu-button-popup vjs-control vjs-button vjs-hidden\"><button class=\"vjs-chapters-button vjs-menu-button vjs-menu-button-popup vjs-button\" type=\"button\" aria-disabled=\"false\" title=\"Chapters\" aria-haspopup=\"true\" aria-expanded=\"false\"><span aria-hidden=\"true\" class=\"vjs-icon-placeholder\"></span><span class=\"vjs-control-text\" aria-live=\"polite\">Chapters</span></button><div class=\"vjs-menu\"><ul class=\"vjs-menu-content\" role=\"menu\"><li class=\"vjs-menu-title\">Chapters</li></ul></div></div><div class=\"vjs-descriptions-button vjs-menu-button vjs-menu-button-popup vjs-control vjs-button vjs-hidden vjs-disabled\"><button class=\"vjs-descriptions-button vjs-menu-button vjs-menu-button-popup vjs-button vjs-disabled\" type=\"button\" aria-disabled=\"true\" title=\"Descriptions\" aria-haspopup=\"true\" aria-expanded=\"false\" disabled=\"disabled\"><span aria-hidden=\"true\" class=\"vjs-icon-placeholder\"></span><span class=\"vjs-control-text\" aria-live=\"polite\">Descriptions</span></button><div class=\"vjs-menu vjs-hidden\"><ul class=\"vjs-menu-content\" role=\"menu\"><li class=\"vjs-menu-item vjs-selected\" role=\"menuitemradio\" aria-disabled=\"false\" tabindex=\"-1\" aria-checked=\"true\"><span class=\"vjs-menu-item-text\">descriptions off</span><span class=\"vjs-control-text\" aria-live=\"polite\">, selected</span></li></ul></div></div><div class=\"vjs-subs-caps-button vjs-menu-button vjs-menu-button-popup vjs-control vjs-button\"><button class=\"vjs-subs-caps-button vjs-menu-button vjs-menu-button-popup vjs-button\" type=\"button\" aria-disabled=\"false\" title=\"Captions\" aria-haspopup=\"true\" aria-expanded=\"false\"><span aria-hidden=\"true\" class=\"vjs-icon-placeholder\"></span><span class=\"vjs-control-text\" aria-live=\"polite\">Captions</span></button><div class=\"vjs-menu\"><ul class=\"vjs-menu-content\" role=\"menu\"><li class=\"vjs-menu-item vjs-texttrack-settings\" role=\"menuitem\" aria-disabled=\"false\" tabindex=\"-1\"><span class=\"vjs-menu-item-text\">captions settings</span><span class=\"vjs-control-text\" aria-live=\"polite\">, opens captions settings dialog</span></li><li class=\"vjs-menu-item\" role=\"menuitemradio\" aria-disabled=\"false\" tabindex=\"-1\" aria-checked=\"false\"><span class=\"vjs-menu-item-text\">captions off</span><span class=\"vjs-control-text\" aria-live=\"polite\"></span></li><li class=\"vjs-menu-item vjs-selected vjs-captions-menu-item\" role=\"menuitemradio\" aria-disabled=\"false\" tabindex=\"-1\" aria-checked=\"true\"><span class=\"vjs-menu-item-text\">자막\\n        <span aria-hidden=\"true\" class=\"vjs-icon-placeholder\"></span>\\n        <span class=\"vjs-control-text\"> Captions</span>\\n      </span><span class=\"vjs-control-text\" aria-live=\"polite\">, selected</span></li></ul></div></div><div class=\"vjs-audio-button vjs-menu-button vjs-menu-button-popup vjs-control vjs-button vjs-hidden\"><button class=\"vjs-audio-button vjs-menu-button vjs-menu-button-popup vjs-button\" type=\"button\" aria-disabled=\"false\" title=\"Audio Track\" aria-haspopup=\"true\" aria-expanded=\"false\"><span aria-hidden=\"true\" class=\"vjs-icon-placeholder\"></span><span class=\"vjs-control-text\" aria-live=\"polite\">Audio Track</span></button><div class=\"vjs-menu\"><ul class=\"vjs-menu-content\" role=\"menu\"></ul></div></div><button class=\"vjs-picture-in-picture-control vjs-control vjs-button vjs-disabled\" type=\"button\" title=\"Picture-in-Picture\" aria-disabled=\"true\" disabled=\"disabled\"><span aria-hidden=\"true\" class=\"vjs-icon-placeholder\"></span><span class=\"vjs-control-text\" aria-live=\"polite\">Picture-in-Picture</span></button><button class=\"vjs-fullscreen-control vjs-control vjs-button\" type=\"button\" title=\"Fullscreen\" aria-disabled=\"false\"><span aria-hidden=\"true\" class=\"vjs-icon-placeholder\"></span><span class=\"vjs-control-text\" aria-live=\"polite\">Fullscreen</span></button></div><div class=\"vjs-error-display vjs-modal-dialog vjs-hidden \" aria-describedby=\"my-video_component_401_description\" aria-hidden=\"true\" aria-label=\"Modal Window\" role=\"dialog\"><p class=\"vjs-modal-dialog-description vjs-control-text\" id=\"my-video_component_401_description\">This is a modal window.</p><div class=\"vjs-modal-dialog-content\" role=\"document\"></div></div><div class=\"vjs-modal-dialog vjs-hidden  vjs-text-track-settings\" aria-describedby=\"my-video_component_406_description\" aria-hidden=\"true\" aria-label=\"Caption Settings Dialog\" role=\"dialog\"><p class=\"vjs-modal-dialog-description vjs-control-text\" id=\"my-video_component_406_description\">Beginning of dialog window. Escape will cancel and close the window.</p><div class=\"vjs-modal-dialog-content\" role=\"document\"><div class=\"vjs-track-settings-colors\"><fieldset class=\"vjs-fg-color vjs-track-setting\"><legend id=\"captions-text-legend-my-video_component_406\">Text</legend><label id=\"captions-foreground-color-my-video_component_406\" class=\"vjs-label\">Color</label><select aria-labelledby=\"captions-text-legend-my-video_component_406 captions-foreground-color-my-video_component_406\"><option id=\"captions-foreground-color-my-video_component_406-White\" value=\"#FFF\" aria-labelledby=\"captions-text-legend-my-video_component_406 captions-foreground-color-my-video_component_406 captions-foreground-color-my-video_component_406-White\">White</option><option id=\"captions-foreground-color-my-video_component_406-Black\" value=\"#000\" aria-labelledby=\"captions-text-legend-my-video_component_406 captions-foreground-color-my-video_component_406 captions-foreground-color-my-video_component_406-Black\">Black</option><option id=\"captions-foreground-color-my-video_component_406-Red\" value=\"#F00\" aria-labelledby=\"captions-text-legend-my-video_component_406 captions-foreground-color-my-video_component_406 captions-foreground-color-my-video_component_406-Red\">Red</option><option id=\"captions-foreground-color-my-video_component_406-Green\" value=\"#0F0\" aria-labelledby=\"captions-text-legend-my-video_component_406 captions-foreground-color-my-video_component_406 captions-foreground-color-my-video_component_406-Green\">Green</option><option id=\"captions-foreground-color-my-video_component_406-Blue\" value=\"#00F\" aria-labelledby=\"captions-text-legend-my-video_component_406 captions-foreground-color-my-video_component_406 captions-foreground-color-my-video_component_406-Blue\">Blue</option><option id=\"captions-foreground-color-my-video_component_406-Yellow\" value=\"#FF0\" aria-labelledby=\"captions-text-legend-my-video_component_406 captions-foreground-color-my-video_component_406 captions-foreground-color-my-video_component_406-Yellow\">Yellow</option><option id=\"captions-foreground-color-my-video_component_406-Magenta\" value=\"#F0F\" aria-labelledby=\"captions-text-legend-my-video_component_406 captions-foreground-color-my-video_component_406 captions-foreground-color-my-video_component_406-Magenta\">Magenta</option><option id=\"captions-foreground-color-my-video_component_406-Cyan\" value=\"#0FF\" aria-labelledby=\"captions-text-legend-my-video_component_406 captions-foreground-color-my-video_component_406 captions-foreground-color-my-video_component_406-Cyan\">Cyan</option></select><span class=\"vjs-text-opacity vjs-opacity\"><label id=\"captions-foreground-opacity-my-video_component_406\" class=\"vjs-label\">Transparency</label><select aria-labelledby=\"captions-text-legend-my-video_component_406 captions-foreground-opacity-my-video_component_406\"><option id=\"captions-foreground-opacity-my-video_component_406-Opaque\" value=\"1\" aria-labelledby=\"captions-text-legend-my-video_component_406 captions-foreground-opacity-my-video_component_406 captions-foreground-opacity-my-video_component_406-Opaque\">Opaque</option><option id=\"captions-foreground-opacity-my-video_component_406-SemiTransparent\" value=\"0.5\" aria-labelledby=\"captions-text-legend-my-video_component_406 captions-foreground-opacity-my-video_component_406 captions-foreground-opacity-my-video_component_406-SemiTransparent\">Semi-Transparent</option></select></span></fieldset><fieldset class=\"vjs-bg-color vjs-track-setting\"><legend id=\"captions-background-my-video_component_406\">Background</legend><label id=\"captions-background-color-my-video_component_406\" class=\"vjs-label\">Color</label><select aria-labelledby=\"captions-background-my-video_component_406 captions-background-color-my-video_component_406\"><option id=\"captions-background-color-my-video_component_406-Black\" value=\"#000\" aria-labelledby=\"captions-background-my-video_component_406 captions-background-color-my-video_component_406 captions-background-color-my-video_component_406-Black\">Black</option><option id=\"captions-background-color-my-video_component_406-White\" value=\"#FFF\" aria-labelledby=\"captions-background-my-video_component_406 captions-background-color-my-video_component_406 captions-background-color-my-video_component_406-White\">White</option><option id=\"captions-background-color-my-video_component_406-Red\" value=\"#F00\" aria-labelledby=\"captions-background-my-video_component_406 captions-background-color-my-video_component_406 captions-background-color-my-video_component_406-Red\">Red</option><option id=\"captions-background-color-my-video_component_406-Green\" value=\"#0F0\" aria-labelledby=\"captions-background-my-video_component_406 captions-background-color-my-video_component_406 captions-background-color-my-video_component_406-Green\">Green</option><option id=\"captions-background-color-my-video_component_406-Blue\" value=\"#00F\" aria-labelledby=\"captions-background-my-video_component_406 captions-background-color-my-video_component_406 captions-background-color-my-video_component_406-Blue\">Blue</option><option id=\"captions-background-color-my-video_component_406-Yellow\" value=\"#FF0\" aria-labelledby=\"captions-background-my-video_component_406 captions-background-color-my-video_component_406 captions-background-color-my-video_component_406-Yellow\">Yellow</option><option id=\"captions-background-color-my-video_component_406-Magenta\" value=\"#F0F\" aria-labelledby=\"captions-background-my-video_component_406 captions-background-color-my-video_component_406 captions-background-color-my-video_component_406-Magenta\">Magenta</option><option id=\"captions-background-color-my-video_component_406-Cyan\" value=\"#0FF\" aria-labelledby=\"captions-background-my-video_component_406 captions-background-color-my-video_component_406 captions-background-color-my-video_component_406-Cyan\">Cyan</option></select><span class=\"vjs-bg-opacity vjs-opacity\"><label id=\"captions-background-opacity-my-video_component_406\" class=\"vjs-label\">Transparency</label><select aria-labelledby=\"captions-background-my-video_component_406 captions-background-opacity-my-video_component_406\"><option id=\"captions-background-opacity-my-video_component_406-Opaque\" value=\"1\" aria-labelledby=\"captions-background-my-video_component_406 captions-background-opacity-my-video_component_406 captions-background-opacity-my-video_component_406-Opaque\">Opaque</option><option id=\"captions-background-opacity-my-video_component_406-SemiTransparent\" value=\"0.5\" aria-labelledby=\"captions-background-my-video_component_406 captions-background-opacity-my-video_component_406 captions-background-opacity-my-video_component_406-SemiTransparent\">Semi-Transparent</option><option id=\"captions-background-opacity-my-video_component_406-Transparent\" value=\"0\" aria-labelledby=\"captions-background-my-video_component_406 captions-background-opacity-my-video_component_406 captions-background-opacity-my-video_component_406-Transparent\">Transparent</option></select></span></fieldset><fieldset class=\"vjs-window-color vjs-track-setting\"><legend id=\"captions-window-my-video_component_406\">Window</legend><label id=\"captions-window-color-my-video_component_406\" class=\"vjs-label\">Color</label><select aria-labelledby=\"captions-window-my-video_component_406 captions-window-color-my-video_component_406\"><option id=\"captions-window-color-my-video_component_406-Black\" value=\"#000\" aria-labelledby=\"captions-window-my-video_component_406 captions-window-color-my-video_component_406 captions-window-color-my-video_component_406-Black\">Black</option><option id=\"captions-window-color-my-video_component_406-White\" value=\"#FFF\" aria-labelledby=\"captions-window-my-video_component_406 captions-window-color-my-video_component_406 captions-window-color-my-video_component_406-White\">White</option><option id=\"captions-window-color-my-video_component_406-Red\" value=\"#F00\" aria-labelledby=\"captions-window-my-video_component_406 captions-window-color-my-video_component_406 captions-window-color-my-video_component_406-Red\">Red</option><option id=\"captions-window-color-my-video_component_406-Green\" value=\"#0F0\" aria-labelledby=\"captions-window-my-video_component_406 captions-window-color-my-video_component_406 captions-window-color-my-video_component_406-Green\">Green</option><option id=\"captions-window-color-my-video_component_406-Blue\" value=\"#00F\" aria-labelledby=\"captions-window-my-video_component_406 captions-window-color-my-video_component_406 captions-window-color-my-video_component_406-Blue\">Blue</option><option id=\"captions-window-color-my-video_component_406-Yellow\" value=\"#FF0\" aria-labelledby=\"captions-window-my-video_component_406 captions-window-color-my-video_component_406 captions-window-color-my-video_component_406-Yellow\">Yellow</option><option id=\"captions-window-color-my-video_component_406-Magenta\" value=\"#F0F\" aria-labelledby=\"captions-window-my-video_component_406 captions-window-color-my-video_component_406 captions-window-color-my-video_component_406-Magenta\">Magenta</option><option id=\"captions-window-color-my-video_component_406-Cyan\" value=\"#0FF\" aria-labelledby=\"captions-window-my-video_component_406 captions-window-color-my-video_component_406 captions-window-color-my-video_component_406-Cyan\">Cyan</option></select><span class=\"vjs-window-opacity vjs-opacity\"><label id=\"captions-window-opacity-my-video_component_406\" class=\"vjs-label\">Transparency</label><select aria-labelledby=\"captions-window-my-video_component_406 captions-window-opacity-my-video_component_406\"><option id=\"captions-window-opacity-my-video_component_406-Transparent\" value=\"0\" aria-labelledby=\"captions-window-my-video_component_406 captions-window-opacity-my-video_component_406 captions-window-opacity-my-video_component_406-Transparent\">Transparent</option><option id=\"captions-window-opacity-my-video_component_406-SemiTransparent\" value=\"0.5\" aria-labelledby=\"captions-window-my-video_component_406 captions-window-opacity-my-video_component_406 captions-window-opacity-my-video_component_406-SemiTransparent\">Semi-Transparent</option><option id=\"captions-window-opacity-my-video_component_406-Opaque\" value=\"1\" aria-labelledby=\"captions-window-my-video_component_406 captions-window-opacity-my-video_component_406 captions-window-opacity-my-video_component_406-Opaque\">Opaque</option></select></span></fieldset></div><div class=\"vjs-track-settings-font\"><fieldset class=\"vjs-font-percent vjs-track-setting\"><legend id=\"captions-font-size-my-video_component_406\" class=\"\">Font Size</legend><select aria-labelledby=\"captions-font-size-my-video_component_406\"><option id=\"captions-font-size-my-video_component_406-50\" value=\"0.50\" aria-labelledby=\"captions-font-size-my-video_component_406 captions-font-size-my-video_component_406-50\">50%</option><option id=\"captions-font-size-my-video_component_406-75\" value=\"0.75\" aria-labelledby=\"captions-font-size-my-video_component_406 captions-font-size-my-video_component_406-75\">75%</option><option id=\"captions-font-size-my-video_component_406-100\" value=\"1.00\" aria-labelledby=\"captions-font-size-my-video_component_406 captions-font-size-my-video_component_406-100\">100%</option><option id=\"captions-font-size-my-video_component_406-125\" value=\"1.25\" aria-labelledby=\"captions-font-size-my-video_component_406 captions-font-size-my-video_component_406-125\">125%</option><option id=\"captions-font-size-my-video_component_406-150\" value=\"1.50\" aria-labelledby=\"captions-font-size-my-video_component_406 captions-font-size-my-video_component_406-150\">150%</option><option id=\"captions-font-size-my-video_component_406-175\" value=\"1.75\" aria-labelledby=\"captions-font-size-my-video_component_406 captions-font-size-my-video_component_406-175\">175%</option><option id=\"captions-font-size-my-video_component_406-200\" value=\"2.00\" aria-labelledby=\"captions-font-size-my-video_component_406 captions-font-size-my-video_component_406-200\">200%</option><option id=\"captions-font-size-my-video_component_406-300\" value=\"3.00\" aria-labelledby=\"captions-font-size-my-video_component_406 captions-font-size-my-video_component_406-300\">300%</option><option id=\"captions-font-size-my-video_component_406-400\" value=\"4.00\" aria-labelledby=\"captions-font-size-my-video_component_406 captions-font-size-my-video_component_406-400\">400%</option></select></fieldset><fieldset class=\"vjs-edge-style vjs-track-setting\"><legend id=\"my-video_component_406\" class=\"\">Text Edge Style</legend><select aria-labelledby=\"my-video_component_406\"><option id=\"my-video_component_406-None\" value=\"none\" aria-labelledby=\"my-video_component_406 my-video_component_406-None\">None</option><option id=\"my-video_component_406-Raised\" value=\"raised\" aria-labelledby=\"my-video_component_406 my-video_component_406-Raised\">Raised</option><option id=\"my-video_component_406-Depressed\" value=\"depressed\" aria-labelledby=\"my-video_component_406 my-video_component_406-Depressed\">Depressed</option><option id=\"my-video_component_406-Uniform\" value=\"uniform\" aria-labelledby=\"my-video_component_406 my-video_component_406-Uniform\">Uniform</option><option id=\"my-video_component_406-Dropshadow\" value=\"dropshadow\" aria-labelledby=\"my-video_component_406 my-video_component_406-Dropshadow\">Dropshadow</option></select></fieldset><fieldset class=\"vjs-font-family vjs-track-setting\"><legend id=\"captions-font-family-my-video_component_406\" class=\"\">Font Family</legend><select aria-labelledby=\"captions-font-family-my-video_component_406\"><option id=\"captions-font-family-my-video_component_406-ProportionalSansSerif\" value=\"proportionalSansSerif\" aria-labelledby=\"captions-font-family-my-video_component_406 captions-font-family-my-video_component_406-ProportionalSansSerif\">Proportional Sans-Serif</option><option id=\"captions-font-family-my-video_component_406-MonospaceSansSerif\" value=\"monospaceSansSerif\" aria-labelledby=\"captions-font-family-my-video_component_406 captions-font-family-my-video_component_406-MonospaceSansSerif\">Monospace Sans-Serif</option><option id=\"captions-font-family-my-video_component_406-ProportionalSerif\" value=\"proportionalSerif\" aria-labelledby=\"captions-font-family-my-video_component_406 captions-font-family-my-video_component_406-ProportionalSerif\">Proportional Serif</option><option id=\"captions-font-family-my-video_component_406-MonospaceSerif\" value=\"monospaceSerif\" aria-labelledby=\"captions-font-family-my-video_component_406 captions-font-family-my-video_component_406-MonospaceSerif\">Monospace Serif</option><option id=\"captions-font-family-my-video_component_406-Casual\" value=\"casual\" aria-labelledby=\"captions-font-family-my-video_component_406 captions-font-family-my-video_component_406-Casual\">Casual</option><option id=\"captions-font-family-my-video_component_406-Script\" value=\"script\" aria-labelledby=\"captions-font-family-my-video_component_406 captions-font-family-my-video_component_406-Script\">Script</option><option id=\"captions-font-family-my-video_component_406-SmallCaps\" value=\"small-caps\" aria-labelledby=\"captions-font-family-my-video_component_406 captions-font-family-my-video_component_406-SmallCaps\">Small Caps</option></select></fieldset></div><div class=\"vjs-track-settings-controls\"><button type=\"button\" class=\"vjs-default-button\" title=\"restore all settings to the default values\">Reset<span class=\"vjs-control-text\"> restore all settings to the default values</span></button><button type=\"button\" class=\"vjs-done-button\">Done</button></div></div><button class=\"vjs-close-button vjs-control vjs-button\" type=\"button\" aria-disabled=\"false\" title=\"Close Modal Dialog\"><span aria-hidden=\"true\" class=\"vjs-icon-placeholder\"></span><span class=\"vjs-control-text\" aria-live=\"polite\">Close Modal Dialog</span></button><p class=\"vjs-control-text\">End of dialog window.</p></div></div></body></html>'"
      ]
     },
     "execution_count": 43,
     "metadata": {},
     "output_type": "execute_result"
    }
   ],
   "source": [
    "browser.page_source"
   ]
  },
  {
   "cell_type": "code",
   "execution_count": 18,
   "metadata": {},
   "outputs": [
    {
     "data": {
      "text/plain": [
       "'\\n<!DOCTYPE html>\\n<html lang=\"kr\">\\n<head>\\n\\n<!-- Global site tag (gtag.js) - Google Analytics -->\\n<script async src=\"https://www.googletagmanager.com/gtag/js?id=UA-178467806-1\"></script>\\n<script>\\n  window.dataLayer = window.dataLayer || [];\\n  function gtag(){dataLayer.push(arguments);}\\n  gtag(\\'js\\', new Date());\\n\\n  gtag(\\'config\\', \\'UA-178467806-1\\');\\n</script>\\n\\n<meta charset=\"UTF-8\" />\\n<meta name=\"viewport\" content=\"width=device-width,initial-scale=1.0, maximum-scale=1.0, user-scalable=no\" />\\n<meta name=\\'robots\\' content=\\'max-image-preview:large\\' />\\n<link rel=\\'stylesheet\\' id=\\'mv_style1-css\\'  href=\\'https://mobikf.ncctvgroup.com/wp-content/themes/kfbeta16/assets/css/mytheme-ui.css\\' type=\\'text/css\\' media=\\'all\\' />\\n<link rel=\\'stylesheet\\' id=\\'mv_style2-css\\'  href=\\'https://mobikf.ncctvgroup.com/wp-content/themes/kfbeta16/assets/css/mytheme-site.css\\' type=\\'text/css\\' media=\\'all\\' />\\n<link rel=\\'stylesheet\\' id=\\'mv_style3-css\\'  href=\\'https://mobikf.ncctvgroup.com/wp-content/themes/kfbeta16/assets/css/mytheme-color.css\\' type=\\'text/css\\' media=\\'all\\' />\\n<script type=\\'text/javascript\\' id=\\'mv_jquery-js-extra\\'>\\n/* <![CDATA[ */\\nvar mv_base = {\"ajaxurl\":\"https:\\\\/\\\\/mobikf.ncctvgroup.com\\\\/wp-admin\\\\/admin-ajax.php\"};\\n/* ]]> */\\n</script>\\n<script type=\\'text/javascript\\' src=\\'https://mobikf.ncctvgroup.com/wp-content/themes/kfbeta16/assets/js/jquery.min.js\\' id=\\'mv_jquery-js\\'></script>\\n<script type=\\'text/javascript\\' src=\\'https://mobikf.ncctvgroup.com/wp-content/themes/kfbeta16/assets/js/layer/layer.js\\' id=\\'mv_layui-js\\'></script>\\n<script type=\\'text/javascript\\' src=\\'https://mobikf.ncctvgroup.com/wp-content/themes/kfbeta16/assets/js/mytheme-site.js\\' id=\\'mv_mytheme_site-js\\'></script>\\n<script type=\\'text/javascript\\' src=\\'https://mobikf.ncctvgroup.com/wp-content/themes/kfbeta16/assets/js/mytheme-ui.js\\' id=\\'mv_mytheme_ui-js\\'></script>\\n<script type=\\'text/javascript\\' src=\\'https://mobikf.ncctvgroup.com/wp-content/themes/kfbeta16/assets/js/mytheme-cms.js\\' id=\\'mv_mytheme_cms-js\\'></script>\\n<link rel=\"alternate\" type=\"application/json+oembed\" href=\"https://mobikf.ncctvgroup.com/wp-json/oembed/1.0/embed?url=https%3A%2F%2Fmobikf.ncctvgroup.com%2Fplayer%2F\" />\\n<link rel=\"alternate\" type=\"text/xml+oembed\" href=\"https://mobikf.ncctvgroup.com/wp-json/oembed/1.0/embed?url=https%3A%2F%2Fmobikf.ncctvgroup.com%2Fplayer%2F&#038;format=xml\" />\\n<script type=\\'text/javascript\\'>\\n/* <![CDATA[ */\\nvar taqyeem = {\"ajaxurl\":\"https://mobikf.ncctvgroup.com/wp-admin/admin-ajax.php\" , \"your_rating\":\"Your Rating:\"};\\n/* ]]> */\\n</script>\\n<link rel=\"icon\" href=\"https://mobikf.ncctvgroup.com/wp-content/uploads/2020/09/cropped-logo-32x32.png\" sizes=\"32x32\" />\\n<link rel=\"icon\" href=\"https://mobikf.ncctvgroup.com/wp-content/uploads/2020/09/cropped-logo-192x192.png\" sizes=\"192x192\" />\\n<link rel=\"apple-touch-icon\" href=\"https://mobikf.ncctvgroup.com/wp-content/uploads/2020/09/cropped-logo-180x180.png\" />\\n<meta name=\"msapplication-TileImage\" content=\"https://mobikf.ncctvgroup.com/wp-content/uploads/2020/09/cropped-logo-270x270.png\" />\\n<noscript><style id=\"rocket-lazyload-nojs-css\">.rll-youtube-player, [data-lazy-src]{display:none !important;}</style></noscript><link rel=\"author\" href=\"https://1.bp.blogspot.com/-yjRTBw8mtN4/X2f2XSQ8o5I/AAAAAAAAKn8/oCxwBIPZo5AEgaR-Ak7tVvPJiHEHKTjpQCLcBGAsYHQ/s52/logo.png\" />\\n\\n<link href=\"https://mobikf.ncctvgroup.com/wp-content/themes/kfbeta16/style.css\" rel=\"stylesheet\" type=\"text/css\" />\\n\\n<!--[if lt IE 9]>\\n<script src=\"//html5shiv.googlecode.com/svn/trunk/html5.js\"></script>\\n<style>\\n#menu ul li a { padding-right:1.5em }\\n#menu ul li a:after { content:\"\" }\\n</style> \\n<![endif]-->\\n</head>\\n<body>\\n\\n<div id=\"header\">\\n <span class=\"title\"style=\"height: 9px;\"><center>\\n\\n <strong>Linkkf.app - Linkkf.tv 애니 TV</strong>\\n \\n <a title=\"Linkkf.app 애니 TV\" href=\"https://www.youtube.com/channel/UC_GdbFxICB4G0QqqHZf95fA/\"><img src=\"data:image/svg+xml,%3Csvg%20xmlns=\\'http://www.w3.org/2000/svg\\'%20viewBox=\\'0%200%2016%2016\\'%3E%3C/svg%3E\" alt=\"Linkkf.app 애니 TV\" width=\"16\" height=\"16\" data-lazy-src=\"https://1.bp.blogspot.com/-iIawrvepnaY/XrrCLY1SiaI/AAAAAAAAJJg/a2LGn3Up3_sh4fjwGgQxiJFFNQHpp5uFACK4BGAsYHg/icons8-play-button-16.png\" /><noscript><img src=\"https://1.bp.blogspot.com/-iIawrvepnaY/XrrCLY1SiaI/AAAAAAAAJJg/a2LGn3Up3_sh4fjwGgQxiJFFNQHpp5uFACK4BGAsYHg/icons8-play-button-16.png\" alt=\"Linkkf.app 애니 TV\" width=\"16\" height=\"16\" /></noscript></a> &nbsp; &nbsp; &nbsp; <a title=\"twitter Linkkf.app 애니 TV\" href=\"https://twitter.com/linkkfcom\"><img src=\"data:image/svg+xml,%3Csvg%20xmlns=\\'http://www.w3.org/2000/svg\\'%20viewBox=\\'0%200%2016%2016\\'%3E%3C/svg%3E\" alt=\"twitter Linkkf.app 애니 TV\" width=\"16\" height=\"16\" data-lazy-src=\"https://1.bp.blogspot.com/-Mgi38PpyZEY/XrrCL4E8hmI/AAAAAAAAJJk/gtn4oxD0kukMtHlloEkXun4JvkcQTrOZgCK4BGAsYHg/social-media.png\" /><noscript><img src=\"https://1.bp.blogspot.com/-Mgi38PpyZEY/XrrCL4E8hmI/AAAAAAAAJJk/gtn4oxD0kukMtHlloEkXun4JvkcQTrOZgCK4BGAsYHg/social-media.png\" alt=\"twitter Linkkf.app 애니 TV\" width=\"16\" height=\"16\" /></noscript></a>\\n </center></span>\\n</div>\\n\\t\\t\\n\\n<div id=\"body\"><title> 철권 블러드라인-1화-자막 </title>\\r\\n\\r\\n\\r\\n<script async src=\"https://pagead2.googlesyndication.com/pagead/js/adsbygoogle.js\"></script>\\r\\n<!-- thichung -->\\r\\n<ins class=\"adsbygoogle\"\\r\\n     style=\"display:block\"\\r\\n     data-ad-client=\"ca-pub-3234049467097046\"\\r\\n     data-ad-slot=\"8935965401\"\\r\\n     data-ad-format=\"auto\"\\r\\n     data-full-width-responsive=\"true\"></ins>\\r\\n<script>\\r\\n     (adsbygoogle = window.adsbygoogle || []).push({});\\r\\n</script>\\r\\n\\r\\n\\r\\n\\r\\n<style>\\r\\na{text-decoration:none;webkit-transition:all .1s ease-in-out;-moz-transition:all .1s ease-in-out;-ms-transition:all .1s ease-in-out;-o-transition:all .1s ease-in-out;transition:all .1s ease-in-out}.bar_info_fb{background:#131313 none repeat scroll 0 0;text-align:center;margin:5px 0;padding:10px;font-size:16px}.playnote{margin-top:5px;color:#f5f5f5;background:#303030;border:1px solid #5f5f5f;line-height:1.4em;padding-top:5px;padding-left:5px;padding-bottom:5px;padding-right:5px;margin-bottom:10px}.grid-right{background-color:#000;clear:both;height:2px;margin-bottom:10px;width:100%}.grid-right span{background-color:#3498db}.grid-right span{display:block;height:100%;margin:0;width:210px}.line_top_title{background-color:#43a6df;position:relative;top:-1px;clear:both;height:1px;margin-bottom:10px;width:97%}.line_top_title_lich{background-color:#43a6df;position:relative;top:4px;clear:both;height:1px;margin-bottom:10px;width:98%}li{display:list-item;text-align:-webkit-match-parent}.right-box-content{float:left;overflow:hidden;position:relative;padding:5px 5px 13px 5px;border-bottom:1px dashed #343534;color:#fff;font-size:11px;width:100%;height:auto}.serverlist{padding-left:1px;padding-right:2px;margin-bottom:5px;position:relative}.movie-part{width:100%;padding-bottom:15px;display:block}.server{color:#fff;margin-bottom:5px;margin-top:3px;font-weight:700;font-family:helvetica,arial,sans-serif;font-size:15px}.episodelist a:visited{color:#5f5e5e!important}.ep{cursor:pointer;color:#d6d6d6!important;font-weight:700;margin:1px;padding:12px;float:left;background-color:#2b2b2b;min-width:50px}\\r\\n.episodelist a.active{font-weight:700;margin:1px;padding:9px;float:left;background-color:#00adde!important}.episodelist .ep:hover{background-color:#000}.clearfix::after{clear:both;content:\".\";display:block;font-size:0;height:0;line-height:0;visibility:hidden}\\r\\n\\r\\n</style>\\r\\n\\r\\n\\r\\n\\t<div class=\"myui-player clearfix\">\\r\\n\\t\\t<div class=\"container\">\\r\\n        \\t<div class=\"row\">\\t\\t\\r\\n\\t\\t\\t\\t<div class=\"myui-player__item clearfix\" style=\"background-color: #1f1f1f;\">\\r\\n\\t\\t\\t\\t\\t<div class=\"col-md-wide-75  padding-0 relative clearfix\" id=\"player-left\">\\r\\n\\t\\t\\t\\t\\t\\t<div class=\"myui-player__box player-fixed\">\\r\\n\\t\\t\\t\\t\\t\\t\\r\\n\\t\\t\\t\\t\\t\\t\\t<a class=\"player-fixed-off\" href=\"javascript:;\" style=\"display: none;\"><i class=\"fa fa-close\"></i></a>\\t\\r\\n\\t\\t\\t\\t\\t\\t\\t<div class=\"myui-player__video embed-responsive clearfix\" id=\"mvvideo\">\\r\\n\\t\\t\\t\\t\\t\\t\\t\\t<script type=\"text/javascript\">var player_data={\"url\":\"366478m1\",\"from\":\"sub\",path:\"https://mobikf.ncctvgroup.com/wp-content/themes/kfbeta16\",\"ads\":{\"pre\":null,\"pause\":null}}</script><script type=\"text/javascript\" src=\"https://mobikf.ncctvgroup.com/wp-content/themes/kfbeta16/player/sub.js\"></script>\\t\\r\\n\\t\\t\\t\\t\\t\\t\\t</div>\\r\\n\\t\\t\\t\\t\\t\\t</div>\\r\\n\\t\\t\\t\\t\\t\\t<ul class=\"myui-player__operate\" style=\"background-color: #1b1a25;\">\\r\\n\\t\\t\\t\\t\\t\\t   \\r\\n\\t\\t\\t\\t\\t\\t<li>   <a  href=\"https://mobikf.ncctvgroup.com/366478/\" style=\"color:#fff;\">  <button class=\"search-button\" style=\"height:42px;width: 110px;\" > =   </button></a> </li> \\r\\n\\t\\t\\t\\t\\t\\t\\r\\n\\t\\t\\t\\t\\t\\t\\t<li><a class=\"disabled\" href=\"javascript:;\"> <button class=\"search-button\" style=\"height:42px;width: 110px;\" > <i class=\"fa fa-caret-up\"></i> <<<==  </button></a></li>\\r\\n\\t\\t\\t\\t\\t\\t\\t<li><a class=\"\" href=\"/player/v366478-sub-2/\"> <button class=\"search-button\" style=\"height:42px;width: 110px;\" > <i class=\"fa fa-caret-up\"> <i class=\"fa fa-caret-down\"></i> ==>>> </button></a></li>\\r\\n\\t\\t\\t\\t\\t\\t\\t\\r\\n\\t\\t\\t\\t\\t\\t</ul>\\r\\n\\t\\t\\t\\t\\t\\t<style type=\"text/css\"> .embed-responsive{ padding-bottom: 56.25%;} .dplayer-mobile-play{top:unset;left:10%;bottom:10%;}</style>\\r\\n\\t\\t\\t\\t\\t\\r\\n\\t\\t\\t\\t\\t</div>\\r\\n\\t\\t\\t\\t\\t<div class=\"col-md-wide-25 padding-0\" id=\"player-sidebar\">\\r\\n\\t\\t\\t\\t\\t\\t<div class=\"myui-panel active clearfix\">\\r\\n\\t\\t\\t\\t\\t\\t\\t<div class=\"myui-panel-box clearfix\">\\r\\n\\t\\t\\t\\t\\t\\t\\t\\r\\n\\t\\t\\t\\t\\t\\t\\t\\t<div class=\"tab-content mb10\">\\r\\n\\t\\t\\t<div class=\"myui-panel myui-panel-bg clearfix\">\\r\\n\\t\\t\\t\\t<div class=\"myui-panel-box clearfix\">\\r\\n\\t\\t\\t\\t\\t<div class=\"myui-panel_hd\">\\r\\n\\t\\t\\t\\t\\t\\t<div class=\"myui-panel__head active bottom-line clearfix\">\\r\\n\\t\\t\\t\\t\\t\\r\\n\\t\\t\\t\\t\\t\\t\\t<class=\"title\"> 철권 블러드라인-1 \\r\\n\\t\\t\\t\\t\\t\\t\\t\\t\\r\\n\\t\\t\\t\\t\\t\\t</div>\\t\\t\\t\\t\\t\\t\\t\\t\\t\\t\\t\\t\\t\\t\\t\\t\\t\\t\\r\\n\\t\\t\\t\\t\\t</div>\\r\\n\\t\\t\\t\\t\\t<div class=\"tab-content myui-panel_bd\">\\t\\t\\t\\t\\t\\t\\t\\t    \\r\\n\\t\\t\\t\\t\\t\\t\\t\\t    \\r\\n\\t\\t\\t\\t\\t\\t\\t\\t    \\r\\n\\t\\t\\t\\t\\t\\t\\t\\t    \\r\\n\\r\\n\\t\\t\\t\\t\\t\\t\\t\\t\\t<div id=\"player2\" class=\"tab-pane fade in clearfix  active\"><ul class=\"myui-content__list playlist clearfix\" id=\"playlist\" style=\"max-height: 300px; overflow: auto;\"><u class=\"episodelist\" class=\"serverlist\" > <a class=\"ep\" class=\"active\" href=\"/player/v366478-sub-6/\">6</a></u><u class=\"episodelist\" class=\"serverlist\" > <a class=\"ep\" class=\"active\" href=\"/player/v366478-sub-5/\">5</a></u><u class=\"episodelist\" class=\"serverlist\" > <a class=\"ep\" class=\"active\" href=\"/player/v366478-sub-4/\">4</a></u><u class=\"episodelist\" class=\"serverlist\" > <a class=\"ep\" class=\"active\" href=\"/player/v366478-sub-3/\">3</a></u><u class=\"episodelist\" class=\"serverlist\" > <a class=\"ep\" class=\"active\" href=\"/player/v366478-sub-2/\">2</a></u><u class=\"episodelist\" class=\"serverlist\" > <a class=\"ep\" class=\"active\" href=\"/player/v366478-sub-1/\">1</a></u></ul></div>\\t\\t\\t\\t\\t\\t\\t\\t\\t\\r\\n\\t\\r\\n\\r\\n\\t</div>\\r\\n\\t\\t\\t\\t</div>\\r\\n\\t\\t\\t</div>\\t\\r\\n\\t\\t\\t\\r\\n\\t\\t\\t\\t\\t\\t\\t\\t\\r\\n\\t\\t\\t\\t\\t\\t\\t\\t</div>\\r\\n\\t\\t\\t\\t\\t\\t\\t\\t\\r\\n\\t\\t\\t\\t\\t\\t\\t</div>\\r\\n\\t\\t\\t\\t\\t\\t</div>\\r\\n\\t\\t\\t\\t\\t</div>\\r\\n\\t\\t\\t\\t</div>\\r\\n\\t\\t\\t</div>\\r\\n\\t\\t</div>\\r\\n\\t</div>\\r\\n\\t\\r\\n   \\r\\n   \\r\\n\\r\\n  \\r\\n   \\r\\n   \\r\\n   \\r\\n   \\r\\n   \\r\\n</div>\\r\\n\\r\\n<script type=\"text/javascript\">\\r\\n\\t$(\"#playleft,.dplayer-video-wrap\").css({\"position\":\"inherit\",\"overflow\":\"initial\"});\\r\\n\\tMyTheme.Other.Roll(\\'.tips\\',\\'-30px\\');\\r\\n\\t$(\".tips-close-btn\").on(\"click\",function(){\\r\\n\\t\\t$(this).parents(\".close-box\").remove();\\r\\n\\t\\tMyTheme.Other.Player();\\r\\n\\t\\tMyui.Other.Topbg($(\"#player-left\").outerHeight()+50);\\r\\n\\t});\\r\\n\\tMyui.Other.Topbg($(\"#player-left\").outerHeight()+50);\\r\\n\\tvar i = 0; \\r\\n\\tfunction mv_ads_after() {\\r\\n\\t\\tif (i == 0) {\\r\\n\\t\\t\\t$(\"#pre_time\").empty().append(i);\\r\\n\\t\\t\\tsetTimeout(function() {\\r\\n\\t\\t\\t\\tmv_ads_after();\\r\\n\\t\\t\\t}, 1000);\\r\\n\\t\\t} else {\\r\\n\\t\\t\\t$(\"#pre_time\").empty().append(i);\\r\\n\\t\\t\\ti = i - 1;\\r\\n\\t\\t\\tsetTimeout(function() {\\r\\n\\t\\t\\t\\tmv_ads_after();\\r\\n\\t\\t\\t}, 1000);\\r\\n\\t\\t}\\r\\n\\t}\\r\\n\\tif(player_data.ads.pre != null && player_data.ads.pre.status == 1){\\r\\n\\t\\t$(\\'#mvvideo\\').append(\\'<div id=\"player_before\" style=\"position:absolute;z-index:209910539;top:50%;left:50%;border-radius:5px;-webkit-transform:translate(-50%,-50%);-moz-transform:translate(-50%,-50%);transform:translate(-50%,-50%);max-width:80%;max-height:80%;overflow: hidden;\"><a href=\"\\'+player_data.ads.pre.link+\\'\" target=\"_blank\"><img src=\"\\'+player_data.ads.pre.pic+\\'\" /></a></div><a style=\"display:inline-block;width:100px;height:35px;line-height:35px;text-align:center;font-size:14px;border-radius:22px;margin:0px 10px;color:#2082B3;overflow:hidden;box-shadow:0px 2px 3px rgba(0,0,0,.3);background:#fff;position:absolute;z-index:209910540;top:20px;right:35px\" href=\"javascript:;\"><em id=\"pre_time\"></em></a>\\');\\r\\n\\t\\ti = player_data.ads.pre.second;\\r\\n\\t\\tsetTimeout(function() {\\r\\n\\t\\t\\t$(\\'#player_before\\').next().remove();\\r\\n\\t\\t\\t$(\\'#player_before\\').remove();\\r\\n\\t\\t\\t$(\\'#mvvideo\\').append(mv_player_init());\\r\\n\\t\\t}, i * 1000);\\r\\n\\t\\t\\r\\n\\t\\tmv_ads_after();\\r\\n\\t}else{$(\\'#mvvideo\\').append(mv_player_init());}\\r\\n</script>\\r\\n\\r\\n\\n<nav id=\"head-menu\" role=\"navigation\">\\n\\t\\t<ul>\\n\\t\\t\\t<li>   <a href=\"https://mobikf.ncctvgroup.com\" rel=\"home\"style=\"\\n    height: 30px;\\n\"> <img src=\"data:image/svg+xml,%3Csvg%20xmlns=\\'http://www.w3.org/2000/svg\\'%20viewBox=\\'0%200%2016%2016\\'%3E%3C/svg%3E\" alt=\"Linkkf 애니 TV\" width=\"16\" height=\"16\" data-lazy-src=\"https://1.bp.blogspot.com/-GnXxrfrhDjc/X4UnUFMBgmI/AAAAAAAAKwA/pi33_h_6mqc2TvtoTXYtuNidciOybn9WACLcBGAsYHQ/s24/2.png\" /><noscript><img src=\"https://1.bp.blogspot.com/-GnXxrfrhDjc/X4UnUFMBgmI/AAAAAAAAKwA/pi33_h_6mqc2TvtoTXYtuNidciOybn9WACLcBGAsYHQ/s24/2.png\" alt=\"Linkkf 애니 TV\" width=\"16\" height=\"16\" /></noscript> </br> <strong>메인</strong></a>   </li>\\n\\t\\t\\t<li>   <a href=\"https://mobikf.ncctvgroup.com/anime-list/\" rel=\"home\"style=\"\\n    height: 30px;\\n\"> <img src=\"data:image/svg+xml,%3Csvg%20xmlns=\\'http://www.w3.org/2000/svg\\'%20viewBox=\\'0%200%2016%2016\\'%3E%3C/svg%3E\" alt=\"Linkkf 애니 TV\" width=\"16\" height=\"16\" data-lazy-src=\"https://1.bp.blogspot.com/-7RhuNMwAxEg/X4UnT_TJmVI/AAAAAAAAKv4/TJMaavS68kgOTUjHx9gBw8se2QhPsQJswCLcBGAsYHQ/s24/3.png\" /><noscript><img src=\"https://1.bp.blogspot.com/-7RhuNMwAxEg/X4UnT_TJmVI/AAAAAAAAKv4/TJMaavS68kgOTUjHx9gBw8se2QhPsQJswCLcBGAsYHQ/s24/3.png\" alt=\"Linkkf 애니 TV\" width=\"16\" height=\"16\" /></noscript> </br> <strong>신작</strong></a>   </li>\\n\\n<li>   <a href=\"https://mobikf.ncctvgroup.com/menulist\" rel=\"home\"style=\"\\n    height: 30px;\\n\"> <img src=\"data:image/svg+xml,%3Csvg%20xmlns=\\'http://www.w3.org/2000/svg\\'%20viewBox=\\'0%200%2016%2016\\'%3E%3C/svg%3E\" alt=\"Linkkf 애니 TV\" width=\"16\" height=\"16\" data-lazy-src=\"https://1.bp.blogspot.com/-D3NSSAfTSTM/X4UnUsquqxI/AAAAAAAAKwI/NcJCxHMNMdwpMr6MVB4K4O13wRVpjF7OACLcBGAsYHQ/s24/5.png\" /><noscript><img src=\"https://1.bp.blogspot.com/-D3NSSAfTSTM/X4UnUsquqxI/AAAAAAAAKwI/NcJCxHMNMdwpMr6MVB4K4O13wRVpjF7OACLcBGAsYHQ/s24/5.png\" alt=\"Linkkf 애니 TV\" width=\"16\" height=\"16\" /></noscript> </br> <strong>장르</strong></a>   </li>\\n\\n<li>   <a href=\"/sp/\" rel=\"home\"style=\"\\n    height: 30px;\\n\"> <img src=\"data:image/svg+xml,%3Csvg%20xmlns=\\'http://www.w3.org/2000/svg\\'%20viewBox=\\'0%200%2016%2016\\'%3E%3C/svg%3E\" alt=\"Linkkf 애니 TV\" width=\"16\" height=\"16\" data-lazy-src=\"https://1.bp.blogspot.com/-zFXwW4mHFyU/X4UnUrfC8zI/AAAAAAAAKwE/U5JgeT5qq30s91Fk_RW4sb55CmrTbQ09ACLcBGAsYHQ/s24/6.png\" /><noscript><img src=\"https://1.bp.blogspot.com/-zFXwW4mHFyU/X4UnUrfC8zI/AAAAAAAAKwE/U5JgeT5qq30s91Fk_RW4sb55CmrTbQ09ACLcBGAsYHQ/s24/6.png\" alt=\"Linkkf 애니 TV\" width=\"16\" height=\"16\" /></noscript> </br> <strong>댓글</strong></a>   </li>\\n\\n\\n<li>   <a href=\"https://mobikf.ncctvgroup.com/topview\" rel=\"home\"style=\"\\n    height: 30px;\\n\"> <img src=\"data:image/svg+xml,%3Csvg%20xmlns=\\'http://www.w3.org/2000/svg\\'%20viewBox=\\'0%200%2016%2016\\'%3E%3C/svg%3E\" alt=\"Linkkf 애니 TV\" width=\"16\" height=\"16\" data-lazy-src=\"https://1.bp.blogspot.com/-sDCHGNDldik/X4UnUl_ssWI/AAAAAAAAKwM/-ilo9h2rkDQfqqkqTNAAAazAHVIgBFnawCLcBGAsYHQ/s24/7.png\" /><noscript><img src=\"https://1.bp.blogspot.com/-sDCHGNDldik/X4UnUl_ssWI/AAAAAAAAKwM/-ilo9h2rkDQfqqkqTNAAAazAHVIgBFnawCLcBGAsYHQ/s24/7.png\" alt=\"Linkkf 애니 TV\" width=\"16\" height=\"16\" /></noscript> </br> <strong>TOP</strong></a>   </li>\\n\\n\\n</ul></nav>\\n    \\n    \\n<article class=\"center-title green-title margin5\" style=\"height:53px;width:100%px;\">\\n\\n</article>\\n    \\n\\n<script>window.lazyLoadOptions={elements_selector:\"img[data-lazy-src],.rocket-lazyload,iframe[data-lazy-src]\",data_src:\"lazy-src\",data_srcset:\"lazy-srcset\",data_sizes:\"lazy-sizes\",class_loading:\"lazyloading\",class_loaded:\"lazyloaded\",threshold:300,callback_loaded:function(element){if(element.tagName===\"IFRAME\"&&element.dataset.rocketLazyload==\"fitvidscompatible\"){if(element.classList.contains(\"lazyloaded\")){if(typeof window.jQuery!=\"undefined\"){if(jQuery.fn.fitVids){jQuery(element).parent().fitVids()}}}}}};window.addEventListener(\\'LazyLoad::Initialized\\',function(e){var lazyLoadInstance=e.detail.instance;if(window.MutationObserver){var observer=new MutationObserver(function(mutations){var image_count=0;var iframe_count=0;var rocketlazy_count=0;mutations.forEach(function(mutation){for(var i=0;i<mutation.addedNodes.length;i++){if(typeof mutation.addedNodes[i].getElementsByTagName!==\\'function\\'){continue}\\nif(typeof mutation.addedNodes[i].getElementsByClassName!==\\'function\\'){continue}\\nimages=mutation.addedNodes[i].getElementsByTagName(\\'img\\');is_image=mutation.addedNodes[i].tagName==\"IMG\";iframes=mutation.addedNodes[i].getElementsByTagName(\\'iframe\\');is_iframe=mutation.addedNodes[i].tagName==\"IFRAME\";rocket_lazy=mutation.addedNodes[i].getElementsByClassName(\\'rocket-lazyload\\');image_count+=images.length;iframe_count+=iframes.length;rocketlazy_count+=rocket_lazy.length;if(is_image){image_count+=1}\\nif(is_iframe){iframe_count+=1}}});if(image_count>0||iframe_count>0||rocketlazy_count>0){lazyLoadInstance.update()}});var b=document.getElementsByTagName(\"body\")[0];var config={childList:!0,subtree:!0};observer.observe(b,config)}},!1)</script><script data-no-minify=\"1\" async src=\"https://mobikf.ncctvgroup.com/wp-content/plugins/wp-rocket/assets/js/lazyload/17.5/lazyload.min.js\"></script></body>\\n</html>\\n<!-- This website is like a Rocket, isn\\'t it? Performance optimized by WP Rocket. Learn more: https://wp-rocket.me - Debug: cached@1661221672 -->'"
      ]
     },
     "execution_count": 18,
     "metadata": {},
     "output_type": "execute_result"
    }
   ],
   "source": [
    "res.text"
   ]
  },
  {
   "cell_type": "code",
   "execution_count": 11,
   "metadata": {},
   "outputs": [],
   "source": [
    "browser.get(caption_url)"
   ]
  },
  {
   "cell_type": "code",
   "execution_count": 36,
   "metadata": {},
   "outputs": [],
   "source": [
    "browser_log = browser.get_log('performance')"
   ]
  },
  {
   "cell_type": "code",
   "execution_count": 30,
   "metadata": {},
   "outputs": [
    {
     "data": {
      "text/plain": [
       "'방패 용사 성공담 2기 4화'"
      ]
     },
     "execution_count": 30,
     "metadata": {},
     "output_type": "execute_result"
    }
   ],
   "source": [
    "# 애니 제목 추출\n",
    "browser.title"
   ]
  },
  {
   "cell_type": "code",
   "execution_count": 38,
   "metadata": {},
   "outputs": [],
   "source": [
    "# 애니 ID 추출\n",
    "episode_url = 'https://linkkf.app/295877m/%eb%b0%a9%ed%8c%a8-%ec%9a%a9%ec%82%ac-%ec%84%b1%ea%b3%b5%eb%8b%b4-2%ea%b8%b0-1%ed%99%94.html'"
   ]
  },
  {
   "cell_type": "code",
   "execution_count": 40,
   "metadata": {},
   "outputs": [
    {
     "data": {
      "text/plain": [
       "'295877m'"
      ]
     },
     "execution_count": 40,
     "metadata": {},
     "output_type": "execute_result"
    }
   ],
   "source": [
    "episode_url.split('/')[-2]"
   ]
  },
  {
   "cell_type": "code",
   "execution_count": 44,
   "metadata": {},
   "outputs": [],
   "source": [
    "# 페이지 이동하면서 다운로드\n",
    "wp_page = browser.find_element(by=By.ID, value='wp_page')"
   ]
  },
  {
   "cell_type": "code",
   "execution_count": 45,
   "metadata": {},
   "outputs": [],
   "source": [
    "current = wp_page.find_element(by=By.CLASS_NAME, value='current').text"
   ]
  },
  {
   "cell_type": "code",
   "execution_count": 46,
   "metadata": {},
   "outputs": [],
   "source": [
    "pages = wp_page.find_elements(by=By.TAG_NAME, value='a')"
   ]
  },
  {
   "cell_type": "code",
   "execution_count": 54,
   "metadata": {},
   "outputs": [
    {
     "name": "stdout",
     "output_type": "stream",
     "text": [
      "3\n",
      "8\n",
      "https://mobikf.ncctvgroup.com/top16/page/5/\n",
      "https://mobikf.ncctvgroup.com/top16/page/6/\n",
      "https://mobikf.ncctvgroup.com/top16/page/7/\n",
      "https://mobikf.ncctvgroup.com/top16/page/8/\n",
      "https://mobikf.ncctvgroup.com/top16/page/9/\n"
     ]
    }
   ],
   "source": [
    "print(int(current)-1)\n",
    "print(len(pages))\n",
    "\n",
    "for i in range(int(current)-1, len(pages)):\n",
    "    print(pages[i].get_attribute('href'))"
   ]
  },
  {
   "cell_type": "code",
   "execution_count": 17,
   "metadata": {},
   "outputs": [],
   "source": [
    "# 애니 리스트 받아와서 이동하기\n",
    "ani_list = browser.find_elements(by=By.CLASS_NAME, value='item1')\n",
    "items[0].find_element(by=By.TAG_NAME, value='a').get_attribute('href')\n",
    "for ani_site_url in ani_list:\n",
    "    ani_site_url = ani_site_url.find_element(by=By.TAG_NAME, value='a').get_attribute('href')\n",
    "    print(ani_site_url)"
   ]
  },
  {
   "cell_type": "code",
   "execution_count": 254,
   "metadata": {},
   "outputs": [
    {
     "data": {
      "text/plain": [
       "'https://mobikf.ncctvgroup.com/109579m/%ec%b9%b4%ea%b5%ac%ec%95%bc-%eb%8b%98%ec%9d%80-%ea%b3%a0%eb%b0%b1%eb%b0%9b%ea%b3%a0-%ec%8b%b6%ec%96%b4-12%ed%99%94.html'"
      ]
     },
     "execution_count": 254,
     "metadata": {},
     "output_type": "execute_result"
    }
   ],
   "source": [
    "# 에피소드 리스트 받아와서 이동하기\n",
    "eps = browser.find_elements(by=By.CLASS_NAME, value='ep')\n",
    "eps[0].get_attribute('href')"
   ]
  },
  {
   "cell_type": "code",
   "execution_count": 243,
   "metadata": {},
   "outputs": [],
   "source": [
    "html = requests.get(MOVIE_URL)\n",
    "soup = BeautifulSoup(html.text, \"html.parser\")\n",
    "title = soup.select_one('title').text.strip()"
   ]
  },
  {
   "cell_type": "code",
   "execution_count": 244,
   "metadata": {},
   "outputs": [
    {
     "ename": "AttributeError",
     "evalue": "'NoneType' object has no attribute 'attrs'",
     "output_type": "error",
     "traceback": [
      "\u001b[1;31m---------------------------------------------------------------------------\u001b[0m",
      "\u001b[1;31mAttributeError\u001b[0m                            Traceback (most recent call last)",
      "\u001b[1;32m<ipython-input-244-b9d96dffe693>\u001b[0m in \u001b[0;36m<module>\u001b[1;34m\u001b[0m\n\u001b[1;32m----> 1\u001b[1;33m \u001b[0mvideo_id\u001b[0m \u001b[1;33m=\u001b[0m \u001b[0msoup\u001b[0m\u001b[1;33m.\u001b[0m\u001b[0mselect_one\u001b[0m\u001b[1;33m(\u001b[0m\u001b[1;34m'option'\u001b[0m\u001b[1;33m)\u001b[0m\u001b[1;33m.\u001b[0m\u001b[0mattrs\u001b[0m\u001b[1;33m[\u001b[0m\u001b[1;34m'value'\u001b[0m\u001b[1;33m]\u001b[0m\u001b[1;33m.\u001b[0m\u001b[0msplit\u001b[0m\u001b[1;33m(\u001b[0m\u001b[1;34m'id='\u001b[0m\u001b[1;33m)\u001b[0m\u001b[1;33m[\u001b[0m\u001b[1;36m1\u001b[0m\u001b[1;33m]\u001b[0m\u001b[1;33m\u001b[0m\u001b[1;33m\u001b[0m\u001b[0m\n\u001b[0m",
      "\u001b[1;31mAttributeError\u001b[0m: 'NoneType' object has no attribute 'attrs'"
     ]
    }
   ],
   "source": [
    "video_id = soup.select_one('option').attrs['value'].split('id=')[1]"
   ]
  },
  {
   "cell_type": "code",
   "execution_count": 236,
   "metadata": {},
   "outputs": [],
   "source": [
    "browser.switch_to.frame('videoarea')\n",
    "video = browser.find_element(by=By.TAG_NAME, value='video')\n",
    "video_url = video.get_attribute(\"src\")"
   ]
  },
  {
   "cell_type": "code",
   "execution_count": 237,
   "metadata": {},
   "outputs": [
    {
     "data": {
      "text/plain": [
       "'blob:https://kfani.me/8ff133ef-14f1-4be7-b77c-90167e87577c'"
      ]
     },
     "execution_count": 237,
     "metadata": {},
     "output_type": "execute_result"
    }
   ],
   "source": [
    "video_url"
   ]
  },
  {
   "cell_type": "code",
   "execution_count": 222,
   "metadata": {
    "scrolled": false
   },
   "outputs": [
    {
     "data": {
      "text/plain": [
       "('./output/괴롭히지 말아요, 나가토로 양 BD 1화.mp4',\n",
       " <http.client.HTTPMessage at 0x1ddf5024648>)"
      ]
     },
     "execution_count": 222,
     "metadata": {},
     "output_type": "execute_result"
    }
   ],
   "source": [
    "urllib.request.urlretrieve(video_url, '{}.mp4'.format(MOVIE_SAVE_PATH+title))"
   ]
  },
  {
   "cell_type": "code",
   "execution_count": 41,
   "metadata": {},
   "outputs": [],
   "source": [
    "#  blob 영상 처리\n",
    "# blob_url = 'blob:https://kfani.me/8ff133ef-14f1-4be7-b77c-90167e87577c'\n",
    "# blob_url = 'https://k20.ciuxe2.xyz/k20/19961m1/index.m3u8'\n",
    "\n",
    "blob_url = 'https://kfani.me/k/k/19.php?url=361919m3&id=361919m3v2'\n",
    "\n",
    "request_headers = {\n",
    "            \"user-agent\": \"Mozilla/5.0 (Windows NT 10.0; Win64; x64) AppleWebKit/537.36 (KHTML, like Gecko) Chrome/102.0.0.0 Safari/537.36\",\n",
    "            \"content-type\":\"application/json\",             \n",
    "            \"referer\": \"https://kfani.me/\",\n",
    "#             \"cookie\":\"__cf_bm=bzpxCgZfpNzsI3hIqukOBBn.dM4wXjZQ9T6sXhdgSMQ-1656657831-0-ASsanpWDrfXbEgBcrjLv1+7YylxkERauhrKYUU3dhicd0O33+bhgafSIcttVKTZlrF4SgxluO8MKRD8Z7kKmaLqgyhLTCrRYimF5fFca86G0e7PYWJTnZN8SXeEV7zFGaLZBMbbYWCMbH1UwYZMEVGIErrgexxgiZ7IJGMUoZmjN\",            \n",
    "          }\n",
    "\n",
    "html_blob = requests.get(blob_url, headers = request_headers)"
   ]
  },
  {
   "cell_type": "code",
   "execution_count": 42,
   "metadata": {
    "scrolled": true
   },
   "outputs": [
    {
     "data": {
      "text/plain": [
       "'\\r\\n\\r\\n<html lang=\"en\">\\r\\n<head>\\r\\n<meta charset=\"UTF-8\">\\r\\n\\r\\n<link rel=\"stylesheet\" href=\"/buttons.css\" />\\r\\n<script async src=\\'/cdn-cgi/challenge-platform/h/b/scripts/invisible.js?ts=1656849600\\'></script></head>\\r\\n<body>\\r\\n<link href=\"/k/2.css\" rel=\"stylesheet\">\\r\\n<script src=\"https://cdnjs.cloudflare.com/ajax/libs/video.js/7.9.6/video.min.js\"></script>\\r\\n<script src=\"https://cdn.jsdelivr.net/npm/videojs-ie8@1.1.2/dist/videojs-ie8.min.js\"></script>\\r\\n<link href=\"/k/ratio.css\" rel=\"stylesheet\">\\r\\n<link href=\"/k/mobile.css\" rel=\"stylesheet\">\\r\\n<script src=\"/k/ratio.js\"></script>\\r\\n<script src=\"/k/mobile.js\"></script>\\r\\n<script src=\"/k/hls.js\"></script>\\r\\n<script src=\"https://cdn.jsdelivr.net/npm/videojs-seek-buttons/dist/videojs-seek-buttons.min.js\"></script>\\r\\n\\r\\n <style>\\r\\n\\r\\n \\r\\nvideo::-webkit-media-text-track-display-backdrop {\\r\\nbackground-color: rgba(0,0,0,0) !important;\\r\\n  transform: translateY(20%) !important;\\r\\n   font-size: 110%;\\r\\n   font-weight: bolder;\\r\\n    -webkit-text-stroke: 1px #000;\\r\\n text-shadow: 1px 2px 3px #000!important;\\r\\n}  \\r\\n\\r\\n\\r\\n        /*.vjs-texttrack-settings {\\r\\n            display: none;\\r\\n        }*/\\r\\n        #my-video::cue {\\r\\n            background-color: #D3FFC0;\\r\\n            color: #FFC0CB;\\r\\n            outline-style: solid;\\r\\n            outline-color: #FF5D7A;\\r\\n        }\\r\\n\\r\\n        @font-face {\\r\\n            font-family: ComicSansMS;\\r\\n            /*src: url(*//*assets/font-icons/BlackHanSans-Regular.ttf);*/\\r\\n            src: url(/k/design.graffiti.comicsansmsgras.ttf);\\r\\n        }\\r\\n\\r\\n        .vjs-text-track-display > div > div > div {\\r\\n            background: transparent !important;\\r\\n            -webkit-text-stroke: 1px #000;\\r\\n            font-family: Arial, sans-serif;\\r\\n            font-weight: bold;\\r\\n            font-size: 1.6em;\\r\\n            text-shadow: rgb(0, 0, 0) -2px 0px 1px, rgb(0, 0, 0) 2px 0px 1px, rgb(0, 0, 0) 0px -2px 1px, rgb(0, 0, 0) 0px 2px 1px, rgb(0, 0, 0) -1px 1px 1px, rgb(0, 0, 0) 1px 1px 1px, rgb(0, 0, 0) 1px -1px 1px, rgb(0, 0, 0) 1px 1px 1px;\\r\\n        }\\r\\n\\r\\n        /*.vjs-text-track-display > div > div > div > b {\\r\\n            font-family: ComicSansMS;\\r\\n            color: rgb(255, 255, 255) !important;\\r\\n            fill: rgb(255, 255, 255) !important;\\r\\n        }*/\\r\\n        @media only screen and (max-width: 924px) {\\r\\n            .setpadd{\\r\\n                padding-right: .5rem;\\r\\n                padding-left: .5rem;\\r\\n            }\\r\\n        }\\r\\n        @media only screen and (max-width: 400px) {\\r\\n            .video-js .vjs-seek-button{\\r\\n                display: none;\\r\\n            }\\r\\n            .vjs-menu-button {\\r\\n                display: none;\\r\\n            }\\r\\n\\r\\n        }\\r\\n        \\r\\n\\r\\n    </style>\\r\\n\\r\\n<video\\r\\n    id=\"my-video\"\\r\\n     class=\"video-js vjs-default-skin vjs-16-9\"\\r\\n    controlsList=\"nodownload\"\\r\\n    preload=\"none\"\\r\\n    controls\\r\\n    preload=\"auto\"\\r\\n    width=\"640\"\\r\\n    height=\"264\"\\r\\n    data-setup=\"{}\"\\r\\n  >\\r\\n\\t\\r\\n<track kind=\"captions\" src=\"/s/361919m3v2.vtt\" srclang=\"ko\" label=\"자막 애니\" default >\\r\\n\\r\\n<source src=\"https://k19.ciuxe2.xyz/k19/361919m3/index.m3u8\" type=\"application/x-mpegURL\" />\\r\\n\\t\\r\\n<script language=\"JavaScript\">\\r\\nvideojs(\\'my-video\\', {\\r\\n  playbackRates: [0.5, 1, 1.5, 2]\\r\\n});\\r\\n var player = videojs(\\'my-video\\');\\r\\n\\r\\nplayer.seekButtons({\\r\\n    forward: 30,\\r\\n    back: 30\\r\\n  });\\r\\nplayer.aspectRatioPanel();\\r\\nplayer.mobileUi();\\r\\n</script>\\r\\n\\r\\n\\r\\n<script type=\"text/javascript\">(function(){window[\\'__CF$cv$params\\']={r:\\'724f8d86dc618a6f\\',m:\\'r_phDHVYeuWE_r1JOP.9FUmm8lYiCiqQUDxwsB6tz1A-1656850592-0-AegbiCKCAXqSWA2ojdcfbK9EoWfP0gJWYpA8ivcbWeX0woz1eDwIRgE44wvFUL46zhzIoxmr027eBGuu583UIpSOE32/q4qjjZJMcO6dKsGrpF4X4U5LbhvzIS0/ep4hHoJYz4jl/d39IQjvwv3opIktiWMHhL1R66eSshd7lOQN\\',s:[0x7f976f05a6,0xc380535af9],u:\\'/cdn-cgi/challenge-platform/h/b\\'}})();</script></body>\\r\\n</html>'"
      ]
     },
     "execution_count": 42,
     "metadata": {},
     "output_type": "execute_result"
    }
   ],
   "source": [
    "html_blob.text"
   ]
  },
  {
   "cell_type": "code",
   "execution_count": 20,
   "metadata": {},
   "outputs": [],
   "source": [
    "video_id = '348055m2'\n",
    "url_caption = 'https://kfani.me/s/{}.vtt'.format(video_id)"
   ]
  },
  {
   "cell_type": "code",
   "execution_count": 24,
   "metadata": {},
   "outputs": [],
   "source": [
    "# 자막 다운로드\n",
    "\n",
    "# url = 'https://kfani.me/k/x/b23.php?v=363743m1&id=363743m1'\n",
    "url_caption = 'https://kfani.me/s/{}.vtt'.format(video_id)\n",
    "\n",
    "request_headers = {\n",
    "            \"user-agent\": \"Mozilla/5.0 (Windows NT 10.0; Win64; x64) AppleWebKit/537.36 (KHTML, like Gecko) Chrome/102.0.0.0 Safari/537.36\",\n",
    "            \"content-type\":\"application/json\",             \n",
    "            \"referer\": \"https://mobikf.ncctvgroup.com/\",\n",
    "          }\n",
    "\n",
    "html_caption = requests.get(url_caption, headers = request_headers)\n",
    "soup_caption = BeautifulSoup(html_caption.text.replace('\\r\\n','\\n'), \"html.parser\", from_encoding='utf-8')\n",
    "\n",
    "with open('{}.vtt'.format('./' + video_id), 'w', encoding='utf-8') as f:\n",
    "    f.write(f'{soup_caption.text}')"
   ]
  },
  {
   "cell_type": "code",
   "execution_count": 21,
   "metadata": {},
   "outputs": [],
   "source": [
    "html_caption = requests.get(url_caption, headers = request_headers)"
   ]
  },
  {
   "cell_type": "code",
   "execution_count": 23,
   "metadata": {},
   "outputs": [
    {
     "data": {
      "text/plain": [
       "'WEBVTT\\n\\n00:00:00.669 --> 00:00:02.979\\n아, 거기 거기\\n\\n00:00:03.306 --> 00:00:05.047\\n원하는 곳을 잘 주무르네\\n\\n00:00:05.047 --> 00:00:06.191\\n기분 좋으세요?\\n\\n00:00:06.191 --> 00:00:07.275\\n쿄지님\\n\\n00:00:07.425 --> 00:00:08.248\\n어\\n\\n00:00:08.248 --> 00:00:09.347\\n시원한 방에서\\n\\n00:00:09.347 --> 00:00:10.949\\n미녀에게 마사지 받으면서\\n\\n00:00:10.949 --> 00:00:11.919\\n영화 감상\\n\\n00:00:11.919 --> 00:00:13.625\\n천국이야 천국\\n\\n00:00:13.947 --> 00:00:15.981\\n이 영화를 좋아하세요?\\n\\n00:00:15.981 --> 00:00:18.170\\n이 여배우를 좋아했지 말야\\n\\n00:00:18.782 --> 00:00:19.836\\n키타야마 레나\\n\\n00:00:20.125 --> 00:00:21.777\\n엄청난 미인이지\\n\\n00:00:22.755 --> 00:00:23.585\\n히노님\\n\\n00:00:23.585 --> 00:00:25.163\\n메이팅 할 시간입니다\\n\\n00:00:25.267 --> 00:00:25.808\\n어?\\n\\n00:00:25.808 --> 00:00:27.270\\n벌써, 그런 시간이야?\\n\\n00:00:27.765 --> 00:00:29.442\\n오늘은 누구로 하시겠습니까?\\n\\n00:00:29.524 --> 00:00:30.971\\n음, 그러네\\n\\n00:00:31.216 --> 00:00:32.695\\n어제는 마야 쨩이었으니까\\n\\n00:00:32.695 --> 00:00:33.573\\n오늘은\\n\\n00:00:33.710 --> 00:00:35.585\\n아~ 고민돼네\\n\\n00:00:36.430 --> 00:00:37.226\\n그럼\\n\\n00:00:37.226 --> 00:00:38.749\\n저 분은 어떠신가요?\\n\\n00:00:38.749 --> 00:00:39.314\\n에?\\n\\n00:00:42.786 --> 00:00:43.756\\n실례하겠습니다\\n\\n00:00:44.732 --> 00:00:46.170\\n키타야마 레나!\\n\\n00:00:46.170 --> 00:00:47.157\\n히노님\\n\\n00:00:47.416 --> 00:00:48.955\\n절 선택해주셔서\\n\\n00:00:48.955 --> 00:00:50.441\\n정말 고맙습니다\\n\\n00:00:50.966 --> 00:00:52.011\\n보시는 대로\\n\\n00:00:52.011 --> 00:00:53.677\\n그 영화의 의상입니다\\n\\n00:00:54.227 --> 00:00:55.242\\n굉장해\\n\\n00:00:55.791 --> 00:00:56.819\\n실물이야\\n\\n00:01:02.045 --> 00:01:03.497\\n영화에서 봤던 대로\\n\\n00:01:03.953 --> 00:01:04.612\\n아냐\\n\\n00:01:04.612 --> 00:01:05.877\\n그 이상이야\\n\\n00:01:06.319 --> 00:01:07.748\\n엄청 예뻐\\n\\n00:01:08.853 --> 00:01:09.640\\n싫어\\n\\n00:01:10.644 --> 00:01:11.465\\n되지?\\n\\n00:01:12.642 --> 00:01:13.713\\n괜찮아\\n\\n00:01:17.043 --> 00:01:18.499\\n최고잖아\\n\\n00:01:18.990 --> 00:01:20.987\\n최고잖아! 이 세상\\n\\n00:01:25.057 --> 00:01:26.179\\n안 돼요\\n\\n00:01:26.179 --> 00:01:27.642\\n히노님\\n\\n00:01:33.390 --> 00:01:35.589\\n키타야마 레나가 날 보고 있어\\n\\n00:01:43.469 --> 00:01:44.163\\n해도 돼?\\n\\n00:01:45.699 --> 00:01:46.331\\n응\\n\\n00:01:48.590 --> 00:01:50.793\\n키타야마 레나랑 이어져\\n\\n00:03:25.690 --> 00:03:35.099\\n하루하루\\n\\n00:03:39.818 --> 00:03:40.771\\n맛있어\\n\\n00:03:41.056 --> 00:03:42.274\\n방금 맛있다네\\n\\n00:03:42.274 --> 00:03:42.802\\n아싸!\\n\\n00:03:42.802 --> 00:03:45.096\\n맛있게 먹는 게 귀여워\\n\\n00:03:45.951 --> 00:03:48.396\\n여기엔 많은 요리사가 있네요\\n\\n00:03:48.641 --> 00:03:51.157\\n기계로 만드는 게 더 효율적인데\\n\\n00:03:51.737 --> 00:03:52.438\\n프렌치\\n\\n00:03:52.438 --> 00:03:53.129\\n이탈리아\\n\\n00:03:53.129 --> 00:03:53.760\\n일식\\n\\n00:03:53.760 --> 00:03:54.449\\n중식\\n\\n00:03:54.711 --> 00:03:57.916\\n온갖 장르로 초 일류의\\n장인을 갖추고 있어요\\n\\n00:04:01.125 --> 00:04:02.045\\n넘버1\\n\\n00:04:02.749 --> 00:04:05.275\\n미즈하라 님 전에\\n깨어난 남성 분께서\\n\\n00:04:05.570 --> 00:04:09.214\\n인간이 만든 요리가 더 식욕이\\n생긴다고 하셨기에\\n\\n00:04:09.233 --> 00:04:10.300\\n헤에~\\n\\n00:04:10.868 --> 00:04:11.685\\n추가를\\n\\n00:04:11.918 --> 00:04:14.538\\n레이 오빠도 특별 취급하고 있단 말\\n\\n00:04:14.829 --> 00:04:15.911\\n둔감 바보 오빠\\n\\n00:04:16.011 --> 00:04:18.190\\n왜 네가 더 승질인데\\n\\n00:04:19.505 --> 00:04:21.832\\n추가로 아까 먹은 수프도 부탁해요\\n\\n00:04:21.832 --> 00:04:22.474\\n네\\n\\n00:04:22.547 --> 00:04:23.170\\n어?\\n\\n00:04:26.650 --> 00:04:27.985\\n스, 스오우 상은\\n\\n00:04:27.985 --> 00:04:29.517\\n꽤 잘 드시네요\\n\\n00:04:29.862 --> 00:04:31.771\\n영양 보급은 중요하니까요\\n\\n00:04:32.123 --> 00:04:33.991\\n그렇게 먹는데도 날씬한 게\\n\\n00:04:33.991 --> 00:04:35.401\\n엄청 부러워\\n\\n00:04:35.682 --> 00:04:36.262\\n응\\n\\n00:04:36.262 --> 00:04:37.243\\n확실히 날씬해\\n\\n00:04:37.572 --> 00:04:38.790\\n나. 날씬\\n\\n00:04:39.314 --> 00:04:39.944\\n- 아앗!\\n- 진짜~\\n\\n00:04:39.944 --> 00:04:41.476\\n- 또 그렇게\\n- 뭐냐고!\\n\\n00:04:41.476 --> 00:04:43.901\\n남자들은 왜 다들 이런 거야\\n\\n00:04:44.317 --> 00:04:45.686\\n난 방으로 갈래\\n\\n00:04:45.882 --> 00:04:47.414\\n둘이서 잘 지내시지\\n\\n00:04:47.414 --> 00:04:48.498\\n어이~ 마히루\\n\\n00:04:48.922 --> 00:04:50.742\\n아까부터 왜 그래, 저 녀석\\n\\n00:04:50.897 --> 00:04:51.726\\n죄송해요\\n\\n00:04:51.726 --> 00:04:53.228\\n제멋대로인 여동생이라서\\n\\n00:04:53.628 --> 00:04:54.340\\n아뇨\\n\\n00:04:56.086 --> 00:04:57.840\\n그거 안 드시는 건가요?\\n\\n00:04:57.840 --> 00:04:58.450\\n에?\\n\\n00:04:58.694 --> 00:04:59.574\\n저기\\n\\n00:04:59.574 --> 00:05:00.982\\n드, 드실래요?\\n\\n00:05:02.535 --> 00:05:03.323\\n응...\\n\\n00:05:03.817 --> 00:05:05.506\\n남기면 아까우니까요\\n\\n00:05:07.340 --> 00:05:09.133\\n나쁜 사람은 아니란 말이지\\n\\n00:05:14.123 --> 00:05:14.847\\n향후\\n\\n00:05:14.847 --> 00:05:16.809\\n미즈하라 님의 안전 확보를 위해\\n\\n00:05:17.067 --> 00:05:19.566\\n전속 보디가드를 붙이도록 하겠습니다\\n\\n00:05:19.803 --> 00:05:20.857\\n보디가드?\\n\\n00:05:20.857 --> 00:05:22.240\\n경호를 위한 겁니다\\n\\n00:05:22.418 --> 00:05:23.077\\n그 외\\n\\n00:05:23.077 --> 00:05:24.791\\n미즈하라 님의 건강 관리를 해줄\\n\\n00:05:24.791 --> 00:05:26.846\\n간호사도 곁에 두도록 하겠습니다\\n\\n00:05:27.197 --> 00:05:28.464\\n그건 즉\\n\\n00:05:28.729 --> 00:05:29.419\\n네\\n\\n00:05:29.419 --> 00:05:30.380\\n약속대로\\n\\n00:05:30.631 --> 00:05:32.459\\n그 분들과 앞으로 매일\\n\\n00:05:32.726 --> 00:05:34.619\\n한 침대에서 자게 될 겁니다\\n\\n00:05:35.227 --> 00:05:36.779\\n보디가드에 간호사\\n\\n00:05:37.250 --> 00:05:38.659\\n약속도 있지만\\n\\n00:05:38.953 --> 00:05:40.768\\n그 이전에 나한테 뭔 일이 생긴다면\\n\\n00:05:40.850 --> 00:05:43.340\\n스오우 상의 책임이 된다는 건가\\n\\n00:05:43.340 --> 00:05:45.046\\n여~ 넘버2\\n\\n00:05:46.026 --> 00:05:47.340\\n난 히노 쿄지\\n\\n00:05:47.465 --> 00:05:49.798\\n자네의 선배가 된단 거지\\n\\n00:05:50.180 --> 00:05:51.733\\n이 사람이 넘버1\\n\\n00:05:52.246 --> 00:05:53.109\\n첨 뵙겠습니다\\n\\n00:05:53.359 --> 00:05:54.595\\n미즈하라 레이토입니다\\n\\n00:05:54.689 --> 00:05:55.518\\n잘 부탁해\\n\\n00:05:56.608 --> 00:05:58.170\\n얼마 없는 남자들끼리\\n\\n00:05:58.170 --> 00:05:59.527\\n친하게 지내보자고\\n\\n00:05:59.527 --> 00:06:00.447\\n에, 네\\n\\n00:06:00.447 --> 00:06:01.892\\n그것보다 들었다고\\n\\n00:06:02.034 --> 00:06:04.588\\n자네 아직 아무하고도\\n메이팅 안 했다던데\\n\\n00:06:04.588 --> 00:06:05.348\\n그건\\n\\n00:06:05.348 --> 00:06:06.178\\n뭐랄까\\n\\n00:06:06.178 --> 00:06:06.904\\n알지\\n\\n00:06:07.180 --> 00:06:08.642\\n나도 잘 알지\\n\\n00:06:08.642 --> 00:06:09.885\\n나도 눈을 떴을 땐\\n\\n00:06:09.885 --> 00:06:11.241\\n믿을 수 없었다니까\\n\\n00:06:11.500 --> 00:06:13.342\\n이런 좋은 일이 있겠냐고\\n\\n00:06:13.342 --> 00:06:15.073\\n성대한 몰카가 아닐까\\n\\n00:06:15.413 --> 00:06:18.231\\n사실은 무시무시한\\n생체 실험인가 아닐까\\n\\n00:06:18.315 --> 00:06:19.190\\n하고 말야\\n\\n00:06:19.284 --> 00:06:19.973\\n그러나\\n\\n00:06:20.217 --> 00:06:22.202\\n이건 틀림없는 현실\\n\\n00:06:22.277 --> 00:06:24.507\\n이 세상의 낙원이다!\\n\\n00:06:25.308 --> 00:06:26.942\\n히노 상, 긍정적이네요\\n\\n00:06:27.280 --> 00:06:28.289\\n전 아무래도\\n\\n00:06:28.289 --> 00:06:29.733\\n그럴 맘이 안 들어서\\n\\n00:06:29.733 --> 00:06:30.610\\n하아~\\n\\n00:06:30.711 --> 00:06:32.521\\n자넨 성실하구만\\n\\n00:06:32.932 --> 00:06:34.391\\n이런 별난 세상\\n\\n00:06:34.391 --> 00:06:35.920\\n즐기는 편이 좋을 텐데\\n\\n00:06:36.301 --> 00:06:37.405\\n그저께는 아이돌\\n\\n00:06:37.405 --> 00:06:38.375\\n어젠 모델\\n\\n00:06:38.375 --> 00:06:39.861\\n그리고 오늘은 여배우다\\n\\n00:06:40.155 --> 00:06:41.012\\n이힛!\\n\\n00:06:41.608 --> 00:06:43.744\\n난 씨 뿌리기에 전념할 거다\\n\\n00:06:49.448 --> 00:06:51.273\\n활기찬 사람이네\\n\\n00:06:51.908 --> 00:06:53.335\\n즐기란 건가\\n\\n00:06:53.671 --> 00:06:55.197\\n계속 기다릴 테니까\\n\\n00:06:55.730 --> 00:06:56.812\\n에리사를 만난다면\\n\\n00:06:56.882 --> 00:06:58.225\\n즐겁겠지\\n\\n00:06:59.733 --> 00:07:00.943\\n꼭 찾아야만 해\\n\\n00:07:01.374 --> 00:07:02.026\\n어?\\n\\n00:07:02.026 --> 00:07:02.754\\n정전?\\n\\n00:07:03.193 --> 00:07:04.137\\n고장인가?\\n\\n00:07:04.564 --> 00:07:05.419\\n문은\\n\\n00:07:05.947 --> 00:07:06.670\\n어?\\n\\n00:07:07.320 --> 00:07:08.043\\n헷!?\\n\\n00:07:08.138 --> 00:07:09.279\\n뭐야\\n\\n00:07:09.414 --> 00:07:12.155\\n들은 것보다 꽤나 적극적이잖아\\n\\n00:07:13.208 --> 00:07:14.962\\n댁이 넘버2지\\n\\n00:07:15.436 --> 00:07:16.345\\n뭡니까!\\n\\n00:07:16.345 --> 00:07:17.233\\n당신은?\\n\\n00:07:18.056 --> 00:07:18.805\\n그만해\\n\\n00:07:18.842 --> 00:07:20.047\\n좀 놔주세요\\n\\n00:07:21.523 --> 00:07:23.451\\n난 류조지 아카네\\n\\n00:07:23.451 --> 00:07:24.806\\n앞으로 잘 부탁해\\n\\n00:07:24.895 --> 00:07:25.636\\n어?\\n\\n00:07:25.756 --> 00:07:26.603\\n혹시\\n\\n00:07:26.851 --> 00:07:27.967\\n당신이 전속인\\n\\n00:07:28.818 --> 00:07:30.629\\n이것도 스오우 상의 지시인가요?\\n\\n00:07:33.446 --> 00:07:35.026\\n목욕탕에서 마시는 술은\\n\\n00:07:35.026 --> 00:07:36.963\\n최고라고 생각 안 해?\\n\\n00:07:37.533 --> 00:07:38.137\\n어쨌든\\n\\n00:07:38.137 --> 00:07:39.077\\n좀 놔주세요\\n\\n00:07:39.077 --> 00:07:40.005\\n전, 읍!\\n\\n00:07:48.536 --> 00:07:49.286\\n자\\n\\n00:07:49.286 --> 00:07:51.008\\n내가 잘 씻겨줄게\\n\\n00:07:51.675 --> 00:07:52.384\\n그만\\n\\n00:07:52.384 --> 00:07:53.438\\n그만하세...\\n\\n00:07:58.739 --> 00:07:59.887\\n그래 그래\\n\\n00:07:59.887 --> 00:08:03.402\\n처음부터 솔직하게\\n몸을 맡기는 게 좋다고\\n\\n00:08:03.402 --> 00:08:04.043\\n음?\\n\\n00:08:04.333 --> 00:08:05.225\\n잠깐, 이봐\\n\\n00:08:05.225 --> 00:08:06.143\\n괜찮아?\\n\\n00:08:06.143 --> 00:08:06.913\\n야!\\n\\n00:08:13.572 --> 00:08:14.470\\n아야\\n\\n00:08:14.752 --> 00:08:16.274\\n머리가 마구 아프네\\n\\n00:08:19.989 --> 00:08:21.766\\n여기까지 옮겨준 건가\\n\\n00:08:22.644 --> 00:08:23.311\\n음?\\n\\n00:08:24.614 --> 00:08:26.479\\n벌써, 아침인가요?\\n\\n00:08:26.760 --> 00:08:27.663\\n- 으악!!\\n- 흐에에엑!!\\n\\n00:08:27.663 --> 00:08:28.141\\n근데\\n\\n00:08:28.141 --> 00:08:29.826\\n왜 그쪽이 놀라는 건데!\\n\\n00:08:29.972 --> 00:08:30.852\\n그댄 누구?\\n\\n00:08:30.852 --> 00:08:31.768\\n뭐 하는 거야!\\n\\n00:08:31.768 --> 00:08:32.560\\n그게\\n\\n00:08:32.560 --> 00:08:33.457\\n동침\\n\\n00:08:33.457 --> 00:08:34.271\\n인가요?\\n\\n00:08:34.271 --> 00:08:36.098\\n\"인가요\"라고 물어봐도\\n\\n00:08:36.428 --> 00:08:37.313\\n혹시\\n\\n00:08:37.313 --> 00:08:38.962\\n그대도 스오우 상이 말했던\\n\\n00:08:38.962 --> 00:08:40.350\\n아, 마마마 맞아요\\n\\n00:08:40.460 --> 00:08:41.609\\n스이라 합니다\\n\\n00:08:41.609 --> 00:08:42.411\\n헤에~\\n\\n00:08:42.411 --> 00:08:43.551\\n별난 이름이네\\n\\n00:08:43.646 --> 00:08:44.441\\n성은?\\n\\n00:08:44.441 --> 00:08:45.253\\n성\\n\\n00:08:45.253 --> 00:08:46.185\\n그게 그게\\n\\n00:08:46.701 --> 00:08:47.603\\n야마다?\\n\\n00:08:47.603 --> 00:08:48.351\\n아니, 그니까\\n\\n00:08:48.351 --> 00:08:49.665\\n나한테 물어봐도\\n\\n00:08:50.043 --> 00:08:51.241\\n스이면 돼요\\n\\n00:08:51.241 --> 00:08:53.428\\n앞으로 계속 곁에 있을 테니까요\\n\\n00:08:53.542 --> 00:08:54.347\\n하아...\\n\\n00:08:55.131 --> 00:08:56.751\\n상냥해 보이는 간호사 같은데\\n\\n00:08:57.153 --> 00:08:58.475\\n좀 불안불안 하네\\n\\n00:09:00.142 --> 00:09:01.097\\n아카네 상\\n\\n00:09:01.097 --> 00:09:02.242\\n수고하셨어요\\n\\n00:09:02.242 --> 00:09:04.517\\n오, 스이도 인사가 끝난 건가\\n\\n00:09:04.517 --> 00:09:05.605\\n어, 네\\n\\n00:09:05.605 --> 00:09:06.180\\n그럼\\n\\n00:09:06.180 --> 00:09:07.788\\n나도 이제 자 볼까\\n\\n00:09:08.970 --> 00:09:10.674\\n정말로 여기서 잘 건가요?\\n\\n00:09:10.674 --> 00:09:11.825\\n안심하라고\\n\\n00:09:11.825 --> 00:09:13.568\\n이제 덮치거나 하지 않을 테니까\\n\\n00:09:13.948 --> 00:09:15.458\\n오늘 밤만은\\n\\n00:09:15.458 --> 00:09:16.071\\n말야\\n\\n00:09:16.285 --> 00:09:17.397\\n안심해주세요\\n\\n00:09:17.397 --> 00:09:21.283\\n제2화\\n두 명의 여성\\n\\n00:09:21.365 --> 00:09:22.103\\n물론\\n\\n00:09:22.564 --> 00:09:23.636\\n저로선\\n\\n00:09:23.636 --> 00:09:26.628\\n유혹에 져주는 편이\\n더 금상첨화겠지만요\\n\\n00:09:27.375 --> 00:09:28.084\\n반드시\\n\\n00:09:28.331 --> 00:09:29.556\\n안 질 테니까\\n\\n00:09:32.957 --> 00:09:35.113\\n결국, 한숨도 자지 못했어\\n\\n00:09:35.864 --> 00:09:38.347\\n별난 시절을 견학하고 싶어하시네요\\n\\n00:09:39.302 --> 00:09:40.344\\n타치바나 에리사\\n\\n00:09:40.798 --> 00:09:42.440\\n제가 찾고 있는 소꿉친구가\\n\\n00:09:42.692 --> 00:09:43.678\\n대학을 나온 후\\n\\n00:09:43.934 --> 00:09:46.307\\n이 연구소에 소속됐었다고 하네요\\n\\n00:09:46.754 --> 00:09:48.597\\n뭔가 단서가 있을 거라 생각해서\\n\\n00:09:49.463 --> 00:09:51.817\\n동물원 같아서 즐겁네요\\n\\n00:09:54.377 --> 00:09:55.275\\n미즈하라 님\\n\\n00:09:55.708 --> 00:09:57.401\\n어째서 소꿉친구 분께서\\n\\n00:09:57.658 --> 00:09:59.529\\n아직 살아 있다고 여기는 건가요?\\n\\n00:09:59.911 --> 00:10:02.582\\n뭔가 확신하는 듯한 물건을\\n가진 걸로 보이는데요\\n\\n00:10:03.141 --> 00:10:03.949\\n이거에요\\n\\n00:10:04.542 --> 00:10:05.812\\n콜드 슬립 했을 때\\n\\n00:10:06.180 --> 00:10:08.476\\n에리사에게 제 펜던트를 건네줬거든요\\n\\n00:10:09.475 --> 00:10:10.276\\n어릴 적에\\n\\n00:10:10.518 --> 00:10:11.757\\n형이 부적 대용으로\\n\\n00:10:11.757 --> 00:10:12.846\\n준 거거든요\\n\\n00:10:13.440 --> 00:10:15.121\\n발신기가 들어있긴 한데요\\n\\n00:10:15.526 --> 00:10:16.321\\n해외라면\\n\\n00:10:16.321 --> 00:10:18.352\\n자세한 위치 정보는 알 수 없기에\\n\\n00:10:18.888 --> 00:10:19.635\\n그치만\\n\\n00:10:19.635 --> 00:10:20.877\\n전파는 수신 가능해요\\n\\n00:10:21.407 --> 00:10:22.387\\n그러니 분명\\n\\n00:10:22.942 --> 00:10:24.723\\n분명 아직 살아있을 거예요\\n\\n00:10:26.622 --> 00:10:27.914\\n기분 좋아 보이네\\n\\n00:10:27.914 --> 00:10:30.187\\n자, 좀 더 어깨에 힘 빼봐\\n\\n00:10:30.459 --> 00:10:31.126\\n잠깐\\n\\n00:10:31.126 --> 00:10:32.394\\n뭐 하는 겁니까!\\n\\n00:10:33.498 --> 00:10:34.776\\n이것도 일이라고\\n\\n00:10:34.776 --> 00:10:35.169\\n어\\n\\n00:10:35.169 --> 00:10:35.498\\n어 업\\n\\n00:10:35.498 --> 00:10:36.087\\n어 업 무\\n\\n00:10:36.212 --> 00:10:37.237\\n일이라뇨\\n\\n00:10:37.441 --> 00:10:38.399\\n술 마시면서\\n\\n00:10:38.399 --> 00:10:40.204\\n보디가드를 할 수 있겠어요?\\n\\n00:10:41.339 --> 00:10:42.706\\n저기 말야. 말해두겠는데\\n\\n00:10:42.706 --> 00:10:43.478\\n난\\n\\n00:10:43.742 --> 00:10:44.105\\n- 어?\\n\\n00:10:44.105 --> 00:10:45.377\\n에에에에 뭐야 뭘까요\\n\\n00:10:45.442 --> 00:10:46.633\\n당신들도 도망쳐요\\n\\n00:10:49.942 --> 00:10:51.011\\n고, 곰!\\n\\n00:10:55.661 --> 00:10:56.244\\n위험해!\\n\\n00:10:57.392 --> 00:10:58.427\\n레, 레이토 님!\\n\\n00:10:58.427 --> 00:10:59.384\\n피피피, 피가!\\n\\n00:10:59.384 --> 00:11:00.060\\n스오우 상\\n\\n00:11:00.060 --> 00:11:00.894\\n아카네 상\\n\\n00:11:01.040 --> 00:11:02.027\\n도망치세요\\n\\n00:11:02.027 --> 00:11:02.892\\n어서!\\n\\n00:11:03.199 --> 00:11:03.817\\n스이\\n\\n00:11:03.817 --> 00:11:04.671\\n일 해라\\n\\n00:11:04.671 --> 00:11:05.312\\n어?\\n\\n00:11:05.813 --> 00:11:06.540\\n네\\n\\n00:11:06.626 --> 00:11:07.557\\n스이 쨩?\\n\\n00:11:11.419 --> 00:11:12.051\\n위험!?\\n\\n00:11:15.430 --> 00:11:17.848\\n버릇없는 곰은 미움 받습니다\\n\\n00:11:22.153 --> 00:11:22.980\\n스이 쨩?\\n\\n00:11:25.600 --> 00:11:27.296\\n임무 완료 했습니다\\n\\n00:11:29.046 --> 00:11:31.704\\n댁의 보디가드는 스이 쪽이라고\\n\\n00:11:31.784 --> 00:11:33.616\\n레이토 님가 다치시다니\\n\\n00:11:33.616 --> 00:11:35.434\\n스이는 보디가드 실격이에요\\n\\n00:11:35.434 --> 00:11:36.330\\n괜찮아\\n\\n00:11:36.330 --> 00:11:37.563\\n조금 스친 것뿐이니\\n\\n00:11:37.563 --> 00:11:38.617\\n죄송해요\\n\\n00:11:38.617 --> 00:11:40.496\\n스이 쨩이 보디가드라면\\n\\n00:11:40.751 --> 00:11:41.944\\n그럼, 간호사는\\n\\n00:11:43.401 --> 00:11:44.534\\n나야\\n\\n00:11:45.638 --> 00:11:46.609\\n괜찮나요?\\n\\n00:11:46.941 --> 00:11:48.787\\n이곳 경비 책임자는 누굽니까?\\n\\n00:11:49.239 --> 00:11:51.325\\n사전에 엄격하게 전달했을 텐데\\n\\n00:11:51.901 --> 00:11:53.501\\n정말로 죄송하게 됐습니다\\n\\n00:11:57.040 --> 00:11:57.918\\n이 방이\\n\\n00:11:57.918 --> 00:12:00.118\\n타치바나 상의 연구실이라 합니다\\n\\n00:12:00.614 --> 00:12:01.662\\n심하네\\n\\n00:12:01.787 --> 00:12:03.681\\n예전 동료였던 분의 말로는\\n\\n00:12:04.018 --> 00:12:04.918\\n수년 전\\n\\n00:12:04.918 --> 00:12:07.112\\n타치바나 상이 돌연히 자취를 감추고\\n\\n00:12:07.400 --> 00:12:08.333\\n얼마 후에\\n\\n00:12:08.496 --> 00:12:10.744\\n누군가 여기에 침입 했다는데\\n\\n00:12:11.072 --> 00:12:13.783\\n연구 데이터도 대부분\\n가져갔다고 하더군요\\n\\n00:12:13.783 --> 00:12:14.758\\n그럴 수가!\\n\\n00:12:15.402 --> 00:12:17.611\\n한정된 예산이나 설비밖에 없는 중에\\n\\n00:12:17.916 --> 00:12:19.108\\n그녀는 노력해서\\n\\n00:12:19.362 --> 00:12:21.252\\n연구를 계속했다고 합니다\\n\\n00:12:22.072 --> 00:12:23.852\\n인간 관계 상의 문제도\\n\\n00:12:23.852 --> 00:12:25.361\\n없었다고 하네요\\n\\n00:12:25.983 --> 00:12:27.428\\n그녀의 연구 테마는\\n\\n00:12:28.172 --> 00:12:29.458\\nMK바이러스입니다\\n\\n00:12:30.008 --> 00:12:30.734\\n에리사가\\n\\n00:12:30.734 --> 00:12:31.814\\nMK바이러스를?\\n\\n00:12:32.277 --> 00:12:33.489\\nAI뿐만 아니라\\n\\n00:12:33.744 --> 00:12:35.231\\n전 세계의 연구자가\\n\\n00:12:35.506 --> 00:12:38.035\\nMK바이러스에 대한\\n항바이러스 약이나\\n\\n00:12:38.268 --> 00:12:40.378\\n백신 개발에 필사적입니다\\n\\n00:12:44.504 --> 00:12:45.090\\n어?\\n\\n00:12:49.286 --> 00:12:50.033\\n이거\\n\\n00:12:51.061 --> 00:12:51.867\\n지로\\n\\n00:12:54.470 --> 00:12:55.452\\n지로\\n\\n00:12:55.452 --> 00:12:56.079\\n에리사\\n\\n00:12:56.223 --> 00:12:57.100\\n지로의 병 원인은\\n\\n00:12:57.100 --> 00:12:57.821\\n찾았어?\\n\\n00:12:58.918 --> 00:13:00.701\\n희귀한 병의 약 같은 건\\n\\n00:13:01.024 --> 00:13:02.812\\n아무도 연구하지 않는다네\\n\\n00:13:03.114 --> 00:13:04.021\\n그, 그치만\\n\\n00:13:04.320 --> 00:13:05.074\\n어쩌면\\n\\n00:13:05.074 --> 00:13:07.184\\n언젠가 약이 만들어질지도 모르고\\n\\n00:13:09.336 --> 00:13:10.042\\n에리사\\n\\n00:13:10.042 --> 00:13:10.682\\n결심했어\\n\\n00:13:10.889 --> 00:13:12.067\\n나 의사가 될래\\n\\n00:13:12.070 --> 00:13:12.760\\n에?\\n\\n00:13:12.819 --> 00:13:14.426\\n지로의 병을 고칠 방법\\n\\n00:13:14.426 --> 00:13:15.599\\n내가 찾을래\\n\\n00:13:15.808 --> 00:13:16.652\\n그런 건\\n\\n00:13:16.910 --> 00:13:18.358\\n우린 아직 어린애인데\\n\\n00:13:18.358 --> 00:13:19.166\\n몇 년 걸릴지\\n\\n00:13:19.166 --> 00:13:19.691\\n그치만\\n\\n00:13:19.905 --> 00:13:20.907\\n아무도 안 한다면\\n\\n00:13:20.907 --> 00:13:22.411\\n내가 할 수밖에 없잖아\\n\\n00:13:25.269 --> 00:13:26.554\\n그런 멋진 대사는\\n\\n00:13:26.841 --> 00:13:28.370\\n콧물 좀 닦고서 하라고\\n\\n00:13:29.143 --> 00:13:29.797\\n바보야!\\n\\n00:13:29.797 --> 00:13:31.970\\n이런 때는 눈치 좀 챙기라고\\n\\n00:13:32.345 --> 00:13:33.021\\n나도\\n\\n00:13:33.081 --> 00:13:33.815\\n될게\\n\\n00:13:34.243 --> 00:13:34.783\\n에?\\n\\n00:13:34.783 --> 00:13:35.967\\n나도 의사가 될래\\n\\n00:13:36.318 --> 00:13:37.040\\n왜?\\n\\n00:13:37.040 --> 00:13:38.995\\n넌 장래에 일할 맘 없다고\\n\\n00:13:39.320 --> 00:13:40.010\\n그야\\n\\n00:13:40.138 --> 00:13:41.530\\n혼자보다 둘인 게\\n\\n00:13:41.530 --> 00:13:43.267\\n찾을 확률이 더 높잖아\\n\\n00:13:43.891 --> 00:13:45.299\\n지로를 낫게 할 방법\\n\\n00:13:46.589 --> 00:13:47.342\\n응\\n\\n00:13:49.184 --> 00:13:50.000\\n스오우 상\\n\\n00:13:50.817 --> 00:13:52.292\\n제가 좋아하는 사람을 위해서\\n\\n00:13:52.292 --> 00:13:53.388\\n메이팅 안 하는 게\\n\\n00:13:53.834 --> 00:13:55.655\\n제멋대로라 생각하시나요?\\n\\n00:13:56.171 --> 00:13:59.356\\n전 그 질문에 대답할\\n입장이 아닙니다\\n\\n00:13:59.932 --> 00:14:00.738\\n지금\\n\\n00:14:00.738 --> 00:14:02.868\\n콜드 슬립에 들어간 남성은\\n\\n00:14:03.136 --> 00:14:04.745\\n전 세계에 몇 명 있습니까?\\n\\n00:14:05.131 --> 00:14:07.547\\nUW에 비협조적인 나라도 있으니\\n\\n00:14:07.925 --> 00:14:10.177\\n정확한 수는 알지 못하지만\\n\\n00:14:10.636 --> 00:14:13.362\\n100만에서 500만 정도 있다 합니다\\n\\n00:14:13.747 --> 00:14:15.820\\n제가 필사적으로 메이팅 한다고 한들\\n\\n00:14:16.166 --> 00:14:17.108\\n아마도 1년 내에\\n\\n00:14:17.396 --> 00:14:19.286\\n100명의 아이를 가질지 말지\\n\\n00:14:19.835 --> 00:14:20.556\\n그치만\\n\\n00:14:20.616 --> 00:14:21.937\\n잠들어 있는 남성들이\\n\\n00:14:21.937 --> 00:14:23.339\\n활동 가능하게 된다면\\n\\n00:14:23.638 --> 00:14:25.560\\n세계는 원래대로 돌아올지도 몰라요\\n\\n00:14:25.998 --> 00:14:27.122\\n미즈하라 님\\n\\n00:14:27.635 --> 00:14:28.373\\n스오우 상\\n\\n00:14:28.662 --> 00:14:29.480\\n결심했어요\\n\\n00:14:30.276 --> 00:14:31.632\\n제가 MK바이러스의\\n\\n00:14:31.877 --> 00:14:33.352\\n특효약을 만들겠어요\\n\\n00:14:39.732 --> 00:14:40.758\\n마히루 쨩!\\n\\n00:14:40.758 --> 00:14:42.413\\n한 명당 딱 하나씩이니까\\n\\n00:14:42.523 --> 00:14:43.630\\n자, 이게 마지막\\n\\n00:14:43.630 --> 00:14:44.427\\n고마워\\n\\n00:14:44.427 --> 00:14:44.966\\n마히루 쨩\\n\\n00:14:44.966 --> 00:14:45.642\\n에엑!!\\n\\n00:14:45.642 --> 00:14:46.862\\n더 줘!\\n\\n00:14:46.862 --> 00:14:47.584\\n미안해\\n\\n00:14:47.584 --> 00:14:48.438\\n다음에 또\\n\\n00:14:48.499 --> 00:14:49.866\\n매번 고맙구나\\n\\n00:14:49.866 --> 00:14:50.598\\n마히루\\n\\n00:14:50.598 --> 00:14:51.534\\n괜찮아요\\n\\n00:14:51.534 --> 00:14:53.126\\n어차피 남아도니까요\\n\\n00:14:54.414 --> 00:14:54.908\\n어?\\n\\n00:14:54.908 --> 00:14:55.675\\n뭐지?\\n\\n00:14:57.184 --> 00:14:58.012\\n지금부터\\n\\n00:14:58.012 --> 00:14:59.899\\n세계 동시 방송을 시작합니다\\n\\n00:15:00.318 --> 00:15:02.318\\n오늘은 일본국 여러분께\\n\\n00:15:03.040 --> 00:15:03.766\\n아뇨\\n\\n00:15:04.068 --> 00:15:06.940\\n세계 여러분께 중대한 보고가 있습니다\\n\\n00:15:07.568 --> 00:15:10.419\\n이 세계에서 살아있는\\n남성을 찾아냈습니다\\n\\n00:15:10.419 --> 00:15:10.944\\n에?\\n\\n00:15:10.944 --> 00:15:11.589\\n거짓말!\\n\\n00:15:11.657 --> 00:15:12.943\\n소개해드리지요\\n\\n00:15:14.075 --> 00:15:15.556\\n미즈하라 레이토 상입니다\\n\\n00:15:15.556 --> 00:15:16.579\\n오빠!\\n\\n00:15:16.851 --> 00:15:18.129\\n여러분 처음 뵙겠습니다\\n\\n00:15:18.425 --> 00:15:20.122\\n미즈하라 레이토라 합니다\\n\\n00:15:20.866 --> 00:15:21.926\\n남자가 살아있어!\\n\\n00:15:22.427 --> 00:15:23.796\\n옛날 영상 아냐?\\n\\n00:15:23.796 --> 00:15:24.453\\n마히루?\\n\\n00:15:26.529 --> 00:15:27.255\\n오빠\\n\\n00:15:27.432 --> 00:15:28.570\\n갑자기 왜?\\n\\n00:15:29.246 --> 00:15:29.934\\n전\\n\\n00:15:30.459 --> 00:15:31.255\\n저는\\n\\n00:15:31.255 --> 00:15:32.278\\n몇 일 전에\\n\\n00:15:32.379 --> 00:15:34.340\\n콜드 슬립에서 깨어났습니다\\n\\n00:15:35.790 --> 00:15:38.251\\n아직 확실하게 원인을 알지 못하지만\\n\\n00:15:38.723 --> 00:15:41.999\\n전 MK바이러스에 대한\\n저항력을 가졌다고 합니다\\n\\n00:15:42.678 --> 00:15:43.376\\n지금\\n\\n00:15:43.376 --> 00:15:44.945\\n슬픈 기억을 가진 사람이\\n\\n00:15:44.945 --> 00:15:46.272\\n수없이 많을 거라 생각합니다\\n\\n00:15:46.640 --> 00:15:47.327\\n그렇지만\\n\\n00:15:47.327 --> 00:15:48.838\\n희망을 버리지 마세요\\n\\n00:15:49.432 --> 00:15:50.867\\n제가 살아있단 건\\n\\n00:15:51.248 --> 00:15:53.643\\n현재 콜드 슬립에 들어간 남성이\\n\\n00:15:53.996 --> 00:15:56.540\\n활동할 가능성이 있다는 겁니다\\n\\n00:15:58.800 --> 00:15:59.658\\n이제 가자\\n\\n00:16:00.321 --> 00:16:01.013\\n응\\n\\n00:16:03.011 --> 00:16:03.724\\n전\\n\\n00:16:03.724 --> 00:16:07.138\\nMK바이러스를 구축할\\n특효약을 만들 생각입니다\\n\\n00:16:07.653 --> 00:16:08.184\\n부디\\n\\n00:16:08.184 --> 00:16:09.475\\n여러분의 협력을\\n\\n00:16:09.552 --> 00:16:10.772\\n부탁드립니다\\n\\n00:16:18.706 --> 00:16:21.027\\n아직도 방송한 걸로 화내는 거야?\\n\\n00:16:21.123 --> 00:16:22.201\\n미안하다니까\\n\\n00:16:22.201 --> 00:16:23.409\\n그런 선언을 하면\\n\\n00:16:23.409 --> 00:16:25.363\\n전 세계에 주목되고\\n\\n00:16:25.588 --> 00:16:28.028\\n레이 오빠가 위험한\\n꼴을 당할지도 모르잖아\\n\\n00:16:28.388 --> 00:16:29.112\\n그치만\\n\\n00:16:29.112 --> 00:16:30.957\\n덕분에 외출 허가도 나왔고\\n\\n00:16:31.288 --> 00:16:33.513\\n이 실험 시설도 쓸 수 있게 됐잖아\\n\\n00:16:34.079 --> 00:16:35.803\\n형을 깨우기 위해서야\\n\\n00:16:36.105 --> 00:16:37.178\\n뭐든 해야지\\n\\n00:16:38.231 --> 00:16:39.044\\n응...\\n\\n00:16:40.276 --> 00:16:41.177\\n그치만, 안 돼\\n\\n00:16:41.177 --> 00:16:42.201\\n제대로 자지 않으면\\n\\n00:16:42.556 --> 00:16:44.179\\n쓰러져도 난 모른다\\n\\n00:16:44.581 --> 00:16:46.211\\n난 5년이나 잤잖아\\n\\n00:16:46.682 --> 00:16:47.920\\n이 정도는 멀쩡해\\n\\n00:16:48.890 --> 00:16:49.411\\n어?\\n\\n00:16:49.572 --> 00:16:50.934\\n뭐 하는 거야! 갑자기\\n\\n00:16:51.673 --> 00:16:53.206\\n기운 나는 주문이야\\n\\n00:16:53.604 --> 00:16:53.965\\n어!\\n\\n00:16:53.965 --> 00:16:54.818\\n정겹다!\\n\\n00:16:54.818 --> 00:16:56.859\\n이거 에리사 쨩이 가지고 있던 거잖아\\n\\n00:16:57.111 --> 00:16:57.750\\n응\\n\\n00:16:57.750 --> 00:16:59.917\\n에리사가 있던 연구실에서 찾아냈거든\\n\\n00:16:59.974 --> 00:17:00.514\\n얼래?\\n\\n00:17:00.514 --> 00:17:02.389\\n속에 뭔가 들어있는데\\n\\n00:17:02.778 --> 00:17:03.600\\n진짜네\\n\\n00:17:04.212 --> 00:17:05.259\\n스마트링\\n\\n00:17:05.259 --> 00:17:06.669\\n에리사 쨩 건가?\\n\\n00:17:06.895 --> 00:17:07.581\\n엇!\\n\\n00:17:07.646 --> 00:17:08.348\\n마히루\\n\\n00:17:08.571 --> 00:17:09.725\\n잠깐, 화장실에 갈 거니까\\n\\n00:17:09.946 --> 00:17:11.248\\n누가 오면 알려줘\\n\\n00:17:11.248 --> 00:17:12.373\\n응. 알겠는데\\n\\n00:17:17.369 --> 00:17:18.216\\n레이토\\n\\n00:17:18.410 --> 00:17:19.157\\n어!\\n\\n00:17:19.500 --> 00:17:21.753\\n이걸 보고 있는 게\\n레이토라면 좋을 텐데\\n\\n00:17:22.522 --> 00:17:24.509\\n시간이 없으니까 짧게 말할게\\n\\n00:17:25.103 --> 00:17:25.909\\n난 지금\\n\\n00:17:25.909 --> 00:17:28.442\\n어떤 곳에서 MK바이러스의\\n연구를 하고 있어\\n\\n00:17:28.909 --> 00:17:29.595\\n거기서\\n\\n00:17:29.595 --> 00:17:31.540\\n무서운 사실에 당도했어\\n\\n00:17:31.836 --> 00:17:33.174\\n믿고 싶진 않았지만\\n\\n00:17:33.515 --> 00:17:34.298\\n그치만\\n\\n00:17:34.298 --> 00:17:34.975\\n어?\\n\\n00:17:35.081 --> 00:17:37.175\\n그건 자연히 발생한 게 아냐\\n\\n00:17:37.504 --> 00:17:39.849\\nMK바이러스는 사람이 만들어낸 거야\\n\\n00:17:39.963 --> 00:17:40.796\\n엇!\\n\\n00:17:40.929 --> 00:17:41.771\\n레이토\\n\\n00:17:41.771 --> 00:17:44.068\\n이 세계는 기만에 둘러싸였어\\n\\n00:17:44.521 --> 00:17:47.333\\n바이러스에 대한 건 중요한\\n정보를 손에 넣었지만\\n\\n00:17:47.666 --> 00:17:49.064\\n너무나 신용 할 수 없었어\\n\\n00:17:50.212 --> 00:17:51.602\\n레이토를 만나고 싶어\\n\\n00:17:58.677 --> 00:17:59.430\\n스오우 상\\n\\n00:17:59.506 --> 00:18:00.532\\n수고하셨어요\\n\\n00:18:03.121 --> 00:18:04.471\\n다 드시고서 말하세요\\n\\n00:18:05.508 --> 00:18:06.583\\n실례했습니다\\n\\n00:18:07.220 --> 00:18:09.582\\n오늘도 계속 MK바이러스의 연구를?\\n\\n00:18:09.651 --> 00:18:10.481\\n네\\n\\n00:18:10.481 --> 00:18:12.074\\n그걸로 잠깐 묻고 싶은 게\\n\\n00:18:12.756 --> 00:18:13.574\\n뭔가요?\\n\\n00:18:13.867 --> 00:18:14.675\\n아, 아뇨\\n\\n00:18:14.675 --> 00:18:15.838\\n아무것도 아니에요\\n\\n00:18:16.541 --> 00:18:20.060\\n뭐, 뭔가 그 외 연구에\\n필요한 게 있다면\\n\\n00:18:20.300 --> 00:18:21.392\\n알려주세요\\n\\n00:18:21.975 --> 00:18:23.094\\n어, 먹었네\\n\\n00:18:25.346 --> 00:18:26.328\\n왜 그러세요?\\n\\n00:18:26.437 --> 00:18:27.561\\n아, 아뇨\\n\\n00:18:27.976 --> 00:18:28.945\\n이 정원은\\n\\n00:18:28.945 --> 00:18:30.667\\n자유롭게 돌아다녀도 괜찮네요\\n\\n00:18:31.131 --> 00:18:32.860\\n잠시, 산책 하실래요?\\n\\n00:18:32.972 --> 00:18:34.249\\n명하신 대로\\n\\n00:18:37.780 --> 00:18:38.744\\n스오우 상은\\n\\n00:18:38.978 --> 00:18:41.217\\n좀 제 소꿉친구와 닮았어요\\n\\n00:18:42.079 --> 00:18:43.107\\n아, 그치만\\n\\n00:18:43.107 --> 00:18:45.340\\n스오우 상이 더 똑 부러졌지만요\\n\\n00:18:45.778 --> 00:18:47.823\\n그 녀석은 애들 같은 점이 있어서\\n\\n00:18:48.537 --> 00:18:50.161\\n타치바나 에리사 상의 행방은\\n\\n00:18:50.161 --> 00:18:51.427\\n찾고 있습니다\\n\\n00:18:51.761 --> 00:18:54.074\\n기대에 부응할진 모르겠지만요\\n\\n00:18:54.581 --> 00:18:55.756\\n고맙습니다\\n\\n00:18:56.072 --> 00:18:56.804\\n근데\\n\\n00:18:56.804 --> 00:18:59.815\\n지금은 특효약의 개발을\\n우선할 생각이에요\\n\\n00:19:00.684 --> 00:19:01.554\\n연구소에선\\n\\n00:19:01.554 --> 00:19:02.377\\n조금이지만\\n\\n00:19:02.615 --> 00:19:04.143\\n정보도 얻을 수 있었으니\\n\\n00:19:04.601 --> 00:19:05.479\\n미즈하라 님\\n\\n00:19:05.864 --> 00:19:06.520\\n음?\\n\\n00:19:06.986 --> 00:19:09.037\\n요전번에 위험한 일을 격게 만들어\\n\\n00:19:09.273 --> 00:19:11.159\\n정말로 죄송하게 됐습니다\\n\\n00:19:12.101 --> 00:19:13.678\\n곰 우리가 부서졌는데\\n\\n00:19:13.769 --> 00:19:15.388\\n직원의 확인이 늦어져서\\n\\n00:19:15.784 --> 00:19:18.529\\n사람을 통제한 게\\n화를 부르게 됐습니다\\n\\n00:19:19.209 --> 00:19:20.278\\n담당관으로서\\n\\n00:19:20.533 --> 00:19:22.401\\n다시금 사죄를 드립니다\\n\\n00:19:22.774 --> 00:19:23.731\\n아, 아뇨\\n\\n00:19:23.731 --> 00:19:25.336\\n정말로 신경 쓰지 마세요\\n\\n00:19:25.597 --> 00:19:27.190\\n상처도 바로 나았고\\n\\n00:19:27.499 --> 00:19:28.277\\n그건 그렇고\\n\\n00:19:28.277 --> 00:19:29.902\\n스이 쨩은 강하네요\\n\\n00:19:30.165 --> 00:19:32.025\\n오히려 그게 더 놀랐어요\\n\\n00:19:32.432 --> 00:19:34.983\\n그녀는 특수한 훈련을 받았기에\\n\\n00:19:36.147 --> 00:19:37.247\\n스오우 상이야말로\\n\\n00:19:37.638 --> 00:19:38.990\\n제 담당관이 돼서\\n\\n00:19:38.990 --> 00:19:40.398\\n싫지 않았나요?\\n\\n00:19:40.779 --> 00:19:42.379\\n어째서 그러게 생각하시나요?\\n\\n00:19:42.729 --> 00:19:43.430\\n그게\\n\\n00:19:43.430 --> 00:19:44.135\\n저\\n\\n00:19:44.135 --> 00:19:45.267\\n여러 이유를 붙여서\\n\\n00:19:45.267 --> 00:19:46.388\\n메이팅도 안 하고\\n\\n00:19:46.786 --> 00:19:48.503\\n스오우 상의 입장에선\\n\\n00:19:48.776 --> 00:19:50.739\\n제가 관계를 많이 가지지 않으면\\n\\n00:19:50.739 --> 00:19:51.775\\n곤란할 텐데\\n\\n00:19:52.501 --> 00:19:53.912\\n제가 특효약을 만든다고\\n\\n00:19:54.166 --> 00:19:56.275\\n억지를 부려도 도와주시고\\n\\n00:19:56.918 --> 00:19:58.138\\n왠지, 미안해서\\n\\n00:19:59.092 --> 00:19:59.888\\n죄송해요\\n\\n00:20:00.049 --> 00:20:02.701\\n미안하다 생각하면 협력하란 말이죠\\n\\n00:20:03.075 --> 00:20:04.489\\n알곤 있지만\\n\\n00:20:04.750 --> 00:20:05.512\\n저기\\n\\n00:20:05.512 --> 00:20:06.372\\n아무래도\\n\\n00:20:06.955 --> 00:20:08.234\\n상냥하시네요\\n\\n00:20:08.491 --> 00:20:09.837\\n미즈하라 님께선\\n\\n00:20:34.720 --> 00:20:37.075\\nMK바이러스는 인간이 만들었다\\n\\n00:20:37.711 --> 00:20:38.847\\n진짜로 한다면\\n\\n00:20:38.949 --> 00:20:40.109\\n도대체 누가\\n\\n00:20:40.377 --> 00:20:41.537\\n뭣을 위해서\\n\\n00:20:42.669 --> 00:20:43.741\\n넘버2가\\n\\n00:20:43.741 --> 00:20:45.536\\n이런 짓을 할 줄이야\\n\\n00:20:45.850 --> 00:20:49.681\\n의학생 따위가 MK바이러스의\\n특효약을 만든다고\\n\\n00:20:50.140 --> 00:20:52.788\\n찐따가 영재로 태생이 바뀐 줄로 아나\\n\\n00:20:52.788 --> 00:20:54.134\\n이 씨발 좆 고자 새끼는\\n\\n00:20:54.462 --> 00:20:56.263\\n재밌는 사내잖아\\n\\n00:20:56.321 --> 00:20:58.257\\n좀처럼 공론화 할 말은 아니지\\n\\n00:20:58.628 --> 00:21:00.192\\n그럼, 이 영상을 보고서\\n\\n00:21:01.587 --> 00:21:03.753\\n본부가 어떻게 움직이려나\\n\\n00:21:04.122 --> 00:21:04.806\\n뭐\\n\\n00:21:04.806 --> 00:21:08.069\\n뜬금없이 전쟁을 걸어오는\\n행태는 아니겠죠\\n\\n00:21:08.172 --> 00:21:09.386\\n그래요~\\n\\n00:21:09.662 --> 00:21:10.606\\n그런 짓을 한다면\\n\\n00:21:10.606 --> 00:21:12.897\\n세계를 적으로 돌리는 게 되니까\\n\\n00:21:13.198 --> 00:21:14.195\\n일본은 이제\\n\\n00:21:14.195 --> 00:21:16.940\\n전 세계 여자들에 희망의 나라인 걸\\n\\n00:21:17.239 --> 00:21:18.374\\n아무튼 본부도\\n\\n00:21:18.445 --> 00:21:21.751\\n그와 같은 존재엔 어렴풋이\\n깨닫기 시작했겠지\\n\\n00:21:22.500 --> 00:21:25.146\\n반대로 그의 존재를 크게 키우는 걸로\\n\\n00:21:25.436 --> 00:21:27.997\\n단숨에 우리들이 주도권을 쥐는 거야\\n\\n00:21:28.383 --> 00:21:29.626\\n넘버즈의 상태는?\\n\\n00:21:29.841 --> 00:21:30.570\\n예\\n\\n00:21:30.570 --> 00:21:31.189\\n그럼\\n\\n00:21:31.189 --> 00:21:33.177\\n넘버1의 메이팅 영상을\\n\\n00:21:33.785 --> 00:21:34.880\\n장관이네\\n\\n00:21:34.983 --> 00:21:36.107\\n원숭이 같아\\n\\n00:21:36.917 --> 00:21:38.592\\n넘버1의 담당관\\n\\n00:21:38.654 --> 00:21:40.074\\n이스루기 네네코는\\n\\n00:21:40.074 --> 00:21:41.646\\n똑바로 하고 있군\\n\\n00:21:41.796 --> 00:21:42.502\\n네\\n\\n00:21:42.742 --> 00:21:45.096\\n100명에 가까운 여성과\\n메이팅 중입니다\\n\\n00:21:45.380 --> 00:21:48.396\\n그 중에 벌써 28명의 임신을 확인\\n\\n00:21:48.795 --> 00:21:50.672\\n이윽고 아이도 태어나겠죠\\n\\n00:21:50.788 --> 00:21:53.177\\n그거에 비해 넘버2는\\n\\n00:21:53.177 --> 00:21:54.557\\n완전 글렀구나\\n\\n00:21:55.429 --> 00:21:57.509\\n이 여자는 그 좆 고자 새끼를 위해\\n\\n00:21:57.509 --> 00:21:58.939\\n일부러 준비했던 건데\\n\\n00:21:59.400 --> 00:22:01.423\\n완전히 헛지랄 한 셈이잖아\\n\\n00:22:02.348 --> 00:22:03.461\\n네 네~\\n\\n00:22:03.721 --> 00:22:06.322\\n그 새끼한텐 다른 쓰임새가\\n있다고 말하는 거지\\n\\n00:22:06.675 --> 00:22:08.415\\n남은 넘버즈는 3명\\n\\n00:22:08.724 --> 00:22:10.885\\n모두 다 신중하게 다뤄야 하겠지만\\n\\n00:22:11.192 --> 00:22:14.265\\n지금은 계획을 다음\\n단계로 진행할 때입니다\\n\\n00:22:14.647 --> 00:22:15.551\\n좋지\\n\\n00:22:16.056 --> 00:22:17.442\\n준비가 갖춰지는 대로\\n\\n00:22:17.442 --> 00:22:19.450\\n넘버3를 해동한다\\n\\n00:22:20.613 --> 00:22:21.648\\n아, 그런\\n\\n00:22:22.594 --> 00:22:23.605\\n멋대로 하다가\\n\\n00:22:23.605 --> 00:22:25.463\\n쿄지 님의 예정이 어그러뜨리면\\n\\n00:22:25.784 --> 00:22:26.610\\n담당관님께\\n\\n00:22:26.610 --> 00:22:27.867\\n혼날 거예요\\n\\n00:22:29.578 --> 00:22:30.190\\n앗!\\n\\n00:22:38.279 --> 00:22:40.234\\n내가 말하면 괜찮다니까\\n\\n00:22:40.825 --> 00:22:41.467\\n응?\\n\\n00:22:41.500 --> 00:22:42.863\\n아, 네\\n\\n00:22:56.136 --> 00:22:57.456\\n있죠, 쿄지 님\\n\\n00:22:57.778 --> 00:22:59.571\\n저희들은 아직인가요?\\n\\n00:22:59.896 --> 00:23:01.240\\n순번 대로\\n\\n00:23:01.377 --> 00:23:02.176\\n안 돼\\n\\n00:23:02.176 --> 00:23:03.897\\n그렇게 못 기다려요\\n\\n00:23:04.203 --> 00:23:05.171\\n저도\\n\\n00:23:05.302 --> 00:23:06.330\\n게다가\\n\\n00:23:07.164 --> 00:23:08.913\\n쿄지 님도 빨리 하고 싶어서\\n\\n00:23:08.913 --> 00:23:10.308\\n참을 수 없잖아요\\n\\n00:23:11.111 --> 00:23:12.102\\n넣어주세요\\n\\n00:23:12.387 --> 00:23:14.083\\n마음에 드는 구멍부터\\n\\n00:23:15.784 --> 00:23:17.738\\n호사스런 광경이네\\n\\n00:23:18.204 --> 00:23:18.760\\n그럼\\n\\n00:23:18.760 --> 00:23:19.863\\n사양말고\\n\\n00:23:33.540 --> 00:23:34.219\\n알겠니?\\n\\n00:23:34.285 --> 00:23:36.341\\n이제 며칠 내로 계획 개시입니다\\n\\n00:23:36.789 --> 00:23:38.870\\n이만큼 환경을 준비했으니까\\n\\n00:23:39.175 --> 00:23:40.503\\n임무를 완수하세요\\n\\n00:23:41.043 --> 00:23:41.914\\n물론~\\n\\n00:23:41.914 --> 00:23:43.128\\n맡겨만 주세요\\n\\n00:23:43.620 --> 00:23:46.412\\n지구 제일의 럭키보이의 종마 생활☆\\n\\n00:23:46.775 --> 00:23:49.904\\n이 카렌 쨩이 완벽하게\\n프로듀스 할게요\\n\\n00:25:20.344 --> 00:25:25.395\\n제3화\\n제3의남자'"
      ]
     },
     "execution_count": 23,
     "metadata": {},
     "output_type": "execute_result"
    }
   ],
   "source": [
    "html_caption.text.replace('\\r\\n','\\n')"
   ]
  },
  {
   "cell_type": "code",
   "execution_count": 73,
   "metadata": {},
   "outputs": [],
   "source": [
    "# m3u8 경로 찾기\n",
    "ep_site_url = 'https://linkkf.app/361919m/%ea%b8%b8%eb%aa%a8%ed%89%81%ec%9d%b4-%eb%a7%88%ec%a1%b1-2%ea%b8%b0-2%ed%99%94.html'"
   ]
  },
  {
   "cell_type": "code",
   "execution_count": 74,
   "metadata": {},
   "outputs": [],
   "source": [
    "browser.get(ep_site_url)"
   ]
  },
  {
   "cell_type": "code",
   "execution_count": 75,
   "metadata": {},
   "outputs": [],
   "source": [
    "option = browser.find_element(by=By.TAG_NAME, value='option')\n",
    "php_url = option.get_attribute('value')"
   ]
  },
  {
   "cell_type": "code",
   "execution_count": 76,
   "metadata": {},
   "outputs": [
    {
     "data": {
      "text/plain": [
       "'https://kfani.me/k/k/19.php?url=361919m2&id=361919m2'"
      ]
     },
     "execution_count": 76,
     "metadata": {},
     "output_type": "execute_result"
    }
   ],
   "source": [
    "php_url"
   ]
  },
  {
   "cell_type": "code",
   "execution_count": 77,
   "metadata": {},
   "outputs": [],
   "source": [
    "request_headers = {\n",
    "            \"user-agent\": \"Mozilla/5.0 (Windows NT 10.0; Win64; x64) AppleWebKit/537.36 (KHTML, like Gecko) Chrome/102.0.0.0 Safari/537.36\",\n",
    "            \"content-type\":\"application/json\",             \n",
    "            \"referer\": \"https://kfani.me/\",\n",
    "          }\n",
    "\n",
    "php_res = requests.get(php_url, headers = request_headers)"
   ]
  },
  {
   "cell_type": "code",
   "execution_count": 78,
   "metadata": {},
   "outputs": [],
   "source": [
    "soup_php = BeautifulSoup(php_res.text, \"html.parser\")"
   ]
  },
  {
   "cell_type": "code",
   "execution_count": 84,
   "metadata": {},
   "outputs": [
    {
     "data": {
      "text/plain": [
       "'https://k19v2.ciuxe2.xyz/k19/361919m2/index.m3u8'"
      ]
     },
     "execution_count": 84,
     "metadata": {},
     "output_type": "execute_result"
    }
   ],
   "source": [
    "soup_php.select_one('source').attrs['src']"
   ]
  },
  {
   "cell_type": "code",
   "execution_count": 1,
   "metadata": {},
   "outputs": [],
   "source": [
    "test = \"테스트 -: 테스트\""
   ]
  },
  {
   "cell_type": "code",
   "execution_count": 4,
   "metadata": {},
   "outputs": [
    {
     "data": {
      "text/plain": [
       "'테스트 -- 테스트'"
      ]
     },
     "execution_count": 4,
     "metadata": {},
     "output_type": "execute_result"
    }
   ],
   "source": [
    "test.replace(\":\", \"-\")"
   ]
  },
  {
   "cell_type": "code",
   "execution_count": null,
   "metadata": {},
   "outputs": [],
   "source": []
  }
 ],
 "metadata": {
  "kernelspec": {
   "display_name": "Python 3 (ipykernel)",
   "language": "python",
   "name": "python3"
  },
  "language_info": {
   "codemirror_mode": {
    "name": "ipython",
    "version": 3
   },
   "file_extension": ".py",
   "mimetype": "text/x-python",
   "name": "python",
   "nbconvert_exporter": "python",
   "pygments_lexer": "ipython3",
   "version": "3.8.9"
  }
 },
 "nbformat": 4,
 "nbformat_minor": 2
}
