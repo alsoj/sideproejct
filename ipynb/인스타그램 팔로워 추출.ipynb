{
 "cells": [
  {
   "cell_type": "code",
   "execution_count": 3,
   "id": "3e77e530",
   "metadata": {},
   "outputs": [],
   "source": [
    "from selenium import webdriver\n",
    "from time import sleep\n",
    "import os\n",
    "import pandas as pd\n",
    "import json\n",
    "from selenium.webdriver.common.by import By\n",
    "import requests\n",
    "from datetime import datetime\n",
    "from openpyxl import Workbook, load_workbook"
   ]
  },
  {
   "cell_type": "code",
   "execution_count": 38,
   "id": "7da4bcd7",
   "metadata": {},
   "outputs": [],
   "source": [
    "# 파일 관련 변수\n",
    "PATH = './output/'\n",
    "FILE_NAME_PREFIX = datetime.today().strftime(\"%Y%m%d\")\n",
    "FILE_NAME = '_테스트.xlsx'\n",
    "\n",
    "# 추출 관련 변수\n",
    "BASE_URL = 'https://www.instagram.com/'\n",
    "TARGET_ID = 'the___goobster'\n",
    "\n",
    "# API 관련 변수\n",
    "graphql_endpoint = 'https://www.instagram.com/graphql/query/'\n",
    "graphql_followers = (graphql_endpoint + '?query_hash=37479f2b8209594dde7facb0d904896a')"
   ]
  },
  {
   "cell_type": "code",
   "execution_count": 21,
   "id": "91a1f1a8",
   "metadata": {},
   "outputs": [],
   "source": [
    "# 엑셀 파일 작업\n",
    "wb = Workbook()\n",
    "# wb.create_sheet(\"sheet1\")\n",
    "ws = wb.active\n",
    "ws['A1'] = 'test'\n",
    "wb.save(PATH+FILE_NAME_PREFIX+FILE_NAME)"
   ]
  },
  {
   "cell_type": "code",
   "execution_count": 16,
   "id": "4ca5c790",
   "metadata": {},
   "outputs": [],
   "source": [
    "load_wb = load_workbook(PATH+FILE_NAME_PREFIX+FILE_NAME, data_only=True)"
   ]
  },
  {
   "cell_type": "code",
   "execution_count": 24,
   "id": "fda51440",
   "metadata": {
    "scrolled": true
   },
   "outputs": [
    {
     "name": "stdout",
     "output_type": "stream",
     "text": [
      "test\n"
     ]
    }
   ],
   "source": [
    "load_wb['Sheet']['A1'].value)"
   ]
  },
  {
   "cell_type": "code",
   "execution_count": 25,
   "id": "f6c80d0e",
   "metadata": {
    "scrolled": true
   },
   "outputs": [
    {
     "name": "stderr",
     "output_type": "stream",
     "text": [
      "C:\\Users\\alsoj\\Anaconda3\\envs\\backtest\\lib\\site-packages\\ipykernel_launcher.py:1: DeprecationWarning: executable_path has been deprecated, please pass in a Service object\n",
      "  \"\"\"Entry point for launching an IPython kernel.\n"
     ]
    }
   ],
   "source": [
    "# 브라우저 open\n",
    "browser = webdriver.Chrome('chromedriver.exe')"
   ]
  },
  {
   "cell_type": "code",
   "execution_count": 61,
   "id": "f5fc65cd",
   "metadata": {},
   "outputs": [
    {
     "ename": "JavascriptException",
     "evalue": "Message: javascript error: Cannot read properties of undefined (reading '0')\n  (Session info: chrome=103.0.5060.53)\nStacktrace:\nBacktrace:\n\tOrdinal0 [0x0091D953+2414931]\n\tOrdinal0 [0x008AF5E1+1963489]\n\tOrdinal0 [0x0079C6B8+837304]\n\tOrdinal0 [0x0079F0B4+848052]\n\tOrdinal0 [0x0079EF72+847730]\n\tOrdinal0 [0x0079F8EA+850154]\n\tOrdinal0 [0x007F5249+1200713]\n\tOrdinal0 [0x007E449C+1131676]\n\tOrdinal0 [0x007F4812+1198098]\n\tOrdinal0 [0x007E42B6+1131190]\n\tOrdinal0 [0x007BE860+976992]\n\tOrdinal0 [0x007BF756+980822]\n\tGetHandleVerifier [0x00B8CC62+2510274]\n\tGetHandleVerifier [0x00B7F760+2455744]\n\tGetHandleVerifier [0x009AEABA+551962]\n\tGetHandleVerifier [0x009AD916+547446]\n\tOrdinal0 [0x008B5F3B+1990459]\n\tOrdinal0 [0x008BA898+2009240]\n\tOrdinal0 [0x008BA985+2009477]\n\tOrdinal0 [0x008C3AD1+2046673]\n\tBaseThreadInitThunk [0x7692FA29+25]\n\tRtlGetAppContainerNamedObjectPath [0x77027A9E+286]\n\tRtlGetAppContainerNamedObjectPath [0x77027A6E+238]\n",
     "output_type": "error",
     "traceback": [
      "\u001b[1;31m---------------------------------------------------------------------------\u001b[0m",
      "\u001b[1;31mJavascriptException\u001b[0m                       Traceback (most recent call last)",
      "\u001b[1;32m<ipython-input-61-c2f4114ec74b>\u001b[0m in \u001b[0;36m<module>\u001b[1;34m\u001b[0m\n\u001b[0;32m      1\u001b[0m USER_ID = browser.execute_script(\n\u001b[1;32m----> 2\u001b[1;33m             \u001b[1;34m\"return window._sharedData.entry_data.ProfilePage[0].\"\u001b[0m\u001b[1;33m\u001b[0m\u001b[1;33m\u001b[0m\u001b[0m\n\u001b[0m\u001b[0;32m      3\u001b[0m              \"graphql.user.id\")\n",
      "\u001b[1;32m~\\Anaconda3\\envs\\backtest\\lib\\site-packages\\selenium\\webdriver\\remote\\webdriver.py\u001b[0m in \u001b[0;36mexecute_script\u001b[1;34m(self, script, *args)\u001b[0m\n\u001b[0;32m    884\u001b[0m         return self.execute(command, {\n\u001b[0;32m    885\u001b[0m             \u001b[1;34m'script'\u001b[0m\u001b[1;33m:\u001b[0m \u001b[0mscript\u001b[0m\u001b[1;33m,\u001b[0m\u001b[1;33m\u001b[0m\u001b[1;33m\u001b[0m\u001b[0m\n\u001b[1;32m--> 886\u001b[1;33m             'args': converted_args})['value']\n\u001b[0m\u001b[0;32m    887\u001b[0m \u001b[1;33m\u001b[0m\u001b[0m\n\u001b[0;32m    888\u001b[0m     \u001b[1;32mdef\u001b[0m \u001b[0mexecute_async_script\u001b[0m\u001b[1;33m(\u001b[0m\u001b[0mself\u001b[0m\u001b[1;33m,\u001b[0m \u001b[0mscript\u001b[0m\u001b[1;33m:\u001b[0m \u001b[0mstr\u001b[0m\u001b[1;33m,\u001b[0m \u001b[1;33m*\u001b[0m\u001b[0margs\u001b[0m\u001b[1;33m)\u001b[0m\u001b[1;33m:\u001b[0m\u001b[1;33m\u001b[0m\u001b[1;33m\u001b[0m\u001b[0m\n",
      "\u001b[1;32m~\\Anaconda3\\envs\\backtest\\lib\\site-packages\\selenium\\webdriver\\remote\\webdriver.py\u001b[0m in \u001b[0;36mexecute\u001b[1;34m(self, driver_command, params)\u001b[0m\n\u001b[0;32m    428\u001b[0m         \u001b[0mresponse\u001b[0m \u001b[1;33m=\u001b[0m \u001b[0mself\u001b[0m\u001b[1;33m.\u001b[0m\u001b[0mcommand_executor\u001b[0m\u001b[1;33m.\u001b[0m\u001b[0mexecute\u001b[0m\u001b[1;33m(\u001b[0m\u001b[0mdriver_command\u001b[0m\u001b[1;33m,\u001b[0m \u001b[0mparams\u001b[0m\u001b[1;33m)\u001b[0m\u001b[1;33m\u001b[0m\u001b[1;33m\u001b[0m\u001b[0m\n\u001b[0;32m    429\u001b[0m         \u001b[1;32mif\u001b[0m \u001b[0mresponse\u001b[0m\u001b[1;33m:\u001b[0m\u001b[1;33m\u001b[0m\u001b[1;33m\u001b[0m\u001b[0m\n\u001b[1;32m--> 430\u001b[1;33m             \u001b[0mself\u001b[0m\u001b[1;33m.\u001b[0m\u001b[0merror_handler\u001b[0m\u001b[1;33m.\u001b[0m\u001b[0mcheck_response\u001b[0m\u001b[1;33m(\u001b[0m\u001b[0mresponse\u001b[0m\u001b[1;33m)\u001b[0m\u001b[1;33m\u001b[0m\u001b[1;33m\u001b[0m\u001b[0m\n\u001b[0m\u001b[0;32m    431\u001b[0m             response['value'] = self._unwrap_value(\n\u001b[0;32m    432\u001b[0m                 response.get('value', None))\n",
      "\u001b[1;32m~\\Anaconda3\\envs\\backtest\\lib\\site-packages\\selenium\\webdriver\\remote\\errorhandler.py\u001b[0m in \u001b[0;36mcheck_response\u001b[1;34m(self, response)\u001b[0m\n\u001b[0;32m    245\u001b[0m                 \u001b[0malert_text\u001b[0m \u001b[1;33m=\u001b[0m \u001b[0mvalue\u001b[0m\u001b[1;33m[\u001b[0m\u001b[1;34m'alert'\u001b[0m\u001b[1;33m]\u001b[0m\u001b[1;33m.\u001b[0m\u001b[0mget\u001b[0m\u001b[1;33m(\u001b[0m\u001b[1;34m'text'\u001b[0m\u001b[1;33m)\u001b[0m\u001b[1;33m\u001b[0m\u001b[1;33m\u001b[0m\u001b[0m\n\u001b[0;32m    246\u001b[0m             \u001b[1;32mraise\u001b[0m \u001b[0mexception_class\u001b[0m\u001b[1;33m(\u001b[0m\u001b[0mmessage\u001b[0m\u001b[1;33m,\u001b[0m \u001b[0mscreen\u001b[0m\u001b[1;33m,\u001b[0m \u001b[0mstacktrace\u001b[0m\u001b[1;33m,\u001b[0m \u001b[0malert_text\u001b[0m\u001b[1;33m)\u001b[0m  \u001b[1;31m# type: ignore[call-arg]  # mypy is not smart enough here\u001b[0m\u001b[1;33m\u001b[0m\u001b[1;33m\u001b[0m\u001b[0m\n\u001b[1;32m--> 247\u001b[1;33m         \u001b[1;32mraise\u001b[0m \u001b[0mexception_class\u001b[0m\u001b[1;33m(\u001b[0m\u001b[0mmessage\u001b[0m\u001b[1;33m,\u001b[0m \u001b[0mscreen\u001b[0m\u001b[1;33m,\u001b[0m \u001b[0mstacktrace\u001b[0m\u001b[1;33m)\u001b[0m\u001b[1;33m\u001b[0m\u001b[1;33m\u001b[0m\u001b[0m\n\u001b[0m\u001b[0;32m    248\u001b[0m \u001b[1;33m\u001b[0m\u001b[0m\n\u001b[0;32m    249\u001b[0m     \u001b[1;32mdef\u001b[0m \u001b[0m_value_or_default\u001b[0m\u001b[1;33m(\u001b[0m\u001b[0mself\u001b[0m\u001b[1;33m,\u001b[0m \u001b[0mobj\u001b[0m\u001b[1;33m:\u001b[0m \u001b[0mMapping\u001b[0m\u001b[1;33m[\u001b[0m\u001b[0m_KT\u001b[0m\u001b[1;33m,\u001b[0m \u001b[0m_VT\u001b[0m\u001b[1;33m]\u001b[0m\u001b[1;33m,\u001b[0m \u001b[0mkey\u001b[0m\u001b[1;33m:\u001b[0m \u001b[0m_KT\u001b[0m\u001b[1;33m,\u001b[0m \u001b[0mdefault\u001b[0m\u001b[1;33m:\u001b[0m \u001b[0m_VT\u001b[0m\u001b[1;33m)\u001b[0m \u001b[1;33m->\u001b[0m \u001b[0m_VT\u001b[0m\u001b[1;33m:\u001b[0m\u001b[1;33m\u001b[0m\u001b[1;33m\u001b[0m\u001b[0m\n",
      "\u001b[1;31mJavascriptException\u001b[0m: Message: javascript error: Cannot read properties of undefined (reading '0')\n  (Session info: chrome=103.0.5060.53)\nStacktrace:\nBacktrace:\n\tOrdinal0 [0x0091D953+2414931]\n\tOrdinal0 [0x008AF5E1+1963489]\n\tOrdinal0 [0x0079C6B8+837304]\n\tOrdinal0 [0x0079F0B4+848052]\n\tOrdinal0 [0x0079EF72+847730]\n\tOrdinal0 [0x0079F8EA+850154]\n\tOrdinal0 [0x007F5249+1200713]\n\tOrdinal0 [0x007E449C+1131676]\n\tOrdinal0 [0x007F4812+1198098]\n\tOrdinal0 [0x007E42B6+1131190]\n\tOrdinal0 [0x007BE860+976992]\n\tOrdinal0 [0x007BF756+980822]\n\tGetHandleVerifier [0x00B8CC62+2510274]\n\tGetHandleVerifier [0x00B7F760+2455744]\n\tGetHandleVerifier [0x009AEABA+551962]\n\tGetHandleVerifier [0x009AD916+547446]\n\tOrdinal0 [0x008B5F3B+1990459]\n\tOrdinal0 [0x008BA898+2009240]\n\tOrdinal0 [0x008BA985+2009477]\n\tOrdinal0 [0x008C3AD1+2046673]\n\tBaseThreadInitThunk [0x7692FA29+25]\n\tRtlGetAppContainerNamedObjectPath [0x77027A9E+286]\n\tRtlGetAppContainerNamedObjectPath [0x77027A6E+238]\n"
     ]
    }
   ],
   "source": [
    "USER_ID = browser.execute_script(\n",
    "            \"return window._sharedData.entry_data.ProfilePage[0].\"\n",
    "             \"graphql.user.id\")"
   ]
  },
  {
   "cell_type": "code",
   "execution_count": 60,
   "id": "e3e09a78",
   "metadata": {},
   "outputs": [
    {
     "ename": "JavascriptException",
     "evalue": "Message: javascript error: Cannot read properties of undefined (reading '0')\n  (Session info: chrome=103.0.5060.53)\nStacktrace:\nBacktrace:\n\tOrdinal0 [0x0091D953+2414931]\n\tOrdinal0 [0x008AF5E1+1963489]\n\tOrdinal0 [0x0079C6B8+837304]\n\tOrdinal0 [0x0079F0B4+848052]\n\tOrdinal0 [0x0079EF72+847730]\n\tOrdinal0 [0x0079F8EA+850154]\n\tOrdinal0 [0x007F5249+1200713]\n\tOrdinal0 [0x007E449C+1131676]\n\tOrdinal0 [0x007F4812+1198098]\n\tOrdinal0 [0x007E42B6+1131190]\n\tOrdinal0 [0x007BE860+976992]\n\tOrdinal0 [0x007BF756+980822]\n\tGetHandleVerifier [0x00B8CC62+2510274]\n\tGetHandleVerifier [0x00B7F760+2455744]\n\tGetHandleVerifier [0x009AEABA+551962]\n\tGetHandleVerifier [0x009AD916+547446]\n\tOrdinal0 [0x008B5F3B+1990459]\n\tOrdinal0 [0x008BA898+2009240]\n\tOrdinal0 [0x008BA985+2009477]\n\tOrdinal0 [0x008C3AD1+2046673]\n\tBaseThreadInitThunk [0x7692FA29+25]\n\tRtlGetAppContainerNamedObjectPath [0x77027A9E+286]\n\tRtlGetAppContainerNamedObjectPath [0x77027A6E+238]\n",
     "output_type": "error",
     "traceback": [
      "\u001b[1;31m---------------------------------------------------------------------------\u001b[0m",
      "\u001b[1;31mJavascriptException\u001b[0m                       Traceback (most recent call last)",
      "\u001b[1;32m<ipython-input-60-4046c52a34df>\u001b[0m in \u001b[0;36m<module>\u001b[1;34m\u001b[0m\n\u001b[0;32m      3\u001b[0m \u001b[0msleep\u001b[0m\u001b[1;33m(\u001b[0m\u001b[1;36m5\u001b[0m\u001b[1;33m)\u001b[0m\u001b[1;33m\u001b[0m\u001b[1;33m\u001b[0m\u001b[0m\n\u001b[0;32m      4\u001b[0m USER_ID = browser.execute_script(\n\u001b[1;32m----> 5\u001b[1;33m             \u001b[1;34m\"return window._sharedData.entry_data.ProfilePage[0].\"\u001b[0m\u001b[1;33m\u001b[0m\u001b[1;33m\u001b[0m\u001b[0m\n\u001b[0m\u001b[0;32m      6\u001b[0m              \"graphql.user.id\")\n",
      "\u001b[1;32m~\\Anaconda3\\envs\\backtest\\lib\\site-packages\\selenium\\webdriver\\remote\\webdriver.py\u001b[0m in \u001b[0;36mexecute_script\u001b[1;34m(self, script, *args)\u001b[0m\n\u001b[0;32m    884\u001b[0m         return self.execute(command, {\n\u001b[0;32m    885\u001b[0m             \u001b[1;34m'script'\u001b[0m\u001b[1;33m:\u001b[0m \u001b[0mscript\u001b[0m\u001b[1;33m,\u001b[0m\u001b[1;33m\u001b[0m\u001b[1;33m\u001b[0m\u001b[0m\n\u001b[1;32m--> 886\u001b[1;33m             'args': converted_args})['value']\n\u001b[0m\u001b[0;32m    887\u001b[0m \u001b[1;33m\u001b[0m\u001b[0m\n\u001b[0;32m    888\u001b[0m     \u001b[1;32mdef\u001b[0m \u001b[0mexecute_async_script\u001b[0m\u001b[1;33m(\u001b[0m\u001b[0mself\u001b[0m\u001b[1;33m,\u001b[0m \u001b[0mscript\u001b[0m\u001b[1;33m:\u001b[0m \u001b[0mstr\u001b[0m\u001b[1;33m,\u001b[0m \u001b[1;33m*\u001b[0m\u001b[0margs\u001b[0m\u001b[1;33m)\u001b[0m\u001b[1;33m:\u001b[0m\u001b[1;33m\u001b[0m\u001b[1;33m\u001b[0m\u001b[0m\n",
      "\u001b[1;32m~\\Anaconda3\\envs\\backtest\\lib\\site-packages\\selenium\\webdriver\\remote\\webdriver.py\u001b[0m in \u001b[0;36mexecute\u001b[1;34m(self, driver_command, params)\u001b[0m\n\u001b[0;32m    428\u001b[0m         \u001b[0mresponse\u001b[0m \u001b[1;33m=\u001b[0m \u001b[0mself\u001b[0m\u001b[1;33m.\u001b[0m\u001b[0mcommand_executor\u001b[0m\u001b[1;33m.\u001b[0m\u001b[0mexecute\u001b[0m\u001b[1;33m(\u001b[0m\u001b[0mdriver_command\u001b[0m\u001b[1;33m,\u001b[0m \u001b[0mparams\u001b[0m\u001b[1;33m)\u001b[0m\u001b[1;33m\u001b[0m\u001b[1;33m\u001b[0m\u001b[0m\n\u001b[0;32m    429\u001b[0m         \u001b[1;32mif\u001b[0m \u001b[0mresponse\u001b[0m\u001b[1;33m:\u001b[0m\u001b[1;33m\u001b[0m\u001b[1;33m\u001b[0m\u001b[0m\n\u001b[1;32m--> 430\u001b[1;33m             \u001b[0mself\u001b[0m\u001b[1;33m.\u001b[0m\u001b[0merror_handler\u001b[0m\u001b[1;33m.\u001b[0m\u001b[0mcheck_response\u001b[0m\u001b[1;33m(\u001b[0m\u001b[0mresponse\u001b[0m\u001b[1;33m)\u001b[0m\u001b[1;33m\u001b[0m\u001b[1;33m\u001b[0m\u001b[0m\n\u001b[0m\u001b[0;32m    431\u001b[0m             response['value'] = self._unwrap_value(\n\u001b[0;32m    432\u001b[0m                 response.get('value', None))\n",
      "\u001b[1;32m~\\Anaconda3\\envs\\backtest\\lib\\site-packages\\selenium\\webdriver\\remote\\errorhandler.py\u001b[0m in \u001b[0;36mcheck_response\u001b[1;34m(self, response)\u001b[0m\n\u001b[0;32m    245\u001b[0m                 \u001b[0malert_text\u001b[0m \u001b[1;33m=\u001b[0m \u001b[0mvalue\u001b[0m\u001b[1;33m[\u001b[0m\u001b[1;34m'alert'\u001b[0m\u001b[1;33m]\u001b[0m\u001b[1;33m.\u001b[0m\u001b[0mget\u001b[0m\u001b[1;33m(\u001b[0m\u001b[1;34m'text'\u001b[0m\u001b[1;33m)\u001b[0m\u001b[1;33m\u001b[0m\u001b[1;33m\u001b[0m\u001b[0m\n\u001b[0;32m    246\u001b[0m             \u001b[1;32mraise\u001b[0m \u001b[0mexception_class\u001b[0m\u001b[1;33m(\u001b[0m\u001b[0mmessage\u001b[0m\u001b[1;33m,\u001b[0m \u001b[0mscreen\u001b[0m\u001b[1;33m,\u001b[0m \u001b[0mstacktrace\u001b[0m\u001b[1;33m,\u001b[0m \u001b[0malert_text\u001b[0m\u001b[1;33m)\u001b[0m  \u001b[1;31m# type: ignore[call-arg]  # mypy is not smart enough here\u001b[0m\u001b[1;33m\u001b[0m\u001b[1;33m\u001b[0m\u001b[0m\n\u001b[1;32m--> 247\u001b[1;33m         \u001b[1;32mraise\u001b[0m \u001b[0mexception_class\u001b[0m\u001b[1;33m(\u001b[0m\u001b[0mmessage\u001b[0m\u001b[1;33m,\u001b[0m \u001b[0mscreen\u001b[0m\u001b[1;33m,\u001b[0m \u001b[0mstacktrace\u001b[0m\u001b[1;33m)\u001b[0m\u001b[1;33m\u001b[0m\u001b[1;33m\u001b[0m\u001b[0m\n\u001b[0m\u001b[0;32m    248\u001b[0m \u001b[1;33m\u001b[0m\u001b[0m\n\u001b[0;32m    249\u001b[0m     \u001b[1;32mdef\u001b[0m \u001b[0m_value_or_default\u001b[0m\u001b[1;33m(\u001b[0m\u001b[0mself\u001b[0m\u001b[1;33m,\u001b[0m \u001b[0mobj\u001b[0m\u001b[1;33m:\u001b[0m \u001b[0mMapping\u001b[0m\u001b[1;33m[\u001b[0m\u001b[0m_KT\u001b[0m\u001b[1;33m,\u001b[0m \u001b[0m_VT\u001b[0m\u001b[1;33m]\u001b[0m\u001b[1;33m,\u001b[0m \u001b[0mkey\u001b[0m\u001b[1;33m:\u001b[0m \u001b[0m_KT\u001b[0m\u001b[1;33m,\u001b[0m \u001b[0mdefault\u001b[0m\u001b[1;33m:\u001b[0m \u001b[0m_VT\u001b[0m\u001b[1;33m)\u001b[0m \u001b[1;33m->\u001b[0m \u001b[0m_VT\u001b[0m\u001b[1;33m:\u001b[0m\u001b[1;33m\u001b[0m\u001b[1;33m\u001b[0m\u001b[0m\n",
      "\u001b[1;31mJavascriptException\u001b[0m: Message: javascript error: Cannot read properties of undefined (reading '0')\n  (Session info: chrome=103.0.5060.53)\nStacktrace:\nBacktrace:\n\tOrdinal0 [0x0091D953+2414931]\n\tOrdinal0 [0x008AF5E1+1963489]\n\tOrdinal0 [0x0079C6B8+837304]\n\tOrdinal0 [0x0079F0B4+848052]\n\tOrdinal0 [0x0079EF72+847730]\n\tOrdinal0 [0x0079F8EA+850154]\n\tOrdinal0 [0x007F5249+1200713]\n\tOrdinal0 [0x007E449C+1131676]\n\tOrdinal0 [0x007F4812+1198098]\n\tOrdinal0 [0x007E42B6+1131190]\n\tOrdinal0 [0x007BE860+976992]\n\tOrdinal0 [0x007BF756+980822]\n\tGetHandleVerifier [0x00B8CC62+2510274]\n\tGetHandleVerifier [0x00B7F760+2455744]\n\tGetHandleVerifier [0x009AEABA+551962]\n\tGetHandleVerifier [0x009AD916+547446]\n\tOrdinal0 [0x008B5F3B+1990459]\n\tOrdinal0 [0x008BA898+2009240]\n\tOrdinal0 [0x008BA985+2009477]\n\tOrdinal0 [0x008C3AD1+2046673]\n\tBaseThreadInitThunk [0x7692FA29+25]\n\tRtlGetAppContainerNamedObjectPath [0x77027A9E+286]\n\tRtlGetAppContainerNamedObjectPath [0x77027A6E+238]\n"
     ]
    }
   ],
   "source": [
    "# 계정 id 받아오기\n",
    "browser.get(BASE_URL+TARGET_ID)\n",
    "sleep(5)\n",
    "USER_ID = browser.execute_script(\n",
    "            \"return window._sharedData.entry_data.ProfilePage[0].\"\n",
    "             \"graphql.user.id\")"
   ]
  },
  {
   "cell_type": "code",
   "execution_count": 45,
   "id": "9d566158",
   "metadata": {},
   "outputs": [],
   "source": [
    "variables = {}\n",
    "variables['id'] = USER_ID\n",
    "variables['first'] = 50\n",
    "    \n",
    "url = (\n",
    "    '{}&variables={}'\n",
    "    .format(graphql_followers, str(json.dumps(variables)))\n",
    ")\n",
    "sleep(2)\n",
    "browser.get(url)"
   ]
  },
  {
   "cell_type": "code",
   "execution_count": 47,
   "id": "c2444413",
   "metadata": {},
   "outputs": [],
   "source": [
    "pre = browser.find_element(by=By.TAG_NAME, value=\"pre\").text\n",
    "data = json.loads(pre)['data']\n",
    "\n",
    "# get followers\n",
    "page_info = (\n",
    "data['user']['edge_followed_by']['page_info'])\n",
    "edges = data['user']['edge_followed_by']['edges']"
   ]
  },
  {
   "cell_type": "code",
   "execution_count": 48,
   "id": "a036ef18",
   "metadata": {
    "scrolled": true
   },
   "outputs": [
    {
     "data": {
      "text/plain": [
       "{'has_next_page': True,\n",
       " 'end_cursor': 'QVFDTVA0RWQ2QmR3NmFKRVZpdU0ta0xVZjNXLTNJazFuMFA4UkFyYlUxNUYtTzR5VkprSDgtamxmVGRTVFZQTmtmREpjSVpfVExodWxmNi1FaDBmbEhMSw=='}"
      ]
     },
     "execution_count": 48,
     "metadata": {},
     "output_type": "execute_result"
    }
   ],
   "source": [
    "page_info"
   ]
  },
  {
   "cell_type": "code",
   "execution_count": 54,
   "id": "50024c52",
   "metadata": {},
   "outputs": [
    {
     "data": {
      "text/plain": [
       "{'id': '33156056448',\n",
       " 'username': 'sunnyyoon1129',\n",
       " 'full_name': 'sunnyyoon1129',\n",
       " 'profile_pic_url': 'https://scontent-ssn1-1.cdninstagram.com/v/t51.2885-19/98467905_679307712862804_8435969690999717888_n.jpg?stp=dst-jpg_s150x150&_nc_ht=scontent-ssn1-1.cdninstagram.com&_nc_cat=104&_nc_ohc=-GS2lMNX21wAX853431&tn=QlHInG-dfOtpJQcg&edm=AOG-cTkBAAAA&ccb=7-5&oh=00_AT-nt3B8JfETor3Ki-Uuh3YDM9hpZxDWVvLrxOQ2Se7e9g&oe=62C3DAB2&_nc_sid=282b66',\n",
       " 'is_verified': False,\n",
       " 'followed_by_viewer': False,\n",
       " 'requested_by_viewer': False}"
      ]
     },
     "execution_count": 54,
     "metadata": {},
     "output_type": "execute_result"
    }
   ],
   "source": [
    "edges[0]['node']"
   ]
  },
  {
   "cell_type": "code",
   "execution_count": 52,
   "id": "3c8576a9",
   "metadata": {},
   "outputs": [
    {
     "name": "stdout",
     "output_type": "stream",
     "text": [
      "sunnyyoon1129\n",
      "iegeosnz\n",
      "danubyy\n",
      "hiemaing00\n",
      "you_l2\n",
      "river_dahyeon\n",
      "gangraeho6\n",
      "yumya282\n",
      "hiyunjee\n",
      "jeongsubin386\n",
      "han_2848\n",
      "cmh932652\n",
      "bsh8786\n",
      "jjns.2020\n",
      "bagyeonggyu495\n",
      "a53134471\n",
      "hama._.nana\n",
      "lmh121563_\n",
      "hx._.one\n",
      "b31346180\n",
      "es222222\n",
      "ido_time\n",
      "yk_o_o_05\n",
      "vanilllary\n",
      "mialee3961\n",
      "a1234top\n",
      "ebebe_0515\n",
      "curlykim519\n",
      "lightweight_hell\n",
      "juneice788007\n",
      "01.19.19\n",
      "baesunja258\n",
      "byeongilp\n",
      "_ryuu02\n",
      "yunyeongcan82\n",
      "kingbin0922\n",
      "kang___kim\n",
      "hyeo_naaaaa\n",
      "kha93.02\n",
      "ooiii1111\n",
      "happy19870406\n",
      "kihi.93\n",
      "dailylife_dog\n",
      "leebbeaver\n",
      "therap_in_surance\n",
      "cafe_eri.dang_\n",
      "tkdals30315\n",
      "eun_jeong_9_1\n",
      "guraboom\n",
      "jong0wn\n"
     ]
    }
   ],
   "source": [
    "for user in edges:\n",
    "    print(user['node']['username'])"
   ]
  },
  {
   "cell_type": "code",
   "execution_count": null,
   "id": "f4b96f8f",
   "metadata": {},
   "outputs": [],
   "source": []
  },
  {
   "cell_type": "code",
   "execution_count": 3,
   "id": "f74515d5",
   "metadata": {},
   "outputs": [],
   "source": [
    "url = 'https://www.instagram.com/graphql/query/?query_hash=37479f2b8209594dde7facb0d904896a&variables=%7B%22id%22:%2222597626903%22,%22after%22:%22QVFBdDZuemFQc09FX09KME1ZSjZReWJlT0lENGU4Ql9ESkdKNHpacS1lS0h0YVlQZWxoek5OemhPOTBDN3VuY1p6am1kQ2R1T2NMWU9vSVplRWVyV25ISQ==%22,%22first%22:50%7D'"
   ]
  },
  {
   "cell_type": "code",
   "execution_count": 4,
   "id": "bf68ac27",
   "metadata": {},
   "outputs": [],
   "source": [
    "\n",
    "\n",
    "all_followers = []\n",
    "\n",
    "variables = {}\n",
    "variables['id'] = '22597626903'\n",
    "variables['first'] = 50"
   ]
  },
  {
   "cell_type": "code",
   "execution_count": 8,
   "id": "2690fee5",
   "metadata": {},
   "outputs": [],
   "source": [
    "url = (\n",
    "        '{}&variables={}'\n",
    "        .format(graphql_followers, str(json.dumps(variables)))\n",
    "        )"
   ]
  },
  {
   "cell_type": "code",
   "execution_count": 9,
   "id": "24805912",
   "metadata": {},
   "outputs": [
    {
     "data": {
      "text/plain": [
       "'https://www.instagram.com/graphql/query/?query_hash=37479f2b8209594dde7facb0d904896a&variables={\"id\": \"22597626903\", \"first\": 50}'"
      ]
     },
     "execution_count": 9,
     "metadata": {},
     "output_type": "execute_result"
    }
   ],
   "source": [
    "url"
   ]
  },
  {
   "cell_type": "code",
   "execution_count": 10,
   "id": "90a5ab15",
   "metadata": {},
   "outputs": [],
   "source": [
    "browser.get(url)"
   ]
  },
  {
   "cell_type": "code",
   "execution_count": null,
   "id": "16d3e57c",
   "metadata": {},
   "outputs": [],
   "source": []
  }
 ],
 "metadata": {
  "kernelspec": {
   "display_name": "Python 3",
   "language": "python",
   "name": "python3"
  },
  "language_info": {
   "codemirror_mode": {
    "name": "ipython",
    "version": 3
   },
   "file_extension": ".py",
   "mimetype": "text/x-python",
   "name": "python",
   "nbconvert_exporter": "python",
   "pygments_lexer": "ipython3",
   "version": "3.7.9"
  }
 },
 "nbformat": 4,
 "nbformat_minor": 5
}
